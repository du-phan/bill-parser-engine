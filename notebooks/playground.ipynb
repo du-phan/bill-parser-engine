{
 "cells": [
  {
   "cell_type": "code",
   "execution_count": 1,
   "id": "959f989d-e7bd-4df2-a1c2-18d39dc37575",
   "metadata": {},
   "outputs": [
    {
     "name": "stdout",
     "output_type": "stream",
     "text": [
      "Using mistral model magistral-medium-2506\n"
     ]
    }
   ],
   "source": [
    "import os \n",
    "from dotenv import load_dotenv\n",
    "import json\n",
    "\n",
    "from pathlib import Path\n",
    "\n",
    "from mistralai import Mistral\n",
    "\n",
    "\n",
    "import json\n",
    "import os\n",
    "import sys\n",
    "from datetime import datetime\n",
    "from pathlib import Path\n",
    "from typing import Dict, List, Set\n",
    "\n",
    "from dotenv import load_dotenv\n",
    "\n",
    "# Add the project root to Python path for imports\n",
    "project_root = Path.cwd().parent\n",
    "sys.path.append(str(project_root))\n",
    "\n",
    "from bill_parser_engine.core.reference_resolver.bill_splitter import BillSplitter\n",
    "from bill_parser_engine.core.reference_resolver.target_identifier import TargetArticleIdentifier\n",
    "from bill_parser_engine.core.reference_resolver.models import BillChunk, TargetArticle\n",
    "from bill_parser_engine.core.reference_resolver.config import MISTRAL_MODEL\n",
    "from bill_parser_engine.core.reference_resolver.original_text_retriever import OriginalTextRetriever\n",
    "\n",
    "from bill_parser_engine.core.reference_resolver.pipeline import BillProcessingPipeline\n",
    "\n",
    "from pylegifrance import recherche_code\n",
    "from pylegifrance.models.constants import CodeNom\n",
    "\n",
    "\n",
    "\n",
    "load_dotenv('../.env.local')\n",
    "\n",
    "api_key = os.environ[\"MISTRAL_API_KEY\"]\n",
    "client = Mistral(api_key)\n",
    "\n",
    "print(f'Using mistral model {MISTRAL_MODEL}')"
   ]
  },
  {
   "cell_type": "code",
   "execution_count": 2,
   "id": "49dc1a23-bd8c-4172-91cb-d408dcfbb751",
   "metadata": {},
   "outputs": [],
   "source": [
    "# Define file paths\n",
    "bill_file = project_root / \"data\" / \"legal_bill\" / \"sampled_legislative_bill.md\"\n",
    "output_dir = project_root / \"scripts \" / \"output\"\n",
    "log_file_path = project_root / \"notebooks\" / f\"detailed_reconstruction_log_{datetime.now().strftime('%Y%m%d_%H%M%S')}.txt\"\n"
   ]
  },
  {
   "cell_type": "code",
   "execution_count": 3,
   "id": "f35e23e9-ec06-4256-8936-b139794d0a4e",
   "metadata": {},
   "outputs": [
    {
     "name": "stderr",
     "output_type": "stream",
     "text": [
      "2025-06-21 10:42:27,176 - bill_parser_engine.core.reference_resolver.instruction_decomposer - INFO - InstructionDecomposer initialized with caching: enabled\n",
      "2025-06-21 10:42:27,190 - bill_parser_engine.core.reference_resolver.operation_applier - INFO - OperationApplier initialized with caching: enabled\n",
      "2025-06-21 10:42:27,204 - bill_parser_engine.core.reference_resolver.result_validator - INFO - ResultValidator initialized with caching: enabled\n",
      "2025-06-21 10:42:27,205 - bill_parser_engine.core.reference_resolver.legal_amendment_reconstructor - INFO - LegalAmendmentReconstructor initialized with caching: enabled, log file: /Users/duphan/Projects/bill-parser-engine/notebooks/detailed_reconstruction_log_20250621_104227.txt\n",
      "2025-06-21 10:42:27,206 - bill_parser_engine.core.reference_resolver.pipeline - INFO - BillProcessingPipeline initialized with LegalAmendmentReconstructor (component-level caching enabled)\n",
      "2025-06-21 10:42:27,207 - bill_parser_engine.core.reference_resolver.pipeline - INFO - Detailed reconstruction logging enabled: /Users/duphan/Projects/bill-parser-engine/notebooks/detailed_reconstruction_log_20250621_104227.txt\n"
     ]
    }
   ],
   "source": [
    "pipeline = BillProcessingPipeline(use_cache=True, log_file_path=log_file_path)"
   ]
  },
  {
   "cell_type": "code",
   "execution_count": 4,
   "id": "161ab667-c78f-42e4-8369-848d5c064656",
   "metadata": {},
   "outputs": [
    {
     "name": "stderr",
     "output_type": "stream",
     "text": [
      "2025-06-21 10:42:27,210 - bill_parser_engine.core.reference_resolver.pipeline - INFO - Loaded legislative text: 8696 characters\n",
      "2025-06-21 10:42:27,212 - bill_parser_engine.core.reference_resolver.pipeline - INFO - Loaded legislative text from file: /Users/duphan/Projects/bill-parser-engine/data/legal_bill/sampled_legislative_bill.md\n"
     ]
    }
   ],
   "source": [
    "pipeline.load_legislative_text_from_file(bill_file)"
   ]
  },
  {
   "cell_type": "code",
   "execution_count": 5,
   "id": "04e99f2c-c476-44ed-aafa-3cd7f55d8893",
   "metadata": {
    "scrolled": true
   },
   "outputs": [
    {
     "name": "stderr",
     "output_type": "stream",
     "text": [
      "2025-06-21 10:42:27,221 - bill_parser_engine.core.reference_resolver.cache_manager - INFO - Invalidated 18 cache entries for component 'target_identifier_unified'\n",
      "2025-06-21 10:42:27,222 - bill_parser_engine.core.reference_resolver.pipeline - INFO - Cleared component cache for: target_identifier\n",
      "2025-06-21 10:42:27,224 - bill_parser_engine.core.reference_resolver.cache_manager - INFO - Invalidated 10 cache entries for component 'original_text_retriever'\n",
      "2025-06-21 10:42:27,225 - bill_parser_engine.core.reference_resolver.pipeline - INFO - Cleared component cache for: original_text_retriever\n",
      "2025-06-21 10:42:27,228 - bill_parser_engine.core.reference_resolver.cache_manager - INFO - Invalidated 17 cache entries for component 'instruction_decomposer'\n",
      "2025-06-21 10:42:27,233 - bill_parser_engine.core.reference_resolver.cache_manager - INFO - Invalidated 29 cache entries for component 'operation_applier'\n",
      "2025-06-21 10:42:27,235 - bill_parser_engine.core.reference_resolver.cache_manager - INFO - Invalidated 17 cache entries for component 'result_validator'\n",
      "2025-06-21 10:42:27,236 - bill_parser_engine.core.reference_resolver.legal_amendment_reconstructor - INFO - Cleared 63 total cache entries across all components\n",
      "2025-06-21 10:42:27,236 - bill_parser_engine.core.reference_resolver.pipeline - INFO - Cleared component cache for: text_reconstructor\n"
     ]
    }
   ],
   "source": [
    "pipeline.clear_component_cache('target_identifier')\n",
    "pipeline.clear_component_cache(\"original_text_retriever\")\n",
    "pipeline.clear_component_cache(\"text_reconstructor\")\n",
    "#pipeline.clear_component_cache(\"reference_locator\")\n",
    "#pipeline.clear_component_cache('reference_object_linker')"
   ]
  },
  {
   "cell_type": "code",
   "execution_count": null,
   "id": "9d90e43e-27ec-4cbd-b495-74aae6059c5b",
   "metadata": {},
   "outputs": [],
   "source": []
  },
  {
   "cell_type": "code",
   "execution_count": 6,
   "id": "0407538d-4c0b-4c04-aa5c-7863ebc76211",
   "metadata": {},
   "outputs": [
    {
     "name": "stderr",
     "output_type": "stream",
     "text": [
      "2025-06-21 10:42:27,239 - bill_parser_engine.core.reference_resolver.pipeline - INFO - Step 1: Splitting legislative bill into chunks...\n",
      "2025-06-21 10:42:27,242 - bill_parser_engine.core.reference_resolver.pipeline - INFO - Split into 21 chunks\n"
     ]
    }
   ],
   "source": [
    "chunks = pipeline.step_1_split_bill()"
   ]
  },
  {
   "cell_type": "code",
   "execution_count": 7,
   "id": "ec453d5b-2531-46b0-9dc4-cbf881cb657f",
   "metadata": {},
   "outputs": [
    {
     "data": {
      "text/plain": [
       "BillChunk(text=\"a) Le I est ainsi modifié : à la fin du 1°, les mots : « mentionnée aux 1° ou 2° du même II ou au IV du même article » sont remplacés par les mots : « de producteur au sens du 11 de l'article 3 du règlement (CE) n° 1107/2009 du 21 octobre 2009 » ; au 2°, les mots : « mentionnée aux 1° ou 2° du II ou au IV de l'article L. 254-1 » sont remplacés par les mots : « de producteur au sens du 11 de l'article 3 du règlement (CE) n° 1107/2009 » et, à la fin, les mots : « de ce II » sont remplacés par les mots : « du II de l'article L. 254-1 » ; au 3°, les mots : « mentionnée, d'une part, au 3° du II de l'article L. 254-1 et, d'autre part, aux 1° ou 2° du même II ou au IV du même article » sont remplacés par les mots : « , d'une part, mentionnée au 3° du II de l'article L. 254-1 et, d'autre part, de producteur au sens du 11 de l'article 3 du règlement (CE) n° 1107/2009 » ;\", titre_text='# TITRE Iᴱᴿ', article_label='Article 1ᵉʳ', article_introductory_phrase='Le code rural et de la pêche maritime est ainsi modifié :', major_subdivision_label=None, major_subdivision_introductory_phrase=None, numbered_point_label='3° bis', numbered_point_introductory_phrase=\"L'article L. 254-1-1 est ainsi modifié :\", lettered_subdivision_label='a)', hierarchy_path=['# TITRE Iᴱᴿ', 'Article 1ᵉʳ', '3° bis', 'a)'], chunk_id='# TITRE Iᴱᴿ::Article 1ᵉʳ::3° bis::a)', start_pos=1644, end_pos=2548, target_article=None, inherited_target_article=TargetArticle(operation_type=<TargetOperationType.MODIFY: 'MODIFY'>, code='code rural et de la pêche maritime', article='L. 254-1-1'))"
      ]
     },
     "execution_count": 7,
     "metadata": {},
     "output_type": "execute_result"
    }
   ],
   "source": [
    "chunks[4]"
   ]
  },
  {
   "cell_type": "code",
   "execution_count": null,
   "id": "04baef71-2665-46ab-bc60-1991f87fd8d2",
   "metadata": {},
   "outputs": [],
   "source": []
  },
  {
   "cell_type": "code",
   "execution_count": 8,
   "id": "0ab01680-0e0a-4acf-b0aa-2274d88b1d76",
   "metadata": {
    "scrolled": true
   },
   "outputs": [
    {
     "name": "stderr",
     "output_type": "stream",
     "text": [
      "2025-06-21 10:42:27,253 - bill_parser_engine.core.reference_resolver.pipeline - INFO - Step 2: Identifying target articles for 21 chunks...\n"
     ]
    },
    {
     "name": "stdout",
     "output_type": "stream",
     "text": [
      "✓ Detected pure versioning metadata for chunk # TITRE Iᴱᴿ::Article 1ᵉʳ::1°: 1° (Supprimé)\n",
      "→ Processing chunk with unified LLM-based target identification: # TITRE Iᴱᴿ::Article 1ᵉʳ::2°::a)\n"
     ]
    },
    {
     "name": "stderr",
     "output_type": "stream",
     "text": [
      "2025-06-21 10:42:32,441 - httpx - INFO - HTTP Request: POST https://api.mistral.ai/v1/chat/completions \"HTTP/1.1 200 OK\"\n"
     ]
    },
    {
     "name": "stdout",
     "output_type": "stream",
     "text": [
      "✓ Cached result for future use\n",
      "→ Processing chunk with unified LLM-based target identification: # TITRE Iᴱᴿ::Article 1ᵉʳ::2°::b)\n"
     ]
    },
    {
     "name": "stderr",
     "output_type": "stream",
     "text": [
      "2025-06-21 10:42:36,433 - httpx - INFO - HTTP Request: POST https://api.mistral.ai/v1/chat/completions \"HTTP/1.1 200 OK\"\n"
     ]
    },
    {
     "name": "stdout",
     "output_type": "stream",
     "text": [
      "✓ Cached result for future use\n",
      "✓ Detected pure versioning metadata for chunk # TITRE Iᴱᴿ::Article 1ᵉʳ::3°: 3° (Supprimé)\n",
      "→ Processing chunk with unified LLM-based target identification: # TITRE Iᴱᴿ::Article 1ᵉʳ::3° bis::a)\n"
     ]
    },
    {
     "name": "stderr",
     "output_type": "stream",
     "text": [
      "2025-06-21 10:42:37,458 - httpx - INFO - HTTP Request: POST https://api.mistral.ai/v1/chat/completions \"HTTP/1.1 200 OK\"\n"
     ]
    },
    {
     "name": "stdout",
     "output_type": "stream",
     "text": [
      "✓ Cached result for future use\n",
      "→ Processing chunk with unified LLM-based target identification: # TITRE Iᴱᴿ::Article 1ᵉʳ::3° bis::b)\n",
      "⏱️ TargetArticleIdentifier: Waiting 2.5s for rate limiting...\n"
     ]
    },
    {
     "name": "stderr",
     "output_type": "stream",
     "text": [
      "2025-06-21 10:42:40,938 - httpx - INFO - HTTP Request: POST https://api.mistral.ai/v1/chat/completions \"HTTP/1.1 200 OK\"\n"
     ]
    },
    {
     "name": "stdout",
     "output_type": "stream",
     "text": [
      "✓ Cached result for future use\n",
      "→ Processing chunk with unified LLM-based target identification: # TITRE Iᴱᴿ::Article 1ᵉʳ::3° ter::a)\n",
      "⏱️ TargetArticleIdentifier: Waiting 2.5s for rate limiting...\n"
     ]
    },
    {
     "name": "stderr",
     "output_type": "stream",
     "text": [
      "2025-06-21 10:42:44,212 - httpx - INFO - HTTP Request: POST https://api.mistral.ai/v1/chat/completions \"HTTP/1.1 200 OK\"\n"
     ]
    },
    {
     "name": "stdout",
     "output_type": "stream",
     "text": [
      "✓ Cached result for future use\n",
      "→ Processing chunk with unified LLM-based target identification: # TITRE Iᴱᴿ::Article 1ᵉʳ::3° ter::b)\n",
      "⏱️ TargetArticleIdentifier: Waiting 2.7s for rate limiting...\n"
     ]
    },
    {
     "name": "stderr",
     "output_type": "stream",
     "text": [
      "2025-06-21 10:42:47,593 - httpx - INFO - HTTP Request: POST https://api.mistral.ai/v1/chat/completions \"HTTP/1.1 200 OK\"\n"
     ]
    },
    {
     "name": "stdout",
     "output_type": "stream",
     "text": [
      "✓ Cached result for future use\n",
      "→ Processing chunk with unified LLM-based target identification: # TITRE Iᴱᴿ::Article 1ᵉʳ::3° quater::a)\n",
      "⏱️ TargetArticleIdentifier: Waiting 2.8s for rate limiting...\n"
     ]
    },
    {
     "name": "stderr",
     "output_type": "stream",
     "text": [
      "2025-06-21 10:42:51,632 - httpx - INFO - HTTP Request: POST https://api.mistral.ai/v1/chat/completions \"HTTP/1.1 200 OK\"\n"
     ]
    },
    {
     "name": "stdout",
     "output_type": "stream",
     "text": [
      "✓ Cached result for future use\n",
      "→ Processing chunk with unified LLM-based target identification: # TITRE Iᴱᴿ::Article 1ᵉʳ::3° quater::b)\n",
      "⏱️ TargetArticleIdentifier: Waiting 2.3s for rate limiting...\n"
     ]
    },
    {
     "name": "stderr",
     "output_type": "stream",
     "text": [
      "2025-06-21 10:42:55,171 - httpx - INFO - HTTP Request: POST https://api.mistral.ai/v1/chat/completions \"HTTP/1.1 200 OK\"\n"
     ]
    },
    {
     "name": "stdout",
     "output_type": "stream",
     "text": [
      "✓ Cached result for future use\n",
      "→ Processing chunk with unified LLM-based target identification: # TITRE Iᴱᴿ::Article 1ᵉʳ::4°\n",
      "⏱️ TargetArticleIdentifier: Waiting 2.3s for rate limiting...\n"
     ]
    },
    {
     "name": "stderr",
     "output_type": "stream",
     "text": [
      "2025-06-21 10:42:59,369 - httpx - INFO - HTTP Request: POST https://api.mistral.ai/v1/chat/completions \"HTTP/1.1 200 OK\"\n"
     ]
    },
    {
     "name": "stdout",
     "output_type": "stream",
     "text": [
      "✓ Cached result for future use\n",
      "✓ Detected pure versioning metadata for chunk # TITRE Iᴱᴿ::Article 1ᵉʳ::5°: 5° (Supprimé)\n",
      "→ Processing chunk with unified LLM-based target identification: # TITRE Iᴱᴿ::Article 1ᵉʳ::5° bis\n",
      "⏱️ TargetArticleIdentifier: Waiting 1.6s for rate limiting...\n"
     ]
    },
    {
     "name": "stderr",
     "output_type": "stream",
     "text": [
      "2025-06-21 10:43:10,326 - httpx - INFO - HTTP Request: POST https://api.mistral.ai/v1/chat/completions \"HTTP/1.1 200 OK\"\n"
     ]
    },
    {
     "name": "stdout",
     "output_type": "stream",
     "text": [
      "✓ Cached result for future use\n",
      "→ Processing chunk with unified LLM-based target identification: # TITRE Iᴱᴿ::Article 1ᵉʳ::5° ter::a)\n"
     ]
    },
    {
     "name": "stderr",
     "output_type": "stream",
     "text": [
      "2025-06-21 10:43:11,149 - httpx - INFO - HTTP Request: POST https://api.mistral.ai/v1/chat/completions \"HTTP/1.1 200 OK\"\n"
     ]
    },
    {
     "name": "stdout",
     "output_type": "stream",
     "text": [
      "✓ Cached result for future use\n",
      "→ Processing chunk with unified LLM-based target identification: # TITRE Iᴱᴿ::Article 1ᵉʳ::5° ter::b)\n",
      "⏱️ TargetArticleIdentifier: Waiting 2.7s for rate limiting...\n"
     ]
    },
    {
     "name": "stderr",
     "output_type": "stream",
     "text": [
      "2025-06-21 10:43:14,528 - httpx - INFO - HTTP Request: POST https://api.mistral.ai/v1/chat/completions \"HTTP/1.1 200 OK\"\n"
     ]
    },
    {
     "name": "stdout",
     "output_type": "stream",
     "text": [
      "✓ Cached result for future use\n",
      "→ Processing chunk with unified LLM-based target identification: # TITRE Iᴱᴿ::Article 1ᵉʳ::6°::a)\n",
      "⏱️ TargetArticleIdentifier: Waiting 2.8s for rate limiting...\n"
     ]
    },
    {
     "name": "stderr",
     "output_type": "stream",
     "text": [
      "2025-06-21 10:43:18,522 - httpx - INFO - HTTP Request: POST https://api.mistral.ai/v1/chat/completions \"HTTP/1.1 200 OK\"\n"
     ]
    },
    {
     "name": "stdout",
     "output_type": "stream",
     "text": [
      "✓ Cached result for future use\n",
      "→ Processing chunk with unified LLM-based target identification: # TITRE Iᴱᴿ::Article 1ᵉʳ::6°::b)\n",
      "⏱️ TargetArticleIdentifier: Waiting 2.3s for rate limiting...\n"
     ]
    },
    {
     "name": "stderr",
     "output_type": "stream",
     "text": [
      "2025-06-21 10:43:21,590 - httpx - INFO - HTTP Request: POST https://api.mistral.ai/v1/chat/completions \"HTTP/1.1 200 OK\"\n"
     ]
    },
    {
     "name": "stdout",
     "output_type": "stream",
     "text": [
      "✓ Cached result for future use\n",
      "→ Processing chunk with unified LLM-based target identification: # TITRE Iᴱᴿ::Article 1ᵉʳ::6° bis::a)\n",
      "⏱️ TargetArticleIdentifier: Waiting 2.8s for rate limiting...\n"
     ]
    },
    {
     "name": "stderr",
     "output_type": "stream",
     "text": [
      "2025-06-21 10:43:29,168 - httpx - INFO - HTTP Request: POST https://api.mistral.ai/v1/chat/completions \"HTTP/1.1 200 OK\"\n"
     ]
    },
    {
     "name": "stdout",
     "output_type": "stream",
     "text": [
      "✓ Cached result for future use\n",
      "→ Processing chunk with unified LLM-based target identification: # TITRE Iᴱᴿ::Article 1ᵉʳ::6° bis::b)\n"
     ]
    },
    {
     "name": "stderr",
     "output_type": "stream",
     "text": [
      "2025-06-21 10:43:29,898 - httpx - INFO - HTTP Request: POST https://api.mistral.ai/v1/chat/completions \"HTTP/1.1 200 OK\"\n"
     ]
    },
    {
     "name": "stdout",
     "output_type": "stream",
     "text": [
      "✓ Cached result for future use\n",
      "→ Processing chunk with unified LLM-based target identification: # TITRE Iᴱᴿ::Article 1ᵉʳ::6° ter\n",
      "⏱️ TargetArticleIdentifier: Waiting 2.8s for rate limiting...\n"
     ]
    },
    {
     "name": "stderr",
     "output_type": "stream",
     "text": [
      "2025-06-21 10:43:33,756 - httpx - INFO - HTTP Request: POST https://api.mistral.ai/v1/chat/completions \"HTTP/1.1 200 OK\"\n"
     ]
    },
    {
     "name": "stdout",
     "output_type": "stream",
     "text": [
      "✓ Cached result for future use\n",
      "→ Processing chunk with unified LLM-based target identification: # TITRE Iᴱᴿ::Article 1ᵉʳ::7°\n",
      "⏱️ TargetArticleIdentifier: Waiting 2.4s for rate limiting...\n"
     ]
    },
    {
     "name": "stderr",
     "output_type": "stream",
     "text": [
      "2025-06-21 10:43:37,362 - httpx - INFO - HTTP Request: POST https://api.mistral.ai/v1/chat/completions \"HTTP/1.1 200 OK\"\n",
      "2025-06-21 10:43:37,369 - bill_parser_engine.core.reference_resolver.pipeline - INFO - Target identification complete: 11 unique articles identified\n"
     ]
    },
    {
     "name": "stdout",
     "output_type": "stream",
     "text": [
      "✓ Cached result for future use\n"
     ]
    }
   ],
   "source": [
    "target_results = pipeline.step_2_identify_target_articles()"
   ]
  },
  {
   "cell_type": "code",
   "execution_count": null,
   "id": "7e2f0738-2632-4af0-98e0-fc9a89cc0851",
   "metadata": {},
   "outputs": [],
   "source": []
  },
  {
   "cell_type": "code",
   "execution_count": null,
   "id": "57386240-d99c-42f9-a1f3-00c1942d7302",
   "metadata": {},
   "outputs": [],
   "source": []
  },
  {
   "cell_type": "code",
   "execution_count": 9,
   "id": "91a93a73-30f3-4881-8bc6-43c001c854cf",
   "metadata": {
    "scrolled": true
   },
   "outputs": [
    {
     "data": {
      "text/plain": [
       "[{'chunk_id': '# TITRE Iᴱᴿ::Article 1ᵉʳ::2°::a)',\n",
       "  'chunk_text_preview': 'a) (nouveau) Au 3° du II, les mots : « prévu aux articles L. 254-6-2 et L. 254-6-3 » sont remplacés ...',\n",
       "  'hierarchy_path': ['# TITRE Iᴱᴿ', 'Article 1ᵉʳ', '2°', 'a)'],\n",
       "  'target_article': {'operation_type': 'MODIFY',\n",
       "   'code': 'code rural et de la pêche maritime',\n",
       "   'article': 'L. 254-1',\n",
       "   'full_citation': 'code rural et de la pêche maritime::L. 254-1',\n",
       "   'confidence': 1.0,\n",
       "   'raw_text': 'a) (nouveau) Au 3° du II, les mots : « prévu aux a...'}},\n",
       " {'chunk_id': '# TITRE Iᴱᴿ::Article 1ᵉʳ::2°::b)',\n",
       "  'chunk_text_preview': 'b) Le VI est ainsi modifié : à la fin de la première phrase, les mots : « incompatible avec celui de...',\n",
       "  'hierarchy_path': ['# TITRE Iᴱᴿ', 'Article 1ᵉʳ', '2°', 'b)'],\n",
       "  'target_article': {'operation_type': 'MODIFY',\n",
       "   'code': 'code rural et de la pêche maritime',\n",
       "   'article': 'L. 254-1',\n",
       "   'full_citation': 'code rural et de la pêche maritime::L. 254-1',\n",
       "   'confidence': 1.0,\n",
       "   'raw_text': 'b) Le VI est ainsi modifié : à la fin de la premiè...'}},\n",
       " {'chunk_id': '# TITRE Iᴱᴿ::Article 1ᵉʳ::3° bis::a)',\n",
       "  'chunk_text_preview': 'a) Le I est ainsi modifié : à la fin du 1°, les mots : « mentionnée aux 1° ou 2° du même II ou au IV...',\n",
       "  'hierarchy_path': ['# TITRE Iᴱᴿ', 'Article 1ᵉʳ', '3° bis', 'a)'],\n",
       "  'target_article': {'operation_type': 'MODIFY',\n",
       "   'code': 'code rural et de la pêche maritime',\n",
       "   'article': 'L. 254-1-1',\n",
       "   'full_citation': 'code rural et de la pêche maritime::L. 254-1-1',\n",
       "   'confidence': 1.0,\n",
       "   'raw_text': 'a) Le I est ainsi modifié : à la fin du 1°, les mo...'}},\n",
       " {'chunk_id': '# TITRE Iᴱᴿ::Article 1ᵉʳ::3° bis::b)',\n",
       "  'chunk_text_preview': 'b) Le II est ainsi modifié : à la fin du 1°, les mots : « mentionnée aux 1° ou 2° du même II ou au I...',\n",
       "  'hierarchy_path': ['# TITRE Iᴱᴿ', 'Article 1ᵉʳ', '3° bis', 'b)'],\n",
       "  'target_article': {'operation_type': 'MODIFY',\n",
       "   'code': 'code rural et de la pêche maritime',\n",
       "   'article': 'L. 254-1-1',\n",
       "   'full_citation': 'code rural et de la pêche maritime::L. 254-1-1',\n",
       "   'confidence': 1.0,\n",
       "   'raw_text': 'b) Le II est ainsi modifié : à la fin du 1°, les m...'}},\n",
       " {'chunk_id': '# TITRE Iᴱᴿ::Article 1ᵉʳ::3° ter::a)',\n",
       "  'chunk_text_preview': 'a) Le premier alinéa est ainsi modifié : les mots : « mentionnée aux 1° ou 2° du même II ou au IV du...',\n",
       "  'hierarchy_path': ['# TITRE Iᴱᴿ', 'Article 1ᵉʳ', '3° ter', 'a)'],\n",
       "  'target_article': {'operation_type': 'MODIFY',\n",
       "   'code': 'code rural et de la pêche maritime',\n",
       "   'article': 'L. 254-1-2',\n",
       "   'full_citation': 'code rural et de la pêche maritime::L. 254-1-2',\n",
       "   'confidence': 1.0,\n",
       "   'raw_text': 'a) Le premier alinéa est ainsi modifié : les mots ...'}},\n",
       " {'chunk_id': '# TITRE Iᴱᴿ::Article 1ᵉʳ::3° ter::b)',\n",
       "  'chunk_text_preview': 'b) Le second alinéa est supprimé ;',\n",
       "  'hierarchy_path': ['# TITRE Iᴱᴿ', 'Article 1ᵉʳ', '3° ter', 'b)'],\n",
       "  'target_article': {'operation_type': 'MODIFY',\n",
       "   'code': 'code rural et de la pêche maritime',\n",
       "   'article': 'L. 254-1-2',\n",
       "   'full_citation': 'code rural et de la pêche maritime::L. 254-1-2',\n",
       "   'confidence': 1.0,\n",
       "   'raw_text': 'b) Le second alinéa est supprimé ;'}},\n",
       " {'chunk_id': '# TITRE Iᴱᴿ::Article 1ᵉʳ::3° quater::a)',\n",
       "  'chunk_text_preview': 'a) À la fin du I, les mots : « mentionnée aux 1° ou 2° du même II ou au IV de ce même article » sont...',\n",
       "  'hierarchy_path': ['# TITRE Iᴱᴿ', 'Article 1ᵉʳ', '3° quater', 'a)'],\n",
       "  'target_article': {'operation_type': 'MODIFY',\n",
       "   'code': 'code rural et de la pêche maritime',\n",
       "   'article': 'L. 254-1-3',\n",
       "   'full_citation': 'code rural et de la pêche maritime::L. 254-1-3',\n",
       "   'confidence': 1.0,\n",
       "   'raw_text': 'a) À la fin du I, les mots : « mentionnée aux 1° o...'}},\n",
       " {'chunk_id': '# TITRE Iᴱᴿ::Article 1ᵉʳ::3° quater::b)',\n",
       "  'chunk_text_preview': 'b) À la fin du II, les mots : « les activités mentionnées aux 1° ou 2° du même II ou au IV du même a...',\n",
       "  'hierarchy_path': ['# TITRE Iᴱᴿ', 'Article 1ᵉʳ', '3° quater', 'b)'],\n",
       "  'target_article': {'operation_type': 'MODIFY',\n",
       "   'code': 'code rural et de la pêche maritime',\n",
       "   'article': 'L. 254-1-3',\n",
       "   'full_citation': 'code rural et de la pêche maritime::L. 254-1-3',\n",
       "   'confidence': 1.0,\n",
       "   'raw_text': 'b) À la fin du II, les mots : « les activités ment...'}},\n",
       " {'chunk_id': '# TITRE Iᴱᴿ::Article 1ᵉʳ::4°',\n",
       "  'chunk_text_preview': \"4° Au cinquième alinéa du I de l'article L. 254-2, les mots : « aux 1° et 2° du II de l'article L. 2...\",\n",
       "  'hierarchy_path': ['# TITRE Iᴱᴿ', 'Article 1ᵉʳ', '4°'],\n",
       "  'target_article': {'operation_type': 'MODIFY',\n",
       "   'code': 'code rural et de la pêche maritime',\n",
       "   'article': 'L. 254-2',\n",
       "   'full_citation': 'code rural et de la pêche maritime::L. 254-2',\n",
       "   'confidence': 1.0,\n",
       "   'raw_text': \"4° Au cinquième alinéa du I de l'article L. 254-2,...\"}},\n",
       " {'chunk_id': '# TITRE Iᴱᴿ::Article 1ᵉʳ::5° bis',\n",
       "  'chunk_text_preview': '5° bis (nouveau) Les articles L. 254-6-2 et L. 254-6-3 sont abrogés ;',\n",
       "  'hierarchy_path': ['# TITRE Iᴱᴿ', 'Article 1ᵉʳ', '5° bis'],\n",
       "  'target_article': {'operation_type': 'ABROGATE',\n",
       "   'code': 'code rural et de la pêche maritime',\n",
       "   'article': 'L. 254-6-2',\n",
       "   'full_citation': 'code rural et de la pêche maritime::L. 254-6-2',\n",
       "   'confidence': 1.0,\n",
       "   'raw_text': '5° bis (nouveau) Les articles L. 254-6-2 et L. 254...'}},\n",
       " {'chunk_id': '# TITRE Iᴱᴿ::Article 1ᵉʳ::5° ter::a)',\n",
       "  'chunk_text_preview': 'a) Le premier alinéa est ainsi modifié : la première phrase est remplacée par quatre phrases ainsi r...',\n",
       "  'hierarchy_path': ['# TITRE Iᴱᴿ', 'Article 1ᵉʳ', '5° ter', 'a)'],\n",
       "  'target_article': {'operation_type': 'MODIFY',\n",
       "   'code': 'code rural et de la pêche maritime',\n",
       "   'article': 'L. 254-6-4',\n",
       "   'full_citation': 'code rural et de la pêche maritime::L. 254-6-4',\n",
       "   'confidence': 1.0,\n",
       "   'raw_text': 'a) Le premier alinéa est ainsi modifié : la premiè...'}},\n",
       " {'chunk_id': '# TITRE Iᴱᴿ::Article 1ᵉʳ::5° ter::b)',\n",
       "  'chunk_text_preview': \"b) Il est ajouté un II ainsi rédigé : « II. – Le conseil stratégique à l'utilisation de produits phy...\",\n",
       "  'hierarchy_path': ['# TITRE Iᴱᴿ', 'Article 1ᵉʳ', '5° ter', 'b)'],\n",
       "  'target_article': {'operation_type': 'MODIFY',\n",
       "   'code': 'code rural et de la pêche maritime',\n",
       "   'article': 'L. 254-6-4',\n",
       "   'full_citation': 'code rural et de la pêche maritime::L. 254-6-4',\n",
       "   'confidence': 1.0,\n",
       "   'raw_text': 'b) Il est ajouté un II ainsi rédigé : « II. – Le c...'}},\n",
       " {'chunk_id': '# TITRE Iᴱᴿ::Article 1ᵉʳ::6°::a)',\n",
       "  'chunk_text_preview': \"a) (nouveau) Au premier alinéa, les mots : « , et notamment la désignation de l'autorité administrat...\",\n",
       "  'hierarchy_path': ['# TITRE Iᴱᴿ', 'Article 1ᵉʳ', '6°', 'a)'],\n",
       "  'target_article': {'operation_type': 'MODIFY',\n",
       "   'code': 'code rural et de la pêche maritime',\n",
       "   'article': 'L. 254-7-1',\n",
       "   'full_citation': 'code rural et de la pêche maritime::L. 254-7-1',\n",
       "   'confidence': 1.0,\n",
       "   'raw_text': 'a) (nouveau) Au premier alinéa, les mots : « , et ...'}},\n",
       " {'chunk_id': '# TITRE Iᴱᴿ::Article 1ᵉʳ::6°::b)',\n",
       "  'chunk_text_preview': 'b) Le second alinéa est ainsi modifié : à la première phrase, après le mot : « prévoit », il est ins...',\n",
       "  'hierarchy_path': ['# TITRE Iᴱᴿ', 'Article 1ᵉʳ', '6°', 'b)'],\n",
       "  'target_article': {'operation_type': 'MODIFY',\n",
       "   'code': 'code rural et de la pêche maritime',\n",
       "   'article': 'L. 254-7-1',\n",
       "   'full_citation': 'code rural et de la pêche maritime::L. 254-7-1',\n",
       "   'confidence': 1.0,\n",
       "   'raw_text': 'b) Le second alinéa est ainsi modifié : à la premi...'}},\n",
       " {'chunk_id': '# TITRE Iᴱᴿ::Article 1ᵉʳ::6° bis::a)',\n",
       "  'chunk_text_preview': 'a) À la fin de la première phrase du premier alinéa du I, les mots : « auprès desquelles la redevanc...',\n",
       "  'hierarchy_path': ['# TITRE Iᴱᴿ', 'Article 1ᵉʳ', '6° bis', 'a)'],\n",
       "  'target_article': {'operation_type': 'MODIFY',\n",
       "   'code': 'code rural et de la pêche maritime',\n",
       "   'article': 'L. 254-10-1',\n",
       "   'full_citation': 'code rural et de la pêche maritime::L. 254-10-1',\n",
       "   'confidence': 1.0,\n",
       "   'raw_text': 'a) À la fin de la première phrase du premier aliné...'}},\n",
       " {'chunk_id': '# TITRE Iᴱᴿ::Article 1ᵉʳ::6° bis::b)',\n",
       "  'chunk_text_preview': \"b) Au début du premier alinéa du II, les mots : « L'autorité administrative notifie à chaque obligé ...\",\n",
       "  'hierarchy_path': ['# TITRE Iᴱᴿ', 'Article 1ᵉʳ', '6° bis', 'b)'],\n",
       "  'target_article': {'operation_type': 'MODIFY',\n",
       "   'code': 'code rural et de la pêche maritime',\n",
       "   'article': 'L. 254-10-1',\n",
       "   'full_citation': 'code rural et de la pêche maritime::L. 254-10-1',\n",
       "   'confidence': 1.0,\n",
       "   'raw_text': 'b) Au début du premier alinéa du II, les mots : « ...'}},\n",
       " {'chunk_id': '# TITRE Iᴱᴿ::Article 1ᵉʳ::6° ter',\n",
       "  'chunk_text_preview': \"6° ter (nouveau) Au premier alinéa du I de l'article L. 254-12, le nombre : « 15 000 » est remplacé ...\",\n",
       "  'hierarchy_path': ['# TITRE Iᴱᴿ', 'Article 1ᵉʳ', '6° ter'],\n",
       "  'target_article': {'operation_type': 'MODIFY',\n",
       "   'code': 'code rural et de la pêche maritime',\n",
       "   'article': 'L. 254-12',\n",
       "   'full_citation': 'code rural et de la pêche maritime::L. 254-12',\n",
       "   'confidence': 1.0,\n",
       "   'raw_text': \"6° ter (nouveau) Au premier alinéa du I de l'artic...\"}},\n",
       " {'chunk_id': '# TITRE Iᴱᴿ::Article 1ᵉʳ::7°',\n",
       "  'chunk_text_preview': '7° (nouveau) Avant le titre Iᵉʳ du livre V, il est ajouté un titre préliminaire ainsi rédigé :\\n\\n    ...',\n",
       "  'hierarchy_path': ['# TITRE Iᴱᴿ', 'Article 1ᵉʳ', '7°'],\n",
       "  'target_article': {'operation_type': 'INSERT',\n",
       "   'code': 'code rural et de la pêche maritime',\n",
       "   'article': 'L. 500-1',\n",
       "   'full_citation': 'code rural et de la pêche maritime::L. 500-1',\n",
       "   'confidence': 1.0,\n",
       "   'raw_text': '7° (nouveau) Avant le titre Iᵉʳ du livre V, il est...'}}]"
      ]
     },
     "execution_count": 9,
     "metadata": {},
     "output_type": "execute_result"
    }
   ],
   "source": [
    "target_results"
   ]
  },
  {
   "cell_type": "code",
   "execution_count": 10,
   "id": "f3612311-5c8f-44a7-856b-1fa4223d66a2",
   "metadata": {
    "scrolled": true
   },
   "outputs": [],
   "source": [
    "weird_issues = []\n",
    "for res in target_results:\n",
    "    if res.get('target_article').get('code') is None: \n",
    "        print(res)\n",
    "        weird_issues.append(res)\n",
    "        print('----')"
   ]
  },
  {
   "cell_type": "code",
   "execution_count": 11,
   "id": "111a22df-f7af-486d-b4ae-61684cdad22b",
   "metadata": {},
   "outputs": [
    {
     "data": {
      "text/plain": [
       "0"
      ]
     },
     "execution_count": 11,
     "metadata": {},
     "output_type": "execute_result"
    }
   ],
   "source": [
    "len(weird_issues)"
   ]
  },
  {
   "cell_type": "code",
   "execution_count": 12,
   "id": "e6e3bd21-42b1-45eb-98eb-9ab1b8be4351",
   "metadata": {},
   "outputs": [
    {
     "data": {
      "text/plain": [
       "18"
      ]
     },
     "execution_count": 12,
     "metadata": {},
     "output_type": "execute_result"
    }
   ],
   "source": [
    "len(target_results)"
   ]
  },
  {
   "cell_type": "code",
   "execution_count": null,
   "id": "7e9fb145-edff-4e6f-809b-984a60957308",
   "metadata": {},
   "outputs": [],
   "source": []
  },
  {
   "cell_type": "code",
   "execution_count": null,
   "id": "e5d1e470-9056-4b22-b86a-639ed00c1fc7",
   "metadata": {},
   "outputs": [],
   "source": []
  },
  {
   "cell_type": "code",
   "execution_count": 13,
   "id": "acc690a4-8432-44a0-b136-16aff81e0e13",
   "metadata": {
    "scrolled": true
   },
   "outputs": [
    {
     "name": "stderr",
     "output_type": "stream",
     "text": [
      "2025-06-21 10:43:37,417 - bill_parser_engine.core.reference_resolver.pipeline - INFO - Step 3: Retrieving original text for target articles...\n",
      "2025-06-21 10:43:37,418 - bill_parser_engine.core.reference_resolver.original_text_retriever - INFO - → Fetching article L. 254-1 from code rural et de la pêche maritime\n",
      "2025-06-21 10:43:37,565 - pylegifrance.auth - INFO - Legifrance API authentication successful.\n",
      "2025-06-21 10:43:37,567 - pylegifrance.client - INFO - POST request to URL: https://api.piste.gouv.fr/dila/legifrance/lf-engine-app/search\n",
      "2025-06-21 10:43:38,184 - pylegifrance.client - INFO - API call to 'search' successful.\n",
      "2025-06-21 10:43:38,186 - pylegifrance.process.processors - INFO - Nombre de résultats trouvés: 1\n",
      "2025-06-21 10:43:38,187 - pylegifrance.client - INFO - POST request to URL: https://api.piste.gouv.fr/dila/legifrance/lf-engine-app/consult/getArticle\n",
      "2025-06-21 10:43:38,361 - pylegifrance.client - INFO - API call to 'consult/getArticle' successful.\n",
      "2025-06-21 10:43:38,368 - bill_parser_engine.core.reference_resolver.original_text_retriever - INFO - ✓ Cached article L. 254-1 for future use\n",
      "2025-06-21 10:43:38,369 - bill_parser_engine.core.reference_resolver.original_text_retriever - INFO - ✓ Retrieved article L. 254-1 from pylegifrance\n",
      "2025-06-21 10:43:38,371 - bill_parser_engine.core.reference_resolver.original_text_retriever - INFO - → Fetching article L. 254-1-1 from code rural et de la pêche maritime\n",
      "2025-06-21 10:43:38,539 - pylegifrance.auth - INFO - Legifrance API authentication successful.\n",
      "2025-06-21 10:43:38,541 - pylegifrance.client - INFO - POST request to URL: https://api.piste.gouv.fr/dila/legifrance/lf-engine-app/search\n",
      "2025-06-21 10:43:38,981 - pylegifrance.client - INFO - API call to 'search' successful.\n",
      "2025-06-21 10:43:38,982 - pylegifrance.process.processors - INFO - Nombre de résultats trouvés: 1\n",
      "2025-06-21 10:43:38,984 - pylegifrance.client - INFO - POST request to URL: https://api.piste.gouv.fr/dila/legifrance/lf-engine-app/consult/getArticle\n",
      "2025-06-21 10:43:39,114 - pylegifrance.client - INFO - API call to 'consult/getArticle' successful.\n",
      "2025-06-21 10:43:39,118 - bill_parser_engine.core.reference_resolver.original_text_retriever - INFO - ✓ Cached article L. 254-1-1 for future use\n",
      "2025-06-21 10:43:39,119 - bill_parser_engine.core.reference_resolver.original_text_retriever - INFO - ✓ Retrieved article L. 254-1-1 from pylegifrance\n",
      "2025-06-21 10:43:39,120 - bill_parser_engine.core.reference_resolver.original_text_retriever - INFO - → Fetching article L. 254-1-2 from code rural et de la pêche maritime\n",
      "2025-06-21 10:43:39,261 - pylegifrance.auth - INFO - Legifrance API authentication successful.\n",
      "2025-06-21 10:43:39,262 - pylegifrance.client - INFO - POST request to URL: https://api.piste.gouv.fr/dila/legifrance/lf-engine-app/search\n",
      "2025-06-21 10:43:39,721 - pylegifrance.client - INFO - API call to 'search' successful.\n",
      "2025-06-21 10:43:39,722 - pylegifrance.process.processors - INFO - Nombre de résultats trouvés: 1\n",
      "2025-06-21 10:43:39,722 - pylegifrance.client - INFO - POST request to URL: https://api.piste.gouv.fr/dila/legifrance/lf-engine-app/consult/getArticle\n",
      "2025-06-21 10:43:39,877 - pylegifrance.client - INFO - API call to 'consult/getArticle' successful.\n",
      "2025-06-21 10:43:39,878 - bill_parser_engine.core.reference_resolver.original_text_retriever - INFO - ✓ Cached article L. 254-1-2 for future use\n",
      "2025-06-21 10:43:39,879 - bill_parser_engine.core.reference_resolver.original_text_retriever - INFO - ✓ Retrieved article L. 254-1-2 from pylegifrance\n",
      "2025-06-21 10:43:39,880 - bill_parser_engine.core.reference_resolver.original_text_retriever - INFO - → Fetching article L. 254-1-3 from code rural et de la pêche maritime\n",
      "2025-06-21 10:43:40,032 - pylegifrance.auth - INFO - Legifrance API authentication successful.\n",
      "2025-06-21 10:43:40,034 - pylegifrance.client - INFO - POST request to URL: https://api.piste.gouv.fr/dila/legifrance/lf-engine-app/search\n",
      "2025-06-21 10:43:40,539 - pylegifrance.client - INFO - API call to 'search' successful.\n",
      "2025-06-21 10:43:40,540 - pylegifrance.process.processors - INFO - Nombre de résultats trouvés: 1\n",
      "2025-06-21 10:43:40,542 - pylegifrance.client - INFO - POST request to URL: https://api.piste.gouv.fr/dila/legifrance/lf-engine-app/consult/getArticle\n",
      "2025-06-21 10:43:40,639 - pylegifrance.client - INFO - API call to 'consult/getArticle' successful.\n",
      "2025-06-21 10:43:40,642 - bill_parser_engine.core.reference_resolver.original_text_retriever - INFO - ✓ Cached article L. 254-1-3 for future use\n",
      "2025-06-21 10:43:40,643 - bill_parser_engine.core.reference_resolver.original_text_retriever - INFO - ✓ Retrieved article L. 254-1-3 from pylegifrance\n",
      "2025-06-21 10:43:40,644 - bill_parser_engine.core.reference_resolver.original_text_retriever - INFO - → Fetching article L. 254-2 from code rural et de la pêche maritime\n",
      "2025-06-21 10:43:40,797 - pylegifrance.auth - INFO - Legifrance API authentication successful.\n",
      "2025-06-21 10:43:40,799 - pylegifrance.client - INFO - POST request to URL: https://api.piste.gouv.fr/dila/legifrance/lf-engine-app/search\n",
      "2025-06-21 10:43:41,461 - pylegifrance.client - INFO - API call to 'search' successful.\n",
      "2025-06-21 10:43:41,462 - pylegifrance.process.processors - INFO - Nombre de résultats trouvés: 1\n",
      "2025-06-21 10:43:41,463 - pylegifrance.client - INFO - POST request to URL: https://api.piste.gouv.fr/dila/legifrance/lf-engine-app/consult/getArticle\n",
      "2025-06-21 10:43:41,629 - pylegifrance.client - INFO - API call to 'consult/getArticle' successful.\n",
      "2025-06-21 10:43:41,634 - bill_parser_engine.core.reference_resolver.original_text_retriever - INFO - ✓ Cached article L. 254-2 for future use\n",
      "2025-06-21 10:43:41,635 - bill_parser_engine.core.reference_resolver.original_text_retriever - INFO - ✓ Retrieved article L. 254-2 from pylegifrance\n",
      "2025-06-21 10:43:41,637 - bill_parser_engine.core.reference_resolver.original_text_retriever - INFO - → Fetching article L. 254-6-2 from code rural et de la pêche maritime\n",
      "2025-06-21 10:43:41,791 - pylegifrance.auth - INFO - Legifrance API authentication successful.\n",
      "2025-06-21 10:43:41,793 - pylegifrance.client - INFO - POST request to URL: https://api.piste.gouv.fr/dila/legifrance/lf-engine-app/search\n",
      "2025-06-21 10:43:42,278 - pylegifrance.client - INFO - API call to 'search' successful.\n",
      "2025-06-21 10:43:42,279 - pylegifrance.process.processors - INFO - Nombre de résultats trouvés: 1\n",
      "2025-06-21 10:43:42,280 - pylegifrance.client - INFO - POST request to URL: https://api.piste.gouv.fr/dila/legifrance/lf-engine-app/consult/getArticle\n",
      "2025-06-21 10:43:42,439 - pylegifrance.client - INFO - API call to 'consult/getArticle' successful.\n",
      "2025-06-21 10:43:42,442 - bill_parser_engine.core.reference_resolver.original_text_retriever - INFO - ✓ Cached article L. 254-6-2 for future use\n",
      "2025-06-21 10:43:42,444 - bill_parser_engine.core.reference_resolver.original_text_retriever - INFO - ✓ Retrieved article L. 254-6-2 from pylegifrance\n",
      "2025-06-21 10:43:42,446 - bill_parser_engine.core.reference_resolver.original_text_retriever - INFO - → Fetching article L. 254-6-4 from code rural et de la pêche maritime\n",
      "2025-06-21 10:43:42,553 - pylegifrance.auth - INFO - Legifrance API authentication successful.\n",
      "2025-06-21 10:43:42,554 - pylegifrance.client - INFO - POST request to URL: https://api.piste.gouv.fr/dila/legifrance/lf-engine-app/search\n",
      "2025-06-21 10:43:43,095 - pylegifrance.client - INFO - API call to 'search' successful.\n",
      "2025-06-21 10:43:43,097 - pylegifrance.process.processors - INFO - Nombre de résultats trouvés: 1\n",
      "2025-06-21 10:43:43,099 - pylegifrance.client - INFO - POST request to URL: https://api.piste.gouv.fr/dila/legifrance/lf-engine-app/consult/getArticle\n",
      "2025-06-21 10:43:43,230 - pylegifrance.client - INFO - API call to 'consult/getArticle' successful.\n",
      "2025-06-21 10:43:43,234 - bill_parser_engine.core.reference_resolver.original_text_retriever - INFO - ✓ Cached article L. 254-6-4 for future use\n",
      "2025-06-21 10:43:43,236 - bill_parser_engine.core.reference_resolver.original_text_retriever - INFO - ✓ Retrieved article L. 254-6-4 from pylegifrance\n",
      "2025-06-21 10:43:43,238 - bill_parser_engine.core.reference_resolver.original_text_retriever - INFO - → Fetching article L. 254-7-1 from code rural et de la pêche maritime\n",
      "2025-06-21 10:43:43,366 - pylegifrance.auth - INFO - Legifrance API authentication successful.\n",
      "2025-06-21 10:43:43,368 - pylegifrance.client - INFO - POST request to URL: https://api.piste.gouv.fr/dila/legifrance/lf-engine-app/search\n",
      "2025-06-21 10:43:43,801 - pylegifrance.client - INFO - API call to 'search' successful.\n",
      "2025-06-21 10:43:43,802 - pylegifrance.process.processors - INFO - Nombre de résultats trouvés: 1\n",
      "2025-06-21 10:43:43,803 - pylegifrance.client - INFO - POST request to URL: https://api.piste.gouv.fr/dila/legifrance/lf-engine-app/consult/getArticle\n",
      "2025-06-21 10:43:43,941 - pylegifrance.client - INFO - API call to 'consult/getArticle' successful.\n",
      "2025-06-21 10:43:43,943 - bill_parser_engine.core.reference_resolver.original_text_retriever - INFO - ✓ Cached article L. 254-7-1 for future use\n",
      "2025-06-21 10:43:43,944 - bill_parser_engine.core.reference_resolver.original_text_retriever - INFO - ✓ Retrieved article L. 254-7-1 from pylegifrance\n",
      "2025-06-21 10:43:43,944 - bill_parser_engine.core.reference_resolver.original_text_retriever - INFO - → Fetching article L. 254-10-1 from code rural et de la pêche maritime\n",
      "2025-06-21 10:43:44,178 - pylegifrance.auth - INFO - Legifrance API authentication successful.\n",
      "2025-06-21 10:43:44,179 - pylegifrance.client - INFO - POST request to URL: https://api.piste.gouv.fr/dila/legifrance/lf-engine-app/search\n",
      "2025-06-21 10:43:44,944 - pylegifrance.client - INFO - API call to 'search' successful.\n",
      "2025-06-21 10:43:44,945 - pylegifrance.process.processors - INFO - Nombre de résultats trouvés: 1\n",
      "2025-06-21 10:43:44,946 - pylegifrance.client - INFO - POST request to URL: https://api.piste.gouv.fr/dila/legifrance/lf-engine-app/consult/getArticle\n",
      "2025-06-21 10:43:45,095 - pylegifrance.client - INFO - API call to 'consult/getArticle' successful.\n",
      "2025-06-21 10:43:45,098 - bill_parser_engine.core.reference_resolver.original_text_retriever - INFO - ✓ Cached article L. 254-10-1 for future use\n",
      "2025-06-21 10:43:45,098 - bill_parser_engine.core.reference_resolver.original_text_retriever - INFO - ✓ Retrieved article L. 254-10-1 from pylegifrance\n",
      "2025-06-21 10:43:45,099 - bill_parser_engine.core.reference_resolver.original_text_retriever - INFO - → Fetching article L. 254-12 from code rural et de la pêche maritime\n",
      "2025-06-21 10:43:45,235 - pylegifrance.auth - INFO - Legifrance API authentication successful.\n",
      "2025-06-21 10:43:45,236 - pylegifrance.client - INFO - POST request to URL: https://api.piste.gouv.fr/dila/legifrance/lf-engine-app/search\n",
      "2025-06-21 10:43:45,755 - pylegifrance.client - INFO - API call to 'search' successful.\n",
      "2025-06-21 10:43:45,757 - pylegifrance.process.processors - INFO - Nombre de résultats trouvés: 1\n",
      "2025-06-21 10:43:45,758 - pylegifrance.client - INFO - POST request to URL: https://api.piste.gouv.fr/dila/legifrance/lf-engine-app/consult/getArticle\n",
      "2025-06-21 10:43:45,916 - pylegifrance.client - INFO - API call to 'consult/getArticle' successful.\n",
      "2025-06-21 10:43:45,920 - bill_parser_engine.core.reference_resolver.original_text_retriever - INFO - ✓ Cached article L. 254-12 for future use\n",
      "2025-06-21 10:43:45,920 - bill_parser_engine.core.reference_resolver.original_text_retriever - INFO - ✓ Retrieved article L. 254-12 from pylegifrance\n",
      "2025-06-21 10:43:45,920 - bill_parser_engine.core.reference_resolver.pipeline - INFO - Original text retrieval complete: 11/11 successful retrievals\n"
     ]
    },
    {
     "data": {
      "text/plain": [
       "[{'article_key': 'code rural et de la pêche maritime::L. 254-1',\n",
       "  'code': 'code rural et de la pêche maritime',\n",
       "  'article': 'L. 254-1',\n",
       "  'operation_type': 'MODIFY',\n",
       "  'original_text': \"I.-Les produits phytopharmaceutiques mentionnés au présent chapitre sont ceux définis au 1 de l'article 2 du règlement (CE) n° 1107/2009. II.-Est subordonné à la détention d'un agrément l'exercice des activités suivantes : 1° La mise en vente, la vente ou la distribution à titre gratuit des produits phytopharmaceutiques aux utilisateurs de ces produits ou aux personnes physiques ou morales agissant pour leur compte, y compris les groupements d'achats ; 2° L'application, en qualité de prestataire de services, des produits phytopharmaceutiques, sauf si elle est effectuée dans le cadre de contrats d'entraide à titre gratuit au sens de l'article L. 325-1 ou par un exploitant agricole titulaire du certificat mentionné au II de l'article L. 254-3 sur des exploitations dont la surface agricole utile est inférieure ou égale à la surface définie en application du premier alinéa du V de l'article L. 732-39 , ou si les produits appliqués sont des produits de biocontrôle définis à l'article L. 253-6 et ne faisant pas l'objet d'une classification mentionnée à l'article L. 253-4 ou si ces produits sont des produits à faible risque au sens de l'article 47 du règlement (CE) n° 1107/2009 du 21 octobre 2009 ou s'ils sont uniquement composés de substances de base au sens de l'article 23 du même règlement. 3° Le conseil prévu aux articles L. 254-6-2 et L. 254-6-3, lorsque cette activité s'exerce à titre professionnel. III.-Lorsque l'agrément est délivré à une personne morale, il l'est pour l'activité de l'ensemble de ses établissements ainsi que, si elle en fait la demande, pour l'activité d'établissements d'autres personnes morales au sein desquelles elle détient une participation financière, ou au bénéfice desquelles elle gère des services communs. Pour l'application du présent chapitre l'ensemble des établissements pour lesquels une entreprise sollicite un agrément sont regardés comme ses établissements. IV.-Les personnes qui mettent des produits phytopharmaceutiques sur le marché autres que celles exerçant les activités mentionnées au 1° du II justifient de l'obtention d'un certificat attestant qu'elles ont acquis les connaissances appropriées à leurs rôle et responsabilités ou de l'emploi d'une personne détenant ce certificat. V.-Les détenteurs de l'agrément mentionné au II, les personnes mentionnées au IV du présent article et les personnes physiques mentionnées au II de l'article L. 254-3 doivent concourir, dans le cadre de leurs activités, à la réalisation des objectifs du plan d'action national prévu à l'article L. 253-6, notamment par la mise en œuvre de la lutte intégrée contre les ennemis des cultures. VI.-L'exercice de l'activité de conseil mentionnée au 3° du II est incompatible avec celui des activités mentionnées aux 1° ou 2° du II ou au IV. Toutefois, cette incompatibilité ne fait pas obstacle à ce que les personnes exerçant les activités mentionnées au 1° du II délivrent les informations énumérées au premier alinéa de l'article L. 254-7, ni à ce qu'elles promeuvent, mettent en place ou facilitent la mise en œuvre des actions tendant à la réduction de l'utilisation de produits phytopharmaceutiques prévues à l'article L. 254-10-1 .\",\n",
       "  'text_length': 3185,\n",
       "  'retrieval_metadata': {'source': 'pylegifrance', 'success': True},\n",
       "  'retrieved_at': '2025-06-21T10:43:38.370778'},\n",
       " {'article_key': 'code rural et de la pêche maritime::L. 254-1-1',\n",
       "  'code': 'code rural et de la pêche maritime',\n",
       "  'article': 'L. 254-1-1',\n",
       "  'operation_type': 'MODIFY',\n",
       "  'original_text': \"I.-Ne peut excéder 10 % : 1° La part du capital d'une personne morale exerçant une activité mentionnée au 3° du II de l'article L. 254-1 détenue, directement ou indirectement, par une personne exerçant une activité mentionnée aux 1° ou 2° du même II ou au IV du même article ; 2° La part du capital d'une personne morale exerçant une activité mentionnée aux 1° ou 2° du II ou au IV de l'article L. 254-1 détenue, directement ou indirectement, par une personne exerçant une activité mentionnée au 3° de ce II ; 3° La part détenue, directement ou indirectement, dans le capital des personnes morales exerçant une activité mentionnée, d'une part, au 3° du II de l'article L. 254-1 et, d'autre part, aux 1° ou 2° du même II ou au IV du même article, par un actionnaire ou associé commun, sans que celui-ci puisse être actionnaire majoritaire ou de référence. II.-Ne peut excéder 32 % : 1° La part cumulée du capital d'une personne morale exerçant une activité mentionnée au 3° du II de l'article L. 254-1 détenue, directement ou indirectement, par des personnes exerçant une activité mentionnée aux 1° ou 2° du même II ou au IV du même article ; 2° La part cumulée du capital d'une personne morale exerçant une activité mentionnée aux 1° ou 2° du II ou au IV de l'article L. 254-1 détenue, directement ou indirectement, par des personnes exerçant une activité mentionnée au 3° de ce II. III.-Les seuils mentionnés aux I et II s'appliquent également aux droits de vote.\",\n",
       "  'text_length': 1464,\n",
       "  'retrieval_metadata': {'source': 'pylegifrance', 'success': True},\n",
       "  'retrieved_at': '2025-06-21T10:43:39.120175'},\n",
       " {'article_key': 'code rural et de la pêche maritime::L. 254-1-2',\n",
       "  'code': 'code rural et de la pêche maritime',\n",
       "  'article': 'L. 254-1-2',\n",
       "  'operation_type': 'MODIFY',\n",
       "  'original_text': \"Un membre d'un organe de surveillance, d'administration et de direction d'une personne morale exerçant une activité mentionnée au 3° du II de l'article L. 254-1 ne peut être membre d'un de ces mêmes organes d'une personne morale exerçant une activité mentionnée aux 1° ou 2° du même II ou au IV du même article et un membre d'un organe de surveillance, d'administration et de direction d'une personne morale exerçant une activité mentionnée aux 1° ou 2° de ce II ou à ce IV de ce même article ne peut être membre d'un de ces mêmes organes d'une personne morale exerçant une activité mentionnée au 3° de ce II. Toutefois, une personne membre d'un organe de surveillance, d'administration ou de direction d'une personne morale exerçant une activité mentionnée aux 1° ou 2° du II de l'article L. 254-1 peut détenir, dans un établissement mentionné à l' article L. 510-1 bénéficiant d'un agrément pour les activités mentionnées au 3° du II de l'article L. 254-1, un mandat de président, de membre du bureau ou de membre du conseil d'administration de Chambres d'agriculture France. Cette personne ne participe ni aux travaux ni aux délibérations concernant l'activité de conseil à l'utilisation de produits phytopharmaceutiques.\",\n",
       "  'text_length': 1224,\n",
       "  'retrieval_metadata': {'source': 'pylegifrance', 'success': True},\n",
       "  'retrieved_at': '2025-06-21T10:43:39.879850'},\n",
       " {'article_key': 'code rural et de la pêche maritime::L. 254-1-3',\n",
       "  'code': 'code rural et de la pêche maritime',\n",
       "  'article': 'L. 254-1-3',\n",
       "  'operation_type': 'MODIFY',\n",
       "  'original_text': \"I.-Une personne physique exerçant une activité mentionnée au 3° du II de l'article L. 254-1 ne peut être également employée par une personne exerçant une activité mentionnée aux 1° ou 2° du même II ou au IV de ce même article. II.-L'activité mentionnée au 3° du II de l'article L. 254-1 ne peut pas être rémunérée par des personnes exerçant les activités mentionnées aux 1° ou 2° du même II ou au IV du même article.\",\n",
       "  'text_length': 416,\n",
       "  'retrieval_metadata': {'source': 'pylegifrance', 'success': True},\n",
       "  'retrieved_at': '2025-06-21T10:43:40.644159'},\n",
       " {'article_key': 'code rural et de la pêche maritime::L. 254-2',\n",
       "  'code': 'code rural et de la pêche maritime',\n",
       "  'article': 'L. 254-2',\n",
       "  'operation_type': 'MODIFY',\n",
       "  'original_text': \"I.-L'agrément est délivré par l'autorité administrative à toute personne physique ou morale qui en fait la demande et qui justifie : 1° De la souscription d'une police d'assurance couvrant sa responsabilité civile professionnelle ; 2° De la certification par un organisme tiers, reconnu par l'autorité administrative, qu'elle exerce son activité dans des conditions garantissant la protection de la santé publique et de l'environnement ainsi que la bonne information de l'utilisateur et qu'elle respecte les dispositions des articles L. 254-1-1 à L. 254-1-3 ; 3° De la conclusion avec un organisme tiers, reconnu par l'autorité administrative, d'un contrat prévoyant le suivi nécessaire au maintien de la certification. Pour les personnes agréées au titre des activités mentionnées aux 1° et 2° du II de l'article L. 254-1 , la certification mentionnée au 2° garantit qu'elles ont mis en œuvre les moyens nécessaires pour satisfaire aux obligations mentionnées à l'article L. 254-10-1 . Pour les personnes agréées au titre des activités mentionnées au 3° du II de l'article L. 254-1, la certification mentionnée au 2° garantit leur contribution effective, dans les conditions prévues à l'article L. 254-6-4, aux objectifs du plan mentionné à l'article L. 253-6 et au dispositif des certificats d'économie des produits phytopharmaceutiques prévu à l'article L. 254-10. II.-Les personnes qui débutent leur activité sollicitent un agrément provisoire pour son exercice. Cet agrément provisoire est délivré par l'autorité administrative, pour une durée de six mois non renouvelable, si le demandeur justifie du respect des conditions prévues aux 1° et 3° du I et de l'obtention de l'avis favorable d'un organisme tiers tel que mentionné au 2° du I.\",\n",
       "  'text_length': 1744,\n",
       "  'retrieval_metadata': {'source': 'pylegifrance', 'success': True},\n",
       "  'retrieved_at': '2025-06-21T10:43:41.636998'},\n",
       " {'article_key': 'code rural et de la pêche maritime::L. 254-6-2',\n",
       "  'code': 'code rural et de la pêche maritime',\n",
       "  'article': 'L. 254-6-2',\n",
       "  'operation_type': 'ABROGATE',\n",
       "  'original_text': \"I.-Le conseil stratégique à l'utilisation de produits phytopharmaceutiques a pour objet de fournir aux décideurs des entreprises utilisatrices de produits phytopharmaceutiques non soumises à l'un des agréments prévus à l'article L. 254-1 , les éléments leur permettant de définir une stratégie pour la protection des végétaux ou pour tout autre usage prévu au 1 de l'article 2 du règlement (CE) n° 1107/2009 du Parlement européen et du Conseil du 21 octobre 2009 pouvant nécessiter le recours à des produits phytopharmaceutiques. Il est fondé sur un diagnostic comportant une analyse des spécificités pédo-climatiques, sanitaires et environnementales des espaces concernés. Pour les exploitations agricoles, ce diagnostic prend également en compte l'organisation et la situation économique de l'exploitation et comporte une analyse des moyens humains et matériels disponibles, ainsi que des cultures et des précédents culturaux et de l'évolution des pratiques phytosanitaires. Le diagnostic est périodiquement actualisé. Chacune de ses versions est conservée par l'utilisateur et par la personne agréée qui l'a établi pendant une durée fixée par décret dans la limite de dix ans. II.-Le conseil stratégique à l'utilisation de produits phytopharmaceutiques est formalisé par écrit. Il est conservé par l'utilisateur et par la personne agréée qui l'a délivré pendant une durée fixée par décret dans la limite de dix ans. Dans toute entreprise utilisatrice de produits phytopharmaceutiques non soumise à l'un des agréments prévus à l'article L. 254-1, toute personne qui décide des traitements phytopharmaceutiques doit être en mesure de justifier s'être fait délivrer des conseils stratégiques selon une périodicité définie par voie réglementaire, dans la limite maximale de trois ans entre deux conseils. Cette justification est exigée pour le renouvellement du certificat mentionné au II de l'article L. 254-3 dans des conditions fixées par décret. Le contenu du conseil stratégique est allégé et le délai entre deux conseils augmenté, dans des conditions définies par voie réglementaire, pour les utilisateurs professionnels dont les surfaces susceptibles d'être traitées par des produits phytopharmaceutiques sont de dimensions réduites, inférieures à des plafonds déterminés en fonction de la nature des cultures pour les exploitants agricoles et des usages pour les autres utilisateurs. III.-La délivrance du conseil n'est pas requise : 1° Lorsque l'entreprise n'utilise que des produits de biocontrôle figurant sur la liste prévue à l'article L. 253-5 , des produits composés uniquement de substances de base ou des produits à faible risque au sens du règlement (CE) n° 1107/2009 du Parlement européen et du Conseil du 21 octobre 2009 et les produits nécessaires aux traitements prescrits pour lutter contre les organismes figurant sur la liste établie en application de l'article L. 251-3 ; 2° Lorsque l'exploitation agricole au bénéfice de laquelle sont utilisés des produits phytopharmaceutiques est engagée, pour la totalité des surfaces d'exploitation, dans une démarche ou une pratique ayant des incidences favorables sur la réduction de l'usage et des impacts des produits phytopharmaceutiques et figurant sur une liste établie par arrêté conjoint des ministres chargés de l'agriculture et de l'environnement.\",\n",
       "  'text_length': 3321,\n",
       "  'retrieval_metadata': {'source': 'pylegifrance', 'success': True},\n",
       "  'retrieved_at': '2025-06-21T10:43:42.445585'},\n",
       " {'article_key': 'code rural et de la pêche maritime::L. 254-6-4',\n",
       "  'code': 'code rural et de la pêche maritime',\n",
       "  'article': 'L. 254-6-4',\n",
       "  'operation_type': 'MODIFY',\n",
       "  'original_text': \"Les conseils mentionnés aux articles L. 254-6-2 et L. 254-6-3 s'inscrivent dans un objectif de réduction de l'usage et des impacts des produits phytopharmaceutiques et respectent les principes généraux de la lutte intégrée contre les ennemis des cultures mentionnée à l'article L. 253-6 . A ce titre, ils privilégient des méthodes alternatives. Si nécessaire, ils recommandent les produits phytopharmaceutiques adaptés. Ils promeuvent les actions mentionnées à l'article L. 254-10-1 . Ils tiennent compte des enjeux environnementaux présents dans l'aire d'activité de l'utilisateur professionnel et des modalités de leur préservation en cas d'utilisation de produits phytopharmaceutiques. Constituent des méthodes alternatives au sens et pour l'application de l'alinéa précédent : 1° Les méthodes non chimiques au sens de l'article 3 du règlement (CE) n° 1107/2009 du Parlement européen et du Conseil du 21 octobre 2009 ; 2° L'utilisation des produits de biocontrôle figurant sur la liste prévue à l'article L. 253-5 ou de produits composés uniquement de substances de base au sens de l'article 23 du règlement (CE) n° 1107/2009 du 21 octobre 2009 ou de produits à faible risque au sens de l'article 47 du même règlement.\",\n",
       "  'text_length': 1221,\n",
       "  'retrieval_metadata': {'source': 'pylegifrance', 'success': True},\n",
       "  'retrieved_at': '2025-06-21T10:43:43.237312'},\n",
       " {'article_key': 'code rural et de la pêche maritime::L. 254-7-1',\n",
       "  'code': 'code rural et de la pêche maritime',\n",
       "  'article': 'L. 254-7-1',\n",
       "  'operation_type': 'MODIFY',\n",
       "  'original_text': \"Les modalités d'application de la présente section, et notamment la désignation de l'autorité administrative, les conditions de délivrance, de renouvellement, de suspension, de modulation et de retrait des agréments, des certificats ainsi que des habilitations des organismes sont déterminées par décret en Conseil d'Etat. Ce décret prévoit les modalités particulières de cession des produits phytopharmaceutiques aux utilisateurs non professionnels. Il définit également les conditions dans lesquelles les microdistributeurs peuvent être dispensés de tout ou partie des obligations mentionnées aux 2° et 3° du I de l'article L. 254-2 et à l'article L. 254-3 , dans le seul cadre de ventes de produits destinés à un usage non professionnel ou lorsque celles-ci concernent uniquement soit des préparations naturelles peu préoccupantes constituées exclusivement d'une ou plusieurs substances de base, soit des produits à faible risque. Il précise le contenu du conseil mentionné à l'article L. 254-6-2 et en détermine la fréquence, ainsi que le délai dans lequel le diagnostic mentionné au deuxième alinéa du I de ce même article doit être actualisé.\",\n",
       "  'text_length': 1148,\n",
       "  'retrieval_metadata': {'source': 'pylegifrance', 'success': True},\n",
       "  'retrieved_at': '2025-06-21T10:43:43.944528'},\n",
       " {'article_key': 'code rural et de la pêche maritime::L. 254-10-1',\n",
       "  'code': 'code rural et de la pêche maritime',\n",
       "  'article': 'L. 254-10-1',\n",
       "  'operation_type': 'MODIFY',\n",
       "  'original_text': \"I.-Sont soumises à des obligations de réalisation d'actions tendant à la réduction de l'utilisation de produits phytopharmaceutiques les personnes auprès desquelles la redevance pour pollutions diffuses est exigible, mentionnées au IV de l'article L. 213-10-8 du code de l'environnement . Ces personnes sont dénommées les “ obligés ”. L'obligé est tenu de mettre en place des actions visant à la réalisation d'économies de produits phytopharmaceutiques ou de faciliter la mise en œuvre de telles actions. II.-L'autorité administrative notifie à chaque obligé pour les périodes du 1er janvier 2020 au 31 décembre 2020 et du 1er janvier 2021 au 31 décembre 2021, puis, à compter du 1er janvier 2022, pour chaque période successive d'une durée fixée par décret en Conseil d'Etat, dans la limite de quatre ans, l'obligation de réalisation d'actions qui lui incombe en vertu de la présente section compte tenu des quantités de produits phytopharmaceutiques qu'il a déclarées en application des articles L. 213-10-8 et L. 213-11 du code de l'environnement. Cette obligation est proportionnelle aux quantités de chaque substance active contenues dans ces produits phytopharmaceutiques, pondérées, dans des conditions fixées par décret en Conseil d'Etat, par des coefficients liés soit aux caractéristiques d'emploi de ces produits, soit aux dangers des substances actives qu'ils contiennent. Elle est exprimée en nombre de certificats d'économie de produits phytopharmaceutiques.\",\n",
       "  'text_length': 1472,\n",
       "  'retrieval_metadata': {'source': 'pylegifrance', 'success': True},\n",
       "  'retrieved_at': '2025-06-21T10:43:45.099420'},\n",
       " {'article_key': 'code rural et de la pêche maritime::L. 254-12',\n",
       "  'code': 'code rural et de la pêche maritime',\n",
       "  'article': 'L. 254-12',\n",
       "  'operation_type': 'MODIFY',\n",
       "  'original_text': \"I.-Est puni d'un emprisonnement de six mois et d'une amende de 15 000 € : 1° Le fait d'exercer l'une des activités visées à l'article L. 254-1 sans justifier de la détention de l'agrément ; 2° Le fait, pour le détenteur de l'agrément, d'exercer l'une des activités visées à l'article L. 254-1 sans satisfaire aux conditions exigées par l'article L. 254-2 ou par l'article L. 254-5 . II.-Les personnes physiques coupables de l'une des infractions mentionnées au présent article encourent également la peine complémentaire d'affichage et de diffusion de la décision dans les conditions prévues par l'article 131-35 du code pénal. Les personnes morales déclarées coupables pénalement dans les conditions prévues à l'article 121-2 du même code des infractions définies au présent article encourent, outre l'amende suivant les modalités prévues à l'article 131-38 du code pénal, la peine prévue au 9° de l'article 131-39 du même code. III.-Lorsqu'elles sont commises en bande organisée, les infractions prévues au I sont punies de sept ans d'emprisonnement et 150 000 € d'amende.\",\n",
       "  'text_length': 1074,\n",
       "  'retrieval_metadata': {'source': 'pylegifrance', 'success': True},\n",
       "  'retrieved_at': '2025-06-21T10:43:45.920745'},\n",
       " {'article_key': 'code rural et de la pêche maritime::L. 500-1',\n",
       "  'code': 'code rural et de la pêche maritime',\n",
       "  'article': 'L. 500-1',\n",
       "  'operation_type': 'INSERT',\n",
       "  'original_text': '',\n",
       "  'text_length': 0,\n",
       "  'retrieval_metadata': {'source': 'insert_operation',\n",
       "   'success': True,\n",
       "   'note': 'Empty text for INSERT operation'},\n",
       "  'retrieved_at': '2025-06-21T10:43:45.920754'}]"
      ]
     },
     "execution_count": 13,
     "metadata": {},
     "output_type": "execute_result"
    }
   ],
   "source": [
    "retrieval_results = pipeline.step_3_retrieve_original_texts()\n",
    "retrieval_results"
   ]
  },
  {
   "cell_type": "code",
   "execution_count": null,
   "id": "e6f2603b-9d59-4583-90f5-0bff5884a44b",
   "metadata": {},
   "outputs": [],
   "source": []
  },
  {
   "cell_type": "code",
   "execution_count": null,
   "id": "b1e0867c-c68b-4956-bca0-b83737ad1e2c",
   "metadata": {},
   "outputs": [],
   "source": []
  },
  {
   "cell_type": "code",
   "execution_count": 14,
   "id": "e1be05eb-21b8-4f57-b18f-0c5df339fa3f",
   "metadata": {},
   "outputs": [
    {
     "data": {
      "text/plain": [
       "{'chunk_id': '# TITRE Iᴱᴿ::Article 1ᵉʳ::3° ter::b)',\n",
       " 'chunk_text_preview': 'b) Le second alinéa est supprimé ;',\n",
       " 'hierarchy_path': ['# TITRE Iᴱᴿ', 'Article 1ᵉʳ', '3° ter', 'b)'],\n",
       " 'target_article': {'operation_type': 'MODIFY',\n",
       "  'code': 'code rural et de la pêche maritime',\n",
       "  'article': 'L. 254-1-2',\n",
       "  'full_citation': 'code rural et de la pêche maritime::L. 254-1-2',\n",
       "  'confidence': 1.0,\n",
       "  'raw_text': 'b) Le second alinéa est supprimé ;'}}"
      ]
     },
     "execution_count": 14,
     "metadata": {},
     "output_type": "execute_result"
    }
   ],
   "source": [
    "target_results[5]"
   ]
  },
  {
   "cell_type": "code",
   "execution_count": null,
   "id": "a10e936b-05bc-4d8f-9402-8d6035c3961e",
   "metadata": {},
   "outputs": [],
   "source": []
  },
  {
   "cell_type": "code",
   "execution_count": 15,
   "id": "198fa39d-8df0-45b2-aa5b-734f6360e787",
   "metadata": {},
   "outputs": [
    {
     "data": {
      "text/plain": [
       "{'total_articles': 11,\n",
       " 'successful_retrievals': 11,\n",
       " 'failed_retrievals': 0,\n",
       " 'success_rate': 1.0,\n",
       " 'source_stats': {'pylegifrance': 10, 'insert_operation': 1},\n",
       " 'text_length_stats': {'average': 1479.0,\n",
       "  'maximum': 3321,\n",
       "  'minimum': 0,\n",
       "  'total_characters': 16269},\n",
       " 'failed_articles': []}"
      ]
     },
     "execution_count": 15,
     "metadata": {},
     "output_type": "execute_result"
    }
   ],
   "source": [
    "pipeline._analyze_retrieval_results(retrieval_results)"
   ]
  },
  {
   "cell_type": "code",
   "execution_count": null,
   "id": "d4051daa-75b6-46a8-9901-58ee09912bb2",
   "metadata": {},
   "outputs": [],
   "source": []
  },
  {
   "cell_type": "code",
   "execution_count": null,
   "id": "54a0a34e-ce3c-4b44-a1b1-49ab1b8f05f4",
   "metadata": {},
   "outputs": [],
   "source": []
  },
  {
   "cell_type": "code",
   "execution_count": null,
   "id": "6e9dad82-1bcf-4072-ad72-3204aa3ef7ec",
   "metadata": {},
   "outputs": [],
   "source": []
  },
  {
   "cell_type": "code",
   "execution_count": null,
   "id": "45a49725-291e-4b15-837e-57bf3746a3cf",
   "metadata": {
    "scrolled": true
   },
   "outputs": [
    {
     "name": "stderr",
     "output_type": "stream",
     "text": [
      "2025-06-21 10:43:45,944 - bill_parser_engine.core.reference_resolver.pipeline - INFO - Step 4: Applying text reconstruction...\n",
      "2025-06-21 10:43:45,945 - bill_parser_engine.core.reference_resolver.pipeline - INFO - Processing 18 chunks with identified target articles (skipping 3 chunks with pure versioning metadata or errors)\n",
      "2025-06-21 10:43:45,946 - bill_parser_engine.core.reference_resolver.legal_amendment_reconstructor - INFO - Starting amendment reconstruction for article code rural et de la pêche maritime::L. 254-1 - instruction: a) (nouveau) Au 3° du II, les mots : « prévu aux articles L. 254-6-2 et L. 254-6-3 » sont remplacés ...\n",
      "2025-06-21 10:43:45,947 - bill_parser_engine.core.reference_resolver.instruction_decomposer - INFO - Parsing amendment instruction: a) (nouveau) Au 3° du II, les mots : « prévu aux articles L. 254-6-2 et L. 254-6-3 » sont remplacés par les mots : « à l'utilisation des produits phytopharmaceutiques » ;...\n",
      "2025-06-21 10:43:49,314 - httpx - INFO - HTTP Request: POST https://api.mistral.ai/v1/chat/completions \"HTTP/1.1 200 OK\"\n",
      "2025-06-21 10:43:49,319 - bill_parser_engine.core.reference_resolver.instruction_decomposer - INFO - Decomposed into 1 operations (processing time: 3370ms)\n",
      "2025-06-21 10:43:49,320 - bill_parser_engine.core.reference_resolver.legal_amendment_reconstructor - INFO - Decomposed into 1 atomic operations\n",
      "2025-06-21 10:43:49,321 - bill_parser_engine.core.reference_resolver.operation_applier - INFO - Applying REPLACE operation: AmendmentOperation(operation_type=<OperationType.REPLACE: 'REPLACE'>, target_text='prévu aux article...\n"
     ]
    },
    {
     "name": "stdout",
     "output_type": "stream",
     "text": [
      "⏱️ OperationApplier: Waiting 0.1s for rate limiting...\n"
     ]
    },
    {
     "name": "stderr",
     "output_type": "stream",
     "text": [
      "2025-06-21 10:44:11,402 - httpx - INFO - HTTP Request: POST https://api.mistral.ai/v1/chat/completions \"HTTP/1.1 200 OK\"\n",
      "2025-06-21 10:44:11,406 - bill_parser_engine.core.reference_resolver.operation_applier - INFO - Operation applied - Success: True (processing time: 22083ms)\n",
      "2025-06-21 10:44:11,408 - bill_parser_engine.core.reference_resolver.result_validator - INFO - Validating legal coherence for 1 operations\n"
     ]
    }
   ],
   "source": [
    "reconstruction_results = pipeline.step_4_reconstruct_texts()\n"
   ]
  },
  {
   "cell_type": "code",
   "execution_count": null,
   "id": "69157ca8-950f-4506-8964-e26ae151cb86",
   "metadata": {},
   "outputs": [],
   "source": []
  },
  {
   "cell_type": "code",
   "execution_count": null,
   "id": "be81f756-a6fa-4dc0-ae14-4a66a5aa0740",
   "metadata": {},
   "outputs": [],
   "source": []
  },
  {
   "cell_type": "code",
   "execution_count": null,
   "id": "0fc7e19f-66a2-4b32-96d8-b8a87757cc0c",
   "metadata": {},
   "outputs": [],
   "source": []
  },
  {
   "cell_type": "code",
   "execution_count": null,
   "id": "db489fa6-506b-482e-84f7-9a3a80e83298",
   "metadata": {},
   "outputs": [],
   "source": []
  },
  {
   "cell_type": "code",
   "execution_count": null,
   "id": "f7cab9db-189e-4f27-8819-ded22a3bde80",
   "metadata": {},
   "outputs": [],
   "source": [
    "pipeline._analyze_reconstruction_results(reconstruction_results)#.get('failed_chunks')"
   ]
  },
  {
   "cell_type": "code",
   "execution_count": null,
   "id": "fd6103a5-bdbd-4a59-87a8-63e99abc946b",
   "metadata": {
    "scrolled": true
   },
   "outputs": [],
   "source": [
    "#pipeline.export_traces_after_step('step_4')"
   ]
  },
  {
   "cell_type": "code",
   "execution_count": null,
   "id": "d48bcf0a-bd28-41e6-a7b1-0bac75424bf3",
   "metadata": {},
   "outputs": [],
   "source": []
  },
  {
   "cell_type": "code",
   "execution_count": null,
   "id": "76a541c8-bda4-4047-a59d-a363a0db5a9e",
   "metadata": {},
   "outputs": [],
   "source": []
  },
  {
   "cell_type": "code",
   "execution_count": null,
   "id": "9726a124-6c0c-4105-b9eb-07dd282521f4",
   "metadata": {},
   "outputs": [],
   "source": []
  },
  {
   "cell_type": "code",
   "execution_count": null,
   "id": "05a3da78-fbc7-4a9a-8443-f2a7ab942e4f",
   "metadata": {},
   "outputs": [],
   "source": []
  },
  {
   "cell_type": "code",
   "execution_count": 18,
   "id": "eb773b51-34a9-487d-9edd-c38970733445",
   "metadata": {},
   "outputs": [],
   "source": [
    "failed_reconstruction = []\n",
    "for res in reconstruction_results:\n",
    "    if res.get('chunk_id') in pipeline._analyze_reconstruction_results(reconstruction_results).get('failed_chunks'):\n",
    "        failed_reconstruction.append(res)"
   ]
  },
  {
   "cell_type": "code",
   "execution_count": 19,
   "id": "78dd5bb8-c486-4437-853f-36440a5de80f",
   "metadata": {
    "scrolled": true
   },
   "outputs": [
    {
     "data": {
      "text/plain": [
       "[{'chunk_id': '# TITRE Iᴱᴿ::Article 1ᵉʳ::1°',\n",
       "  'chunk_text_preview': '1° (Supprimé)',\n",
       "  'hierarchy_path': ['# TITRE Iᴱᴿ', 'Article 1ᵉʳ', '1°'],\n",
       "  'target_article': None,\n",
       "  'reconstruction_result': None,\n",
       "  'error': 'No target article identified'},\n",
       " {'chunk_id': '# TITRE Iᴱᴿ::Article 1ᵉʳ::3°',\n",
       "  'chunk_text_preview': '3° (Supprimé)',\n",
       "  'hierarchy_path': ['# TITRE Iᴱᴿ', 'Article 1ᵉʳ', '3°'],\n",
       "  'target_article': None,\n",
       "  'reconstruction_result': None,\n",
       "  'error': 'No target article identified'},\n",
       " {'chunk_id': '# TITRE Iᴱᴿ::Article 1ᵉʳ::5°',\n",
       "  'chunk_text_preview': '5° (Supprimé)',\n",
       "  'hierarchy_path': ['# TITRE Iᴱᴿ', 'Article 1ᵉʳ', '5°'],\n",
       "  'target_article': None,\n",
       "  'reconstruction_result': None,\n",
       "  'error': 'No target article identified'},\n",
       " {'chunk_id': '# TITRE Iᴱᴿ::Article 1ᵉʳ::6°::a)',\n",
       "  'chunk_text_preview': \"a) (nouveau) Au premier alinéa, les mots : « , et notamment la désignation de l'autorité administrat...\",\n",
       "  'hierarchy_path': ['# TITRE Iᴱᴿ', 'Article 1ᵉʳ', '6°', 'a)'],\n",
       "  'target_article': {'operation_type': 'MODIFY',\n",
       "   'code': 'code rural et de la pêche maritime',\n",
       "   'article': None,\n",
       "   'confidence': 1.0,\n",
       "   'raw_text': 'a) (nouveau) Au premier alinéa, les mots : « , et ...'},\n",
       "  'reconstruction_result': None,\n",
       "  'error': 'No original text found for '},\n",
       " {'chunk_id': '# TITRE Iᴱᴿ::Article 1ᵉʳ::6°::b)',\n",
       "  'chunk_text_preview': 'b) Le second alinéa est ainsi modifié : à la première phrase, après le mot : « prévoit », il est ins...',\n",
       "  'hierarchy_path': ['# TITRE Iᴱᴿ', 'Article 1ᵉʳ', '6°', 'b)'],\n",
       "  'target_article': {'operation_type': 'MODIFY',\n",
       "   'code': 'code rural et de la pêche maritime',\n",
       "   'article': None,\n",
       "   'confidence': 1.0,\n",
       "   'raw_text': 'b) Le second alinéa est ainsi modifié : à la premi...'},\n",
       "  'reconstruction_result': None,\n",
       "  'error': 'No original text found for '},\n",
       " {'chunk_id': '# TITRE Iᴱᴿ::Article 1ᵉʳ::7°',\n",
       "  'chunk_text_preview': '7° (nouveau) Avant le titre Iᵉʳ du livre V, il est ajouté un titre préliminaire ainsi rédigé :\\n\\n\\t« T...',\n",
       "  'hierarchy_path': ['# TITRE Iᴱᴿ', 'Article 1ᵉʳ', '7°'],\n",
       "  'target_article': {'operation_type': 'INSERT',\n",
       "   'code': 'code rural et de la pêche maritime',\n",
       "   'article': 'L. 500-1',\n",
       "   'confidence': 1.0,\n",
       "   'raw_text': '7° (nouveau) Avant le titre Iᵉʳ du livre V, il est...'},\n",
       "  'reconstruction_result': None,\n",
       "  'error': 'Original law article cannot be empty'},\n",
       " {'chunk_id': '# TITRE Iᴱᴿ::Article 2::I::1°',\n",
       "  'chunk_text_preview': '1° (nouveau)(Supprimé)',\n",
       "  'hierarchy_path': ['# TITRE Iᴱᴿ', 'Article 2', 'I', '1°'],\n",
       "  'target_article': None,\n",
       "  'reconstruction_result': None,\n",
       "  'error': 'No target article identified'},\n",
       " {'chunk_id': '# TITRE Iᴱᴿ::Article 2::I::2°::aa, a et b)',\n",
       "  'chunk_text_preview': 'aa, a et b) (Supprimés)',\n",
       "  'hierarchy_path': ['# TITRE Iᴱᴿ', 'Article 2', 'I', '2°', 'aa, a et b)'],\n",
       "  'target_article': None,\n",
       "  'reconstruction_result': None,\n",
       "  'error': 'No target article identified'},\n",
       " {'chunk_id': '# TITRE Iᴱᴿ::Article 2::II::1°A',\n",
       "  'chunk_text_preview': \"1°A (nouveau) Après le deuxième alinéa de l'article L. 253-1, il est inséré un alinéa ainsi rédigé :...\",\n",
       "  'hierarchy_path': ['# TITRE Iᴱᴿ', 'Article 2', 'II', '1°A'],\n",
       "  'target_article': {'operation_type': 'INSERT',\n",
       "   'code': 'code rural et de la pêche maritime',\n",
       "   'article': 'L. 253-1',\n",
       "   'confidence': 1.0,\n",
       "   'raw_text': \"1°A (nouveau) Après le deuxième alinéa de l'articl...\"},\n",
       "  'reconstruction_result': None,\n",
       "  'error': 'Original law article cannot be empty'},\n",
       " {'chunk_id': '# TITRE Iᴱᴿ::Article 2::II::1°',\n",
       "  'chunk_text_preview': '1° (Supprimé)',\n",
       "  'hierarchy_path': ['# TITRE Iᴱᴿ', 'Article 2', 'II', '1°'],\n",
       "  'target_article': None,\n",
       "  'reconstruction_result': None,\n",
       "  'error': 'No target article identified'},\n",
       " {'chunk_id': '# TITRE Iᴱᴿ::Article 2::II::2°::b)',\n",
       "  'chunk_text_preview': 'b) (Supprimé)',\n",
       "  'hierarchy_path': ['# TITRE Iᴱᴿ', 'Article 2', 'II', '2°', 'b)'],\n",
       "  'target_article': None,\n",
       "  'reconstruction_result': None,\n",
       "  'error': 'No target article identified'},\n",
       " {'chunk_id': '# TITRE Iᴱᴿ::Article 2::II::2°::c)',\n",
       "  'chunk_text_preview': 'c) (nouveau) Les deuxième et troisième alinéas du II sont supprimés ;',\n",
       "  'hierarchy_path': ['# TITRE Iᴱᴿ', 'Article 2', 'II', '2°', 'c)'],\n",
       "  'target_article': {'operation_type': 'MODIFY',\n",
       "   'code': 'code rural et de la pêche maritime',\n",
       "   'article': None,\n",
       "   'confidence': 1.0,\n",
       "   'raw_text': 'c) (nouveau) Les deuxième et troisième alinéas du ...'},\n",
       "  'reconstruction_result': None,\n",
       "  'error': 'No original text found for '},\n",
       " {'chunk_id': '# TITRE Iᴱᴿ::Article 2::II::2°::d)',\n",
       "  'chunk_text_preview': 'd) (nouveau) Le deuxième alinéa du II bis est ainsi modifié : à la fin de la première phrase, les mo...',\n",
       "  'hierarchy_path': ['# TITRE Iᴱᴿ', 'Article 2', 'II', '2°', 'd)'],\n",
       "  'target_article': {'operation_type': 'MODIFY',\n",
       "   'code': 'code rural et de la pêche maritime',\n",
       "   'article': None,\n",
       "   'confidence': 1.0,\n",
       "   'raw_text': 'd) (nouveau) Le deuxième alinéa du II bis est ains...'},\n",
       "  'reconstruction_result': None,\n",
       "  'error': 'No original text found for '},\n",
       " {'chunk_id': '# TITRE Iᴱᴿ::Article 2::II::2°::e)',\n",
       "  'chunk_text_preview': 'e) (nouveau) Le troisième alinéa du même II bis est supprimé ;',\n",
       "  'hierarchy_path': ['# TITRE Iᴱᴿ', 'Article 2', 'II', '2°', 'e)'],\n",
       "  'target_article': {'operation_type': 'MODIFY',\n",
       "   'code': 'code rural et de la pêche maritime',\n",
       "   'article': None,\n",
       "   'confidence': 1.0,\n",
       "   'raw_text': 'e) (nouveau) Le troisième alinéa du même II bis es...'},\n",
       "  'reconstruction_result': None,\n",
       "  'error': 'No original text found for '},\n",
       " {'chunk_id': '# TITRE Iᴱᴿ::Article 2::II::2°::f)',\n",
       "  'chunk_text_preview': 'f) (nouveau) Après ledit II bis, il est inséré un II ter ainsi rédigé : « II ter. – Sans préjudice d...',\n",
       "  'hierarchy_path': ['# TITRE Iᴱᴿ', 'Article 2', 'II', '2°', 'f)'],\n",
       "  'target_article': {'operation_type': 'INSERT',\n",
       "   'code': 'code rural et de la pêche maritime',\n",
       "   'article': 'II ter',\n",
       "   'confidence': 1.0,\n",
       "   'raw_text': 'f) (nouveau) Après ledit II bis, il est inséré un ...'},\n",
       "  'reconstruction_result': None,\n",
       "  'error': 'Original law article cannot be empty'},\n",
       " {'chunk_id': '# TITRE Iᴱᴿ::Article 2::II::4°',\n",
       "  'chunk_text_preview': '4° (nouveau) La section 6 du chapitre III du titre V du livre II est complétée par un article L. 253...',\n",
       "  'hierarchy_path': ['# TITRE Iᴱᴿ', 'Article 2', 'II', '4°'],\n",
       "  'target_article': {'operation_type': 'INSERT',\n",
       "   'code': 'code rural et de la pêche maritime',\n",
       "   'article': 'L. 253-8-4',\n",
       "   'confidence': 1.0,\n",
       "   'raw_text': '4° (nouveau) La section 6 du chapitre III du titre...'},\n",
       "  'reconstruction_result': None,\n",
       "  'error': 'Original law article cannot be empty'},\n",
       " {'chunk_id': '# TITRE II::Article 3::I::1° à 3°',\n",
       "  'chunk_text_preview': '1° à 3° (Supprimés)',\n",
       "  'hierarchy_path': ['# TITRE II', 'Article 3', 'I', '1° à 3°'],\n",
       "  'target_article': None,\n",
       "  'reconstruction_result': None,\n",
       "  'error': 'No target article identified'},\n",
       " {'chunk_id': '# TITRE II::Article 3::I::4°',\n",
       "  'chunk_text_preview': '4° (Supprimé)',\n",
       "  'hierarchy_path': ['# TITRE II', 'Article 3', 'I', '4°'],\n",
       "  'target_article': None,\n",
       "  'reconstruction_result': None,\n",
       "  'error': 'No target article identified'},\n",
       " {'chunk_id': '# TITRE II::Article 3::I::5°::a)',\n",
       "  'chunk_text_preview': 'a) Au second alinéa du I, après le mot : « industrielles », sont insérés les mots : « et aux émissio...',\n",
       "  'hierarchy_path': ['# TITRE II', 'Article 3', 'I', '5°', 'a)'],\n",
       "  'target_article': {'operation_type': 'MODIFY',\n",
       "   'code': \"code de l'environnement\",\n",
       "   'article': None,\n",
       "   'confidence': 1.0,\n",
       "   'raw_text': 'a) Au second alinéa du I, après le mot : « industr...'},\n",
       "  'reconstruction_result': None,\n",
       "  'error': 'No original text found for '},\n",
       " {'chunk_id': '# TITRE II::Article 3::I::5°::b)',\n",
       "  'chunk_text_preview': 'b) (nouveau) Après le I bis, il est inséré un I ter ainsi rédigé : « I ter. – Peuvent également rele...',\n",
       "  'hierarchy_path': ['# TITRE II', 'Article 3', 'I', '5°', 'b)'],\n",
       "  'target_article': {'operation_type': 'INSERT',\n",
       "   'code': \"code de l'environnement\",\n",
       "   'article': 'I ter',\n",
       "   'confidence': 1.0,\n",
       "   'raw_text': 'b) (nouveau) Après le I bis, il est inséré un I te...'},\n",
       "  'reconstruction_result': None,\n",
       "  'error': 'Original law article cannot be empty'},\n",
       " {'chunk_id': '# TITRE II::Article 3::I::6°',\n",
       "  'chunk_text_preview': '6° (nouveau)(Supprimé)',\n",
       "  'hierarchy_path': ['# TITRE II', 'Article 3', 'I', '6°'],\n",
       "  'target_article': None,\n",
       "  'reconstruction_result': None,\n",
       "  'error': 'No target article identified'},\n",
       " {'chunk_id': '# TITRE II::Article 3::II',\n",
       "  'chunk_text_preview': \"II (nouveau). – Le 5° du I du présent article entre en vigueur à la date de\\npublication de l'acte d'...\",\n",
       "  'hierarchy_path': ['# TITRE II', 'Article 3', 'II'],\n",
       "  'target_article': None,\n",
       "  'reconstruction_result': None,\n",
       "  'error': 'No target article identified'},\n",
       " {'chunk_id': '# TITRE II::Article 4::I',\n",
       "  'chunk_text_preview': 'I et II. – (Supprimés)',\n",
       "  'hierarchy_path': ['# TITRE II', 'Article 4', 'I'],\n",
       "  'target_article': None,\n",
       "  'reconstruction_result': None,\n",
       "  'error': 'No target article identified'},\n",
       " {'chunk_id': '# TITRE II::Article 4::II',\n",
       "  'chunk_text_preview': 'I et II. – (Supprimés)',\n",
       "  'hierarchy_path': ['# TITRE II', 'Article 4', 'II'],\n",
       "  'target_article': None,\n",
       "  'reconstruction_result': None,\n",
       "  'error': 'No target article identified'},\n",
       " {'chunk_id': '# TITRE II::Article 4::III',\n",
       "  'chunk_text_preview': \"III (nouveau). – L'État met en place un plan pluriannuel de\\nrenforcement de l'offre d'assurance réco...\",\n",
       "  'hierarchy_path': ['# TITRE II', 'Article 4', 'III'],\n",
       "  'target_article': {'operation_type': 'INSERT',\n",
       "   'code': None,\n",
       "   'article': None,\n",
       "   'confidence': 1.0,\n",
       "   'raw_text': \"III (nouveau). – L'État met en place un plan pluri...\"},\n",
       "  'reconstruction_result': None,\n",
       "  'error': 'Original law article cannot be empty'},\n",
       " {'chunk_id': '# TITRE III::Article 5::1°::a)',\n",
       "  'chunk_text_preview': \"a) Après le 5° bis du I, il est inséré un 5° ter ainsi rédigé : « 5° ter La préservation de l'accès ...\",\n",
       "  'hierarchy_path': ['# TITRE III', 'Article 5', '1°', 'a)'],\n",
       "  'target_article': {'operation_type': 'INSERT',\n",
       "   'code': \"code de l'environnement\",\n",
       "   'article': '5° ter',\n",
       "   'confidence': 1.0,\n",
       "   'raw_text': 'a) Après le 5° bis du I, il est inséré un 5° ter a...'},\n",
       "  'reconstruction_result': None,\n",
       "  'error': 'Original law article cannot be empty'},\n",
       " {'chunk_id': '# TITRE III::Article 5::1°::b)',\n",
       "  'chunk_text_preview': 'b) (Supprimé)',\n",
       "  'hierarchy_path': ['# TITRE III', 'Article 5', '1°', 'b)'],\n",
       "  'target_article': None,\n",
       "  'reconstruction_result': None,\n",
       "  'error': 'No target article identified'},\n",
       " {'chunk_id': '# TITRE III::Article 5::1° bis',\n",
       "  'chunk_text_preview': \"1° bis (nouveau) Après l'article L. 211-1-1, il est inséré un article L. 211-1-2 ainsi rédigé : « Ar...\",\n",
       "  'hierarchy_path': ['# TITRE III', 'Article 5', '1° bis'],\n",
       "  'target_article': {'operation_type': 'INSERT',\n",
       "   'code': \"code de l'environnement\",\n",
       "   'article': 'L. 211-1-2',\n",
       "   'confidence': 1.0,\n",
       "   'raw_text': \"1° bis (nouveau) Après l'article L. 211-1-1, il es...\"},\n",
       "  'reconstruction_result': None,\n",
       "  'error': 'Original law article cannot be empty'},\n",
       " {'chunk_id': '# TITRE III::Article 5::2° à 5°',\n",
       "  'chunk_text_preview': '2° à 5° (Supprimés)',\n",
       "  'hierarchy_path': ['# TITRE III', 'Article 5', '2° à 5°'],\n",
       "  'target_article': None,\n",
       "  'reconstruction_result': None,\n",
       "  'error': 'No target article identified'},\n",
       " {'chunk_id': '# TITRE III::Article 5::7°',\n",
       "  'chunk_text_preview': \"7° (nouveau) Après l'article L. 411-2-1, il est inséré un article L. 411-2-2 ainsi rédigé :\\n\\n\\t« Art....\",\n",
       "  'hierarchy_path': ['# TITRE III', 'Article 5', '7°'],\n",
       "  'target_article': {'operation_type': 'INSERT',\n",
       "   'code': \"code de l'environnement\",\n",
       "   'article': 'L. 411-2-2',\n",
       "   'confidence': 1.0,\n",
       "   'raw_text': \"7° (nouveau) Après l'article L. 411-2-1, il est in...\"},\n",
       "  'reconstruction_result': None,\n",
       "  'error': 'Original law article cannot be empty'},\n",
       " {'chunk_id': '# TITRE IV::Article 6::I::1°::a)',\n",
       "  'chunk_text_preview': 'a) (nouveau) Au 1° du I, au début, après le mot : « Contribution », sont insérés les mots : « , sous...',\n",
       "  'hierarchy_path': ['# TITRE IV', 'Article 6', 'I', '1°', 'a)'],\n",
       "  'target_article': {'operation_type': 'MODIFY',\n",
       "   'code': \"code de l'environnement\",\n",
       "   'article': '1° du I',\n",
       "   'confidence': 1.0,\n",
       "   'raw_text': 'a) (nouveau) Au 1° du I, au début, après le mot : ...'},\n",
       "  'reconstruction_result': None,\n",
       "  'error': \"No original text found for code de l'environnement::1° du I\"},\n",
       " {'chunk_id': '# TITRE IV::Article 6::I::1°::b)',\n",
       "  'chunk_text_preview': 'b) Le IV est complété par les mots : « , notamment en validant la programmation annuelle des contrôl...',\n",
       "  'hierarchy_path': ['# TITRE IV', 'Article 6', 'I', '1°', 'b)'],\n",
       "  'target_article': {'operation_type': 'MODIFY',\n",
       "   'code': \"code de l'environnement\",\n",
       "   'article': None,\n",
       "   'confidence': 1.0,\n",
       "   'raw_text': 'b) Le IV est complété par les mots : « , notamment...'},\n",
       "  'reconstruction_result': None,\n",
       "  'error': 'No original text found for '},\n",
       " {'chunk_id': '# TITRE IV::Article 6::I::1°::c)',\n",
       "  'chunk_text_preview': 'c) (nouveau)(Supprimé)',\n",
       "  'hierarchy_path': ['# TITRE IV', 'Article 6', 'I', '1°', 'c)'],\n",
       "  'target_article': None,\n",
       "  'reconstruction_result': None,\n",
       "  'error': 'No target article identified'},\n",
       " {'chunk_id': '# TITRE IV::Article 6::I::3°',\n",
       "  'chunk_text_preview': \"3° (nouveau) Après l'article L. 174-2, il est inséré un article L. 174-3 ainsi rédigé :\\n\\n\\t\\t« Art. L....\",\n",
       "  'hierarchy_path': ['# TITRE IV', 'Article 6', 'I', '3°'],\n",
       "  'target_article': {'operation_type': 'INSERT',\n",
       "   'code': \"code de l'environnement\",\n",
       "   'article': 'L. 174-3',\n",
       "   'confidence': 1.0,\n",
       "   'raw_text': \"3° (nouveau) Après l'article L. 174-2, il est insé...\"},\n",
       "  'reconstruction_result': None,\n",
       "  'error': 'Original law article cannot be empty'},\n",
       " {'chunk_id': '# TITRE IV::Article 6::II',\n",
       "  'chunk_text_preview': \"II (nouveau). – Le 3° du I entre en vigueur à compter de la publication du décret prévu au V de l'ar...\",\n",
       "  'hierarchy_path': ['# TITRE IV', 'Article 6', 'II'],\n",
       "  'target_article': None,\n",
       "  'reconstruction_result': None,\n",
       "  'error': 'No target article identified'},\n",
       " {'chunk_id': '# TITRE IV::Article 7::1°',\n",
       "  'chunk_text_preview': \"1° À l'intitulé du chapitre VIII, les mots : « , notamment dans le cadre de la lutte biologique » so...\",\n",
       "  'hierarchy_path': ['# TITRE IV', 'Article 7', '1°'],\n",
       "  'target_article': {'operation_type': 'MODIFY',\n",
       "   'code': 'code rural et de la pêche maritime',\n",
       "   'article': 'Titre V du livre II',\n",
       "   'confidence': 1.0,\n",
       "   'raw_text': \"1° À l'intitulé du chapitre VIII, les mots : « , n...\"},\n",
       "  'reconstruction_result': None,\n",
       "  'error': 'No original text found for code rural et de la pêche maritime::Titre V du livre II'},\n",
       " {'chunk_id': '# TITRE IV::Article 7::2°::a)',\n",
       "  'chunk_text_preview': 'a) Le premier alinéa est ainsi modifié : à la première phrase, après le mot : « végétaux », sont ins...',\n",
       "  'hierarchy_path': ['# TITRE IV', 'Article 7', '2°', 'a)'],\n",
       "  'target_article': {'operation_type': 'MODIFY',\n",
       "   'code': 'code rural et de la pêche maritime',\n",
       "   'article': None,\n",
       "   'confidence': 1.0,\n",
       "   'raw_text': 'a) Le premier alinéa est ainsi modifié : à la prem...'},\n",
       "  'reconstruction_result': None,\n",
       "  'error': 'No original text found for '},\n",
       " {'chunk_id': '# TITRE IV::Article 7::2°::b)',\n",
       "  'chunk_text_preview': \"b) Le deuxième alinéa est ainsi modifié : à la première phrase, les mots : « d'un tel macro-organism...\",\n",
       "  'hierarchy_path': ['# TITRE IV', 'Article 7', '2°', 'b)'],\n",
       "  'target_article': {'operation_type': 'MODIFY',\n",
       "   'code': 'code rural et de la pêche maritime',\n",
       "   'article': None,\n",
       "   'confidence': 1.0,\n",
       "   'raw_text': 'b) Le deuxième alinéa est ainsi modifié : à la pre...'},\n",
       "  'reconstruction_result': None,\n",
       "  'error': 'No original text found for '},\n",
       " {'chunk_id': '# TITRE IV::Article 8::I::1° Adapter',\n",
       "  'chunk_text_preview': \"1° Adapter l'échelle des peines et réexaminer leur nécessité, en tenant compte de ce que le manqueme...\",\n",
       "  'hierarchy_path': ['# TITRE IV', 'Article 8', 'I', '1° Adapter'],\n",
       "  'target_article': None,\n",
       "  'reconstruction_result': None,\n",
       "  'error': 'No target article identified'},\n",
       " {'chunk_id': '# TITRE IV::Article 8::I::2° Adapter',\n",
       "  'chunk_text_preview': \"2° Adapter le contenu et les modalités d'exécution des mesures de prévention, de surveillance et de ...\",\n",
       "  'hierarchy_path': ['# TITRE IV', 'Article 8', 'I', '2° Adapter'],\n",
       "  'target_article': None,\n",
       "  'reconstruction_result': None,\n",
       "  'error': 'No target article identified'},\n",
       " {'chunk_id': '# TITRE IV::Article 8::I::3° Abroger',\n",
       "  'chunk_text_preview': '3° Abroger ou modifier les dispositions devenues inadaptées ou obsolètes.',\n",
       "  'hierarchy_path': ['# TITRE IV', 'Article 8', 'I', '3° Abroger'],\n",
       "  'target_article': None,\n",
       "  'reconstruction_result': None,\n",
       "  'error': 'No target article identified'},\n",
       " {'chunk_id': '# TITRE IV::Article 8::II',\n",
       "  'chunk_text_preview': 'II. – Un projet de loi de ratification est déposé devant le Parlement dans un délai de trois mois à ...',\n",
       "  'hierarchy_path': ['# TITRE IV', 'Article 8', 'II'],\n",
       "  'target_article': None,\n",
       "  'reconstruction_result': None,\n",
       "  'error': 'No target article identified'}]"
      ]
     },
     "execution_count": 19,
     "metadata": {},
     "output_type": "execute_result"
    }
   ],
   "source": [
    "failed_reconstruction"
   ]
  },
  {
   "cell_type": "code",
   "execution_count": 20,
   "id": "6bf1f6a0-11c2-4862-98d2-ec867d35905f",
   "metadata": {},
   "outputs": [
    {
     "data": {
      "text/plain": [
       "42"
      ]
     },
     "execution_count": 20,
     "metadata": {},
     "output_type": "execute_result"
    }
   ],
   "source": [
    "len(failed_reconstruction)"
   ]
  },
  {
   "cell_type": "code",
   "execution_count": null,
   "id": "da54f049-20ee-489f-8ba9-b95bb03f71e6",
   "metadata": {},
   "outputs": [],
   "source": []
  },
  {
   "cell_type": "code",
   "execution_count": null,
   "id": "93be4d37-bb8f-4f5e-9cb1-000c52f60182",
   "metadata": {},
   "outputs": [],
   "source": []
  },
  {
   "cell_type": "code",
   "execution_count": null,
   "id": "c6da40e4-bf50-4f2e-ba96-edda30deac08",
   "metadata": {},
   "outputs": [],
   "source": []
  },
  {
   "cell_type": "code",
   "execution_count": null,
   "id": "34902008-09ee-4c30-9e4e-ca04f95dc386",
   "metadata": {
    "scrolled": true
   },
   "outputs": [],
   "source": [
    "located_ref = pipeline.step_5_locate_references()"
   ]
  },
  {
   "cell_type": "code",
   "execution_count": null,
   "id": "fec81434-89c6-4b95-9e26-704e9a22b34b",
   "metadata": {},
   "outputs": [],
   "source": [
    "pipeline._analyze_reference_location_results(located_ref)"
   ]
  },
  {
   "cell_type": "code",
   "execution_count": null,
   "id": "6768f505-ff6c-4109-8357-f9dfbff58bbf",
   "metadata": {},
   "outputs": [],
   "source": []
  },
  {
   "cell_type": "code",
   "execution_count": null,
   "id": "0e5811f6-d45c-459e-92fa-6b3baa6c7626",
   "metadata": {
    "scrolled": true
   },
   "outputs": [],
   "source": [
    "located_ref[2]"
   ]
  },
  {
   "cell_type": "code",
   "execution_count": null,
   "id": "457b180c-3434-43ae-b78a-983e2e922aea",
   "metadata": {},
   "outputs": [],
   "source": []
  },
  {
   "cell_type": "code",
   "execution_count": null,
   "id": "d529c376-5c9e-4cc9-aacb-037293f65679",
   "metadata": {
    "scrolled": true
   },
   "outputs": [],
   "source": [
    "ref_link = pipeline.step_6_link_references()"
   ]
  },
  {
   "cell_type": "code",
   "execution_count": null,
   "id": "76c0d3c1-89b0-44a3-acc3-8ba91ce8223a",
   "metadata": {},
   "outputs": [],
   "source": [
    "pipeline._analyze_reference_linking_results(ref_link)"
   ]
  },
  {
   "cell_type": "code",
   "execution_count": null,
   "id": "e521c18f-12fc-461c-b657-3482258baf11",
   "metadata": {},
   "outputs": [],
   "source": []
  },
  {
   "cell_type": "code",
   "execution_count": null,
   "id": "8716e468-ddae-400f-8add-7b5de7365918",
   "metadata": {},
   "outputs": [],
   "source": []
  },
  {
   "cell_type": "code",
   "execution_count": null,
   "id": "83c2cced-f94e-40ff-b92d-c18f1e61efa4",
   "metadata": {},
   "outputs": [],
   "source": []
  },
  {
   "cell_type": "code",
   "execution_count": null,
   "id": "cb630817-8299-4a16-a4dc-ce500aa24e05",
   "metadata": {},
   "outputs": [],
   "source": []
  },
  {
   "cell_type": "code",
   "execution_count": null,
   "id": "6cd20764-7162-40a5-a8ad-81ea8d6f99c3",
   "metadata": {},
   "outputs": [],
   "source": []
  },
  {
   "cell_type": "code",
   "execution_count": null,
   "id": "3d8657e5-09e2-4624-9048-03f7858f8bf1",
   "metadata": {},
   "outputs": [],
   "source": []
  }
 ],
 "metadata": {
  "kernelspec": {
   "display_name": "Python (bill-parser-engine)",
   "language": "python",
   "name": "bill-parser-engine"
  },
  "language_info": {
   "codemirror_mode": {
    "name": "ipython",
    "version": 3
   },
   "file_extension": ".py",
   "mimetype": "text/x-python",
   "name": "python",
   "nbconvert_exporter": "python",
   "pygments_lexer": "ipython3",
   "version": "3.12.8"
  }
 },
 "nbformat": 4,
 "nbformat_minor": 5
}
