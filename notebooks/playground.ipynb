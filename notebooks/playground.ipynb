{
 "cells": [
  {
   "cell_type": "code",
   "execution_count": 1,
   "id": "959f989d-e7bd-4df2-a1c2-18d39dc37575",
   "metadata": {},
   "outputs": [],
   "source": [
    "import os \n",
    "from dotenv import load_dotenv\n",
    "import json\n",
    "\n",
    "from pathlib import Path\n",
    "\n",
    "from mistralai import Mistral\n",
    "\n",
    "\n",
    "import json\n",
    "import os\n",
    "import sys\n",
    "from datetime import datetime\n",
    "from pathlib import Path\n",
    "from typing import Dict, List, Set\n",
    "\n",
    "from dotenv import load_dotenv\n",
    "\n",
    "# Add the project root to Python path for imports\n",
    "project_root = Path.cwd().parent\n",
    "sys.path.append(str(project_root))\n",
    "\n",
    "from bill_parser_engine.core.reference_resolver.pipeline import BillProcessingPipeline\n",
    "\n",
    "load_dotenv('../.env.local')\n",
    "\n",
    "api_key = os.environ[\"MISTRAL_API_KEY\"]\n",
    "client = Mistral(api_key)"
   ]
  },
  {
   "cell_type": "code",
   "execution_count": 2,
   "id": "49dc1a23-bd8c-4172-91cb-d408dcfbb751",
   "metadata": {},
   "outputs": [],
   "source": [
    "# Define file paths\n",
    "bill_file = project_root / \"data\" / \"legal_bill\" / \"sampled_legislative_bill.md\"\n",
    "output_dir = project_root / \"scripts \" / \"output\"\n",
    "log_file_path = project_root / \"notebooks\" / f\"detailed_reconstruction_log_{datetime.now().strftime('%Y%m%d_%H%M%S')}.txt\"\n"
   ]
  },
  {
   "cell_type": "code",
   "execution_count": 3,
   "id": "f35e23e9-ec06-4256-8936-b139794d0a4e",
   "metadata": {},
   "outputs": [
    {
     "name": "stderr",
     "output_type": "stream",
     "text": [
      "2025-07-24 16:50:30,852 - bill_parser_engine.core.reference_resolver.instruction_decomposer - INFO - InstructionDecomposer initialized with caching: enabled\n",
      "2025-07-24 16:50:30,867 - bill_parser_engine.core.reference_resolver.operation_applier - INFO - OperationApplier initialized with caching: enabled\n",
      "2025-07-24 16:50:30,885 - bill_parser_engine.core.reference_resolver.result_validator - INFO - ResultValidator initialized with caching: enabled\n",
      "2025-07-24 16:50:30,913 - bill_parser_engine.core.reference_resolver.pipeline - INFO - BillProcessingPipeline initialized with centralized Mistral API caching: enabled\n",
      "2025-07-24 16:50:30,914 - bill_parser_engine.core.reference_resolver.pipeline - INFO - Detailed reconstruction logging configured: /Users/duphan/Projects/bill-parser-engine/notebooks/detailed_reconstruction_log_20250724_165030.txt (will be created when first needed)\n"
     ]
    }
   ],
   "source": [
    "pipeline = BillProcessingPipeline(use_cache=True, log_file_path=log_file_path)"
   ]
  },
  {
   "cell_type": "code",
   "execution_count": 4,
   "id": "161ab667-c78f-42e4-8369-848d5c064656",
   "metadata": {},
   "outputs": [
    {
     "name": "stderr",
     "output_type": "stream",
     "text": [
      "2025-07-24 16:50:30,920 - bill_parser_engine.core.reference_resolver.pipeline - INFO - Loaded legislative text: 9991 characters\n",
      "2025-07-24 16:50:30,920 - bill_parser_engine.core.reference_resolver.pipeline - INFO - Loaded legislative text from file: /Users/duphan/Projects/bill-parser-engine/data/legal_bill/sampled_legislative_bill.md\n"
     ]
    }
   ],
   "source": [
    "pipeline.load_legislative_text_from_file(bill_file)"
   ]
  },
  {
   "cell_type": "code",
   "execution_count": 5,
   "id": "04e99f2c-c476-44ed-aafa-3cd7f55d8893",
   "metadata": {
    "scrolled": true
   },
   "outputs": [
    {
     "name": "stderr",
     "output_type": "stream",
     "text": [
      "2025-07-24 16:50:30,930 - bill_parser_engine.core.reference_resolver.cache_manager - INFO - Cleared 18 Mistral API cache entries for component 'reference_locator'\n",
      "2025-07-24 16:50:30,930 - bill_parser_engine.core.reference_resolver.pipeline - INFO - Cleared 18 Mistral API cache entries for component 'reference_locator'\n",
      "2025-07-24 16:50:30,931 - bill_parser_engine.core.reference_resolver.pipeline - INFO - Cleared 0 Mistral API cache entries for component 'reference_object_linker'\n"
     ]
    },
    {
     "data": {
      "text/plain": [
       "0"
      ]
     },
     "execution_count": 5,
     "metadata": {},
     "output_type": "execute_result"
    }
   ],
   "source": [
    "#pipeline.clear_component_cache('target_identifier')\n",
    "#pipeline.clear_component_cache(\"original_text_retriever\")\n",
    "#pipeline.clear_cache(\"legal_amendment_reconstructor_focused\")\n",
    "# Clear cache for all components that are part of the reconstruction process\n",
    "#pipeline.clear_cache(\"instruction_decomposer\")\n",
    "#pipeline.clear_cache(\"operation_applier\") \n",
    "#pipeline.clear_cache(\"result_validator\")\n",
    "\n",
    "pipeline.clear_cache(\"reference_locator\")\n",
    "pipeline.clear_cache('reference_object_linker')"
   ]
  },
  {
   "cell_type": "code",
   "execution_count": null,
   "id": "9d90e43e-27ec-4cbd-b495-74aae6059c5b",
   "metadata": {},
   "outputs": [],
   "source": []
  },
  {
   "cell_type": "code",
   "execution_count": 6,
   "id": "0407538d-4c0b-4c04-aa5c-7863ebc76211",
   "metadata": {},
   "outputs": [
    {
     "name": "stderr",
     "output_type": "stream",
     "text": [
      "2025-07-24 16:50:30,937 - bill_parser_engine.core.reference_resolver.pipeline - INFO - Step 1: Splitting legislative bill into chunks...\n",
      "2025-07-24 16:50:30,943 - bill_parser_engine.core.reference_resolver.pipeline - INFO - Split into 22 chunks\n"
     ]
    }
   ],
   "source": [
    "chunks = pipeline.step_1_split_bill()"
   ]
  },
  {
   "cell_type": "code",
   "execution_count": 7,
   "id": "ec453d5b-2531-46b0-9dc4-cbf881cb657f",
   "metadata": {},
   "outputs": [
    {
     "data": {
      "text/plain": [
       "BillChunk(text=\"a) Au premier alinéa, les mots : « , et notamment la désignation de l'autorité administrative, les conditions de délivrance, de renouvellement, de suspension, de modulation et de retrait des agréments, des certificats ainsi que des habilitations des organismes » sont supprimés ;\", titre_text='# TITRE Iᴱᴿ', article_label='Article 1ᵉʳ', article_introductory_phrase='Le code rural et de la pêche maritime est ainsi modifié :', major_subdivision_label=None, major_subdivision_introductory_phrase=None, numbered_point_label='6°', numbered_point_introductory_phrase=\"L'article L. 254-7-1 est ainsi modifié :\", lettered_subdivision_label='a)', hierarchy_path=['# TITRE Iᴱᴿ', 'Article 1ᵉʳ', '6°', 'a)'], chunk_id='# TITRE Iᴱᴿ::Article 1ᵉʳ::6°::a)', start_pos=6886, end_pos=7171, target_article=None, inherited_target_article=TargetArticle(operation_type=<TargetOperationType.MODIFY: 'MODIFY'>, code='code rural et de la pêche maritime', article='L. 254-7-1'))"
      ]
     },
     "execution_count": 7,
     "metadata": {},
     "output_type": "execute_result"
    }
   ],
   "source": [
    "chunks[15]"
   ]
  },
  {
   "cell_type": "code",
   "execution_count": null,
   "id": "04baef71-2665-46ab-bc60-1991f87fd8d2",
   "metadata": {},
   "outputs": [],
   "source": []
  },
  {
   "cell_type": "code",
   "execution_count": 8,
   "id": "0ab01680-0e0a-4acf-b0aa-2274d88b1d76",
   "metadata": {
    "scrolled": true
   },
   "outputs": [
    {
     "name": "stderr",
     "output_type": "stream",
     "text": [
      "2025-07-24 16:50:30,953 - bill_parser_engine.core.reference_resolver.pipeline - INFO - Step 2: Identifying target articles for 22 chunks...\n",
      "2025-07-24 16:50:30,963 - bill_parser_engine.core.reference_resolver.pipeline - INFO - Target identification complete: 14 unique articles identified\n"
     ]
    },
    {
     "name": "stdout",
     "output_type": "stream",
     "text": [
      "✓ Using cached result for TargetArticleIdentifier\n",
      "✓ Using cached result for TargetArticleIdentifier\n",
      "✓ Using cached result for TargetArticleIdentifier\n",
      "✓ Using cached result for TargetArticleIdentifier\n",
      "✓ Using cached result for TargetArticleIdentifier\n",
      "✓ Using cached result for TargetArticleIdentifier\n",
      "✓ Using cached result for TargetArticleIdentifier\n",
      "✓ Using cached result for TargetArticleIdentifier\n",
      "✓ Using cached result for TargetArticleIdentifier\n",
      "✓ Using cached result for TargetArticleIdentifier\n",
      "✓ Using cached result for TargetArticleIdentifier\n",
      "✓ Using cached result for TargetArticleIdentifier\n",
      "✓ Using cached result for TargetArticleIdentifier\n",
      "✓ Using cached result for TargetArticleIdentifier\n",
      "✓ Using cached result for TargetArticleIdentifier\n",
      "✓ Using cached result for TargetArticleIdentifier\n",
      "✓ Using cached result for TargetArticleIdentifier\n",
      "✓ Using cached result for TargetArticleIdentifier\n",
      "✓ Using cached result for TargetArticleIdentifier\n",
      "✓ Using cached result for TargetArticleIdentifier\n",
      "✓ Using cached result for TargetArticleIdentifier\n",
      "✓ Using cached result for TargetArticleIdentifier\n"
     ]
    }
   ],
   "source": [
    "target_results = pipeline.step_2_identify_target_articles()"
   ]
  },
  {
   "cell_type": "code",
   "execution_count": null,
   "id": "7e2f0738-2632-4af0-98e0-fc9a89cc0851",
   "metadata": {},
   "outputs": [],
   "source": []
  },
  {
   "cell_type": "code",
   "execution_count": null,
   "id": "57386240-d99c-42f9-a1f3-00c1942d7302",
   "metadata": {},
   "outputs": [],
   "source": []
  },
  {
   "cell_type": "code",
   "execution_count": 9,
   "id": "91a93a73-30f3-4881-8bc6-43c001c854cf",
   "metadata": {
    "scrolled": true
   },
   "outputs": [
    {
     "data": {
      "text/plain": [
       "[{'chunk_id': '# TITRE Iᴱᴿ::Article 1ᵉʳ::2°::a)',\n",
       "  'chunk_text_preview': 'a) Au 3° du II, les mots : « prévu aux articles L. 254-6-2 et L. 254-6-3 » sont remplacés par les mo...',\n",
       "  'hierarchy_path': ['# TITRE Iᴱᴿ', 'Article 1ᵉʳ', '2°', 'a)'],\n",
       "  'target_article': {'operation_type': 'MODIFY',\n",
       "   'code': 'code rural et de la pêche maritime',\n",
       "   'article': 'L. 254-1',\n",
       "   'full_citation': 'code rural et de la pêche maritime::L. 254-1',\n",
       "   'confidence': 1.0,\n",
       "   'raw_text': 'a) Au 3° du II, les mots : « prévu aux articles L....'}},\n",
       " {'chunk_id': '# TITRE Iᴱᴿ::Article 1ᵉʳ::2°::b)',\n",
       "  'chunk_text_preview': \"b) Le VI est ainsi rédigé : « VI. – L'exercice de l'activité de conseil mentionnée au 3° du II est i...\",\n",
       "  'hierarchy_path': ['# TITRE Iᴱᴿ', 'Article 1ᵉʳ', '2°', 'b)'],\n",
       "  'target_article': {'operation_type': 'MODIFY',\n",
       "   'code': 'code rural et de la pêche maritime',\n",
       "   'article': 'L. 254-1',\n",
       "   'full_citation': 'code rural et de la pêche maritime::L. 254-1',\n",
       "   'confidence': 1.0,\n",
       "   'raw_text': \"b) Le VI est ainsi rédigé : « VI. – L'exercice de ...\"}},\n",
       " {'chunk_id': '# TITRE Iᴱᴿ::Article 1ᵉʳ::3° bis::a)',\n",
       "  'chunk_text_preview': 'a) Le I est ainsi modifié : à la fin du 1°, les mots : « mentionnée aux 1° ou 2° du même II ou au IV...',\n",
       "  'hierarchy_path': ['# TITRE Iᴱᴿ', 'Article 1ᵉʳ', '3° bis', 'a)'],\n",
       "  'target_article': {'operation_type': 'MODIFY',\n",
       "   'code': 'code rural et de la pêche maritime',\n",
       "   'article': 'L. 254-1',\n",
       "   'full_citation': 'code rural et de la pêche maritime::L. 254-1',\n",
       "   'confidence': 1.0,\n",
       "   'raw_text': 'a) Le I est ainsi modifié : à la fin du 1°, les mo...'}},\n",
       " {'chunk_id': '# TITRE Iᴱᴿ::Article 1ᵉʳ::3° bis::b)',\n",
       "  'chunk_text_preview': 'b) Le II est ainsi modifié : à la fin du 1°, les mots : « mentionnée aux 1° ou 2° du même II ou au I...',\n",
       "  'hierarchy_path': ['# TITRE Iᴱᴿ', 'Article 1ᵉʳ', '3° bis', 'b)'],\n",
       "  'target_article': {'operation_type': 'MODIFY',\n",
       "   'code': 'code rural et de la pêche maritime',\n",
       "   'article': 'L. 254-1-1',\n",
       "   'full_citation': 'code rural et de la pêche maritime::L. 254-1-1',\n",
       "   'confidence': 1.0,\n",
       "   'raw_text': 'b) Le II est ainsi modifié : à la fin du 1°, les m...'}},\n",
       " {'chunk_id': '# TITRE Iᴱᴿ::Article 1ᵉʳ::3° ter::a)',\n",
       "  'chunk_text_preview': 'a) Le premier alinéa est ainsi modifié : les mots : « mentionnée aux 1° ou 2° du même II ou au IV du...',\n",
       "  'hierarchy_path': ['# TITRE Iᴱᴿ', 'Article 1ᵉʳ', '3° ter', 'a)'],\n",
       "  'target_article': {'operation_type': 'MODIFY',\n",
       "   'code': 'code rural et de la pêche maritime',\n",
       "   'article': 'L. 254-1-2',\n",
       "   'full_citation': 'code rural et de la pêche maritime::L. 254-1-2',\n",
       "   'confidence': 1.0,\n",
       "   'raw_text': 'a) Le premier alinéa est ainsi modifié : les mots ...'}},\n",
       " {'chunk_id': '# TITRE Iᴱᴿ::Article 1ᵉʳ::3° ter::b)',\n",
       "  'chunk_text_preview': 'b) Le second alinéa est supprimé ;',\n",
       "  'hierarchy_path': ['# TITRE Iᴱᴿ', 'Article 1ᵉʳ', '3° ter', 'b)'],\n",
       "  'target_article': {'operation_type': 'MODIFY',\n",
       "   'code': 'code rural et de la pêche maritime',\n",
       "   'article': 'L. 254-1-2',\n",
       "   'full_citation': 'code rural et de la pêche maritime::L. 254-1-2',\n",
       "   'confidence': 1.0,\n",
       "   'raw_text': 'b) Le second alinéa est supprimé ;'}},\n",
       " {'chunk_id': '# TITRE Iᴱᴿ::Article 1ᵉʳ::3° quater::a)',\n",
       "  'chunk_text_preview': 'a) À la fin du I, les mots : « mentionnée aux 1° ou 2° du même II ou au IV de ce même article » sont...',\n",
       "  'hierarchy_path': ['# TITRE Iᴱᴿ', 'Article 1ᵉʳ', '3° quater', 'a)'],\n",
       "  'target_article': {'operation_type': 'MODIFY',\n",
       "   'code': 'code rural et de la pêche maritime',\n",
       "   'article': 'L. 254-1',\n",
       "   'full_citation': 'code rural et de la pêche maritime::L. 254-1',\n",
       "   'confidence': 1.0,\n",
       "   'raw_text': 'a) À la fin du I, les mots : « mentionnée aux 1° o...'}},\n",
       " {'chunk_id': '# TITRE Iᴱᴿ::Article 1ᵉʳ::3° quater::b)',\n",
       "  'chunk_text_preview': 'b) À la fin du II, les mots : « les activités mentionnées aux 1° ou 2° du même II ou au IV du même a...',\n",
       "  'hierarchy_path': ['# TITRE Iᴱᴿ', 'Article 1ᵉʳ', '3° quater', 'b)'],\n",
       "  'target_article': {'operation_type': 'MODIFY',\n",
       "   'code': 'code rural et de la pêche maritime',\n",
       "   'article': 'L. 254-1-3',\n",
       "   'full_citation': 'code rural et de la pêche maritime::L. 254-1-3',\n",
       "   'confidence': 1.0,\n",
       "   'raw_text': 'b) À la fin du II, les mots : « les activités ment...'}},\n",
       " {'chunk_id': '# TITRE Iᴱᴿ::Article 1ᵉʳ::4°::a)',\n",
       "  'chunk_text_preview': 'a) Les mots : « aux 1° et 2° » sont remplacés par les mots : « au 1° » ;',\n",
       "  'hierarchy_path': ['# TITRE Iᴱᴿ', 'Article 1ᵉʳ', '4°', 'a)'],\n",
       "  'target_article': {'operation_type': 'MODIFY',\n",
       "   'code': 'code rural et de la pêche maritime',\n",
       "   'article': 'L. 254-2',\n",
       "   'full_citation': 'code rural et de la pêche maritime::L. 254-2',\n",
       "   'confidence': 1.0,\n",
       "   'raw_text': 'a) Les mots : « aux 1° et 2° » sont remplacés par ...'}},\n",
       " {'chunk_id': '# TITRE Iᴱᴿ::Article 1ᵉʳ::4°::b)',\n",
       "  'chunk_text_preview': 'b) (nouveau) Après la seconde occurrence de la référence : « 2° », sont insérés les mots : « du prés...',\n",
       "  'hierarchy_path': ['# TITRE Iᴱᴿ', 'Article 1ᵉʳ', '4°', 'b)'],\n",
       "  'target_article': {'operation_type': 'INSERT',\n",
       "   'code': 'code rural et de la pêche maritime',\n",
       "   'article': 'L. 254-2',\n",
       "   'full_citation': 'code rural et de la pêche maritime::L. 254-2',\n",
       "   'confidence': 1.0,\n",
       "   'raw_text': 'b) (nouveau) Après la seconde occurrence de la réf...'}},\n",
       " {'chunk_id': '# TITRE Iᴱᴿ::Article 1ᵉʳ::5° bis',\n",
       "  'chunk_text_preview': '5° bis Les articles L. 254-6-2 et L. 254-6-3 sont abrogés ;',\n",
       "  'hierarchy_path': ['# TITRE Iᴱᴿ', 'Article 1ᵉʳ', '5° bis'],\n",
       "  'target_article': {'operation_type': 'ABROGATE',\n",
       "   'code': 'code rural et de la pêche maritime',\n",
       "   'article': 'L. 254-6-2',\n",
       "   'full_citation': 'code rural et de la pêche maritime::L. 254-6-2',\n",
       "   'confidence': 1.0,\n",
       "   'raw_text': '5° bis Les articles L. 254-6-2 et L. 254-6-3 sont ...'}},\n",
       " {'chunk_id': '# TITRE Iᴱᴿ::Article 1ᵉʳ::5° ter::a)',\n",
       "  'chunk_text_preview': 'a) Le premier alinéa est remplacé par deux alinéas ainsi rédigés : « I. – Le conseil mentionné au 3°...',\n",
       "  'hierarchy_path': ['# TITRE Iᴱᴿ', 'Article 1ᵉʳ', '5° ter', 'a)'],\n",
       "  'target_article': {'operation_type': 'MODIFY',\n",
       "   'code': 'code rural et de la pêche maritime',\n",
       "   'article': 'L. 254-6-4',\n",
       "   'full_citation': 'code rural et de la pêche maritime::L. 254-6-4',\n",
       "   'confidence': 1.0,\n",
       "   'raw_text': 'a) Le premier alinéa est remplacé par deux alinéas...'}},\n",
       " {'chunk_id': '# TITRE Iᴱᴿ::Article 1ᵉʳ::5° ter::b)',\n",
       "  'chunk_text_preview': \"b) Il est ajouté un II ainsi rédigé : « II. – Le conseil stratégique à l'utilisation de produits phy...\",\n",
       "  'hierarchy_path': ['# TITRE Iᴱᴿ', 'Article 1ᵉʳ', '5° ter', 'b)'],\n",
       "  'target_article': {'operation_type': 'INSERT',\n",
       "   'code': 'code rural et de la pêche maritime',\n",
       "   'article': 'L. 254-6-4',\n",
       "   'full_citation': 'code rural et de la pêche maritime::L. 254-6-4',\n",
       "   'confidence': 1.0,\n",
       "   'raw_text': 'b) Il est ajouté un II ainsi rédigé : « II. – Le c...'}},\n",
       " {'chunk_id': '# TITRE Iᴱᴿ::Article 1ᵉʳ::5° quater',\n",
       "  'chunk_text_preview': \"5° quater (nouveau) Le IV de l'article L. 254-3 est complété par une phrase ainsi rédigée : « Pour l...\",\n",
       "  'hierarchy_path': ['# TITRE Iᴱᴿ', 'Article 1ᵉʳ', '5° quater'],\n",
       "  'target_article': {'operation_type': 'MODIFY',\n",
       "   'code': 'code rural et de la pêche maritime',\n",
       "   'article': 'L. 254-3',\n",
       "   'full_citation': 'code rural et de la pêche maritime::L. 254-3',\n",
       "   'confidence': 1.0,\n",
       "   'raw_text': \"5° quater (nouveau) Le IV de l'article L. 254-3 es...\"}},\n",
       " {'chunk_id': '# TITRE Iᴱᴿ::Article 1ᵉʳ::5° quinquies',\n",
       "  'chunk_text_preview': \"5° quinquies (nouveau) Au premier alinéa de l'article L. 254-7, les mots : « notamment la cible, la ...\",\n",
       "  'hierarchy_path': ['# TITRE Iᴱᴿ', 'Article 1ᵉʳ', '5° quinquies'],\n",
       "  'target_article': {'operation_type': 'MODIFY',\n",
       "   'code': 'code rural et de la pêche maritime',\n",
       "   'article': 'L. 254-7',\n",
       "   'full_citation': 'code rural et de la pêche maritime::L. 254-7',\n",
       "   'confidence': 1.0,\n",
       "   'raw_text': \"5° quinquies (nouveau) Au premier alinéa de l'arti...\"}},\n",
       " {'chunk_id': '# TITRE Iᴱᴿ::Article 1ᵉʳ::6°::a)',\n",
       "  'chunk_text_preview': \"a) Au premier alinéa, les mots : « , et notamment la désignation de l'autorité administrative, les c...\",\n",
       "  'hierarchy_path': ['# TITRE Iᴱᴿ', 'Article 1ᵉʳ', '6°', 'a)'],\n",
       "  'target_article': {'operation_type': 'MODIFY',\n",
       "   'code': 'code rural et de la pêche maritime',\n",
       "   'article': 'L. 254-7-1',\n",
       "   'full_citation': 'code rural et de la pêche maritime::L. 254-7-1',\n",
       "   'confidence': 1.0,\n",
       "   'raw_text': 'a) Au premier alinéa, les mots : « , et notamment ...'}},\n",
       " {'chunk_id': '# TITRE Iᴱᴿ::Article 1ᵉʳ::6°::b)',\n",
       "  'chunk_text_preview': 'b) Le second alinéa est ainsi modifié : à la première phrase, après le mot : « prévoit », il est ins...',\n",
       "  'hierarchy_path': ['# TITRE Iᴱᴿ', 'Article 1ᵉʳ', '6°', 'b)'],\n",
       "  'target_article': {'operation_type': 'MODIFY',\n",
       "   'code': 'code rural et de la pêche maritime',\n",
       "   'article': 'L. 254-7-1',\n",
       "   'full_citation': 'code rural et de la pêche maritime::L. 254-7-1',\n",
       "   'confidence': 1.0,\n",
       "   'raw_text': 'b) Le second alinéa est ainsi modifié : à la premi...'}},\n",
       " {'chunk_id': '# TITRE Iᴱᴿ::Article 1ᵉʳ::6° bis::a)',\n",
       "  'chunk_text_preview': 'a) À la fin de la première phrase du premier alinéa du I, les mots : « auprès desquelles la redevanc...',\n",
       "  'hierarchy_path': ['# TITRE Iᴱᴿ', 'Article 1ᵉʳ', '6° bis', 'a)'],\n",
       "  'target_article': {'operation_type': 'MODIFY',\n",
       "   'code': 'code rural et de la pêche maritime',\n",
       "   'article': 'L. 254-10-1',\n",
       "   'full_citation': 'code rural et de la pêche maritime::L. 254-10-1',\n",
       "   'confidence': 1.0,\n",
       "   'raw_text': 'a) À la fin de la première phrase du premier aliné...'}},\n",
       " {'chunk_id': '# TITRE Iᴱᴿ::Article 1ᵉʳ::6° bis::b)',\n",
       "  'chunk_text_preview': 'b) Au premier alinéa du II, les mots : « pour les périodes du 1er janvier 2020 au 31 décembre 2020 e...',\n",
       "  'hierarchy_path': ['# TITRE Iᴱᴿ', 'Article 1ᵉʳ', '6° bis', 'b)'],\n",
       "  'target_article': {'operation_type': 'MODIFY',\n",
       "   'code': 'code rural et de la pêche maritime',\n",
       "   'article': 'L. 254-10-1',\n",
       "   'full_citation': 'code rural et de la pêche maritime::L. 254-10-1',\n",
       "   'confidence': 1.0,\n",
       "   'raw_text': 'b) Au premier alinéa du II, les mots : « pour les ...'}},\n",
       " {'chunk_id': '# TITRE Iᴱᴿ::Article 1ᵉʳ::6° ter',\n",
       "  'chunk_text_preview': \"6° ter À la fin du premier alinéa du I de l'article L. 254-12, le montant : « 15 000 € » est remplac...\",\n",
       "  'hierarchy_path': ['# TITRE Iᴱᴿ', 'Article 1ᵉʳ', '6° ter'],\n",
       "  'target_article': {'operation_type': 'MODIFY',\n",
       "   'code': 'code rural et de la pêche maritime',\n",
       "   'article': 'L. 254-12',\n",
       "   'full_citation': 'code rural et de la pêche maritime::L. 254-12',\n",
       "   'confidence': 1.0,\n",
       "   'raw_text': \"6° ter À la fin du premier alinéa du I de l'articl...\"}},\n",
       " {'chunk_id': '# TITRE Iᴱᴿ::Article 1ᵉʳ::8°',\n",
       "  'chunk_text_preview': '8° Le titre Ier du livre III est complété par un chapitre VI ainsi rédigé :\\n\\n    « CHAPITRE VI\\n\\n    ...',\n",
       "  'hierarchy_path': ['# TITRE Iᴱᴿ', 'Article 1ᵉʳ', '8°'],\n",
       "  'target_article': {'operation_type': 'INSERT',\n",
       "   'code': 'code rural et de la pêche maritime',\n",
       "   'article': 'L. 316-1',\n",
       "   'full_citation': 'code rural et de la pêche maritime::L. 316-1',\n",
       "   'confidence': 1.0,\n",
       "   'raw_text': '8° Le titre Ier du livre III est complété par un c...'}},\n",
       " {'chunk_id': '# TITRE Iᴱᴿ::Article 1ᵉʳ::9°',\n",
       "  'chunk_text_preview': \"9° (nouveau) À la seconde phrase de l'article L. 510-2, les mots : « les modalités d'application du ...\",\n",
       "  'hierarchy_path': ['# TITRE Iᴱᴿ', 'Article 1ᵉʳ', '9°'],\n",
       "  'target_article': {'operation_type': 'MODIFY',\n",
       "   'code': 'code rural et de la pêche maritime',\n",
       "   'article': 'L. 510-2',\n",
       "   'full_citation': 'code rural et de la pêche maritime::L. 510-2',\n",
       "   'confidence': 1.0,\n",
       "   'raw_text': \"9° (nouveau) À la seconde phrase de l'article L. 5...\"}}]"
      ]
     },
     "execution_count": 9,
     "metadata": {},
     "output_type": "execute_result"
    }
   ],
   "source": [
    "target_results"
   ]
  },
  {
   "cell_type": "code",
   "execution_count": 10,
   "id": "f3612311-5c8f-44a7-856b-1fa4223d66a2",
   "metadata": {
    "scrolled": true
   },
   "outputs": [],
   "source": [
    "weird_issues = []\n",
    "for res in target_results:\n",
    "    if res.get('target_article').get('code') is None: \n",
    "        print(res)\n",
    "        weird_issues.append(res)\n",
    "        print('----')"
   ]
  },
  {
   "cell_type": "code",
   "execution_count": 11,
   "id": "111a22df-f7af-486d-b4ae-61684cdad22b",
   "metadata": {},
   "outputs": [
    {
     "data": {
      "text/plain": [
       "0"
      ]
     },
     "execution_count": 11,
     "metadata": {},
     "output_type": "execute_result"
    }
   ],
   "source": [
    "len(weird_issues)"
   ]
  },
  {
   "cell_type": "code",
   "execution_count": 12,
   "id": "e6e3bd21-42b1-45eb-98eb-9ab1b8be4351",
   "metadata": {},
   "outputs": [
    {
     "data": {
      "text/plain": [
       "22"
      ]
     },
     "execution_count": 12,
     "metadata": {},
     "output_type": "execute_result"
    }
   ],
   "source": [
    "len(target_results)"
   ]
  },
  {
   "cell_type": "code",
   "execution_count": null,
   "id": "7e9fb145-edff-4e6f-809b-984a60957308",
   "metadata": {},
   "outputs": [],
   "source": []
  },
  {
   "cell_type": "code",
   "execution_count": 13,
   "id": "acc690a4-8432-44a0-b136-16aff81e0e13",
   "metadata": {
    "scrolled": true
   },
   "outputs": [
    {
     "name": "stderr",
     "output_type": "stream",
     "text": [
      "2025-07-24 16:50:30,991 - bill_parser_engine.core.reference_resolver.pipeline - INFO - Step 3: Retrieving original text for target articles...\n",
      "2025-07-24 16:50:30,993 - bill_parser_engine.core.reference_resolver.original_text_retriever - INFO - ✓ Retrieved article L. 254-1 from cache\n",
      "2025-07-24 16:50:30,994 - bill_parser_engine.core.reference_resolver.original_text_retriever - INFO - ✓ Retrieved article L. 254-1-1 from cache\n",
      "2025-07-24 16:50:30,995 - bill_parser_engine.core.reference_resolver.original_text_retriever - INFO - ✓ Retrieved article L. 254-1-2 from cache\n",
      "2025-07-24 16:50:30,996 - bill_parser_engine.core.reference_resolver.original_text_retriever - INFO - ✓ Retrieved article L. 254-1-3 from cache\n",
      "2025-07-24 16:50:30,996 - bill_parser_engine.core.reference_resolver.original_text_retriever - INFO - ✓ Retrieved article L. 254-2 from cache\n",
      "2025-07-24 16:50:30,997 - bill_parser_engine.core.reference_resolver.original_text_retriever - INFO - ✓ Retrieved article L. 254-6-2 from cache\n",
      "2025-07-24 16:50:30,998 - bill_parser_engine.core.reference_resolver.original_text_retriever - INFO - ✓ Retrieved article L. 254-6-4 from cache\n",
      "2025-07-24 16:50:30,998 - bill_parser_engine.core.reference_resolver.original_text_retriever - INFO - ✓ Retrieved article L. 254-3 from cache\n",
      "2025-07-24 16:50:30,999 - bill_parser_engine.core.reference_resolver.original_text_retriever - INFO - ✓ Retrieved article L. 254-7 from cache\n",
      "2025-07-24 16:50:31,000 - bill_parser_engine.core.reference_resolver.original_text_retriever - INFO - ✓ Retrieved article L. 254-7-1 from cache\n",
      "2025-07-24 16:50:31,000 - bill_parser_engine.core.reference_resolver.original_text_retriever - INFO - ✓ Retrieved article L. 254-10-1 from cache\n",
      "2025-07-24 16:50:31,001 - bill_parser_engine.core.reference_resolver.original_text_retriever - INFO - ✓ Retrieved article L. 254-12 from cache\n",
      "2025-07-24 16:50:31,001 - bill_parser_engine.core.reference_resolver.original_text_retriever - INFO - ✓ Retrieved article L. 510-2 from cache\n",
      "2025-07-24 16:50:31,001 - bill_parser_engine.core.reference_resolver.pipeline - INFO - Original text retrieval complete: 14/14 successful retrievals\n"
     ]
    },
    {
     "data": {
      "text/plain": [
       "[{'article_key': 'code rural et de la pêche maritime::L. 254-1',\n",
       "  'code': 'code rural et de la pêche maritime',\n",
       "  'article': 'L. 254-1',\n",
       "  'operation_type': 'MODIFY',\n",
       "  'original_text': \"I.-Les produits phytopharmaceutiques mentionnés au présent chapitre sont ceux définis au 1 de l'article 2 du règlement (CE) n° 1107/2009. II.-Est subordonné à la détention d'un agrément l'exercice des activités suivantes : 1° La mise en vente, la vente ou la distribution à titre gratuit des produits phytopharmaceutiques aux utilisateurs de ces produits ou aux personnes physiques ou morales agissant pour leur compte, y compris les groupements d'achats ; 2° L'application, en qualité de prestataire de services, des produits phytopharmaceutiques, sauf si elle est effectuée dans le cadre de contrats d'entraide à titre gratuit au sens de l'article L. 325-1 ou par un exploitant agricole titulaire du certificat mentionné au II de l'article L. 254-3 sur des exploitations dont la surface agricole utile est inférieure ou égale à la surface définie en application du premier alinéa du V de l'article L. 732-39 , ou si les produits appliqués sont des produits de biocontrôle définis à l'article L. 253-6 et ne faisant pas l'objet d'une classification mentionnée à l'article L. 253-4 ou si ces produits sont des produits à faible risque au sens de l'article 47 du règlement (CE) n° 1107/2009 du 21 octobre 2009 ou s'ils sont uniquement composés de substances de base au sens de l'article 23 du même règlement. 3° Le conseil prévu aux articles L. 254-6-2 et L. 254-6-3, lorsque cette activité s'exerce à titre professionnel. III.-Lorsque l'agrément est délivré à une personne morale, il l'est pour l'activité de l'ensemble de ses établissements ainsi que, si elle en fait la demande, pour l'activité d'établissements d'autres personnes morales au sein desquelles elle détient une participation financière, ou au bénéfice desquelles elle gère des services communs. Pour l'application du présent chapitre l'ensemble des établissements pour lesquels une entreprise sollicite un agrément sont regardés comme ses établissements. IV.-Les personnes qui mettent des produits phytopharmaceutiques sur le marché autres que celles exerçant les activités mentionnées au 1° du II justifient de l'obtention d'un certificat attestant qu'elles ont acquis les connaissances appropriées à leurs rôle et responsabilités ou de l'emploi d'une personne détenant ce certificat. V.-Les détenteurs de l'agrément mentionné au II, les personnes mentionnées au IV du présent article et les personnes physiques mentionnées au II de l'article L. 254-3 doivent concourir, dans le cadre de leurs activités, à la réalisation des objectifs du plan d'action national prévu à l'article L. 253-6, notamment par la mise en œuvre de la lutte intégrée contre les ennemis des cultures. VI.-L'exercice de l'activité de conseil mentionnée au 3° du II est incompatible avec celui des activités mentionnées aux 1° ou 2° du II ou au IV. Toutefois, cette incompatibilité ne fait pas obstacle à ce que les personnes exerçant les activités mentionnées au 1° du II délivrent les informations énumérées au premier alinéa de l'article L. 254-7, ni à ce qu'elles promeuvent, mettent en place ou facilitent la mise en œuvre des actions tendant à la réduction de l'utilisation de produits phytopharmaceutiques prévues à l'article L. 254-10-1 .\",\n",
       "  'text_length': 3185,\n",
       "  'retrieval_metadata': {'source': 'cache', 'success': True},\n",
       "  'retrieved_at': '2025-07-24T16:50:30.994360'},\n",
       " {'article_key': 'code rural et de la pêche maritime::L. 254-1-1',\n",
       "  'code': 'code rural et de la pêche maritime',\n",
       "  'article': 'L. 254-1-1',\n",
       "  'operation_type': 'MODIFY',\n",
       "  'original_text': \"I.-Ne peut excéder 10 % : 1° La part du capital d'une personne morale exerçant une activité mentionnée au 3° du II de l'article L. 254-1 détenue, directement ou indirectement, par une personne exerçant une activité mentionnée aux 1° ou 2° du même II ou au IV du même article ; 2° La part du capital d'une personne morale exerçant une activité mentionnée aux 1° ou 2° du II ou au IV de l'article L. 254-1 détenue, directement ou indirectement, par une personne exerçant une activité mentionnée au 3° de ce II ; 3° La part détenue, directement ou indirectement, dans le capital des personnes morales exerçant une activité mentionnée, d'une part, au 3° du II de l'article L. 254-1 et, d'autre part, aux 1° ou 2° du même II ou au IV du même article, par un actionnaire ou associé commun, sans que celui-ci puisse être actionnaire majoritaire ou de référence. II.-Ne peut excéder 32 % : 1° La part cumulée du capital d'une personne morale exerçant une activité mentionnée au 3° du II de l'article L. 254-1 détenue, directement ou indirectement, par des personnes exerçant une activité mentionnée aux 1° ou 2° du même II ou au IV du même article ; 2° La part cumulée du capital d'une personne morale exerçant une activité mentionnée aux 1° ou 2° du II ou au IV de l'article L. 254-1 détenue, directement ou indirectement, par des personnes exerçant une activité mentionnée au 3° de ce II. III.-Les seuils mentionnés aux I et II s'appliquent également aux droits de vote.\",\n",
       "  'text_length': 1464,\n",
       "  'retrieval_metadata': {'source': 'cache', 'success': True},\n",
       "  'retrieved_at': '2025-07-24T16:50:30.994969'},\n",
       " {'article_key': 'code rural et de la pêche maritime::L. 254-1-2',\n",
       "  'code': 'code rural et de la pêche maritime',\n",
       "  'article': 'L. 254-1-2',\n",
       "  'operation_type': 'MODIFY',\n",
       "  'original_text': \"Un membre d'un organe de surveillance, d'administration et de direction d'une personne morale exerçant une activité mentionnée au 3° du II de l'article L. 254-1 ne peut être membre d'un de ces mêmes organes d'une personne morale exerçant une activité mentionnée aux 1° ou 2° du même II ou au IV du même article et un membre d'un organe de surveillance, d'administration et de direction d'une personne morale exerçant une activité mentionnée aux 1° ou 2° de ce II ou à ce IV de ce même article ne peut être membre d'un de ces mêmes organes d'une personne morale exerçant une activité mentionnée au 3° de ce II. Toutefois, une personne membre d'un organe de surveillance, d'administration ou de direction d'une personne morale exerçant une activité mentionnée aux 1° ou 2° du II de l'article L. 254-1 peut détenir, dans un établissement mentionné à l' article L. 510-1 bénéficiant d'un agrément pour les activités mentionnées au 3° du II de l'article L. 254-1, un mandat de président, de membre du bureau ou de membre du conseil d'administration de Chambres d'agriculture France. Cette personne ne participe ni aux travaux ni aux délibérations concernant l'activité de conseil à l'utilisation de produits phytopharmaceutiques.\",\n",
       "  'text_length': 1224,\n",
       "  'retrieval_metadata': {'source': 'cache', 'success': True},\n",
       "  'retrieved_at': '2025-07-24T16:50:30.995801'},\n",
       " {'article_key': 'code rural et de la pêche maritime::L. 254-1-3',\n",
       "  'code': 'code rural et de la pêche maritime',\n",
       "  'article': 'L. 254-1-3',\n",
       "  'operation_type': 'MODIFY',\n",
       "  'original_text': \"I.-Une personne physique exerçant une activité mentionnée au 3° du II de l'article L. 254-1 ne peut être également employée par une personne exerçant une activité mentionnée aux 1° ou 2° du même II ou au IV de ce même article. II.-L'activité mentionnée au 3° du II de l'article L. 254-1 ne peut pas être rémunérée par des personnes exerçant les activités mentionnées aux 1° ou 2° du même II ou au IV du même article.\",\n",
       "  'text_length': 416,\n",
       "  'retrieval_metadata': {'source': 'cache', 'success': True},\n",
       "  'retrieved_at': '2025-07-24T16:50:30.996441'},\n",
       " {'article_key': 'code rural et de la pêche maritime::L. 254-2',\n",
       "  'code': 'code rural et de la pêche maritime',\n",
       "  'article': 'L. 254-2',\n",
       "  'operation_type': 'MODIFY',\n",
       "  'original_text': \"I.-L'agrément est délivré par l'autorité administrative à toute personne physique ou morale qui en fait la demande et qui justifie : 1° De la souscription d'une police d'assurance couvrant sa responsabilité civile professionnelle ; 2° De la certification par un organisme tiers, reconnu par l'autorité administrative, qu'elle exerce son activité dans des conditions garantissant la protection de la santé publique et de l'environnement ainsi que la bonne information de l'utilisateur et qu'elle respecte les dispositions des articles L. 254-1-1 à L. 254-1-3 ; 3° De la conclusion avec un organisme tiers, reconnu par l'autorité administrative, d'un contrat prévoyant le suivi nécessaire au maintien de la certification. Pour les personnes agréées au titre des activités mentionnées aux 1° et 2° du II de l'article L. 254-1 , la certification mentionnée au 2° garantit qu'elles ont mis en œuvre les moyens nécessaires pour satisfaire aux obligations mentionnées à l'article L. 254-10-1 . Pour les personnes agréées au titre des activités mentionnées au 3° du II de l'article L. 254-1, la certification mentionnée au 2° garantit leur contribution effective, dans les conditions prévues à l'article L. 254-6-4, aux objectifs du plan mentionné à l'article L. 253-6 et au dispositif des certificats d'économie des produits phytopharmaceutiques prévu à l'article L. 254-10. II.-Les personnes qui débutent leur activité sollicitent un agrément provisoire pour son exercice. Cet agrément provisoire est délivré par l'autorité administrative, pour une durée de six mois non renouvelable, si le demandeur justifie du respect des conditions prévues aux 1° et 3° du I et de l'obtention de l'avis favorable d'un organisme tiers tel que mentionné au 2° du I.\",\n",
       "  'text_length': 1744,\n",
       "  'retrieval_metadata': {'source': 'cache', 'success': True},\n",
       "  'retrieved_at': '2025-07-24T16:50:30.997016'},\n",
       " {'article_key': 'code rural et de la pêche maritime::L. 254-6-2',\n",
       "  'code': 'code rural et de la pêche maritime',\n",
       "  'article': 'L. 254-6-2',\n",
       "  'operation_type': 'ABROGATE',\n",
       "  'original_text': \"I.-Le conseil stratégique à l'utilisation de produits phytopharmaceutiques a pour objet de fournir aux décideurs des entreprises utilisatrices de produits phytopharmaceutiques non soumises à l'un des agréments prévus à l'article L. 254-1 , les éléments leur permettant de définir une stratégie pour la protection des végétaux ou pour tout autre usage prévu au 1 de l'article 2 du règlement (CE) n° 1107/2009 du Parlement européen et du Conseil du 21 octobre 2009 pouvant nécessiter le recours à des produits phytopharmaceutiques. Il est fondé sur un diagnostic comportant une analyse des spécificités pédo-climatiques, sanitaires et environnementales des espaces concernés. Pour les exploitations agricoles, ce diagnostic prend également en compte l'organisation et la situation économique de l'exploitation et comporte une analyse des moyens humains et matériels disponibles, ainsi que des cultures et des précédents culturaux et de l'évolution des pratiques phytosanitaires. Le diagnostic est périodiquement actualisé. Chacune de ses versions est conservée par l'utilisateur et par la personne agréée qui l'a établi pendant une durée fixée par décret dans la limite de dix ans. II.-Le conseil stratégique à l'utilisation de produits phytopharmaceutiques est formalisé par écrit. Il est conservé par l'utilisateur et par la personne agréée qui l'a délivré pendant une durée fixée par décret dans la limite de dix ans. Dans toute entreprise utilisatrice de produits phytopharmaceutiques non soumise à l'un des agréments prévus à l'article L. 254-1, toute personne qui décide des traitements phytopharmaceutiques doit être en mesure de justifier s'être fait délivrer des conseils stratégiques selon une périodicité définie par voie réglementaire, dans la limite maximale de trois ans entre deux conseils. Cette justification est exigée pour le renouvellement du certificat mentionné au II de l'article L. 254-3 dans des conditions fixées par décret. Le contenu du conseil stratégique est allégé et le délai entre deux conseils augmenté, dans des conditions définies par voie réglementaire, pour les utilisateurs professionnels dont les surfaces susceptibles d'être traitées par des produits phytopharmaceutiques sont de dimensions réduites, inférieures à des plafonds déterminés en fonction de la nature des cultures pour les exploitants agricoles et des usages pour les autres utilisateurs. III.-La délivrance du conseil n'est pas requise : 1° Lorsque l'entreprise n'utilise que des produits de biocontrôle figurant sur la liste prévue à l'article L. 253-5 , des produits composés uniquement de substances de base ou des produits à faible risque au sens du règlement (CE) n° 1107/2009 du Parlement européen et du Conseil du 21 octobre 2009 et les produits nécessaires aux traitements prescrits pour lutter contre les organismes figurant sur la liste établie en application de l'article L. 251-3 ; 2° Lorsque l'exploitation agricole au bénéfice de laquelle sont utilisés des produits phytopharmaceutiques est engagée, pour la totalité des surfaces d'exploitation, dans une démarche ou une pratique ayant des incidences favorables sur la réduction de l'usage et des impacts des produits phytopharmaceutiques et figurant sur une liste établie par arrêté conjoint des ministres chargés de l'agriculture et de l'environnement.\",\n",
       "  'text_length': 3321,\n",
       "  'retrieval_metadata': {'source': 'cache', 'success': True},\n",
       "  'retrieved_at': '2025-07-24T16:50:30.998073'},\n",
       " {'article_key': 'code rural et de la pêche maritime::L. 254-6-4',\n",
       "  'code': 'code rural et de la pêche maritime',\n",
       "  'article': 'L. 254-6-4',\n",
       "  'operation_type': 'MODIFY',\n",
       "  'original_text': \"Les conseils mentionnés aux articles L. 254-6-2 et L. 254-6-3 s'inscrivent dans un objectif de réduction de l'usage et des impacts des produits phytopharmaceutiques et respectent les principes généraux de la lutte intégrée contre les ennemis des cultures mentionnée à l'article L. 253-6 . A ce titre, ils privilégient des méthodes alternatives. Si nécessaire, ils recommandent les produits phytopharmaceutiques adaptés. Ils promeuvent les actions mentionnées à l'article L. 254-10-1 . Ils tiennent compte des enjeux environnementaux présents dans l'aire d'activité de l'utilisateur professionnel et des modalités de leur préservation en cas d'utilisation de produits phytopharmaceutiques. Constituent des méthodes alternatives au sens et pour l'application de l'alinéa précédent : 1° Les méthodes non chimiques au sens de l'article 3 du règlement (CE) n° 1107/2009 du Parlement européen et du Conseil du 21 octobre 2009 ; 2° L'utilisation des produits de biocontrôle figurant sur la liste prévue à l'article L. 253-5 ou de produits composés uniquement de substances de base au sens de l'article 23 du règlement (CE) n° 1107/2009 du 21 octobre 2009 ou de produits à faible risque au sens de l'article 47 du même règlement.\",\n",
       "  'text_length': 1221,\n",
       "  'retrieval_metadata': {'source': 'cache', 'success': True},\n",
       "  'retrieved_at': '2025-07-24T16:50:30.998709'},\n",
       " {'article_key': 'code rural et de la pêche maritime::L. 254-3',\n",
       "  'code': 'code rural et de la pêche maritime',\n",
       "  'article': 'L. 254-3',\n",
       "  'operation_type': 'MODIFY',\n",
       "  'original_text': \"I. – L'exercice des fonctions d'encadrement, de vente, d'application ou de conseil par les personnels des entreprises exerçant les activités mentionnées au II de l'article L. 254-1 est soumis à l'obtention d'un certificat délivré par l'autorité administrative ou un organisme qu'elle habilite au vu de leur qualification. Le certificat mentionné au IV de l'article L. 254-1 est délivré dans les mêmes conditions. II. – Les personnes physiques qui utilisent les produits phyto-pharmaceutiques dans le cadre de leur activité professionnelle à titre salarié, pour leur propre compte, ou dans le cadre d'un contrat d'entraide à titre gratuit au sens de l'article L. 325-1 , justifient d'un certificat délivré par l'autorité administrative ou un organisme qu'elle habilite garantissant l'acquisition des connaissances exigées en adéquation avec les fonctions déclarées. Ce certificat n'est exigé ni pour les médiateurs chimiques au sens de l'article L. 253-6 , ni pour les substances de base au sens de l'article 23 du règlement (CE) n° 1107/2009 du Parlement européen et du Conseil du 21 octobre 2009 concernant la mise sur le marché des produits phytopharmaceutiques et abrogeant les directives 79/117/CEE et 91/414/CEE du Conseil. III. – Ces certificats sont renouvelés périodiquement. IV. – A compter du 1er janvier 2019, la formation prévue pour la délivrance ou le renouvellement des certificats mentionnés aux I et II contient des modules spécifiques relatifs à l'exigence de sobriété dans l'usage des produits phytopharmaceutiques et aux alternatives disponibles, notamment en matière de biocontrôle.\",\n",
       "  'text_length': 1603,\n",
       "  'retrieval_metadata': {'source': 'cache', 'success': True},\n",
       "  'retrieved_at': '2025-07-24T16:50:30.999174'},\n",
       " {'article_key': 'code rural et de la pêche maritime::L. 254-7',\n",
       "  'code': 'code rural et de la pêche maritime',\n",
       "  'article': 'L. 254-7',\n",
       "  'operation_type': 'MODIFY',\n",
       "  'original_text': \"Lors de la vente, une personne titulaire du certificat mentionné au I de l'article L. 254-3 est disponible pour fournir aux utilisateurs les informations appropriées concernant l'utilisation des produits phytopharmaceutiques, notamment la cible, la dose recommandée et les conditions de mise en œuvre, les risques pour la santé et l'environnement liés à une telle utilisation et les consignes de sécurité afin de gérer ces risques. Pour la cession à des utilisateurs non professionnels, les distributeurs fournissent des informations générales sur les risques pour la santé humaine et l'environnement liés à l'utilisation des produits phytopharmaceutiques, notamment sur les dangers, l'exposition, les conditions appropriées de stockage et les consignes à respecter pour la manipulation, l'application et l'élimination sans danger, ainsi que sur les solutions de substitution présentant un faible risque. A l'exception des produits de biocontrôle figurant sur la liste prévue à l' article L. 253-5 , des produits composés uniquement de substances de base au sens de l'article 23 du règlement (CE) n° 1107/2009 du 21 octobre 2009 ou de produits à faible risque au sens de l'article 47 du même règlement et des produits dont l'usage est autorisé dans le cadre de l'agriculture biologique, les produits phytopharmaceutiques ne peuvent être cédés directement en libre-service à des utilisateurs non professionnels.\",\n",
       "  'text_length': 1410,\n",
       "  'retrieval_metadata': {'source': 'cache', 'success': True},\n",
       "  'retrieved_at': '2025-07-24T16:50:30.999736'},\n",
       " {'article_key': 'code rural et de la pêche maritime::L. 254-7-1',\n",
       "  'code': 'code rural et de la pêche maritime',\n",
       "  'article': 'L. 254-7-1',\n",
       "  'operation_type': 'MODIFY',\n",
       "  'original_text': \"Les modalités d'application de la présente section, et notamment la désignation de l'autorité administrative, les conditions de délivrance, de renouvellement, de suspension, de modulation et de retrait des agréments, des certificats ainsi que des habilitations des organismes sont déterminées par décret en Conseil d'Etat. Ce décret prévoit les modalités particulières de cession des produits phytopharmaceutiques aux utilisateurs non professionnels. Il définit également les conditions dans lesquelles les microdistributeurs peuvent être dispensés de tout ou partie des obligations mentionnées aux 2° et 3° du I de l'article L. 254-2 et à l'article L. 254-3 , dans le seul cadre de ventes de produits destinés à un usage non professionnel ou lorsque celles-ci concernent uniquement soit des préparations naturelles peu préoccupantes constituées exclusivement d'une ou plusieurs substances de base, soit des produits à faible risque. Il précise le contenu du conseil mentionné à l'article L. 254-6-2 et en détermine la fréquence, ainsi que le délai dans lequel le diagnostic mentionné au deuxième alinéa du I de ce même article doit être actualisé.\",\n",
       "  'text_length': 1148,\n",
       "  'retrieval_metadata': {'source': 'cache', 'success': True},\n",
       "  'retrieved_at': '2025-07-24T16:50:31.000292'},\n",
       " {'article_key': 'code rural et de la pêche maritime::L. 254-10-1',\n",
       "  'code': 'code rural et de la pêche maritime',\n",
       "  'article': 'L. 254-10-1',\n",
       "  'operation_type': 'MODIFY',\n",
       "  'original_text': \"I.-Sont soumises à des obligations de réalisation d'actions tendant à la réduction de l'utilisation de produits phytopharmaceutiques les personnes auprès desquelles la redevance pour pollutions diffuses est exigible, mentionnées au IV de l'article L. 213-10-8 du code de l'environnement . Ces personnes sont dénommées les “ obligés ”. L'obligé est tenu de mettre en place des actions visant à la réalisation d'économies de produits phytopharmaceutiques ou de faciliter la mise en œuvre de telles actions. II.-L'autorité administrative notifie à chaque obligé pour les périodes du 1er janvier 2020 au 31 décembre 2020 et du 1er janvier 2021 au 31 décembre 2021, puis, à compter du 1er janvier 2022, pour chaque période successive d'une durée fixée par décret en Conseil d'Etat, dans la limite de quatre ans, l'obligation de réalisation d'actions qui lui incombe en vertu de la présente section compte tenu des quantités de produits phytopharmaceutiques qu'il a déclarées en application des articles L. 213-10-8 et L. 213-11 du code de l'environnement. Cette obligation est proportionnelle aux quantités de chaque substance active contenues dans ces produits phytopharmaceutiques, pondérées, dans des conditions fixées par décret en Conseil d'Etat, par des coefficients liés soit aux caractéristiques d'emploi de ces produits, soit aux dangers des substances actives qu'ils contiennent. Elle est exprimée en nombre de certificats d'économie de produits phytopharmaceutiques.\",\n",
       "  'text_length': 1472,\n",
       "  'retrieval_metadata': {'source': 'cache', 'success': True},\n",
       "  'retrieved_at': '2025-07-24T16:50:31.000804'},\n",
       " {'article_key': 'code rural et de la pêche maritime::L. 254-12',\n",
       "  'code': 'code rural et de la pêche maritime',\n",
       "  'article': 'L. 254-12',\n",
       "  'operation_type': 'MODIFY',\n",
       "  'original_text': \"I.-Est puni d'un emprisonnement de six mois et d'une amende de 15 000 € : 1° Le fait d'exercer l'une des activités visées à l'article L. 254-1 sans justifier de la détention de l'agrément ; 2° Le fait, pour le détenteur de l'agrément, d'exercer l'une des activités visées à l'article L. 254-1 sans satisfaire aux conditions exigées par l'article L. 254-2 ou par l'article L. 254-5 . II.-Les personnes physiques coupables de l'une des infractions mentionnées au présent article encourent également la peine complémentaire d'affichage et de diffusion de la décision dans les conditions prévues par l'article 131-35 du code pénal. Les personnes morales déclarées coupables pénalement dans les conditions prévues à l'article 121-2 du même code des infractions définies au présent article encourent, outre l'amende suivant les modalités prévues à l'article 131-38 du code pénal, la peine prévue au 9° de l'article 131-39 du même code. III.-Lorsqu'elles sont commises en bande organisée, les infractions prévues au I sont punies de sept ans d'emprisonnement et 150 000 € d'amende.\",\n",
       "  'text_length': 1074,\n",
       "  'retrieval_metadata': {'source': 'cache', 'success': True},\n",
       "  'retrieved_at': '2025-07-24T16:50:31.001328'},\n",
       " {'article_key': 'code rural et de la pêche maritime::L. 316-1',\n",
       "  'code': 'code rural et de la pêche maritime',\n",
       "  'article': 'L. 316-1',\n",
       "  'operation_type': 'INSERT',\n",
       "  'original_text': '',\n",
       "  'text_length': 0,\n",
       "  'retrieval_metadata': {'source': 'insert_operation',\n",
       "   'success': True,\n",
       "   'note': 'Empty text for INSERT operation'},\n",
       "  'retrieved_at': '2025-07-24T16:50:31.001335'},\n",
       " {'article_key': 'code rural et de la pêche maritime::L. 510-2',\n",
       "  'code': 'code rural et de la pêche maritime',\n",
       "  'article': 'L. 510-2',\n",
       "  'operation_type': 'MODIFY',\n",
       "  'original_text': \"Chaque établissement du réseau des chambres d'agriculture établit un règlement intérieur dans des conditions définies par décret. Ce règlement intérieur fixe notamment les modalités d'application du second alinéa de l' article L. 254-1-2 et prévoit les conditions de publication des procès-verbaux dressés après chaque réunion de la session et du bureau de l'établissement.\",\n",
       "  'text_length': 373,\n",
       "  'retrieval_metadata': {'source': 'cache', 'success': True},\n",
       "  'retrieved_at': '2025-07-24T16:50:31.001762'}]"
      ]
     },
     "execution_count": 13,
     "metadata": {},
     "output_type": "execute_result"
    }
   ],
   "source": [
    "retrieval_results = pipeline.step_3_retrieve_original_texts()\n",
    "retrieval_results"
   ]
  },
  {
   "cell_type": "code",
   "execution_count": null,
   "id": "e6f2603b-9d59-4583-90f5-0bff5884a44b",
   "metadata": {},
   "outputs": [],
   "source": []
  },
  {
   "cell_type": "code",
   "execution_count": 14,
   "id": "198fa39d-8df0-45b2-aa5b-734f6360e787",
   "metadata": {},
   "outputs": [
    {
     "data": {
      "text/plain": [
       "{'total_articles': 14,\n",
       " 'successful_retrievals': 14,\n",
       " 'failed_retrievals': 0,\n",
       " 'success_rate': 1.0,\n",
       " 'source_stats': {'cache': 13, 'insert_operation': 1},\n",
       " 'text_length_stats': {'average': 1403.9285714285713,\n",
       "  'maximum': 3321,\n",
       "  'minimum': 0,\n",
       "  'total_characters': 19655},\n",
       " 'failed_articles': []}"
      ]
     },
     "execution_count": 14,
     "metadata": {},
     "output_type": "execute_result"
    }
   ],
   "source": [
    "pipeline._analyze_retrieval_results(retrieval_results)"
   ]
  },
  {
   "cell_type": "code",
   "execution_count": null,
   "id": "6e9dad82-1bcf-4072-ad72-3204aa3ef7ec",
   "metadata": {},
   "outputs": [],
   "source": []
  },
  {
   "cell_type": "code",
   "execution_count": 15,
   "id": "45a49725-291e-4b15-837e-57bf3746a3cf",
   "metadata": {
    "scrolled": true
   },
   "outputs": [
    {
     "name": "stderr",
     "output_type": "stream",
     "text": [
      "2025-07-24 16:50:31,013 - bill_parser_engine.core.reference_resolver.pipeline - INFO - Step 4: Applying text reconstruction...\n",
      "2025-07-24 16:50:31,014 - bill_parser_engine.core.reference_resolver.pipeline - INFO - Processing 22 chunks with identified target articles (skipping 0 chunks with pure versioning metadata or errors)\n",
      "2025-07-24 16:50:31,015 - bill_parser_engine.core.reference_resolver.legal_amendment_reconstructor - INFO - Cache temporarily disabled for chunk # TITRE Iᴱᴿ::Article 1ᵉʳ::2°::a) to force fresh processing\n",
      "2025-07-24 16:50:31,015 - bill_parser_engine.core.reference_resolver.legal_amendment_reconstructor - INFO - Step 1: Decomposing amendment instruction for chunk # TITRE Iᴱᴿ::Article 1ᵉʳ::2°::a)\n",
      "2025-07-24 16:50:31,016 - bill_parser_engine.core.reference_resolver.instruction_decomposer - INFO - Parsing amendment instruction: a) Au 3° du II, les mots : « prévu aux articles L. 254-6-2 et L. 254-6-3 » sont remplacés par les mots : « à l'utilisation des produits phytopharmaceutiques » ;...\n",
      "2025-07-24 16:50:31,017 - bill_parser_engine.core.reference_resolver.legal_amendment_reconstructor - INFO - Step 2: Applying 1 operations sequentially for chunk # TITRE Iᴱᴿ::Article 1ᵉʳ::2°::a)\n",
      "2025-07-24 16:50:31,017 - bill_parser_engine.core.reference_resolver.legal_amendment_reconstructor - INFO - Applying operation 1/1: REPLACE for chunk # TITRE Iᴱᴿ::Article 1ᵉʳ::2°::a)\n",
      "2025-07-24 16:50:31,017 - bill_parser_engine.core.reference_resolver.operation_applier - INFO - Applying REPLACE operation: AmendmentOperation(operation_type=<OperationType.REPLACE: 'REPLACE'>, target_text='prévu aux article...\n",
      "2025-07-24 16:50:31,018 - bill_parser_engine.core.reference_resolver.legal_amendment_reconstructor - INFO - Operation 1 succeeded (confidence: 0.95) for chunk # TITRE Iᴱᴿ::Article 1ᵉʳ::2°::a)\n",
      "2025-07-24 16:50:31,019 - bill_parser_engine.core.reference_resolver.legal_amendment_reconstructor - INFO - Step 3: Validating final result for chunk # TITRE Iᴱᴿ::Article 1ᵉʳ::2°::a)\n",
      "2025-07-24 16:50:31,019 - bill_parser_engine.core.reference_resolver.result_validator - INFO - Validating legal coherence for 1 operations\n",
      "2025-07-24 16:50:31,020 - bill_parser_engine.core.reference_resolver.legal_amendment_reconstructor - INFO - Reconstruction completed - Success: True, Applied: 1/1 operations, Validation: VALID\n",
      "2025-07-24 16:50:31,021 - bill_parser_engine.core.reference_resolver.legal_amendment_reconstructor - INFO - Cache setting temporarily disabled for chunk # TITRE Iᴱᴿ::Article 1ᵉʳ::2°::a)\n",
      "2025-07-24 16:50:31,021 - bill_parser_engine.core.reference_resolver.pipeline - INFO - Retrieved last_detailed_result for chunk # TITRE Iᴱᴿ::Article 1ᵉʳ::2°::a): success=True\n",
      "2025-07-24 16:50:31,022 - bill_parser_engine.core.reference_resolver.legal_amendment_reconstructor - INFO - Cache temporarily disabled for chunk # TITRE Iᴱᴿ::Article 1ᵉʳ::2°::b) to force fresh processing\n",
      "2025-07-24 16:50:31,022 - bill_parser_engine.core.reference_resolver.legal_amendment_reconstructor - INFO - Step 1: Decomposing amendment instruction for chunk # TITRE Iᴱᴿ::Article 1ᵉʳ::2°::b)\n",
      "2025-07-24 16:50:31,022 - bill_parser_engine.core.reference_resolver.instruction_decomposer - INFO - Parsing amendment instruction: b) Le VI est ainsi rédigé : « VI. – L'exercice de l'activité de conseil mentionnée au 3° du II est incompatible avec l'activité de producteur. Pour l'application du présent VI, le producteur s'entend ...\n",
      "2025-07-24 16:50:31,023 - bill_parser_engine.core.reference_resolver.legal_amendment_reconstructor - INFO - Step 2: Applying 1 operations sequentially for chunk # TITRE Iᴱᴿ::Article 1ᵉʳ::2°::b)\n",
      "2025-07-24 16:50:31,023 - bill_parser_engine.core.reference_resolver.legal_amendment_reconstructor - INFO - Applying operation 1/1: REWRITE for chunk # TITRE Iᴱᴿ::Article 1ᵉʳ::2°::b)\n",
      "2025-07-24 16:50:31,024 - bill_parser_engine.core.reference_resolver.operation_applier - INFO - Applying REWRITE operation: AmendmentOperation(operation_type=<OperationType.REWRITE: 'REWRITE'>, target_text=None, replacement_...\n",
      "2025-07-24 16:50:31,025 - bill_parser_engine.core.reference_resolver.legal_amendment_reconstructor - INFO - Operation 1 succeeded (confidence: 0.95) for chunk # TITRE Iᴱᴿ::Article 1ᵉʳ::2°::b)\n",
      "2025-07-24 16:50:31,025 - bill_parser_engine.core.reference_resolver.legal_amendment_reconstructor - INFO - Step 3: Validating final result for chunk # TITRE Iᴱᴿ::Article 1ᵉʳ::2°::b)\n",
      "2025-07-24 16:50:31,025 - bill_parser_engine.core.reference_resolver.result_validator - INFO - Validating legal coherence for 1 operations\n",
      "2025-07-24 16:50:31,026 - bill_parser_engine.core.reference_resolver.legal_amendment_reconstructor - INFO - Reconstruction completed - Success: True, Applied: 1/1 operations, Validation: VALID\n",
      "2025-07-24 16:50:31,027 - bill_parser_engine.core.reference_resolver.legal_amendment_reconstructor - INFO - Cache setting temporarily disabled for chunk # TITRE Iᴱᴿ::Article 1ᵉʳ::2°::b)\n",
      "2025-07-24 16:50:31,027 - bill_parser_engine.core.reference_resolver.pipeline - INFO - Retrieved last_detailed_result for chunk # TITRE Iᴱᴿ::Article 1ᵉʳ::2°::b): success=True\n",
      "2025-07-24 16:50:31,027 - bill_parser_engine.core.reference_resolver.legal_amendment_reconstructor - INFO - Cache temporarily disabled for chunk # TITRE Iᴱᴿ::Article 1ᵉʳ::3° bis::a) to force fresh processing\n",
      "2025-07-24 16:50:31,028 - bill_parser_engine.core.reference_resolver.legal_amendment_reconstructor - INFO - Step 1: Decomposing amendment instruction for chunk # TITRE Iᴱᴿ::Article 1ᵉʳ::3° bis::a)\n",
      "2025-07-24 16:50:31,028 - bill_parser_engine.core.reference_resolver.instruction_decomposer - INFO - Parsing amendment instruction: a) Le I est ainsi modifié : à la fin du 1°, les mots : « mentionnée aux 1° ou 2° du même II ou au IV du même article » sont remplacés par les mots : « de producteur au sens du premier alinéa du VI du ...\n",
      "2025-07-24 16:50:31,029 - bill_parser_engine.core.reference_resolver.legal_amendment_reconstructor - INFO - Step 2: Applying 4 operations sequentially for chunk # TITRE Iᴱᴿ::Article 1ᵉʳ::3° bis::a)\n",
      "2025-07-24 16:50:31,029 - bill_parser_engine.core.reference_resolver.legal_amendment_reconstructor - INFO - Applying operation 1/4: REPLACE for chunk # TITRE Iᴱᴿ::Article 1ᵉʳ::3° bis::a)\n",
      "2025-07-24 16:50:31,029 - bill_parser_engine.core.reference_resolver.operation_applier - INFO - Applying REPLACE operation: AmendmentOperation(operation_type=<OperationType.REPLACE: 'REPLACE'>, target_text='mentionnée aux 1°...\n",
      "2025-07-24 16:50:31,030 - bill_parser_engine.core.reference_resolver.legal_amendment_reconstructor - WARNING - Operation 1 failed: Target text not found: 'mentionnée aux 1° ou 2° du même II ou au IV du même article...' Similar matches found: ['ntes : 1° La mise en vente, la vente ou la distribution à titre gratuit des produits phyt', 'tes : 1° La mise en vente, la vente ou la distribution à titre gratuit des produits phyto', 'es : 1° La mise en vente, la vente ou la distribution à titre gratuit des produits phytop'] for chunk # TITRE Iᴱᴿ::Article 1ᵉʳ::3° bis::a)\n",
      "2025-07-24 16:50:31,030 - bill_parser_engine.core.reference_resolver.legal_amendment_reconstructor - INFO - Applying operation 2/4: REPLACE for chunk # TITRE Iᴱᴿ::Article 1ᵉʳ::3° bis::a)\n",
      "2025-07-24 16:50:31,031 - bill_parser_engine.core.reference_resolver.operation_applier - INFO - Applying REPLACE operation: AmendmentOperation(operation_type=<OperationType.REPLACE: 'REPLACE'>, target_text='mentionnée aux 1°...\n",
      "2025-07-24 16:50:31,031 - bill_parser_engine.core.reference_resolver.legal_amendment_reconstructor - WARNING - Operation 2 failed: Target text not found: 'mentionnée aux 1° ou 2° du II ou au IV...' Similar matches found: ['s suivantes : 1° La mise en vente, la vente ou la distribution à tit', ' suivantes : 1° La mise en vente, la vente ou la distribution à titr', 'suivantes : 1° La mise en vente, la vente ou la distribution à titre'] for chunk # TITRE Iᴱᴿ::Article 1ᵉʳ::3° bis::a)\n",
      "2025-07-24 16:50:31,032 - bill_parser_engine.core.reference_resolver.legal_amendment_reconstructor - INFO - Applying operation 3/4: REPLACE for chunk # TITRE Iᴱᴿ::Article 1ᵉʳ::3° bis::a)\n",
      "2025-07-24 16:50:31,032 - bill_parser_engine.core.reference_resolver.operation_applier - INFO - Applying REPLACE operation: AmendmentOperation(operation_type=<OperationType.REPLACE: 'REPLACE'>, target_text='de ce II', replac...\n",
      "2025-07-24 16:50:31,032 - bill_parser_engine.core.reference_resolver.legal_amendment_reconstructor - WARNING - Operation 3 failed: Target text not found: 'de ce II...' Similar matches found: ['I.-Les produits phytopharmaceutiques m', '.-Les produits phytopharmaceutiques me', '-Les produits phytopharmaceutiques men'] for chunk # TITRE Iᴱᴿ::Article 1ᵉʳ::3° bis::a)\n",
      "2025-07-24 16:50:31,032 - bill_parser_engine.core.reference_resolver.legal_amendment_reconstructor - INFO - Applying operation 4/4: REPLACE for chunk # TITRE Iᴱᴿ::Article 1ᵉʳ::3° bis::a)\n",
      "2025-07-24 16:50:31,033 - bill_parser_engine.core.reference_resolver.operation_applier - INFO - Applying REPLACE operation: AmendmentOperation(operation_type=<OperationType.REPLACE: 'REPLACE'>, target_text=\"mentionnée, d'une...\n",
      "2025-07-24 16:50:31,034 - bill_parser_engine.core.reference_resolver.legal_amendment_reconstructor - WARNING - Operation 4 failed: Target text not found: 'mentionnée, d'une part, au 3° du II de l'article L. 254-1 et, d'autre part, aux 1° ou 2° du même II ...' Similar matches found: [\"inis au 1 de l'article 2 du règlement (CE) n° 1107/2009. II.-Est subordonné à la détention d'un agré\", \"nis au 1 de l'article 2 du règlement (CE) n° 1107/2009. II.-Est subordonné à la détention d'un agrém\", \"is au 1 de l'article 2 du règlement (CE) n° 1107/2009. II.-Est subordonné à la détention d'un agréme\"] for chunk # TITRE Iᴱᴿ::Article 1ᵉʳ::3° bis::a)\n",
      "2025-07-24 16:50:31,034 - bill_parser_engine.core.reference_resolver.legal_amendment_reconstructor - INFO - Step 3: Validating final result for chunk # TITRE Iᴱᴿ::Article 1ᵉʳ::3° bis::a)\n",
      "2025-07-24 16:50:31,034 - bill_parser_engine.core.reference_resolver.result_validator - INFO - Validating legal coherence for 0 operations\n",
      "2025-07-24 16:50:31,035 - bill_parser_engine.core.reference_resolver.legal_amendment_reconstructor - INFO - Reconstruction completed - Success: False, Applied: 0/4 operations, Validation: VALID\n",
      "2025-07-24 16:50:31,036 - bill_parser_engine.core.reference_resolver.legal_amendment_reconstructor - INFO - Cache setting temporarily disabled for chunk # TITRE Iᴱᴿ::Article 1ᵉʳ::3° bis::a)\n",
      "2025-07-24 16:50:31,036 - bill_parser_engine.core.reference_resolver.pipeline - INFO - Retrieved last_detailed_result for chunk # TITRE Iᴱᴿ::Article 1ᵉʳ::3° bis::a): success=False\n",
      "2025-07-24 16:50:31,036 - bill_parser_engine.core.reference_resolver.legal_amendment_reconstructor - INFO - Cache temporarily disabled for chunk # TITRE Iᴱᴿ::Article 1ᵉʳ::3° bis::b) to force fresh processing\n",
      "2025-07-24 16:50:31,036 - bill_parser_engine.core.reference_resolver.legal_amendment_reconstructor - INFO - Step 1: Decomposing amendment instruction for chunk # TITRE Iᴱᴿ::Article 1ᵉʳ::3° bis::b)\n",
      "2025-07-24 16:50:31,037 - bill_parser_engine.core.reference_resolver.instruction_decomposer - INFO - Parsing amendment instruction: b) Le II est ainsi modifié : à la fin du 1°, les mots : « mentionnée aux 1° ou 2° du même II ou au IV du même article » sont remplacés par les mots : « de producteur au sens du premier alinéa du VI du...\n",
      "2025-07-24 16:50:31,037 - bill_parser_engine.core.reference_resolver.legal_amendment_reconstructor - INFO - Step 2: Applying 3 operations sequentially for chunk # TITRE Iᴱᴿ::Article 1ᵉʳ::3° bis::b)\n",
      "2025-07-24 16:50:31,038 - bill_parser_engine.core.reference_resolver.legal_amendment_reconstructor - INFO - Applying operation 1/3: REPLACE for chunk # TITRE Iᴱᴿ::Article 1ᵉʳ::3° bis::b)\n",
      "2025-07-24 16:50:31,038 - bill_parser_engine.core.reference_resolver.operation_applier - INFO - Applying REPLACE operation: AmendmentOperation(operation_type=<OperationType.REPLACE: 'REPLACE'>, target_text='mentionnée aux 1°...\n",
      "2025-07-24 16:50:31,039 - bill_parser_engine.core.reference_resolver.legal_amendment_reconstructor - INFO - Operation 1 succeeded (confidence: 0.95) for chunk # TITRE Iᴱᴿ::Article 1ᵉʳ::3° bis::b)\n",
      "2025-07-24 16:50:31,039 - bill_parser_engine.core.reference_resolver.legal_amendment_reconstructor - INFO - Applying operation 2/3: REPLACE for chunk # TITRE Iᴱᴿ::Article 1ᵉʳ::3° bis::b)\n",
      "2025-07-24 16:50:31,039 - bill_parser_engine.core.reference_resolver.operation_applier - INFO - Applying REPLACE operation: AmendmentOperation(operation_type=<OperationType.REPLACE: 'REPLACE'>, target_text='mentionnée aux 1°...\n",
      "2025-07-24 16:50:31,040 - bill_parser_engine.core.reference_resolver.legal_amendment_reconstructor - INFO - Operation 2 succeeded (confidence: 0.95) for chunk # TITRE Iᴱᴿ::Article 1ᵉʳ::3° bis::b)\n",
      "2025-07-24 16:50:31,040 - bill_parser_engine.core.reference_resolver.legal_amendment_reconstructor - INFO - Applying operation 3/3: REPLACE for chunk # TITRE Iᴱᴿ::Article 1ᵉʳ::3° bis::b)\n",
      "2025-07-24 16:50:31,040 - bill_parser_engine.core.reference_resolver.operation_applier - INFO - Applying REPLACE operation: AmendmentOperation(operation_type=<OperationType.REPLACE: 'REPLACE'>, target_text='de ce II', replac...\n",
      "2025-07-24 16:50:31,041 - bill_parser_engine.core.reference_resolver.legal_amendment_reconstructor - INFO - Operation 3 succeeded (confidence: 0.95) for chunk # TITRE Iᴱᴿ::Article 1ᵉʳ::3° bis::b)\n",
      "2025-07-24 16:50:31,041 - bill_parser_engine.core.reference_resolver.legal_amendment_reconstructor - INFO - Step 3: Validating final result for chunk # TITRE Iᴱᴿ::Article 1ᵉʳ::3° bis::b)\n",
      "2025-07-24 16:50:31,042 - bill_parser_engine.core.reference_resolver.result_validator - INFO - Validating legal coherence for 3 operations\n",
      "2025-07-24 16:50:31,042 - bill_parser_engine.core.reference_resolver.legal_amendment_reconstructor - INFO - Reconstruction completed - Success: True, Applied: 3/3 operations, Validation: VALID\n",
      "2025-07-24 16:50:31,043 - bill_parser_engine.core.reference_resolver.legal_amendment_reconstructor - INFO - Cache setting temporarily disabled for chunk # TITRE Iᴱᴿ::Article 1ᵉʳ::3° bis::b)\n",
      "2025-07-24 16:50:31,043 - bill_parser_engine.core.reference_resolver.pipeline - INFO - Retrieved last_detailed_result for chunk # TITRE Iᴱᴿ::Article 1ᵉʳ::3° bis::b): success=True\n",
      "2025-07-24 16:50:31,043 - bill_parser_engine.core.reference_resolver.legal_amendment_reconstructor - INFO - Cache temporarily disabled for chunk # TITRE Iᴱᴿ::Article 1ᵉʳ::3° ter::a) to force fresh processing\n",
      "2025-07-24 16:50:31,044 - bill_parser_engine.core.reference_resolver.legal_amendment_reconstructor - INFO - Step 1: Decomposing amendment instruction for chunk # TITRE Iᴱᴿ::Article 1ᵉʳ::3° ter::a)\n",
      "2025-07-24 16:50:31,044 - bill_parser_engine.core.reference_resolver.instruction_decomposer - INFO - Parsing amendment instruction: a) Le premier alinéa est ainsi modifié : les mots : « mentionnée aux 1° ou 2° du même II ou au IV du même article » sont remplacés par les mots : « de producteur au sens du premier alinéa du VI du mêm...\n",
      "2025-07-24 16:50:31,045 - bill_parser_engine.core.reference_resolver.legal_amendment_reconstructor - INFO - Step 2: Applying 3 operations sequentially for chunk # TITRE Iᴱᴿ::Article 1ᵉʳ::3° ter::a)\n",
      "2025-07-24 16:50:31,045 - bill_parser_engine.core.reference_resolver.legal_amendment_reconstructor - INFO - Applying operation 1/3: REPLACE for chunk # TITRE Iᴱᴿ::Article 1ᵉʳ::3° ter::a)\n",
      "2025-07-24 16:50:31,045 - bill_parser_engine.core.reference_resolver.operation_applier - INFO - Applying REPLACE operation: AmendmentOperation(operation_type=<OperationType.REPLACE: 'REPLACE'>, target_text='mentionnée aux 1°...\n",
      "2025-07-24 16:50:31,046 - bill_parser_engine.core.reference_resolver.legal_amendment_reconstructor - INFO - Operation 1 succeeded (confidence: 0.95) for chunk # TITRE Iᴱᴿ::Article 1ᵉʳ::3° ter::a)\n",
      "2025-07-24 16:50:31,046 - bill_parser_engine.core.reference_resolver.legal_amendment_reconstructor - INFO - Applying operation 2/3: REPLACE for chunk # TITRE Iᴱᴿ::Article 1ᵉʳ::3° ter::a)\n",
      "2025-07-24 16:50:31,047 - bill_parser_engine.core.reference_resolver.operation_applier - INFO - Applying REPLACE operation: AmendmentOperation(operation_type=<OperationType.REPLACE: 'REPLACE'>, target_text='mentionnée aux 1°...\n",
      "2025-07-24 16:50:31,047 - bill_parser_engine.core.reference_resolver.legal_amendment_reconstructor - INFO - Operation 2 succeeded (confidence: 0.95) for chunk # TITRE Iᴱᴿ::Article 1ᵉʳ::3° ter::a)\n",
      "2025-07-24 16:50:31,047 - bill_parser_engine.core.reference_resolver.legal_amendment_reconstructor - INFO - Applying operation 3/3: REPLACE for chunk # TITRE Iᴱᴿ::Article 1ᵉʳ::3° ter::a)\n",
      "2025-07-24 16:50:31,048 - bill_parser_engine.core.reference_resolver.operation_applier - INFO - Applying REPLACE operation: AmendmentOperation(operation_type=<OperationType.REPLACE: 'REPLACE'>, target_text='de ce II', replac...\n",
      "2025-07-24 16:50:31,048 - bill_parser_engine.core.reference_resolver.legal_amendment_reconstructor - INFO - Operation 3 succeeded (confidence: 0.95) for chunk # TITRE Iᴱᴿ::Article 1ᵉʳ::3° ter::a)\n",
      "2025-07-24 16:50:31,048 - bill_parser_engine.core.reference_resolver.legal_amendment_reconstructor - INFO - Step 3: Validating final result for chunk # TITRE Iᴱᴿ::Article 1ᵉʳ::3° ter::a)\n",
      "2025-07-24 16:50:31,049 - bill_parser_engine.core.reference_resolver.result_validator - INFO - Validating legal coherence for 3 operations\n",
      "2025-07-24 16:50:31,049 - bill_parser_engine.core.reference_resolver.legal_amendment_reconstructor - INFO - Reconstruction completed - Success: True, Applied: 3/3 operations, Validation: VALID\n",
      "2025-07-24 16:50:31,050 - bill_parser_engine.core.reference_resolver.legal_amendment_reconstructor - INFO - Cache setting temporarily disabled for chunk # TITRE Iᴱᴿ::Article 1ᵉʳ::3° ter::a)\n",
      "2025-07-24 16:50:31,050 - bill_parser_engine.core.reference_resolver.pipeline - INFO - Retrieved last_detailed_result for chunk # TITRE Iᴱᴿ::Article 1ᵉʳ::3° ter::a): success=True\n",
      "2025-07-24 16:50:31,051 - bill_parser_engine.core.reference_resolver.legal_amendment_reconstructor - INFO - Cache temporarily disabled for chunk # TITRE Iᴱᴿ::Article 1ᵉʳ::3° ter::b) to force fresh processing\n",
      "2025-07-24 16:50:31,051 - bill_parser_engine.core.reference_resolver.legal_amendment_reconstructor - INFO - Step 1: Decomposing amendment instruction for chunk # TITRE Iᴱᴿ::Article 1ᵉʳ::3° ter::b)\n",
      "2025-07-24 16:50:31,051 - bill_parser_engine.core.reference_resolver.instruction_decomposer - INFO - Parsing amendment instruction: b) Le second alinéa est supprimé ;...\n",
      "2025-07-24 16:50:31,052 - bill_parser_engine.core.reference_resolver.legal_amendment_reconstructor - INFO - Step 2: Applying 1 operations sequentially for chunk # TITRE Iᴱᴿ::Article 1ᵉʳ::3° ter::b)\n",
      "2025-07-24 16:50:31,052 - bill_parser_engine.core.reference_resolver.legal_amendment_reconstructor - INFO - Applying operation 1/1: DELETE for chunk # TITRE Iᴱᴿ::Article 1ᵉʳ::3° ter::b)\n",
      "2025-07-24 16:50:31,052 - bill_parser_engine.core.reference_resolver.operation_applier - INFO - Applying DELETE operation: AmendmentOperation(operation_type=<OperationType.DELETE: 'DELETE'>, target_text='Le second alinéa', ...\n",
      "2025-07-24 16:50:31,053 - bill_parser_engine.core.reference_resolver.legal_amendment_reconstructor - INFO - Operation 1 succeeded (confidence: 0.95) for chunk # TITRE Iᴱᴿ::Article 1ᵉʳ::3° ter::b)\n",
      "2025-07-24 16:50:31,053 - bill_parser_engine.core.reference_resolver.legal_amendment_reconstructor - INFO - Step 3: Validating final result for chunk # TITRE Iᴱᴿ::Article 1ᵉʳ::3° ter::b)\n",
      "2025-07-24 16:50:31,054 - bill_parser_engine.core.reference_resolver.result_validator - INFO - Validating legal coherence for 1 operations\n",
      "2025-07-24 16:50:31,054 - bill_parser_engine.core.reference_resolver.legal_amendment_reconstructor - INFO - Reconstruction completed - Success: True, Applied: 1/1 operations, Validation: VALID\n",
      "2025-07-24 16:50:31,055 - bill_parser_engine.core.reference_resolver.legal_amendment_reconstructor - INFO - Cache setting temporarily disabled for chunk # TITRE Iᴱᴿ::Article 1ᵉʳ::3° ter::b)\n",
      "2025-07-24 16:50:31,055 - bill_parser_engine.core.reference_resolver.pipeline - INFO - Retrieved last_detailed_result for chunk # TITRE Iᴱᴿ::Article 1ᵉʳ::3° ter::b): success=True\n",
      "2025-07-24 16:50:31,056 - bill_parser_engine.core.reference_resolver.legal_amendment_reconstructor - INFO - Cache temporarily disabled for chunk # TITRE Iᴱᴿ::Article 1ᵉʳ::3° quater::a) to force fresh processing\n",
      "2025-07-24 16:50:31,056 - bill_parser_engine.core.reference_resolver.legal_amendment_reconstructor - INFO - Step 1: Decomposing amendment instruction for chunk # TITRE Iᴱᴿ::Article 1ᵉʳ::3° quater::a)\n",
      "2025-07-24 16:50:31,056 - bill_parser_engine.core.reference_resolver.instruction_decomposer - INFO - Parsing amendment instruction: a) À la fin du I, les mots : « mentionnée aux 1° ou 2° du même II ou au IV de ce même article » sont remplacés par les mots : « de producteur au sens du premier alinéa du VI du même article L. 254-1 »...\n",
      "2025-07-24 16:50:31,057 - bill_parser_engine.core.reference_resolver.legal_amendment_reconstructor - INFO - Step 2: Applying 1 operations sequentially for chunk # TITRE Iᴱᴿ::Article 1ᵉʳ::3° quater::a)\n",
      "2025-07-24 16:50:31,057 - bill_parser_engine.core.reference_resolver.legal_amendment_reconstructor - INFO - Applying operation 1/1: REPLACE for chunk # TITRE Iᴱᴿ::Article 1ᵉʳ::3° quater::a)\n",
      "2025-07-24 16:50:31,058 - bill_parser_engine.core.reference_resolver.operation_applier - INFO - Applying REPLACE operation: AmendmentOperation(operation_type=<OperationType.REPLACE: 'REPLACE'>, target_text='mentionnée aux 1°...\n",
      "2025-07-24 16:50:31,059 - bill_parser_engine.core.reference_resolver.legal_amendment_reconstructor - WARNING - Operation 1 failed: Target text not found: 'mentionnée aux 1° ou 2° du même II ou au IV de ce même article...' Similar matches found: [\" l'exercice des activités suivantes : 1° La mise en vente, la vente ou la distribution à tit\", \"l'exercice des activités suivantes : 1° La mise en vente, la vente ou la distribution à titr\", \"'exercice des activités suivantes : 1° La mise en vente, la vente ou la distribution à titre\"] for chunk # TITRE Iᴱᴿ::Article 1ᵉʳ::3° quater::a)\n",
      "2025-07-24 16:50:31,059 - bill_parser_engine.core.reference_resolver.legal_amendment_reconstructor - INFO - Step 3: Validating final result for chunk # TITRE Iᴱᴿ::Article 1ᵉʳ::3° quater::a)\n",
      "2025-07-24 16:50:31,060 - bill_parser_engine.core.reference_resolver.result_validator - INFO - Validating legal coherence for 0 operations\n",
      "2025-07-24 16:50:31,060 - bill_parser_engine.core.reference_resolver.legal_amendment_reconstructor - INFO - Reconstruction completed - Success: False, Applied: 0/1 operations, Validation: VALID\n",
      "2025-07-24 16:50:31,061 - bill_parser_engine.core.reference_resolver.legal_amendment_reconstructor - INFO - Cache setting temporarily disabled for chunk # TITRE Iᴱᴿ::Article 1ᵉʳ::3° quater::a)\n",
      "2025-07-24 16:50:31,062 - bill_parser_engine.core.reference_resolver.pipeline - INFO - Retrieved last_detailed_result for chunk # TITRE Iᴱᴿ::Article 1ᵉʳ::3° quater::a): success=False\n",
      "2025-07-24 16:50:31,062 - bill_parser_engine.core.reference_resolver.legal_amendment_reconstructor - INFO - Cache temporarily disabled for chunk # TITRE Iᴱᴿ::Article 1ᵉʳ::3° quater::b) to force fresh processing\n",
      "2025-07-24 16:50:31,062 - bill_parser_engine.core.reference_resolver.legal_amendment_reconstructor - INFO - Step 1: Decomposing amendment instruction for chunk # TITRE Iᴱᴿ::Article 1ᵉʳ::3° quater::b)\n",
      "2025-07-24 16:50:31,063 - bill_parser_engine.core.reference_resolver.instruction_decomposer - INFO - Parsing amendment instruction: b) À la fin du II, les mots : « les activités mentionnées aux 1° ou 2° du même II ou au IV du même article » sont remplacés par les mots : « une activité de producteur au sens du premier alinéa du VI ...\n",
      "2025-07-24 16:50:31,063 - bill_parser_engine.core.reference_resolver.legal_amendment_reconstructor - INFO - Step 2: Applying 1 operations sequentially for chunk # TITRE Iᴱᴿ::Article 1ᵉʳ::3° quater::b)\n",
      "2025-07-24 16:50:31,064 - bill_parser_engine.core.reference_resolver.legal_amendment_reconstructor - INFO - Applying operation 1/1: REPLACE for chunk # TITRE Iᴱᴿ::Article 1ᵉʳ::3° quater::b)\n",
      "2025-07-24 16:50:31,064 - bill_parser_engine.core.reference_resolver.operation_applier - INFO - Applying REPLACE operation: AmendmentOperation(operation_type=<OperationType.REPLACE: 'REPLACE'>, target_text='les activités men...\n",
      "2025-07-24 16:50:31,065 - bill_parser_engine.core.reference_resolver.legal_amendment_reconstructor - INFO - Operation 1 succeeded (confidence: 0.95) for chunk # TITRE Iᴱᴿ::Article 1ᵉʳ::3° quater::b)\n",
      "2025-07-24 16:50:31,065 - bill_parser_engine.core.reference_resolver.legal_amendment_reconstructor - INFO - Step 3: Validating final result for chunk # TITRE Iᴱᴿ::Article 1ᵉʳ::3° quater::b)\n",
      "2025-07-24 16:50:31,065 - bill_parser_engine.core.reference_resolver.result_validator - INFO - Validating legal coherence for 1 operations\n",
      "2025-07-24 16:50:31,066 - bill_parser_engine.core.reference_resolver.legal_amendment_reconstructor - INFO - Reconstruction completed - Success: True, Applied: 1/1 operations, Validation: VALID\n",
      "2025-07-24 16:50:31,066 - bill_parser_engine.core.reference_resolver.legal_amendment_reconstructor - INFO - Cache setting temporarily disabled for chunk # TITRE Iᴱᴿ::Article 1ᵉʳ::3° quater::b)\n",
      "2025-07-24 16:50:31,067 - bill_parser_engine.core.reference_resolver.pipeline - INFO - Retrieved last_detailed_result for chunk # TITRE Iᴱᴿ::Article 1ᵉʳ::3° quater::b): success=True\n",
      "2025-07-24 16:50:31,067 - bill_parser_engine.core.reference_resolver.legal_amendment_reconstructor - INFO - Cache temporarily disabled for chunk # TITRE Iᴱᴿ::Article 1ᵉʳ::4°::a) to force fresh processing\n",
      "2025-07-24 16:50:31,067 - bill_parser_engine.core.reference_resolver.legal_amendment_reconstructor - INFO - Step 1: Decomposing amendment instruction for chunk # TITRE Iᴱᴿ::Article 1ᵉʳ::4°::a)\n",
      "2025-07-24 16:50:31,067 - bill_parser_engine.core.reference_resolver.instruction_decomposer - INFO - Parsing amendment instruction: a) Les mots : « aux 1° et 2° » sont remplacés par les mots : « au 1° » ;...\n",
      "2025-07-24 16:50:31,068 - bill_parser_engine.core.reference_resolver.legal_amendment_reconstructor - INFO - Step 2: Applying 1 operations sequentially for chunk # TITRE Iᴱᴿ::Article 1ᵉʳ::4°::a)\n",
      "2025-07-24 16:50:31,069 - bill_parser_engine.core.reference_resolver.legal_amendment_reconstructor - INFO - Applying operation 1/1: REPLACE for chunk # TITRE Iᴱᴿ::Article 1ᵉʳ::4°::a)\n",
      "2025-07-24 16:50:31,069 - bill_parser_engine.core.reference_resolver.operation_applier - INFO - Applying REPLACE operation: AmendmentOperation(operation_type=<OperationType.REPLACE: 'REPLACE'>, target_text='aux 1° et 2°', re...\n",
      "2025-07-24 16:50:31,070 - bill_parser_engine.core.reference_resolver.legal_amendment_reconstructor - INFO - Operation 1 succeeded (confidence: 0.95) for chunk # TITRE Iᴱᴿ::Article 1ᵉʳ::4°::a)\n",
      "2025-07-24 16:50:31,070 - bill_parser_engine.core.reference_resolver.legal_amendment_reconstructor - INFO - Step 3: Validating final result for chunk # TITRE Iᴱᴿ::Article 1ᵉʳ::4°::a)\n",
      "2025-07-24 16:50:31,070 - bill_parser_engine.core.reference_resolver.result_validator - INFO - Validating legal coherence for 1 operations\n",
      "2025-07-24 16:50:31,071 - bill_parser_engine.core.reference_resolver.legal_amendment_reconstructor - INFO - Reconstruction completed - Success: True, Applied: 1/1 operations, Validation: VALID\n",
      "2025-07-24 16:50:31,072 - bill_parser_engine.core.reference_resolver.legal_amendment_reconstructor - INFO - Cache setting temporarily disabled for chunk # TITRE Iᴱᴿ::Article 1ᵉʳ::4°::a)\n",
      "2025-07-24 16:50:31,072 - bill_parser_engine.core.reference_resolver.pipeline - INFO - Retrieved last_detailed_result for chunk # TITRE Iᴱᴿ::Article 1ᵉʳ::4°::a): success=True\n",
      "2025-07-24 16:50:31,073 - bill_parser_engine.core.reference_resolver.legal_amendment_reconstructor - INFO - Cache temporarily disabled for chunk # TITRE Iᴱᴿ::Article 1ᵉʳ::4°::b) to force fresh processing\n",
      "2025-07-24 16:50:31,073 - bill_parser_engine.core.reference_resolver.legal_amendment_reconstructor - INFO - Step 1: Decomposing amendment instruction for chunk # TITRE Iᴱᴿ::Article 1ᵉʳ::4°::b)\n",
      "2025-07-24 16:50:31,073 - bill_parser_engine.core.reference_resolver.instruction_decomposer - INFO - Parsing amendment instruction: b) (nouveau) Après la seconde occurrence de la référence : « 2° », sont insérés les mots : « du présent I » ;...\n",
      "2025-07-24 16:50:31,074 - bill_parser_engine.core.reference_resolver.legal_amendment_reconstructor - INFO - Step 2: Applying 1 operations sequentially for chunk # TITRE Iᴱᴿ::Article 1ᵉʳ::4°::b)\n",
      "2025-07-24 16:50:31,074 - bill_parser_engine.core.reference_resolver.legal_amendment_reconstructor - INFO - Applying operation 1/1: INSERT for chunk # TITRE Iᴱᴿ::Article 1ᵉʳ::4°::b)\n",
      "2025-07-24 16:50:31,074 - bill_parser_engine.core.reference_resolver.operation_applier - INFO - Applying INSERT operation: AmendmentOperation(operation_type=<OperationType.INSERT: 'INSERT'>, target_text=None, replacement_te...\n",
      "2025-07-24 16:50:31,075 - bill_parser_engine.core.reference_resolver.legal_amendment_reconstructor - INFO - Operation 1 succeeded (confidence: 0.95) for chunk # TITRE Iᴱᴿ::Article 1ᵉʳ::4°::b)\n",
      "2025-07-24 16:50:31,075 - bill_parser_engine.core.reference_resolver.legal_amendment_reconstructor - INFO - Step 3: Validating final result for chunk # TITRE Iᴱᴿ::Article 1ᵉʳ::4°::b)\n",
      "2025-07-24 16:50:31,076 - bill_parser_engine.core.reference_resolver.result_validator - INFO - Validating legal coherence for 1 operations\n",
      "2025-07-24 16:50:31,076 - bill_parser_engine.core.reference_resolver.legal_amendment_reconstructor - INFO - Reconstruction completed - Success: True, Applied: 1/1 operations, Validation: VALID\n",
      "2025-07-24 16:50:31,077 - bill_parser_engine.core.reference_resolver.legal_amendment_reconstructor - INFO - Cache setting temporarily disabled for chunk # TITRE Iᴱᴿ::Article 1ᵉʳ::4°::b)\n",
      "2025-07-24 16:50:31,077 - bill_parser_engine.core.reference_resolver.pipeline - INFO - Retrieved last_detailed_result for chunk # TITRE Iᴱᴿ::Article 1ᵉʳ::4°::b): success=True\n",
      "2025-07-24 16:50:31,078 - bill_parser_engine.core.reference_resolver.legal_amendment_reconstructor - INFO - Cache temporarily disabled for chunk # TITRE Iᴱᴿ::Article 1ᵉʳ::5° bis to force fresh processing\n",
      "2025-07-24 16:50:31,078 - bill_parser_engine.core.reference_resolver.legal_amendment_reconstructor - INFO - Step 1: Decomposing amendment instruction for chunk # TITRE Iᴱᴿ::Article 1ᵉʳ::5° bis\n",
      "2025-07-24 16:50:31,078 - bill_parser_engine.core.reference_resolver.instruction_decomposer - INFO - Parsing amendment instruction: 5° bis Les articles L. 254-6-2 et L. 254-6-3 sont abrogés ;...\n",
      "2025-07-24 16:50:31,079 - bill_parser_engine.core.reference_resolver.legal_amendment_reconstructor - INFO - Step 2: Applying 1 operations sequentially for chunk # TITRE Iᴱᴿ::Article 1ᵉʳ::5° bis\n",
      "2025-07-24 16:50:31,079 - bill_parser_engine.core.reference_resolver.legal_amendment_reconstructor - INFO - Applying operation 1/1: ABROGATE for chunk # TITRE Iᴱᴿ::Article 1ᵉʳ::5° bis\n",
      "2025-07-24 16:50:31,079 - bill_parser_engine.core.reference_resolver.operation_applier - INFO - Applying ABROGATE operation: AmendmentOperation(operation_type=<OperationType.ABROGATE: 'ABROGATE'>, target_text='Les articles L....\n",
      "2025-07-24 16:50:31,080 - bill_parser_engine.core.reference_resolver.legal_amendment_reconstructor - INFO - Operation 1 succeeded (confidence: 0.95) for chunk # TITRE Iᴱᴿ::Article 1ᵉʳ::5° bis\n",
      "2025-07-24 16:50:31,080 - bill_parser_engine.core.reference_resolver.legal_amendment_reconstructor - INFO - Step 3: Validating final result for chunk # TITRE Iᴱᴿ::Article 1ᵉʳ::5° bis\n",
      "2025-07-24 16:50:31,080 - bill_parser_engine.core.reference_resolver.result_validator - INFO - Validating legal coherence for 1 operations\n",
      "2025-07-24 16:50:31,081 - bill_parser_engine.core.reference_resolver.legal_amendment_reconstructor - INFO - Reconstruction completed - Success: True, Applied: 1/1 operations, Validation: VALID\n",
      "2025-07-24 16:50:31,082 - bill_parser_engine.core.reference_resolver.legal_amendment_reconstructor - INFO - Cache setting temporarily disabled for chunk # TITRE Iᴱᴿ::Article 1ᵉʳ::5° bis\n",
      "2025-07-24 16:50:31,082 - bill_parser_engine.core.reference_resolver.pipeline - INFO - Retrieved last_detailed_result for chunk # TITRE Iᴱᴿ::Article 1ᵉʳ::5° bis: success=True\n",
      "2025-07-24 16:50:31,083 - bill_parser_engine.core.reference_resolver.legal_amendment_reconstructor - INFO - Cache temporarily disabled for chunk # TITRE Iᴱᴿ::Article 1ᵉʳ::5° ter::a) to force fresh processing\n",
      "2025-07-24 16:50:31,083 - bill_parser_engine.core.reference_resolver.legal_amendment_reconstructor - INFO - Step 1: Decomposing amendment instruction for chunk # TITRE Iᴱᴿ::Article 1ᵉʳ::5° ter::a)\n",
      "2025-07-24 16:50:31,083 - bill_parser_engine.core.reference_resolver.instruction_decomposer - INFO - Parsing amendment instruction: a) Le premier alinéa est remplacé par deux alinéas ainsi rédigés : « I. – Le conseil mentionné au 3° du II de l'article L. 254-1 couvre toute recommandation d'utilisation de produits phytopharmaceutiq...\n",
      "2025-07-24 16:50:31,084 - bill_parser_engine.core.reference_resolver.legal_amendment_reconstructor - INFO - Step 2: Applying 1 operations sequentially for chunk # TITRE Iᴱᴿ::Article 1ᵉʳ::5° ter::a)\n",
      "2025-07-24 16:50:31,084 - bill_parser_engine.core.reference_resolver.legal_amendment_reconstructor - INFO - Applying operation 1/1: REPLACE for chunk # TITRE Iᴱᴿ::Article 1ᵉʳ::5° ter::a)\n",
      "2025-07-24 16:50:31,084 - bill_parser_engine.core.reference_resolver.operation_applier - INFO - Applying REPLACE operation: AmendmentOperation(operation_type=<OperationType.REPLACE: 'REPLACE'>, target_text='Le premier alinéa...\n",
      "2025-07-24 16:50:31,085 - bill_parser_engine.core.reference_resolver.legal_amendment_reconstructor - WARNING - Operation 1 failed: Target text not found: 'Le premier alinéa...' Similar matches found: ['Les conseils mentionnés aux articles L. 254-6-2', 'es conseils mentionnés aux articles L. 254-6-2 ', 's conseils mentionnés aux articles L. 254-6-2 e'] for chunk # TITRE Iᴱᴿ::Article 1ᵉʳ::5° ter::a)\n",
      "2025-07-24 16:50:31,085 - bill_parser_engine.core.reference_resolver.legal_amendment_reconstructor - INFO - Step 3: Validating final result for chunk # TITRE Iᴱᴿ::Article 1ᵉʳ::5° ter::a)\n",
      "2025-07-24 16:50:31,086 - bill_parser_engine.core.reference_resolver.result_validator - INFO - Validating legal coherence for 0 operations\n",
      "2025-07-24 16:50:31,086 - bill_parser_engine.core.reference_resolver.legal_amendment_reconstructor - INFO - Reconstruction completed - Success: False, Applied: 0/1 operations, Validation: VALID\n",
      "2025-07-24 16:50:31,087 - bill_parser_engine.core.reference_resolver.legal_amendment_reconstructor - INFO - Cache setting temporarily disabled for chunk # TITRE Iᴱᴿ::Article 1ᵉʳ::5° ter::a)\n",
      "2025-07-24 16:50:31,087 - bill_parser_engine.core.reference_resolver.pipeline - INFO - Retrieved last_detailed_result for chunk # TITRE Iᴱᴿ::Article 1ᵉʳ::5° ter::a): success=False\n",
      "2025-07-24 16:50:31,088 - bill_parser_engine.core.reference_resolver.legal_amendment_reconstructor - INFO - Cache temporarily disabled for chunk # TITRE Iᴱᴿ::Article 1ᵉʳ::5° ter::b) to force fresh processing\n",
      "2025-07-24 16:50:31,088 - bill_parser_engine.core.reference_resolver.legal_amendment_reconstructor - INFO - Step 1: Decomposing amendment instruction for chunk # TITRE Iᴱᴿ::Article 1ᵉʳ::5° ter::b)\n",
      "2025-07-24 16:50:31,088 - bill_parser_engine.core.reference_resolver.instruction_decomposer - INFO - Parsing amendment instruction: b) Il est ajouté un II ainsi rédigé : « II. – Le conseil stratégique à l'utilisation de produits phytopharmaceutiques peut être délivré aux agriculteurs utilisant ces produits, notamment lors de leur ...\n",
      "2025-07-24 16:50:31,089 - bill_parser_engine.core.reference_resolver.legal_amendment_reconstructor - INFO - Step 2: Applying 1 operations sequentially for chunk # TITRE Iᴱᴿ::Article 1ᵉʳ::5° ter::b)\n",
      "2025-07-24 16:50:31,090 - bill_parser_engine.core.reference_resolver.legal_amendment_reconstructor - INFO - Applying operation 1/1: ADD for chunk # TITRE Iᴱᴿ::Article 1ᵉʳ::5° ter::b)\n",
      "2025-07-24 16:50:31,090 - bill_parser_engine.core.reference_resolver.operation_applier - INFO - Applying ADD operation: AmendmentOperation(operation_type=<OperationType.ADD: 'ADD'>, target_text=None, replacement_text=\"II...\n",
      "2025-07-24 16:50:31,091 - bill_parser_engine.core.reference_resolver.legal_amendment_reconstructor - INFO - Operation 1 succeeded (confidence: 0.95) for chunk # TITRE Iᴱᴿ::Article 1ᵉʳ::5° ter::b)\n",
      "2025-07-24 16:50:31,091 - bill_parser_engine.core.reference_resolver.legal_amendment_reconstructor - INFO - Step 3: Validating final result for chunk # TITRE Iᴱᴿ::Article 1ᵉʳ::5° ter::b)\n",
      "2025-07-24 16:50:31,092 - bill_parser_engine.core.reference_resolver.result_validator - INFO - Validating legal coherence for 1 operations\n",
      "2025-07-24 16:50:31,093 - bill_parser_engine.core.reference_resolver.legal_amendment_reconstructor - INFO - Reconstruction completed - Success: True, Applied: 1/1 operations, Validation: VALID\n",
      "2025-07-24 16:50:31,093 - bill_parser_engine.core.reference_resolver.legal_amendment_reconstructor - INFO - Cache setting temporarily disabled for chunk # TITRE Iᴱᴿ::Article 1ᵉʳ::5° ter::b)\n",
      "2025-07-24 16:50:31,094 - bill_parser_engine.core.reference_resolver.pipeline - INFO - Retrieved last_detailed_result for chunk # TITRE Iᴱᴿ::Article 1ᵉʳ::5° ter::b): success=True\n",
      "2025-07-24 16:50:31,094 - bill_parser_engine.core.reference_resolver.legal_amendment_reconstructor - INFO - Cache temporarily disabled for chunk # TITRE Iᴱᴿ::Article 1ᵉʳ::5° quater to force fresh processing\n",
      "2025-07-24 16:50:31,094 - bill_parser_engine.core.reference_resolver.legal_amendment_reconstructor - INFO - Step 1: Decomposing amendment instruction for chunk # TITRE Iᴱᴿ::Article 1ᵉʳ::5° quater\n",
      "2025-07-24 16:50:31,094 - bill_parser_engine.core.reference_resolver.instruction_decomposer - INFO - Parsing amendment instruction: 5° quater (nouveau) Le IV de l'article L. 254-3 est complété par une phrase ainsi rédigée : « Pour la délivrance ou le renouvellement des certificats mentionnés au II, elle contient en outre un module...\n",
      "2025-07-24 16:50:31,095 - bill_parser_engine.core.reference_resolver.legal_amendment_reconstructor - INFO - Step 2: Applying 1 operations sequentially for chunk # TITRE Iᴱᴿ::Article 1ᵉʳ::5° quater\n",
      "2025-07-24 16:50:31,095 - bill_parser_engine.core.reference_resolver.legal_amendment_reconstructor - INFO - Applying operation 1/1: ADD for chunk # TITRE Iᴱᴿ::Article 1ᵉʳ::5° quater\n",
      "2025-07-24 16:50:31,096 - bill_parser_engine.core.reference_resolver.operation_applier - INFO - Applying ADD operation: AmendmentOperation(operation_type=<OperationType.ADD: 'ADD'>, target_text=None, replacement_text=\"Po...\n",
      "2025-07-24 16:50:31,097 - bill_parser_engine.core.reference_resolver.legal_amendment_reconstructor - INFO - Operation 1 succeeded (confidence: 0.95) for chunk # TITRE Iᴱᴿ::Article 1ᵉʳ::5° quater\n",
      "2025-07-24 16:50:31,097 - bill_parser_engine.core.reference_resolver.legal_amendment_reconstructor - INFO - Step 3: Validating final result for chunk # TITRE Iᴱᴿ::Article 1ᵉʳ::5° quater\n",
      "2025-07-24 16:50:31,097 - bill_parser_engine.core.reference_resolver.result_validator - INFO - Validating legal coherence for 1 operations\n",
      "2025-07-24 16:50:31,098 - bill_parser_engine.core.reference_resolver.legal_amendment_reconstructor - INFO - Reconstruction completed - Success: True, Applied: 1/1 operations, Validation: VALID\n",
      "2025-07-24 16:50:31,099 - bill_parser_engine.core.reference_resolver.legal_amendment_reconstructor - INFO - Cache setting temporarily disabled for chunk # TITRE Iᴱᴿ::Article 1ᵉʳ::5° quater\n",
      "2025-07-24 16:50:31,099 - bill_parser_engine.core.reference_resolver.pipeline - INFO - Retrieved last_detailed_result for chunk # TITRE Iᴱᴿ::Article 1ᵉʳ::5° quater: success=True\n",
      "2025-07-24 16:50:31,099 - bill_parser_engine.core.reference_resolver.legal_amendment_reconstructor - INFO - Cache temporarily disabled for chunk # TITRE Iᴱᴿ::Article 1ᵉʳ::5° quinquies to force fresh processing\n",
      "2025-07-24 16:50:31,100 - bill_parser_engine.core.reference_resolver.legal_amendment_reconstructor - INFO - Step 1: Decomposing amendment instruction for chunk # TITRE Iᴱᴿ::Article 1ᵉʳ::5° quinquies\n",
      "2025-07-24 16:50:31,100 - bill_parser_engine.core.reference_resolver.instruction_decomposer - INFO - Parsing amendment instruction: 5° quinquies (nouveau) Au premier alinéa de l'article L. 254-7, les mots : « notamment la cible, la dose recommandée et » sont supprimés ;...\n",
      "2025-07-24 16:50:31,101 - bill_parser_engine.core.reference_resolver.legal_amendment_reconstructor - INFO - Step 2: Applying 1 operations sequentially for chunk # TITRE Iᴱᴿ::Article 1ᵉʳ::5° quinquies\n",
      "2025-07-24 16:50:31,101 - bill_parser_engine.core.reference_resolver.legal_amendment_reconstructor - INFO - Applying operation 1/1: DELETE for chunk # TITRE Iᴱᴿ::Article 1ᵉʳ::5° quinquies\n",
      "2025-07-24 16:50:31,101 - bill_parser_engine.core.reference_resolver.operation_applier - INFO - Applying DELETE operation: AmendmentOperation(operation_type=<OperationType.DELETE: 'DELETE'>, target_text='notamment la cible,...\n",
      "2025-07-24 16:50:31,102 - bill_parser_engine.core.reference_resolver.legal_amendment_reconstructor - INFO - Operation 1 succeeded (confidence: 0.95) for chunk # TITRE Iᴱᴿ::Article 1ᵉʳ::5° quinquies\n",
      "2025-07-24 16:50:31,102 - bill_parser_engine.core.reference_resolver.legal_amendment_reconstructor - INFO - Step 3: Validating final result for chunk # TITRE Iᴱᴿ::Article 1ᵉʳ::5° quinquies\n",
      "2025-07-24 16:50:31,102 - bill_parser_engine.core.reference_resolver.result_validator - INFO - Validating legal coherence for 1 operations\n",
      "2025-07-24 16:50:31,103 - bill_parser_engine.core.reference_resolver.legal_amendment_reconstructor - INFO - Reconstruction completed - Success: True, Applied: 1/1 operations, Validation: VALID\n",
      "2025-07-24 16:50:31,104 - bill_parser_engine.core.reference_resolver.legal_amendment_reconstructor - INFO - Cache setting temporarily disabled for chunk # TITRE Iᴱᴿ::Article 1ᵉʳ::5° quinquies\n",
      "2025-07-24 16:50:31,104 - bill_parser_engine.core.reference_resolver.pipeline - INFO - Retrieved last_detailed_result for chunk # TITRE Iᴱᴿ::Article 1ᵉʳ::5° quinquies: success=True\n",
      "2025-07-24 16:50:31,104 - bill_parser_engine.core.reference_resolver.legal_amendment_reconstructor - INFO - Cache temporarily disabled for chunk # TITRE Iᴱᴿ::Article 1ᵉʳ::6°::a) to force fresh processing\n",
      "2025-07-24 16:50:31,105 - bill_parser_engine.core.reference_resolver.legal_amendment_reconstructor - INFO - Step 1: Decomposing amendment instruction for chunk # TITRE Iᴱᴿ::Article 1ᵉʳ::6°::a)\n",
      "2025-07-24 16:50:31,105 - bill_parser_engine.core.reference_resolver.instruction_decomposer - INFO - Parsing amendment instruction: a) Au premier alinéa, les mots : « , et notamment la désignation de l'autorité administrative, les conditions de délivrance, de renouvellement, de suspension, de modulation et de retrait des agréments...\n",
      "2025-07-24 16:50:31,106 - bill_parser_engine.core.reference_resolver.legal_amendment_reconstructor - INFO - Step 2: Applying 1 operations sequentially for chunk # TITRE Iᴱᴿ::Article 1ᵉʳ::6°::a)\n",
      "2025-07-24 16:50:31,106 - bill_parser_engine.core.reference_resolver.legal_amendment_reconstructor - INFO - Applying operation 1/1: DELETE for chunk # TITRE Iᴱᴿ::Article 1ᵉʳ::6°::a)\n",
      "2025-07-24 16:50:31,106 - bill_parser_engine.core.reference_resolver.operation_applier - INFO - Applying DELETE operation: AmendmentOperation(operation_type=<OperationType.DELETE: 'DELETE'>, target_text=\", et notamment la d...\n",
      "2025-07-24 16:50:31,107 - bill_parser_engine.core.reference_resolver.legal_amendment_reconstructor - INFO - Operation 1 succeeded (confidence: 0.95) for chunk # TITRE Iᴱᴿ::Article 1ᵉʳ::6°::a)\n",
      "2025-07-24 16:50:31,107 - bill_parser_engine.core.reference_resolver.legal_amendment_reconstructor - INFO - Step 3: Validating final result for chunk # TITRE Iᴱᴿ::Article 1ᵉʳ::6°::a)\n",
      "2025-07-24 16:50:31,107 - bill_parser_engine.core.reference_resolver.result_validator - INFO - Validating legal coherence for 1 operations\n",
      "2025-07-24 16:50:31,108 - bill_parser_engine.core.reference_resolver.legal_amendment_reconstructor - INFO - Reconstruction completed - Success: True, Applied: 1/1 operations, Validation: VALID\n",
      "2025-07-24 16:50:31,109 - bill_parser_engine.core.reference_resolver.legal_amendment_reconstructor - INFO - Cache setting temporarily disabled for chunk # TITRE Iᴱᴿ::Article 1ᵉʳ::6°::a)\n",
      "2025-07-24 16:50:31,109 - bill_parser_engine.core.reference_resolver.pipeline - INFO - Retrieved last_detailed_result for chunk # TITRE Iᴱᴿ::Article 1ᵉʳ::6°::a): success=True\n",
      "2025-07-24 16:50:31,109 - bill_parser_engine.core.reference_resolver.legal_amendment_reconstructor - INFO - Cache temporarily disabled for chunk # TITRE Iᴱᴿ::Article 1ᵉʳ::6°::b) to force fresh processing\n",
      "2025-07-24 16:50:31,109 - bill_parser_engine.core.reference_resolver.legal_amendment_reconstructor - INFO - Step 1: Decomposing amendment instruction for chunk # TITRE Iᴱᴿ::Article 1ᵉʳ::6°::b)\n",
      "2025-07-24 16:50:31,109 - bill_parser_engine.core.reference_resolver.instruction_decomposer - INFO - Parsing amendment instruction: b) Le second alinéa est ainsi modifié : à la première phrase, après le mot : « prévoit », il est inséré le mot : « notamment » ; la dernière phrase est ainsi rédigée : « Il précise les modalités de dé...\n",
      "2025-07-24 16:50:31,110 - bill_parser_engine.core.reference_resolver.legal_amendment_reconstructor - INFO - Step 2: Applying 2 operations sequentially for chunk # TITRE Iᴱᴿ::Article 1ᵉʳ::6°::b)\n",
      "2025-07-24 16:50:31,111 - bill_parser_engine.core.reference_resolver.legal_amendment_reconstructor - INFO - Applying operation 1/2: INSERT for chunk # TITRE Iᴱᴿ::Article 1ᵉʳ::6°::b)\n",
      "2025-07-24 16:50:31,111 - bill_parser_engine.core.reference_resolver.operation_applier - INFO - Applying INSERT operation: AmendmentOperation(operation_type=<OperationType.INSERT: 'INSERT'>, target_text='prévoit', replaceme...\n",
      "2025-07-24 16:50:31,112 - bill_parser_engine.core.reference_resolver.legal_amendment_reconstructor - INFO - Operation 1 succeeded (confidence: 0.95) for chunk # TITRE Iᴱᴿ::Article 1ᵉʳ::6°::b)\n",
      "2025-07-24 16:50:31,112 - bill_parser_engine.core.reference_resolver.legal_amendment_reconstructor - INFO - Applying operation 2/2: REWRITE for chunk # TITRE Iᴱᴿ::Article 1ᵉʳ::6°::b)\n",
      "2025-07-24 16:50:31,112 - bill_parser_engine.core.reference_resolver.operation_applier - INFO - Applying REWRITE operation: AmendmentOperation(operation_type=<OperationType.REWRITE: 'REWRITE'>, target_text=None, replacement_...\n",
      "2025-07-24 16:50:31,113 - bill_parser_engine.core.reference_resolver.legal_amendment_reconstructor - INFO - Operation 2 succeeded (confidence: 0.95) for chunk # TITRE Iᴱᴿ::Article 1ᵉʳ::6°::b)\n",
      "2025-07-24 16:50:31,113 - bill_parser_engine.core.reference_resolver.legal_amendment_reconstructor - INFO - Step 3: Validating final result for chunk # TITRE Iᴱᴿ::Article 1ᵉʳ::6°::b)\n",
      "2025-07-24 16:50:31,113 - bill_parser_engine.core.reference_resolver.result_validator - INFO - Validating legal coherence for 2 operations\n",
      "2025-07-24 16:50:31,114 - bill_parser_engine.core.reference_resolver.legal_amendment_reconstructor - INFO - Reconstruction completed - Success: True, Applied: 2/2 operations, Validation: VALID\n",
      "2025-07-24 16:50:31,115 - bill_parser_engine.core.reference_resolver.legal_amendment_reconstructor - INFO - Cache setting temporarily disabled for chunk # TITRE Iᴱᴿ::Article 1ᵉʳ::6°::b)\n",
      "2025-07-24 16:50:31,115 - bill_parser_engine.core.reference_resolver.pipeline - INFO - Retrieved last_detailed_result for chunk # TITRE Iᴱᴿ::Article 1ᵉʳ::6°::b): success=True\n",
      "2025-07-24 16:50:31,115 - bill_parser_engine.core.reference_resolver.legal_amendment_reconstructor - INFO - Cache temporarily disabled for chunk # TITRE Iᴱᴿ::Article 1ᵉʳ::6° bis::a) to force fresh processing\n",
      "2025-07-24 16:50:31,115 - bill_parser_engine.core.reference_resolver.legal_amendment_reconstructor - INFO - Step 1: Decomposing amendment instruction for chunk # TITRE Iᴱᴿ::Article 1ᵉʳ::6° bis::a)\n",
      "2025-07-24 16:50:31,116 - bill_parser_engine.core.reference_resolver.instruction_decomposer - INFO - Parsing amendment instruction: a) À la fin de la première phrase du premier alinéa du I, les mots : « auprès desquelles la redevance pour pollutions diffuses est exigible, mentionnées au IV de l'article L. 213-10-8 du code de l'env...\n",
      "2025-07-24 16:50:31,116 - bill_parser_engine.core.reference_resolver.legal_amendment_reconstructor - INFO - Step 2: Applying 1 operations sequentially for chunk # TITRE Iᴱᴿ::Article 1ᵉʳ::6° bis::a)\n",
      "2025-07-24 16:50:31,116 - bill_parser_engine.core.reference_resolver.legal_amendment_reconstructor - INFO - Applying operation 1/1: REPLACE for chunk # TITRE Iᴱᴿ::Article 1ᵉʳ::6° bis::a)\n",
      "2025-07-24 16:50:31,117 - bill_parser_engine.core.reference_resolver.operation_applier - INFO - Applying REPLACE operation: AmendmentOperation(operation_type=<OperationType.REPLACE: 'REPLACE'>, target_text=\"auprès desquelles...\n",
      "2025-07-24 16:50:31,117 - bill_parser_engine.core.reference_resolver.legal_amendment_reconstructor - INFO - Operation 1 succeeded (confidence: 0.95) for chunk # TITRE Iᴱᴿ::Article 1ᵉʳ::6° bis::a)\n",
      "2025-07-24 16:50:31,118 - bill_parser_engine.core.reference_resolver.legal_amendment_reconstructor - INFO - Step 3: Validating final result for chunk # TITRE Iᴱᴿ::Article 1ᵉʳ::6° bis::a)\n",
      "2025-07-24 16:50:31,118 - bill_parser_engine.core.reference_resolver.result_validator - INFO - Validating legal coherence for 1 operations\n",
      "2025-07-24 16:50:31,119 - bill_parser_engine.core.reference_resolver.legal_amendment_reconstructor - INFO - Reconstruction completed - Success: True, Applied: 1/1 operations, Validation: VALID\n",
      "2025-07-24 16:50:31,119 - bill_parser_engine.core.reference_resolver.legal_amendment_reconstructor - INFO - Cache setting temporarily disabled for chunk # TITRE Iᴱᴿ::Article 1ᵉʳ::6° bis::a)\n",
      "2025-07-24 16:50:31,119 - bill_parser_engine.core.reference_resolver.pipeline - INFO - Retrieved last_detailed_result for chunk # TITRE Iᴱᴿ::Article 1ᵉʳ::6° bis::a): success=True\n",
      "2025-07-24 16:50:31,120 - bill_parser_engine.core.reference_resolver.legal_amendment_reconstructor - INFO - Cache temporarily disabled for chunk # TITRE Iᴱᴿ::Article 1ᵉʳ::6° bis::b) to force fresh processing\n",
      "2025-07-24 16:50:31,120 - bill_parser_engine.core.reference_resolver.legal_amendment_reconstructor - INFO - Step 1: Decomposing amendment instruction for chunk # TITRE Iᴱᴿ::Article 1ᵉʳ::6° bis::b)\n",
      "2025-07-24 16:50:31,120 - bill_parser_engine.core.reference_resolver.instruction_decomposer - INFO - Parsing amendment instruction: b) Au premier alinéa du II, les mots : « pour les périodes du 1er janvier 2020 au 31 décembre 2020 et du 1er janvier 2021 au 31 décembre 2021, puis, à compter du 1er janvier 2022, pour chaque période ...\n",
      "2025-07-24 16:50:31,121 - bill_parser_engine.core.reference_resolver.legal_amendment_reconstructor - INFO - Step 2: Applying 1 operations sequentially for chunk # TITRE Iᴱᴿ::Article 1ᵉʳ::6° bis::b)\n",
      "2025-07-24 16:50:31,121 - bill_parser_engine.core.reference_resolver.legal_amendment_reconstructor - INFO - Applying operation 1/1: REPLACE for chunk # TITRE Iᴱᴿ::Article 1ᵉʳ::6° bis::b)\n",
      "2025-07-24 16:50:31,121 - bill_parser_engine.core.reference_resolver.operation_applier - INFO - Applying REPLACE operation: AmendmentOperation(operation_type=<OperationType.REPLACE: 'REPLACE'>, target_text=\"pour les périodes...\n",
      "2025-07-24 16:50:31,127 - bill_parser_engine.core.reference_resolver.legal_amendment_reconstructor - WARNING - Operation 1 failed: Target text not found: 'pour les périodes du 1er janvier 2020 au 31 décembre 2020 et du 1er janvier 2021 au 31 décembre 2021...' Similar matches found: [\"rsonnes sont dénommées les “ obligés ”. L'obligé est tenu de mettre en place des actions visant à la\", \"sonnes sont dénommées les “ obligés ”. L'obligé est tenu de mettre en place des actions visant à la \", \"onnes sont dénommées les “ obligés ”. L'obligé est tenu de mettre en place des actions visant à la r\"] for chunk # TITRE Iᴱᴿ::Article 1ᵉʳ::6° bis::b)\n",
      "2025-07-24 16:50:31,127 - bill_parser_engine.core.reference_resolver.legal_amendment_reconstructor - INFO - Step 3: Validating final result for chunk # TITRE Iᴱᴿ::Article 1ᵉʳ::6° bis::b)\n",
      "2025-07-24 16:50:31,127 - bill_parser_engine.core.reference_resolver.result_validator - INFO - Validating legal coherence for 0 operations\n",
      "2025-07-24 16:50:31,128 - bill_parser_engine.core.reference_resolver.legal_amendment_reconstructor - INFO - Reconstruction completed - Success: False, Applied: 0/1 operations, Validation: VALID\n",
      "2025-07-24 16:50:31,129 - bill_parser_engine.core.reference_resolver.legal_amendment_reconstructor - INFO - Cache setting temporarily disabled for chunk # TITRE Iᴱᴿ::Article 1ᵉʳ::6° bis::b)\n",
      "2025-07-24 16:50:31,129 - bill_parser_engine.core.reference_resolver.pipeline - INFO - Retrieved last_detailed_result for chunk # TITRE Iᴱᴿ::Article 1ᵉʳ::6° bis::b): success=False\n",
      "2025-07-24 16:50:31,129 - bill_parser_engine.core.reference_resolver.legal_amendment_reconstructor - INFO - Cache temporarily disabled for chunk # TITRE Iᴱᴿ::Article 1ᵉʳ::6° ter to force fresh processing\n",
      "2025-07-24 16:50:31,129 - bill_parser_engine.core.reference_resolver.legal_amendment_reconstructor - INFO - Step 1: Decomposing amendment instruction for chunk # TITRE Iᴱᴿ::Article 1ᵉʳ::6° ter\n",
      "2025-07-24 16:50:31,130 - bill_parser_engine.core.reference_resolver.instruction_decomposer - INFO - Parsing amendment instruction: 6° ter À la fin du premier alinéa du I de l'article L. 254-12, le montant : « 15 000 € » est remplacé par le montant : « 50 000 € » ;...\n",
      "2025-07-24 16:50:31,131 - bill_parser_engine.core.reference_resolver.legal_amendment_reconstructor - INFO - Step 2: Applying 1 operations sequentially for chunk # TITRE Iᴱᴿ::Article 1ᵉʳ::6° ter\n",
      "2025-07-24 16:50:31,131 - bill_parser_engine.core.reference_resolver.legal_amendment_reconstructor - INFO - Applying operation 1/1: REPLACE for chunk # TITRE Iᴱᴿ::Article 1ᵉʳ::6° ter\n",
      "2025-07-24 16:50:31,131 - bill_parser_engine.core.reference_resolver.operation_applier - INFO - Applying REPLACE operation: AmendmentOperation(operation_type=<OperationType.REPLACE: 'REPLACE'>, target_text='15 000 €', replac...\n",
      "2025-07-24 16:50:31,132 - bill_parser_engine.core.reference_resolver.legal_amendment_reconstructor - INFO - Operation 1 succeeded (confidence: 0.95) for chunk # TITRE Iᴱᴿ::Article 1ᵉʳ::6° ter\n",
      "2025-07-24 16:50:31,133 - bill_parser_engine.core.reference_resolver.legal_amendment_reconstructor - INFO - Step 3: Validating final result for chunk # TITRE Iᴱᴿ::Article 1ᵉʳ::6° ter\n",
      "2025-07-24 16:50:31,133 - bill_parser_engine.core.reference_resolver.result_validator - INFO - Validating legal coherence for 1 operations\n",
      "2025-07-24 16:50:31,134 - bill_parser_engine.core.reference_resolver.legal_amendment_reconstructor - INFO - Reconstruction completed - Success: True, Applied: 1/1 operations, Validation: VALID\n",
      "2025-07-24 16:50:31,135 - bill_parser_engine.core.reference_resolver.legal_amendment_reconstructor - INFO - Cache setting temporarily disabled for chunk # TITRE Iᴱᴿ::Article 1ᵉʳ::6° ter\n",
      "2025-07-24 16:50:31,135 - bill_parser_engine.core.reference_resolver.pipeline - INFO - Retrieved last_detailed_result for chunk # TITRE Iᴱᴿ::Article 1ᵉʳ::6° ter: success=True\n",
      "2025-07-24 16:50:31,135 - bill_parser_engine.core.reference_resolver.legal_amendment_reconstructor - INFO - Processing INSERT operation - original text is empty as expected\n",
      "2025-07-24 16:50:31,135 - bill_parser_engine.core.reference_resolver.legal_amendment_reconstructor - INFO - Cache temporarily disabled for chunk # TITRE Iᴱᴿ::Article 1ᵉʳ::8° to force fresh processing\n",
      "2025-07-24 16:50:31,136 - bill_parser_engine.core.reference_resolver.legal_amendment_reconstructor - INFO - Step 1: Decomposing amendment instruction for chunk # TITRE Iᴱᴿ::Article 1ᵉʳ::8°\n",
      "2025-07-24 16:50:31,136 - bill_parser_engine.core.reference_resolver.instruction_decomposer - INFO - Parsing amendment instruction: 8° Le titre Ier du livre III est complété par un chapitre VI ainsi rédigé :\n",
      "\n",
      "    « CHAPITRE VI\n",
      "\n",
      "    « Conseil stratégique global\n",
      "\n",
      "    « Art. L. 316-1. – I. – Le conseil stratégique global vise à améli...\n",
      "2025-07-24 16:50:31,137 - bill_parser_engine.core.reference_resolver.legal_amendment_reconstructor - INFO - Step 2: Applying 1 operations sequentially for chunk # TITRE Iᴱᴿ::Article 1ᵉʳ::8°\n",
      "2025-07-24 16:50:31,137 - bill_parser_engine.core.reference_resolver.legal_amendment_reconstructor - INFO - Applying operation 1/1: ADD for chunk # TITRE Iᴱᴿ::Article 1ᵉʳ::8°\n",
      "2025-07-24 16:50:31,137 - bill_parser_engine.core.reference_resolver.operation_applier - INFO - Applying ADD operation: AmendmentOperation(operation_type=<OperationType.ADD: 'ADD'>, target_text=None, replacement_text=\"CH...\n",
      "2025-07-24 16:50:31,138 - bill_parser_engine.core.reference_resolver.legal_amendment_reconstructor - INFO - Operation 1 succeeded (confidence: 0.95) for chunk # TITRE Iᴱᴿ::Article 1ᵉʳ::8°\n",
      "2025-07-24 16:50:31,138 - bill_parser_engine.core.reference_resolver.legal_amendment_reconstructor - INFO - Step 3: Validating final result for chunk # TITRE Iᴱᴿ::Article 1ᵉʳ::8°\n",
      "2025-07-24 16:50:31,138 - bill_parser_engine.core.reference_resolver.result_validator - INFO - Validating legal coherence for 1 operations\n",
      "2025-07-24 16:50:31,140 - bill_parser_engine.core.reference_resolver.legal_amendment_reconstructor - INFO - Reconstruction completed - Success: True, Applied: 1/1 operations, Validation: VALID\n",
      "2025-07-24 16:50:31,172 - bill_parser_engine.core.reference_resolver.legal_amendment_reconstructor - INFO - Cache setting temporarily disabled for chunk # TITRE Iᴱᴿ::Article 1ᵉʳ::8°\n",
      "2025-07-24 16:50:31,178 - bill_parser_engine.core.reference_resolver.pipeline - INFO - Retrieved last_detailed_result for chunk # TITRE Iᴱᴿ::Article 1ᵉʳ::8°: success=True\n",
      "2025-07-24 16:50:31,185 - bill_parser_engine.core.reference_resolver.legal_amendment_reconstructor - INFO - Cache temporarily disabled for chunk # TITRE Iᴱᴿ::Article 1ᵉʳ::9° to force fresh processing\n",
      "2025-07-24 16:50:31,185 - bill_parser_engine.core.reference_resolver.legal_amendment_reconstructor - INFO - Step 1: Decomposing amendment instruction for chunk # TITRE Iᴱᴿ::Article 1ᵉʳ::9°\n",
      "2025-07-24 16:50:31,186 - bill_parser_engine.core.reference_resolver.instruction_decomposer - INFO - Parsing amendment instruction: 9° (nouveau) À la seconde phrase de l'article L. 510-2, les mots : « les modalités d'application du second alinéa de l'article L. 254-1-2 et prévoit » sont supprimés....\n",
      "2025-07-24 16:50:31,187 - bill_parser_engine.core.reference_resolver.legal_amendment_reconstructor - INFO - Step 2: Applying 1 operations sequentially for chunk # TITRE Iᴱᴿ::Article 1ᵉʳ::9°\n",
      "2025-07-24 16:50:31,187 - bill_parser_engine.core.reference_resolver.legal_amendment_reconstructor - INFO - Applying operation 1/1: DELETE for chunk # TITRE Iᴱᴿ::Article 1ᵉʳ::9°\n",
      "2025-07-24 16:50:31,188 - bill_parser_engine.core.reference_resolver.operation_applier - INFO - Applying DELETE operation: AmendmentOperation(operation_type=<OperationType.DELETE: 'DELETE'>, target_text=\"les modalités d'app...\n",
      "2025-07-24 16:50:31,189 - bill_parser_engine.core.reference_resolver.legal_amendment_reconstructor - INFO - Operation 1 succeeded (confidence: 0.95) for chunk # TITRE Iᴱᴿ::Article 1ᵉʳ::9°\n",
      "2025-07-24 16:50:31,189 - bill_parser_engine.core.reference_resolver.legal_amendment_reconstructor - INFO - Step 3: Validating final result for chunk # TITRE Iᴱᴿ::Article 1ᵉʳ::9°\n",
      "2025-07-24 16:50:31,189 - bill_parser_engine.core.reference_resolver.result_validator - INFO - Validating legal coherence for 1 operations\n",
      "2025-07-24 16:50:31,190 - bill_parser_engine.core.reference_resolver.legal_amendment_reconstructor - INFO - Reconstruction completed - Success: True, Applied: 1/1 operations, Validation: VALID\n",
      "2025-07-24 16:50:31,191 - bill_parser_engine.core.reference_resolver.legal_amendment_reconstructor - INFO - Cache setting temporarily disabled for chunk # TITRE Iᴱᴿ::Article 1ᵉʳ::9°\n",
      "2025-07-24 16:50:31,191 - bill_parser_engine.core.reference_resolver.pipeline - INFO - Retrieved last_detailed_result for chunk # TITRE Iᴱᴿ::Article 1ᵉʳ::9°: success=True\n",
      "2025-07-24 16:50:31,191 - bill_parser_engine.core.reference_resolver.pipeline - INFO - Text reconstruction complete: 18/22 successful reconstructions (4 failed)\n",
      "2025-07-24 16:50:31,192 - bill_parser_engine.core.reference_resolver.pipeline - INFO - Failure breakdown: 0 no reconstruction result, 4 reconstruction failed\n"
     ]
    }
   ],
   "source": [
    "reconstruction_results = pipeline.step_4_reconstruct_texts()\n"
   ]
  },
  {
   "cell_type": "code",
   "execution_count": null,
   "id": "69157ca8-950f-4506-8964-e26ae151cb86",
   "metadata": {},
   "outputs": [],
   "source": []
  },
  {
   "cell_type": "code",
   "execution_count": 16,
   "id": "f7cab9db-189e-4f27-8819-ded22a3bde80",
   "metadata": {},
   "outputs": [
    {
     "data": {
      "text/plain": [
       "{'total_chunks': 22,\n",
       " 'successful_reconstructions': 18,\n",
       " 'failed_reconstructions': 4,\n",
       " 'success_rate': 0.8181818181818182,\n",
       " 'operation_type_stats': {'MODIFY': 14, 'INSERT': 3, 'ABROGATE': 1},\n",
       " 'text_length_stats': {'average_deleted_length': 50.72222222222222,\n",
       "  'average_newly_inserted_length': 225.22222222222223,\n",
       "  'average_after_state_length': 1624.888888888889,\n",
       "  'max_deleted_length': 225,\n",
       "  'max_newly_inserted_length': 1344,\n",
       "  'max_after_state_length': 3562,\n",
       "  'total_deleted_characters': 913,\n",
       "  'total_newly_inserted_characters': 4054,\n",
       "  'total_after_state_characters': 29248},\n",
       " 'failure_analysis': {'no_reconstruction_result': 0,\n",
       "  'reconstruction_failed': 4},\n",
       " 'operation_failure_stats': {},\n",
       " 'failed_chunks': ['# TITRE Iᴱᴿ::Article 1ᵉʳ::3° bis::a)',\n",
       "  '# TITRE Iᴱᴿ::Article 1ᵉʳ::3° quater::a)',\n",
       "  '# TITRE Iᴱᴿ::Article 1ᵉʳ::5° ter::a)',\n",
       "  '# TITRE Iᴱᴿ::Article 1ᵉʳ::6° bis::b)']}"
      ]
     },
     "execution_count": 16,
     "metadata": {},
     "output_type": "execute_result"
    }
   ],
   "source": [
    "pipeline._analyze_reconstruction_results(reconstruction_results)#.get('failed_chunks')"
   ]
  },
  {
   "cell_type": "code",
   "execution_count": null,
   "id": "d48bcf0a-bd28-41e6-a7b1-0bac75424bf3",
   "metadata": {},
   "outputs": [],
   "source": []
  },
  {
   "cell_type": "code",
   "execution_count": 17,
   "id": "76a541c8-bda4-4047-a59d-a363a0db5a9e",
   "metadata": {
    "scrolled": true
   },
   "outputs": [
    {
     "data": {
      "text/plain": [
       "{'chunk_id': '# TITRE Iᴱᴿ::Article 1ᵉʳ::2°::a)',\n",
       " 'chunk_text_preview': 'a) Au 3° du II, les mots : « prévu aux articles L. 254-6-2 et L. 254-6-3 » sont remplacés par les mo...',\n",
       " 'hierarchy_path': ['# TITRE Iᴱᴿ', 'Article 1ᵉʳ', '2°', 'a)'],\n",
       " 'target_article': {'operation_type': 'MODIFY',\n",
       "  'code': 'code rural et de la pêche maritime',\n",
       "  'article': 'L. 254-1',\n",
       "  'confidence': 1.0,\n",
       "  'raw_text': 'a) Au 3° du II, les mots : « prévu aux articles L....'},\n",
       " 'reconstruction_result': {'deleted_or_replaced_text': 'prévu aux articles L. 254-6-2 et L. 254-6-3',\n",
       "  'newly_inserted_text': \"à l'utilisation des produits phytopharmaceutiques\",\n",
       "  'intermediate_after_state_text': \"I.-Les produits phytopharmaceutiques mentionnés au présent chapitre sont ceux définis au 1 de l'article 2 du règlement (CE) n° 1107/2009. II.-Est subordonné à la détention d'un agrément l'exercice des activités suivantes : 1° La mise en vente, la vente ou la distribution à titre gratuit des produits phytopharmaceutiques aux utilisateurs de ces produits ou aux personnes physiques ou morales agissant pour leur compte, y compris les groupements d'achats ; 2° L'application, en qualité de prestataire de services, des produits phytopharmaceutiques, sauf si elle est effectuée dans le cadre de contrats d'entraide à titre gratuit au sens de l'article L. 325-1 ou par un exploitant agricole titulaire du certificat mentionné au II de l'article L. 254-3 sur des exploitations dont la surface agricole utile est inférieure ou égale à la surface définie en application du premier alinéa du V de l'article L. 732-39 , ou si les produits appliqués sont des produits de biocontrôle définis à l'article L. 253-6 et ne faisant pas l'objet d'une classification mentionnée à l'article L. 253-4 ou si ces produits sont des produits à faible risque au sens de l'article 47 du règlement (CE) n° 1107/2009 du 21 octobre 2009 ou s'ils sont uniquement composés de substances de base au sens de l'article 23 du même règlement. 3° Le conseil à l'utilisation des produits phytopharmaceutiques, lorsque cette activité s'exerce à titre professionnel. III.-Lorsque l'agrément est délivré à une personne morale, il l'est pour l'activité de l'ensemble de ses établissements ainsi que, si elle en fait la demande, pour l'activité d'établissements d'autres personnes morales au sein desquelles elle détient une participation financière, ou au bénéfice desquelles elle gère des services communs. Pour l'application du présent chapitre l'ensemble des établissements pour lesquels une entreprise sollicite un agrément sont regardés comme ses établissements. IV.-Les personnes qui mettent des produits phytopharmaceutiques sur le marché autres que celles exerçant les activités mentionnées au 1° du II justifient de l'obtention d'un certificat attestant qu'elles ont acquis les connaissances appropriées à leurs rôle et responsabilités ou de l'emploi d'une personne détenant ce certificat. V.-Les détenteurs de l'agrément mentionné au II, les personnes mentionnées au IV du présent article et les personnes physiques mentionnées au II de l'article L. 254-3 doivent concourir, dans le cadre de leurs activités, à la réalisation des objectifs du plan d'action national prévu à l'article L. 253-6, notamment par la mise en œuvre de la lutte intégrée contre les ennemis des cultures. VI.-L'exercice de l'activité de conseil mentionnée au 3° du II est incompatible avec celui des activités mentionnées aux 1° ou 2° du II ou au IV. Toutefois, cette incompatibilité ne fait pas obstacle à ce que les personnes exerçant les activités mentionnées au 1° du II délivrent les informations énumérées au premier alinéa de l'article L. 254-7, ni à ce qu'elles promeuvent, mettent en place ou facilitent la mise en œuvre des actions tendant à la réduction de l'utilisation de produits phytopharmaceutiques prévues à l'article L. 254-10-1 .\",\n",
       "  'deleted_text_length': 43,\n",
       "  'newly_inserted_text_length': 49,\n",
       "  'after_state_length': 3191},\n",
       " 'advanced_reconstruction_metadata': {'success': True,\n",
       "  'operations_applied': 1,\n",
       "  'operations_failed': 0,\n",
       "  'processing_time_ms': 4,\n",
       "  'validation_warnings': [\"SUMMARY: Le texte modifié est conforme aux critères de validation. La structure hiérarchique est respectée, les opérations d'amendement ont été correctement appliquées, et le formatage ainsi que la grammaire sont appropriés.\"],\n",
       "  'operations_details': [{'type': 'REPLACE',\n",
       "    'position': 'Au 3° du II',\n",
       "    'confidence': 0.99}]},\n",
       " 'original_text_used': {'article_key': 'code rural et de la pêche maritime::L. 254-1',\n",
       "  'text_length': 3185,\n",
       "  'text_preview': \"I.-Les produits phytopharmaceutiques mentionnés au présent chapitre sont ceux définis au 1 de l'arti...\"},\n",
       " 'reconstructed_at': '2025-07-24T16:50:31.022135'}"
      ]
     },
     "execution_count": 17,
     "metadata": {},
     "output_type": "execute_result"
    }
   ],
   "source": [
    "reconstruction_results[0]"
   ]
  },
  {
   "cell_type": "code",
   "execution_count": null,
   "id": "9726a124-6c0c-4105-b9eb-07dd282521f4",
   "metadata": {},
   "outputs": [],
   "source": []
  },
  {
   "cell_type": "code",
   "execution_count": null,
   "id": "05a3da78-fbc7-4a9a-8443-f2a7ab942e4f",
   "metadata": {},
   "outputs": [],
   "source": []
  },
  {
   "cell_type": "code",
   "execution_count": 18,
   "id": "eb773b51-34a9-487d-9edd-c38970733445",
   "metadata": {},
   "outputs": [],
   "source": [
    "failed_reconstruction = []\n",
    "for res in reconstruction_results:\n",
    "    if res.get('chunk_id') in pipeline._analyze_reconstruction_results(reconstruction_results).get('failed_chunks'):\n",
    "        failed_reconstruction.append(res)"
   ]
  },
  {
   "cell_type": "code",
   "execution_count": 19,
   "id": "78dd5bb8-c486-4437-853f-36440a5de80f",
   "metadata": {
    "scrolled": true
   },
   "outputs": [
    {
     "data": {
      "text/plain": [
       "[{'chunk_id': '# TITRE Iᴱᴿ::Article 1ᵉʳ::3° bis::a)',\n",
       "  'chunk_text_preview': 'a) Le I est ainsi modifié : à la fin du 1°, les mots : « mentionnée aux 1° ou 2° du même II ou au IV...',\n",
       "  'hierarchy_path': ['# TITRE Iᴱᴿ', 'Article 1ᵉʳ', '3° bis', 'a)'],\n",
       "  'target_article': {'operation_type': 'MODIFY',\n",
       "   'code': 'code rural et de la pêche maritime',\n",
       "   'article': 'L. 254-1',\n",
       "   'confidence': 1.0,\n",
       "   'raw_text': 'a) Le I est ainsi modifié : à la fin du 1°, les mo...'},\n",
       "  'reconstruction_result': {'deleted_or_replaced_text': '',\n",
       "   'newly_inserted_text': '',\n",
       "   'intermediate_after_state_text': \"I.-Les produits phytopharmaceutiques mentionnés au présent chapitre sont ceux définis au 1 de l'article 2 du règlement (CE) n° 1107/2009. II.-Est subordonné à la détention d'un agrément l'exercice des activités suivantes : 1° La mise en vente, la vente ou la distribution à titre gratuit des produits phytopharmaceutiques aux utilisateurs de ces produits ou aux personnes physiques ou morales agissant pour leur compte, y compris les groupements d'achats ; 2° L'application, en qualité de prestataire de services, des produits phytopharmaceutiques, sauf si elle est effectuée dans le cadre de contrats d'entraide à titre gratuit au sens de l'article L. 325-1 ou par un exploitant agricole titulaire du certificat mentionné au II de l'article L. 254-3 sur des exploitations dont la surface agricole utile est inférieure ou égale à la surface définie en application du premier alinéa du V de l'article L. 732-39 , ou si les produits appliqués sont des produits de biocontrôle définis à l'article L. 253-6 et ne faisant pas l'objet d'une classification mentionnée à l'article L. 253-4 ou si ces produits sont des produits à faible risque au sens de l'article 47 du règlement (CE) n° 1107/2009 du 21 octobre 2009 ou s'ils sont uniquement composés de substances de base au sens de l'article 23 du même règlement. 3° Le conseil prévu aux articles L. 254-6-2 et L. 254-6-3, lorsque cette activité s'exerce à titre professionnel. III.-Lorsque l'agrément est délivré à une personne morale, il l'est pour l'activité de l'ensemble de ses établissements ainsi que, si elle en fait la demande, pour l'activité d'établissements d'autres personnes morales au sein desquelles elle détient une participation financière, ou au bénéfice desquelles elle gère des services communs. Pour l'application du présent chapitre l'ensemble des établissements pour lesquels une entreprise sollicite un agrément sont regardés comme ses établissements. IV.-Les personnes qui mettent des produits phytopharmaceutiques sur le marché autres que celles exerçant les activités mentionnées au 1° du II justifient de l'obtention d'un certificat attestant qu'elles ont acquis les connaissances appropriées à leurs rôle et responsabilités ou de l'emploi d'une personne détenant ce certificat. V.-Les détenteurs de l'agrément mentionné au II, les personnes mentionnées au IV du présent article et les personnes physiques mentionnées au II de l'article L. 254-3 doivent concourir, dans le cadre de leurs activités, à la réalisation des objectifs du plan d'action national prévu à l'article L. 253-6, notamment par la mise en œuvre de la lutte intégrée contre les ennemis des cultures. VI.-L'exercice de l'activité de conseil mentionnée au 3° du II est incompatible avec celui des activités mentionnées aux 1° ou 2° du II ou au IV. Toutefois, cette incompatibilité ne fait pas obstacle à ce que les personnes exerçant les activités mentionnées au 1° du II délivrent les informations énumérées au premier alinéa de l'article L. 254-7, ni à ce qu'elles promeuvent, mettent en place ou facilitent la mise en œuvre des actions tendant à la réduction de l'utilisation de produits phytopharmaceutiques prévues à l'article L. 254-10-1 .\",\n",
       "   'deleted_text_length': 0,\n",
       "   'newly_inserted_text_length': 0,\n",
       "   'after_state_length': 3185},\n",
       "  'advanced_reconstruction_metadata': {'success': False,\n",
       "   'operations_applied': 0,\n",
       "   'operations_failed': 4,\n",
       "   'processing_time_ms': 7,\n",
       "   'validation_warnings': [\"SUMMARY: Le texte modifié est conforme aux critères de validation. Aucune erreur critique, majeure ou mineure n'a été détectée. La structure, la hiérarchie, la numérotation, les références internes, la ponctuation, les guillemets, l'espacement, les majuscules/minuscules, les caractères spéciaux, la grammaire et la syntaxe sont tous corrects.\"],\n",
       "   'operations_details': []},\n",
       "  'original_text_used': {'article_key': 'code rural et de la pêche maritime::L. 254-1',\n",
       "   'text_length': 3185,\n",
       "   'text_preview': \"I.-Les produits phytopharmaceutiques mentionnés au présent chapitre sont ceux définis au 1 de l'arti...\"},\n",
       "  'reconstructed_at': '2025-07-24T16:50:31.036573'},\n",
       " {'chunk_id': '# TITRE Iᴱᴿ::Article 1ᵉʳ::3° quater::a)',\n",
       "  'chunk_text_preview': 'a) À la fin du I, les mots : « mentionnée aux 1° ou 2° du même II ou au IV de ce même article » sont...',\n",
       "  'hierarchy_path': ['# TITRE Iᴱᴿ', 'Article 1ᵉʳ', '3° quater', 'a)'],\n",
       "  'target_article': {'operation_type': 'MODIFY',\n",
       "   'code': 'code rural et de la pêche maritime',\n",
       "   'article': 'L. 254-1',\n",
       "   'confidence': 1.0,\n",
       "   'raw_text': 'a) À la fin du I, les mots : « mentionnée aux 1° o...'},\n",
       "  'reconstruction_result': {'deleted_or_replaced_text': '',\n",
       "   'newly_inserted_text': '',\n",
       "   'intermediate_after_state_text': \"I.-Les produits phytopharmaceutiques mentionnés au présent chapitre sont ceux définis au 1 de l'article 2 du règlement (CE) n° 1107/2009. II.-Est subordonné à la détention d'un agrément l'exercice des activités suivantes : 1° La mise en vente, la vente ou la distribution à titre gratuit des produits phytopharmaceutiques aux utilisateurs de ces produits ou aux personnes physiques ou morales agissant pour leur compte, y compris les groupements d'achats ; 2° L'application, en qualité de prestataire de services, des produits phytopharmaceutiques, sauf si elle est effectuée dans le cadre de contrats d'entraide à titre gratuit au sens de l'article L. 325-1 ou par un exploitant agricole titulaire du certificat mentionné au II de l'article L. 254-3 sur des exploitations dont la surface agricole utile est inférieure ou égale à la surface définie en application du premier alinéa du V de l'article L. 732-39 , ou si les produits appliqués sont des produits de biocontrôle définis à l'article L. 253-6 et ne faisant pas l'objet d'une classification mentionnée à l'article L. 253-4 ou si ces produits sont des produits à faible risque au sens de l'article 47 du règlement (CE) n° 1107/2009 du 21 octobre 2009 ou s'ils sont uniquement composés de substances de base au sens de l'article 23 du même règlement. 3° Le conseil prévu aux articles L. 254-6-2 et L. 254-6-3, lorsque cette activité s'exerce à titre professionnel. III.-Lorsque l'agrément est délivré à une personne morale, il l'est pour l'activité de l'ensemble de ses établissements ainsi que, si elle en fait la demande, pour l'activité d'établissements d'autres personnes morales au sein desquelles elle détient une participation financière, ou au bénéfice desquelles elle gère des services communs. Pour l'application du présent chapitre l'ensemble des établissements pour lesquels une entreprise sollicite un agrément sont regardés comme ses établissements. IV.-Les personnes qui mettent des produits phytopharmaceutiques sur le marché autres que celles exerçant les activités mentionnées au 1° du II justifient de l'obtention d'un certificat attestant qu'elles ont acquis les connaissances appropriées à leurs rôle et responsabilités ou de l'emploi d'une personne détenant ce certificat. V.-Les détenteurs de l'agrément mentionné au II, les personnes mentionnées au IV du présent article et les personnes physiques mentionnées au II de l'article L. 254-3 doivent concourir, dans le cadre de leurs activités, à la réalisation des objectifs du plan d'action national prévu à l'article L. 253-6, notamment par la mise en œuvre de la lutte intégrée contre les ennemis des cultures. VI.-L'exercice de l'activité de conseil mentionnée au 3° du II est incompatible avec celui des activités mentionnées aux 1° ou 2° du II ou au IV. Toutefois, cette incompatibilité ne fait pas obstacle à ce que les personnes exerçant les activités mentionnées au 1° du II délivrent les informations énumérées au premier alinéa de l'article L. 254-7, ni à ce qu'elles promeuvent, mettent en place ou facilitent la mise en œuvre des actions tendant à la réduction de l'utilisation de produits phytopharmaceutiques prévues à l'article L. 254-10-1 .\",\n",
       "   'deleted_text_length': 0,\n",
       "   'newly_inserted_text_length': 0,\n",
       "   'after_state_length': 3185},\n",
       "  'advanced_reconstruction_metadata': {'success': False,\n",
       "   'operations_applied': 0,\n",
       "   'operations_failed': 1,\n",
       "   'processing_time_ms': 4,\n",
       "   'validation_warnings': [\"SUMMARY: Le texte modifié est conforme aux critères de validation. Aucune erreur critique, majeure ou mineure n'a été détectée. La structure, la hiérarchie, la numérotation, les références internes, la ponctuation, les guillemets, l'espacement, les majuscules/minuscules, les caractères spéciaux, la grammaire et la syntaxe sont tous corrects.\"],\n",
       "   'operations_details': []},\n",
       "  'original_text_used': {'article_key': 'code rural et de la pêche maritime::L. 254-1',\n",
       "   'text_length': 3185,\n",
       "   'text_preview': \"I.-Les produits phytopharmaceutiques mentionnés au présent chapitre sont ceux définis au 1 de l'arti...\"},\n",
       "  'reconstructed_at': '2025-07-24T16:50:31.062276'},\n",
       " {'chunk_id': '# TITRE Iᴱᴿ::Article 1ᵉʳ::5° ter::a)',\n",
       "  'chunk_text_preview': 'a) Le premier alinéa est remplacé par deux alinéas ainsi rédigés : « I. – Le conseil mentionné au 3°...',\n",
       "  'hierarchy_path': ['# TITRE Iᴱᴿ', 'Article 1ᵉʳ', '5° ter', 'a)'],\n",
       "  'target_article': {'operation_type': 'MODIFY',\n",
       "   'code': 'code rural et de la pêche maritime',\n",
       "   'article': 'L. 254-6-4',\n",
       "   'confidence': 1.0,\n",
       "   'raw_text': 'a) Le premier alinéa est remplacé par deux alinéas...'},\n",
       "  'reconstruction_result': {'deleted_or_replaced_text': '',\n",
       "   'newly_inserted_text': '',\n",
       "   'intermediate_after_state_text': \"Les conseils mentionnés aux articles L. 254-6-2 et L. 254-6-3 s'inscrivent dans un objectif de réduction de l'usage et des impacts des produits phytopharmaceutiques et respectent les principes généraux de la lutte intégrée contre les ennemis des cultures mentionnée à l'article L. 253-6 . A ce titre, ils privilégient des méthodes alternatives. Si nécessaire, ils recommandent les produits phytopharmaceutiques adaptés. Ils promeuvent les actions mentionnées à l'article L. 254-10-1 . Ils tiennent compte des enjeux environnementaux présents dans l'aire d'activité de l'utilisateur professionnel et des modalités de leur préservation en cas d'utilisation de produits phytopharmaceutiques. Constituent des méthodes alternatives au sens et pour l'application de l'alinéa précédent : 1° Les méthodes non chimiques au sens de l'article 3 du règlement (CE) n° 1107/2009 du Parlement européen et du Conseil du 21 octobre 2009 ; 2° L'utilisation des produits de biocontrôle figurant sur la liste prévue à l'article L. 253-5 ou de produits composés uniquement de substances de base au sens de l'article 23 du règlement (CE) n° 1107/2009 du 21 octobre 2009 ou de produits à faible risque au sens de l'article 47 du même règlement.\",\n",
       "   'deleted_text_length': 0,\n",
       "   'newly_inserted_text_length': 0,\n",
       "   'after_state_length': 1221},\n",
       "  'advanced_reconstruction_metadata': {'success': False,\n",
       "   'operations_applied': 0,\n",
       "   'operations_failed': 1,\n",
       "   'processing_time_ms': 3,\n",
       "   'validation_warnings': [\"SUMMARY: Le texte modifié est conforme aux critères de validation. Aucune erreur critique, majeure ou mineure n'a été détectée. Le formatage, la grammaire et la structure sont corrects.\"],\n",
       "   'operations_details': []},\n",
       "  'original_text_used': {'article_key': 'code rural et de la pêche maritime::L. 254-6-4',\n",
       "   'text_length': 1221,\n",
       "   'text_preview': \"Les conseils mentionnés aux articles L. 254-6-2 et L. 254-6-3 s'inscrivent dans un objectif de réduc...\"},\n",
       "  'reconstructed_at': '2025-07-24T16:50:31.088199'},\n",
       " {'chunk_id': '# TITRE Iᴱᴿ::Article 1ᵉʳ::6° bis::b)',\n",
       "  'chunk_text_preview': 'b) Au premier alinéa du II, les mots : « pour les périodes du 1er janvier 2020 au 31 décembre 2020 e...',\n",
       "  'hierarchy_path': ['# TITRE Iᴱᴿ', 'Article 1ᵉʳ', '6° bis', 'b)'],\n",
       "  'target_article': {'operation_type': 'MODIFY',\n",
       "   'code': 'code rural et de la pêche maritime',\n",
       "   'article': 'L. 254-10-1',\n",
       "   'confidence': 1.0,\n",
       "   'raw_text': 'b) Au premier alinéa du II, les mots : « pour les ...'},\n",
       "  'reconstruction_result': {'deleted_or_replaced_text': '',\n",
       "   'newly_inserted_text': '',\n",
       "   'intermediate_after_state_text': \"I.-Sont soumises à des obligations de réalisation d'actions tendant à la réduction de l'utilisation de produits phytopharmaceutiques les personnes auprès desquelles la redevance pour pollutions diffuses est exigible, mentionnées au IV de l'article L. 213-10-8 du code de l'environnement . Ces personnes sont dénommées les “ obligés ”. L'obligé est tenu de mettre en place des actions visant à la réalisation d'économies de produits phytopharmaceutiques ou de faciliter la mise en œuvre de telles actions. II.-L'autorité administrative notifie à chaque obligé pour les périodes du 1er janvier 2020 au 31 décembre 2020 et du 1er janvier 2021 au 31 décembre 2021, puis, à compter du 1er janvier 2022, pour chaque période successive d'une durée fixée par décret en Conseil d'Etat, dans la limite de quatre ans, l'obligation de réalisation d'actions qui lui incombe en vertu de la présente section compte tenu des quantités de produits phytopharmaceutiques qu'il a déclarées en application des articles L. 213-10-8 et L. 213-11 du code de l'environnement. Cette obligation est proportionnelle aux quantités de chaque substance active contenues dans ces produits phytopharmaceutiques, pondérées, dans des conditions fixées par décret en Conseil d'Etat, par des coefficients liés soit aux caractéristiques d'emploi de ces produits, soit aux dangers des substances actives qu'ils contiennent. Elle est exprimée en nombre de certificats d'économie de produits phytopharmaceutiques.\",\n",
       "   'deleted_text_length': 0,\n",
       "   'newly_inserted_text_length': 0,\n",
       "   'after_state_length': 1472},\n",
       "  'advanced_reconstruction_metadata': {'success': False,\n",
       "   'operations_applied': 0,\n",
       "   'operations_failed': 1,\n",
       "   'processing_time_ms': 8,\n",
       "   'validation_warnings': [\"SUMMARY: Le texte modifié est conforme aux critères de validation. Aucune erreur critique, majeure ou mineure n'a été identifiée. Le texte est cohérent juridiquement, complet, bien formaté et grammaticalement correct.\"],\n",
       "   'operations_details': []},\n",
       "  'original_text_used': {'article_key': 'code rural et de la pêche maritime::L. 254-10-1',\n",
       "   'text_length': 1472,\n",
       "   'text_preview': \"I.-Sont soumises à des obligations de réalisation d'actions tendant à la réduction de l'utilisation ...\"},\n",
       "  'reconstructed_at': '2025-07-24T16:50:31.129546'}]"
      ]
     },
     "execution_count": 19,
     "metadata": {},
     "output_type": "execute_result"
    }
   ],
   "source": [
    "failed_reconstruction"
   ]
  },
  {
   "cell_type": "code",
   "execution_count": 20,
   "id": "6bf1f6a0-11c2-4862-98d2-ec867d35905f",
   "metadata": {},
   "outputs": [
    {
     "data": {
      "text/plain": [
       "4"
      ]
     },
     "execution_count": 20,
     "metadata": {},
     "output_type": "execute_result"
    }
   ],
   "source": [
    "len(failed_reconstruction)"
   ]
  },
  {
   "cell_type": "code",
   "execution_count": null,
   "id": "93be4d37-bb8f-4f5e-9cb1-000c52f60182",
   "metadata": {},
   "outputs": [],
   "source": []
  },
  {
   "cell_type": "code",
   "execution_count": null,
   "id": "c6da40e4-bf50-4f2e-ba96-edda30deac08",
   "metadata": {},
   "outputs": [],
   "source": []
  },
  {
   "cell_type": "code",
   "execution_count": 21,
   "id": "34902008-09ee-4c30-9e4e-ca04f95dc386",
   "metadata": {
    "scrolled": true
   },
   "outputs": [
    {
     "name": "stderr",
     "output_type": "stream",
     "text": [
      "2025-07-24 16:50:31,223 - bill_parser_engine.core.reference_resolver.pipeline - INFO - Step 5: Locating normative references using focused scanning...\n",
      "2025-07-24 16:50:31,224 - bill_parser_engine.core.reference_resolver.pipeline - INFO - Processing 18 successful reconstructions (skipping 4 failed reconstructions)\n",
      "2025-07-24 16:50:31,225 - bill_parser_engine.core.reference_resolver.reference_locator - INFO - Processing delta fragments: 92 chars total\n",
      "2025-07-24 16:50:32,319 - httpx - INFO - HTTP Request: POST https://api.mistral.ai/v1/chat/completions \"HTTP/1.1 200 OK\"\n",
      "2025-07-24 16:50:32,326 - bill_parser_engine.core.reference_resolver.reference_locator - INFO - Located 1 references: 1 DELETIONAL, 0 DEFINITIONAL\n",
      "2025-07-24 16:50:32,328 - bill_parser_engine.core.reference_resolver.reference_locator - INFO - Cached result for future use\n",
      "2025-07-24 16:50:32,329 - bill_parser_engine.core.reference_resolver.pipeline - INFO - Successful reconstruction 1/18: Located 1 references (1 DELETIONAL, 0 DEFINITIONAL) in 1.10s with 34.7x efficiency gain\n",
      "2025-07-24 16:50:32,330 - bill_parser_engine.core.reference_resolver.reference_locator - INFO - Processing delta fragments: 920 chars total\n"
     ]
    },
    {
     "name": "stdout",
     "output_type": "stream",
     "text": [
      "⏱️ ReferenceLocator: Waiting 2.4s for rate limiting...\n"
     ]
    },
    {
     "name": "stderr",
     "output_type": "stream",
     "text": [
      "2025-07-24 16:50:38,768 - httpx - INFO - HTTP Request: POST https://api.mistral.ai/v1/chat/completions \"HTTP/1.1 200 OK\"\n",
      "2025-07-24 16:50:38,774 - bill_parser_engine.core.reference_resolver.reference_locator - INFO - Located 5 references: 0 DELETIONAL, 5 DEFINITIONAL\n",
      "2025-07-24 16:50:38,777 - bill_parser_engine.core.reference_resolver.reference_locator - INFO - Cached result for future use\n",
      "2025-07-24 16:50:38,777 - bill_parser_engine.core.reference_resolver.pipeline - INFO - Successful reconstruction 2/18: Located 5 references (0 DELETIONAL, 5 DEFINITIONAL) in 6.45s with 3.9x efficiency gain\n",
      "2025-07-24 16:50:38,778 - bill_parser_engine.core.reference_resolver.reference_locator - INFO - Processing delta fragments: 254 chars total\n",
      "2025-07-24 16:50:41,634 - httpx - INFO - HTTP Request: POST https://api.mistral.ai/v1/chat/completions \"HTTP/1.1 200 OK\"\n",
      "2025-07-24 16:50:41,639 - bill_parser_engine.core.reference_resolver.reference_locator - INFO - Located 6 references: 4 DELETIONAL, 2 DEFINITIONAL\n",
      "2025-07-24 16:50:41,642 - bill_parser_engine.core.reference_resolver.reference_locator - INFO - Cached result for future use\n",
      "2025-07-24 16:50:41,643 - bill_parser_engine.core.reference_resolver.pipeline - INFO - Successful reconstruction 3/18: Located 6 references (4 DELETIONAL, 2 DEFINITIONAL) in 2.86s with 6.0x efficiency gain\n",
      "2025-07-24 16:50:41,644 - bill_parser_engine.core.reference_resolver.reference_locator - INFO - Processing delta fragments: 277 chars total\n"
     ]
    },
    {
     "name": "stdout",
     "output_type": "stream",
     "text": [
      "⏱️ ReferenceLocator: Waiting 0.6s for rate limiting...\n"
     ]
    },
    {
     "name": "stderr",
     "output_type": "stream",
     "text": [
      "2025-07-24 16:50:44,808 - httpx - INFO - HTTP Request: POST https://api.mistral.ai/v1/chat/completions \"HTTP/1.1 200 OK\"\n",
      "2025-07-24 16:50:44,814 - bill_parser_engine.core.reference_resolver.reference_locator - INFO - Located 7 references: 5 DELETIONAL, 2 DEFINITIONAL\n",
      "2025-07-24 16:50:44,817 - bill_parser_engine.core.reference_resolver.reference_locator - INFO - Cached result for future use\n",
      "2025-07-24 16:50:44,818 - bill_parser_engine.core.reference_resolver.pipeline - INFO - Successful reconstruction 4/18: Located 7 references (5 DELETIONAL, 2 DEFINITIONAL) in 3.17s with 4.5x efficiency gain\n",
      "2025-07-24 16:50:44,819 - bill_parser_engine.core.reference_resolver.reference_locator - INFO - Processing delta fragments: 16 chars total\n"
     ]
    },
    {
     "name": "stdout",
     "output_type": "stream",
     "text": [
      "⏱️ ReferenceLocator: Waiting 1.0s for rate limiting...\n"
     ]
    },
    {
     "name": "stderr",
     "output_type": "stream",
     "text": [
      "2025-07-24 16:50:46,650 - httpx - INFO - HTTP Request: POST https://api.mistral.ai/v1/chat/completions \"HTTP/1.1 200 OK\"\n",
      "2025-07-24 16:50:46,654 - bill_parser_engine.core.reference_resolver.reference_locator - INFO - Located 0 references: 0 DELETIONAL, 0 DEFINITIONAL\n",
      "2025-07-24 16:50:46,656 - bill_parser_engine.core.reference_resolver.reference_locator - INFO - Cached result for future use\n",
      "2025-07-24 16:50:46,657 - bill_parser_engine.core.reference_resolver.pipeline - INFO - Successful reconstruction 5/18: Located 0 references (0 DELETIONAL, 0 DEFINITIONAL) in 1.84s with 67.3x efficiency gain\n",
      "2025-07-24 16:50:46,657 - bill_parser_engine.core.reference_resolver.reference_locator - INFO - Processing delta fragments: 157 chars total\n"
     ]
    },
    {
     "name": "stdout",
     "output_type": "stream",
     "text": [
      "⏱️ ReferenceLocator: Waiting 2.6s for rate limiting...\n"
     ]
    },
    {
     "name": "stderr",
     "output_type": "stream",
     "text": [
      "2025-07-24 16:50:50,746 - httpx - INFO - HTTP Request: POST https://api.mistral.ai/v1/chat/completions \"HTTP/1.1 200 OK\"\n",
      "2025-07-24 16:50:50,749 - bill_parser_engine.core.reference_resolver.reference_locator - INFO - Located 3 references: 2 DELETIONAL, 1 DEFINITIONAL\n",
      "2025-07-24 16:50:50,751 - bill_parser_engine.core.reference_resolver.reference_locator - INFO - Cached result for future use\n",
      "2025-07-24 16:50:50,752 - bill_parser_engine.core.reference_resolver.pipeline - INFO - Successful reconstruction 6/18: Located 3 references (2 DELETIONAL, 1 DEFINITIONAL) in 4.09s with 2.7x efficiency gain\n",
      "2025-07-24 16:50:50,752 - bill_parser_engine.core.reference_resolver.reference_locator - INFO - Processing delta fragments: 17 chars total\n"
     ]
    },
    {
     "name": "stdout",
     "output_type": "stream",
     "text": [
      "⏱️ ReferenceLocator: Waiting 2.0s for rate limiting...\n"
     ]
    },
    {
     "name": "stderr",
     "output_type": "stream",
     "text": [
      "2025-07-24 16:50:53,819 - httpx - INFO - HTTP Request: POST https://api.mistral.ai/v1/chat/completions \"HTTP/1.1 200 OK\"\n",
      "2025-07-24 16:50:53,824 - bill_parser_engine.core.reference_resolver.reference_locator - INFO - Located 2 references: 1 DELETIONAL, 1 DEFINITIONAL\n",
      "2025-07-24 16:50:53,827 - bill_parser_engine.core.reference_resolver.reference_locator - INFO - Cached result for future use\n",
      "2025-07-24 16:50:53,828 - bill_parser_engine.core.reference_resolver.pipeline - INFO - Successful reconstruction 7/18: Located 2 references (1 DELETIONAL, 1 DEFINITIONAL) in 3.08s with 102.2x efficiency gain\n",
      "2025-07-24 16:50:53,829 - bill_parser_engine.core.reference_resolver.reference_locator - INFO - Processing delta fragments: 12 chars total\n"
     ]
    },
    {
     "name": "stdout",
     "output_type": "stream",
     "text": [
      "⏱️ ReferenceLocator: Waiting 2.5s for rate limiting...\n"
     ]
    },
    {
     "name": "stderr",
     "output_type": "stream",
     "text": [
      "2025-07-24 16:50:57,215 - httpx - INFO - HTTP Request: POST https://api.mistral.ai/v1/chat/completions \"HTTP/1.1 200 OK\"\n",
      "2025-07-24 16:50:57,220 - bill_parser_engine.core.reference_resolver.reference_locator - INFO - Located 1 references: 0 DELETIONAL, 1 DEFINITIONAL\n",
      "2025-07-24 16:50:57,224 - bill_parser_engine.core.reference_resolver.reference_locator - INFO - Cached result for future use\n",
      "2025-07-24 16:50:57,227 - bill_parser_engine.core.reference_resolver.pipeline - INFO - Successful reconstruction 8/18: Located 1 references (0 DELETIONAL, 1 DEFINITIONAL) in 3.40s with 147.5x efficiency gain\n",
      "2025-07-24 16:50:57,228 - bill_parser_engine.core.reference_resolver.reference_locator - INFO - Processing delta fragments: 37 chars total\n"
     ]
    },
    {
     "name": "stdout",
     "output_type": "stream",
     "text": [
      "⏱️ ReferenceLocator: Waiting 2.6s for rate limiting...\n"
     ]
    },
    {
     "name": "stderr",
     "output_type": "stream",
     "text": [
      "2025-07-24 16:51:00,579 - httpx - INFO - HTTP Request: POST https://api.mistral.ai/v1/chat/completions \"HTTP/1.1 200 OK\"\n",
      "2025-07-24 16:51:00,585 - bill_parser_engine.core.reference_resolver.reference_locator - INFO - Located 1 references: 1 DELETIONAL, 0 DEFINITIONAL\n",
      "2025-07-24 16:51:00,588 - bill_parser_engine.core.reference_resolver.reference_locator - INFO - Cached result for future use\n",
      "2025-07-24 16:51:00,588 - bill_parser_engine.core.reference_resolver.pipeline - INFO - Successful reconstruction 9/18: Located 1 references (1 DELETIONAL, 0 DEFINITIONAL) in 3.36s with 89.8x efficiency gain\n",
      "2025-07-24 16:51:00,590 - bill_parser_engine.core.reference_resolver.reference_locator - INFO - Processing delta fragments: 926 chars total\n"
     ]
    },
    {
     "name": "stdout",
     "output_type": "stream",
     "text": [
      "⏱️ ReferenceLocator: Waiting 2.7s for rate limiting...\n"
     ]
    },
    {
     "name": "stderr",
     "output_type": "stream",
     "text": [
      "2025-07-24 16:51:04,494 - httpx - INFO - HTTP Request: POST https://api.mistral.ai/v1/chat/completions \"HTTP/1.1 200 OK\"\n",
      "2025-07-24 16:51:04,499 - bill_parser_engine.core.reference_resolver.reference_locator - INFO - Located 2 references: 0 DELETIONAL, 2 DEFINITIONAL\n",
      "2025-07-24 16:51:04,503 - bill_parser_engine.core.reference_resolver.reference_locator - INFO - Cached result for future use\n",
      "2025-07-24 16:51:04,505 - bill_parser_engine.core.reference_resolver.pipeline - INFO - Successful reconstruction 10/18: Located 2 references (0 DELETIONAL, 2 DEFINITIONAL) in 3.92s with 2.3x efficiency gain\n",
      "2025-07-24 16:51:04,506 - bill_parser_engine.core.reference_resolver.reference_locator - INFO - Processing delta fragments: 242 chars total\n"
     ]
    },
    {
     "name": "stdout",
     "output_type": "stream",
     "text": [
      "⏱️ ReferenceLocator: Waiting 2.3s for rate limiting...\n"
     ]
    },
    {
     "name": "stderr",
     "output_type": "stream",
     "text": [
      "2025-07-24 16:51:07,541 - httpx - INFO - HTTP Request: POST https://api.mistral.ai/v1/chat/completions \"HTTP/1.1 200 OK\"\n",
      "2025-07-24 16:51:07,547 - bill_parser_engine.core.reference_resolver.reference_locator - INFO - Located 1 references: 0 DELETIONAL, 1 DEFINITIONAL\n",
      "2025-07-24 16:51:07,549 - bill_parser_engine.core.reference_resolver.reference_locator - INFO - Cached result for future use\n",
      "2025-07-24 16:51:07,550 - bill_parser_engine.core.reference_resolver.pipeline - INFO - Successful reconstruction 11/18: Located 1 references (0 DELETIONAL, 1 DEFINITIONAL) in 3.04s with 7.6x efficiency gain\n",
      "2025-07-24 16:51:07,551 - bill_parser_engine.core.reference_resolver.reference_locator - INFO - Processing delta fragments: 42 chars total\n"
     ]
    },
    {
     "name": "stdout",
     "output_type": "stream",
     "text": [
      "⏱️ ReferenceLocator: Waiting 2.8s for rate limiting...\n"
     ]
    },
    {
     "name": "stderr",
     "output_type": "stream",
     "text": [
      "2025-07-24 16:51:11,024 - httpx - INFO - HTTP Request: POST https://api.mistral.ai/v1/chat/completions \"HTTP/1.1 200 OK\"\n",
      "2025-07-24 16:51:11,028 - bill_parser_engine.core.reference_resolver.reference_locator - INFO - Located 0 references: 0 DELETIONAL, 0 DEFINITIONAL\n",
      "2025-07-24 16:51:11,029 - bill_parser_engine.core.reference_resolver.reference_locator - INFO - Cached result for future use\n",
      "2025-07-24 16:51:11,030 - bill_parser_engine.core.reference_resolver.pipeline - INFO - Successful reconstruction 12/18: Located 0 references (0 DELETIONAL, 0 DEFINITIONAL) in 3.48s with 31.8x efficiency gain\n",
      "2025-07-24 16:51:11,030 - bill_parser_engine.core.reference_resolver.reference_locator - INFO - Processing delta fragments: 225 chars total\n"
     ]
    },
    {
     "name": "stdout",
     "output_type": "stream",
     "text": [
      "⏱️ ReferenceLocator: Waiting 2.8s for rate limiting...\n"
     ]
    },
    {
     "name": "stderr",
     "output_type": "stream",
     "text": [
      "2025-07-24 16:51:14,197 - httpx - INFO - HTTP Request: POST https://api.mistral.ai/v1/chat/completions \"HTTP/1.1 200 OK\"\n",
      "2025-07-24 16:51:14,202 - bill_parser_engine.core.reference_resolver.reference_locator - INFO - Located 0 references: 0 DELETIONAL, 0 DEFINITIONAL\n",
      "2025-07-24 16:51:14,205 - bill_parser_engine.core.reference_resolver.reference_locator - INFO - Cached result for future use\n",
      "2025-07-24 16:51:14,207 - bill_parser_engine.core.reference_resolver.pipeline - INFO - Successful reconstruction 13/18: Located 0 references (0 DELETIONAL, 0 DEFINITIONAL) in 3.18s with 4.1x efficiency gain\n",
      "2025-07-24 16:51:14,209 - bill_parser_engine.core.reference_resolver.reference_locator - INFO - Processing delta fragments: 104 chars total\n"
     ]
    },
    {
     "name": "stdout",
     "output_type": "stream",
     "text": [
      "⏱️ ReferenceLocator: Waiting 3.1s for rate limiting...\n"
     ]
    },
    {
     "name": "stderr",
     "output_type": "stream",
     "text": [
      "2025-07-24 16:51:18,204 - httpx - INFO - HTTP Request: POST https://api.mistral.ai/v1/chat/completions \"HTTP/1.1 200 OK\"\n",
      "2025-07-24 16:51:18,209 - bill_parser_engine.core.reference_resolver.reference_locator - INFO - Located 1 references: 0 DELETIONAL, 1 DEFINITIONAL\n",
      "2025-07-24 16:51:18,211 - bill_parser_engine.core.reference_resolver.reference_locator - INFO - Cached result for future use\n",
      "2025-07-24 16:51:18,212 - bill_parser_engine.core.reference_resolver.pipeline - INFO - Successful reconstruction 14/18: Located 1 references (0 DELETIONAL, 1 DEFINITIONAL) in 4.00s with 10.0x efficiency gain\n",
      "2025-07-24 16:51:18,213 - bill_parser_engine.core.reference_resolver.reference_locator - INFO - Processing delta fragments: 207 chars total\n"
     ]
    },
    {
     "name": "stdout",
     "output_type": "stream",
     "text": [
      "⏱️ ReferenceLocator: Waiting 2.6s for rate limiting...\n"
     ]
    },
    {
     "name": "stderr",
     "output_type": "stream",
     "text": [
      "2025-07-24 16:51:22,389 - httpx - INFO - HTTP Request: POST https://api.mistral.ai/v1/chat/completions \"HTTP/1.1 200 OK\"\n",
      "2025-07-24 16:51:22,393 - bill_parser_engine.core.reference_resolver.reference_locator - INFO - Located 2 references: 1 DELETIONAL, 1 DEFINITIONAL\n",
      "2025-07-24 16:51:22,394 - bill_parser_engine.core.reference_resolver.reference_locator - INFO - Cached result for future use\n",
      "2025-07-24 16:51:22,395 - bill_parser_engine.core.reference_resolver.pipeline - INFO - Successful reconstruction 15/18: Located 2 references (1 DELETIONAL, 1 DEFINITIONAL) in 4.18s with 6.8x efficiency gain\n",
      "2025-07-24 16:51:22,396 - bill_parser_engine.core.reference_resolver.reference_locator - INFO - Processing delta fragments: 16 chars total\n"
     ]
    },
    {
     "name": "stdout",
     "output_type": "stream",
     "text": [
      "⏱️ ReferenceLocator: Waiting 1.9s for rate limiting...\n"
     ]
    },
    {
     "name": "stderr",
     "output_type": "stream",
     "text": [
      "2025-07-24 16:51:24,623 - httpx - INFO - HTTP Request: POST https://api.mistral.ai/v1/chat/completions \"HTTP/1.1 200 OK\"\n",
      "2025-07-24 16:51:24,629 - bill_parser_engine.core.reference_resolver.reference_locator - INFO - Located 0 references: 0 DELETIONAL, 0 DEFINITIONAL\n",
      "2025-07-24 16:51:24,632 - bill_parser_engine.core.reference_resolver.reference_locator - INFO - Cached result for future use\n",
      "2025-07-24 16:51:24,632 - bill_parser_engine.core.reference_resolver.pipeline - INFO - Successful reconstruction 16/18: Located 0 references (0 DELETIONAL, 0 DEFINITIONAL) in 2.24s with 67.1x efficiency gain\n",
      "2025-07-24 16:51:24,633 - bill_parser_engine.core.reference_resolver.reference_locator - INFO - Processing delta fragments: 1344 chars total\n"
     ]
    },
    {
     "name": "stdout",
     "output_type": "stream",
     "text": [
      "⏱️ ReferenceLocator: Waiting 3.2s for rate limiting...\n"
     ]
    },
    {
     "name": "stderr",
     "output_type": "stream",
     "text": [
      "2025-07-24 16:51:28,653 - httpx - INFO - HTTP Request: POST https://api.mistral.ai/v1/chat/completions \"HTTP/1.1 200 OK\"\n",
      "2025-07-24 16:51:28,659 - bill_parser_engine.core.reference_resolver.reference_locator - INFO - Located 1 references: 0 DELETIONAL, 1 DEFINITIONAL\n",
      "2025-07-24 16:51:28,661 - bill_parser_engine.core.reference_resolver.reference_locator - INFO - Cached result for future use\n",
      "2025-07-24 16:51:28,662 - bill_parser_engine.core.reference_resolver.pipeline - INFO - Successful reconstruction 17/18: Located 1 references (0 DELETIONAL, 1 DEFINITIONAL) in 4.03s with 1.0x efficiency gain\n",
      "2025-07-24 16:51:28,662 - bill_parser_engine.core.reference_resolver.reference_locator - INFO - Processing delta fragments: 79 chars total\n"
     ]
    },
    {
     "name": "stdout",
     "output_type": "stream",
     "text": [
      "⏱️ ReferenceLocator: Waiting 2.7s for rate limiting...\n"
     ]
    },
    {
     "name": "stderr",
     "output_type": "stream",
     "text": [
      "2025-07-24 16:51:32,219 - httpx - INFO - HTTP Request: POST https://api.mistral.ai/v1/chat/completions \"HTTP/1.1 200 OK\"\n",
      "2025-07-24 16:51:32,224 - bill_parser_engine.core.reference_resolver.reference_locator - INFO - Located 1 references: 1 DELETIONAL, 0 DEFINITIONAL\n",
      "2025-07-24 16:51:32,226 - bill_parser_engine.core.reference_resolver.reference_locator - INFO - Cached result for future use\n",
      "2025-07-24 16:51:32,227 - bill_parser_engine.core.reference_resolver.pipeline - INFO - Successful reconstruction 18/18: Located 1 references (1 DELETIONAL, 0 DEFINITIONAL) in 3.56s with 3.7x efficiency gain\n",
      "2025-07-24 16:51:32,228 - bill_parser_engine.core.reference_resolver.pipeline - INFO - Step 5 completed: Located 34 references across 18 successful chunks (skipped 4 failed reconstructions) using focused scanning approach\n"
     ]
    }
   ],
   "source": [
    "located_ref = pipeline.step_5_locate_references()"
   ]
  },
  {
   "cell_type": "code",
   "execution_count": null,
   "id": "c9098eb9-4577-435a-ab85-6590d2e51840",
   "metadata": {},
   "outputs": [],
   "source": []
  },
  {
   "cell_type": "code",
   "execution_count": null,
   "id": "3186317f-c1b3-4594-a977-be9a6e91007f",
   "metadata": {},
   "outputs": [],
   "source": []
  },
  {
   "cell_type": "code",
   "execution_count": 23,
   "id": "db489fa6-506b-482e-84f7-9a3a80e83298",
   "metadata": {},
   "outputs": [
    {
     "data": {
      "text/plain": [
       "{'total_chunks': 22,\n",
       " 'successful_locations': 18,\n",
       " 'failed_locations': 4,\n",
       " 'success_rate': 0.8181818181818182,\n",
       " 'reference_stats': {'total_references': 34,\n",
       "  'deletional_references': 16,\n",
       "  'definitional_references': 18,\n",
       "  'average_references_per_chunk': 1.8888888888888888,\n",
       "  'average_confidence': 0.9167647058823529,\n",
       "  'confidence_distribution': {'high_confidence': 33,\n",
       "   'medium_confidence': 1,\n",
       "   'low_confidence': 0}},\n",
       " 'focused_scanning_performance': {'average_performance_gain': 1.0,\n",
       "  'max_performance_gain': 1.0,\n",
       "  'min_performance_gain': 1.0,\n",
       "  'total_performance_gains': []},\n",
       " 'failed_chunks': ['# TITRE Iᴱᴿ::Article 1ᵉʳ::3° bis::a)',\n",
       "  '# TITRE Iᴱᴿ::Article 1ᵉʳ::3° quater::a)',\n",
       "  '# TITRE Iᴱᴿ::Article 1ᵉʳ::5° ter::a)',\n",
       "  '# TITRE Iᴱᴿ::Article 1ᵉʳ::6° bis::b)']}"
      ]
     },
     "execution_count": 23,
     "metadata": {},
     "output_type": "execute_result"
    }
   ],
   "source": [
    "pipeline._analyze_reference_location_results(located_ref)"
   ]
  },
  {
   "cell_type": "code",
   "execution_count": 24,
   "id": "0e5811f6-d45c-459e-92fa-6b3baa6c7626",
   "metadata": {
    "scrolled": true
   },
   "outputs": [
    {
     "data": {
      "text/plain": [
       "{'chunk_id': '# TITRE Iᴱᴿ::Article 1ᵉʳ::3° ter::a)',\n",
       " 'chunk_text_preview': 'a) Le premier alinéa est ainsi modifié : les mots : « mentionnée aux 1° ou 2° du même II ou au IV du...',\n",
       " 'hierarchy_path': ['# TITRE Iᴱᴿ', 'Article 1ᵉʳ', '3° ter', 'a)'],\n",
       " 'target_article': {'operation_type': 'MODIFY',\n",
       "  'code': 'code rural et de la pêche maritime',\n",
       "  'article': 'L. 254-1-2',\n",
       "  'confidence': 1.0,\n",
       "  'raw_text': 'a) Le premier alinéa est ainsi modifié : les mots ...'},\n",
       " 'reconstruction_result': {'deleted_or_replaced_text': 'mentionnée aux 1° ou 2° du même II ou au IV du même article mentionnée aux 1° ou 2° de ce II ou à ce IV de ce même article de ce II',\n",
       "  'newly_inserted_text': 'de producteur au sens du premier alinéa du VI du même article L. 254-1 de producteur au sens du même premier alinéa du II du même article L. 254-1',\n",
       "  'intermediate_after_state_text': \"Un membre d'un organe de surveillance, d'administration et de direction d'une personne morale exerçant une activité mentionnée au 3° du II de l'article L. 254-1 ne peut être membre d'un de ces mêmes organes d'une personne morale exerçant une activité de producteur au sens du premier alinéa du VI du même article L. 254-1 et un membre d'un organe de surveillance, d'administration et de direction d'une personne morale exerçant une activité de producteur au sens du même premier alinéa ne peut être membre d'un de ces mêmes organes d'une personne morale exerçant une activité mentionnée au 3° du II du même article L. 254-1. Toutefois, une personne membre d'un organe de surveillance, d'administration ou de direction d'une personne morale exerçant une activité mentionnée aux 1° ou 2° du II de l'article L. 254-1 peut détenir, dans un établissement mentionné à l' article L. 510-1 bénéficiant d'un agrément pour les activités mentionnées au 3° du II de l'article L. 254-1, un mandat de président, de membre du bureau ou de membre du conseil d'administration de Chambres d'agriculture France. Cette personne ne participe ni aux travaux ni aux délibérations concernant l'activité de conseil à l'utilisation de produits phytopharmaceutiques.\",\n",
       "  'deleted_text_length': 131,\n",
       "  'newly_inserted_text_length': 146,\n",
       "  'after_state_length': 1239},\n",
       " 'located_references': [{'reference_text': 'mentionnée aux 1° ou 2° du même II',\n",
       "   'source': 'DELETIONAL',\n",
       "   'confidence': 0.9},\n",
       "  {'reference_text': 'au IV du même article',\n",
       "   'source': 'DELETIONAL',\n",
       "   'confidence': 0.9},\n",
       "  {'reference_text': 'mentionnée aux 1° ou 2° de ce II',\n",
       "   'source': 'DELETIONAL',\n",
       "   'confidence': 0.9},\n",
       "  {'reference_text': 'à ce IV de ce même article',\n",
       "   'source': 'DELETIONAL',\n",
       "   'confidence': 0.9},\n",
       "  {'reference_text': 'de ce II', 'source': 'DELETIONAL', 'confidence': 0.8},\n",
       "  {'reference_text': 'de producteur au sens du premier alinéa du VI du même article L. 254-1',\n",
       "   'source': 'DEFINITIONAL',\n",
       "   'confidence': 0.95},\n",
       "  {'reference_text': 'de producteur au sens du même premier alinéa du II du même article L. 254-1',\n",
       "   'source': 'DEFINITIONAL',\n",
       "   'confidence': 0.95}],\n",
       " 'reference_count': 7,\n",
       " 'reference_breakdown': {'deletional_count': 5, 'definitional_count': 2},\n",
       " 'focused_scanning_performance': {'delta_characters_processed': 277,\n",
       "  'full_article_characters': 1239,\n",
       "  'performance_gain_multiplier': 4.472924187725631,\n",
       "  'efficiency_improvement_percent': 347.2924187725631},\n",
       " 'located_at': '2025-07-24T16:50:44.818073'}"
      ]
     },
     "execution_count": 24,
     "metadata": {},
     "output_type": "execute_result"
    }
   ],
   "source": [
    "located_ref[3]"
   ]
  },
  {
   "cell_type": "code",
   "execution_count": null,
   "id": "457b180c-3434-43ae-b78a-983e2e922aea",
   "metadata": {},
   "outputs": [],
   "source": []
  },
  {
   "cell_type": "code",
   "execution_count": 25,
   "id": "d529c376-5c9e-4cc9-aacb-037293f65679",
   "metadata": {
    "scrolled": true
   },
   "outputs": [
    {
     "name": "stderr",
     "output_type": "stream",
     "text": [
      "2025-07-24 16:52:16,550 - bill_parser_engine.core.reference_resolver.pipeline - INFO - Step 6: Linking references to grammatical objects...\n",
      "2025-07-24 16:52:16,552 - bill_parser_engine.core.reference_resolver.pipeline - INFO - Processing 14 successful reference locations (skipping 8 failed/skipped locations)\n",
      "2025-07-24 16:52:18,813 - httpx - INFO - HTTP Request: POST https://api.mistral.ai/v1/chat/completions \"HTTP/1.1 200 OK\"\n",
      "2025-07-24 16:52:18,818 - bill_parser_engine.core.reference_resolver.reference_object_linker - INFO - High confidence (0.900) - skipping iteration for reference: prévu aux articles L. 254-6-2 et L. 254-6-3\n",
      "2025-07-24 16:52:18,820 - bill_parser_engine.core.reference_resolver.reference_object_linker - INFO - Successfully linked reference: prévu aux articles L. 254-6-2 et L. 254-6-3 → conseil\n",
      "2025-07-24 16:52:18,820 - bill_parser_engine.core.reference_resolver.reference_object_linker - INFO - Successfully linked 1 out of 1 references\n",
      "2025-07-24 16:52:18,821 - bill_parser_engine.core.reference_resolver.pipeline - INFO - Successful reference location 1/14: Linked 1 references (1 DELETIONAL, 0 DEFINITIONAL) in 2.27s\n"
     ]
    },
    {
     "name": "stdout",
     "output_type": "stream",
     "text": [
      "⏱️ ReferenceObjectLinker: Waiting 1.2s for rate limiting...\n"
     ]
    },
    {
     "name": "stderr",
     "output_type": "stream",
     "text": [
      "2025-07-24 16:52:22,295 - httpx - INFO - HTTP Request: POST https://api.mistral.ai/v1/chat/completions \"HTTP/1.1 200 OK\"\n",
      "2025-07-24 16:52:22,301 - bill_parser_engine.core.reference_resolver.reference_object_linker - INFO - High confidence (0.900) - skipping iteration for reference: au 3° du II\n",
      "2025-07-24 16:52:22,303 - bill_parser_engine.core.reference_resolver.reference_object_linker - INFO - Successfully linked reference: au 3° du II → activité de conseil\n"
     ]
    },
    {
     "name": "stdout",
     "output_type": "stream",
     "text": [
      "⏱️ ReferenceObjectLinker: Waiting 1.3s for rate limiting...\n"
     ]
    },
    {
     "name": "stderr",
     "output_type": "stream",
     "text": [
      "2025-07-24 16:52:26,083 - httpx - INFO - HTTP Request: POST https://api.mistral.ai/v1/chat/completions \"HTTP/1.1 200 OK\"\n",
      "2025-07-24 16:52:26,087 - bill_parser_engine.core.reference_resolver.reference_object_linker - INFO - High confidence (0.950) - skipping iteration for reference: du 11 de l'article 3 du règlement (CE) n° 1107/2009\n",
      "2025-07-24 16:52:26,089 - bill_parser_engine.core.reference_resolver.reference_object_linker - INFO - Successfully linked reference: du 11 de l'article 3 du règlement (CE) n° 1107/2009 → producteur\n"
     ]
    },
    {
     "name": "stdout",
     "output_type": "stream",
     "text": [
      "⏱️ ReferenceObjectLinker: Waiting 1.0s for rate limiting...\n"
     ]
    },
    {
     "name": "stderr",
     "output_type": "stream",
     "text": [
      "2025-07-24 16:52:29,053 - httpx - INFO - HTTP Request: POST https://api.mistral.ai/v1/chat/completions \"HTTP/1.1 200 OK\"\n",
      "2025-07-24 16:52:29,059 - bill_parser_engine.core.reference_resolver.reference_object_linker - INFO - High confidence (0.950) - skipping iteration for reference: figurant sur la liste mentionnée à l'article L. 253-5 du présent code\n",
      "2025-07-24 16:52:29,061 - bill_parser_engine.core.reference_resolver.reference_object_linker - INFO - Successfully linked reference: figurant sur la liste mentionnée à l'article L. 253-5 du présent code → la liste\n"
     ]
    },
    {
     "name": "stdout",
     "output_type": "stream",
     "text": [
      "⏱️ ReferenceObjectLinker: Waiting 1.5s for rate limiting...\n"
     ]
    },
    {
     "name": "stderr",
     "output_type": "stream",
     "text": [
      "2025-07-24 16:52:32,945 - httpx - INFO - HTTP Request: POST https://api.mistral.ai/v1/chat/completions \"HTTP/1.1 200 OK\"\n",
      "2025-07-24 16:52:32,951 - bill_parser_engine.core.reference_resolver.reference_object_linker - INFO - High confidence (0.950) - skipping iteration for reference: au sens de l'article 23 du règlement (CE) n° 1107/2009\n",
      "2025-07-24 16:52:32,953 - bill_parser_engine.core.reference_resolver.reference_object_linker - INFO - Successfully linked reference: au sens de l'article 23 du règlement (CE) n° 1107/2009 → substances de base\n"
     ]
    },
    {
     "name": "stdout",
     "output_type": "stream",
     "text": [
      "⏱️ ReferenceObjectLinker: Waiting 1.1s for rate limiting...\n"
     ]
    },
    {
     "name": "stderr",
     "output_type": "stream",
     "text": [
      "2025-07-24 16:52:37,142 - httpx - INFO - HTTP Request: POST https://api.mistral.ai/v1/chat/completions \"HTTP/1.1 200 OK\"\n",
      "2025-07-24 16:52:37,147 - bill_parser_engine.core.reference_resolver.reference_object_linker - INFO - High confidence (0.900) - skipping iteration for reference: au sens de l'article 47 du même règlement\n",
      "2025-07-24 16:52:37,150 - bill_parser_engine.core.reference_resolver.reference_object_linker - INFO - Successfully linked reference: au sens de l'article 47 du même règlement → produits à faible risque\n",
      "2025-07-24 16:52:37,151 - bill_parser_engine.core.reference_resolver.reference_object_linker - INFO - Successfully linked 5 out of 5 references\n",
      "2025-07-24 16:52:37,152 - bill_parser_engine.core.reference_resolver.pipeline - INFO - Successful reference location 2/14: Linked 5 references (0 DELETIONAL, 5 DEFINITIONAL) in 18.33s\n"
     ]
    },
    {
     "name": "stdout",
     "output_type": "stream",
     "text": [
      "⏱️ ReferenceObjectLinker: Waiting 0.4s for rate limiting...\n"
     ]
    },
    {
     "name": "stderr",
     "output_type": "stream",
     "text": [
      "2025-07-24 16:52:39,805 - httpx - INFO - HTTP Request: POST https://api.mistral.ai/v1/chat/completions \"HTTP/1.1 200 OK\"\n",
      "2025-07-24 16:52:39,809 - bill_parser_engine.core.reference_resolver.reference_object_linker - INFO - High confidence (0.900) - skipping iteration for reference: mentionnée aux 1° ou 2° du même II\n",
      "2025-07-24 16:52:39,812 - bill_parser_engine.core.reference_resolver.reference_object_linker - INFO - Successfully linked reference: mentionnée aux 1° ou 2° du même II → activité\n"
     ]
    },
    {
     "name": "stdout",
     "output_type": "stream",
     "text": [
      "⏱️ ReferenceObjectLinker: Waiting 1.3s for rate limiting...\n"
     ]
    },
    {
     "name": "stderr",
     "output_type": "stream",
     "text": [
      "2025-07-24 16:52:45,693 - httpx - INFO - HTTP Request: POST https://api.mistral.ai/v1/chat/completions \"HTTP/1.1 200 OK\"\n",
      "2025-07-24 16:52:45,695 - bill_parser_engine.core.reference_resolver.reference_object_linker - INFO - High confidence (0.900) - skipping iteration for reference: au IV du même article\n",
      "2025-07-24 16:52:45,697 - bill_parser_engine.core.reference_resolver.reference_object_linker - INFO - Successfully linked reference: au IV du même article → la part du capital\n",
      "2025-07-24 16:52:47,690 - httpx - INFO - HTTP Request: POST https://api.mistral.ai/v1/chat/completions \"HTTP/1.1 200 OK\"\n",
      "2025-07-24 16:52:47,696 - bill_parser_engine.core.reference_resolver.reference_object_linker - INFO - High confidence (0.900) - skipping iteration for reference: mentionnée aux 1° ou 2° du II\n",
      "2025-07-24 16:52:47,698 - bill_parser_engine.core.reference_resolver.reference_object_linker - INFO - Successfully linked reference: mentionnée aux 1° ou 2° du II → activité\n"
     ]
    },
    {
     "name": "stdout",
     "output_type": "stream",
     "text": [
      "⏱️ ReferenceObjectLinker: Waiting 1.5s for rate limiting...\n"
     ]
    },
    {
     "name": "stderr",
     "output_type": "stream",
     "text": [
      "2025-07-24 16:52:51,479 - httpx - INFO - HTTP Request: POST https://api.mistral.ai/v1/chat/completions \"HTTP/1.1 200 OK\"\n",
      "2025-07-24 16:52:51,482 - bill_parser_engine.core.reference_resolver.reference_object_linker - INFO - High confidence (0.900) - skipping iteration for reference: au IV de ce II\n",
      "2025-07-24 16:52:51,484 - bill_parser_engine.core.reference_resolver.reference_object_linker - INFO - Successfully linked reference: au IV de ce II → la part du capital\n"
     ]
    },
    {
     "name": "stdout",
     "output_type": "stream",
     "text": [
      "⏱️ ReferenceObjectLinker: Waiting 1.2s for rate limiting...\n"
     ]
    },
    {
     "name": "stderr",
     "output_type": "stream",
     "text": [
      "2025-07-24 16:52:55,190 - httpx - INFO - HTTP Request: POST https://api.mistral.ai/v1/chat/completions \"HTTP/1.1 200 OK\"\n",
      "2025-07-24 16:52:55,195 - bill_parser_engine.core.reference_resolver.reference_object_linker - INFO - High confidence (0.900) - skipping iteration for reference: de producteur au sens du premier alinéa du VI du même article L. 254-1\n",
      "2025-07-24 16:52:55,196 - bill_parser_engine.core.reference_resolver.reference_object_linker - INFO - Successfully linked reference: de producteur au sens du premier alinéa du VI du même article L. 254-1 → producteur\n"
     ]
    },
    {
     "name": "stdout",
     "output_type": "stream",
     "text": [
      "⏱️ ReferenceObjectLinker: Waiting 1.0s for rate limiting...\n"
     ]
    },
    {
     "name": "stderr",
     "output_type": "stream",
     "text": [
      "2025-07-24 16:52:58,252 - httpx - INFO - HTTP Request: POST https://api.mistral.ai/v1/chat/completions \"HTTP/1.1 200 OK\"\n",
      "2025-07-24 16:52:58,255 - bill_parser_engine.core.reference_resolver.reference_object_linker - INFO - High confidence (0.950) - skipping iteration for reference: de producteur au sens du premier alinéa du VI du II du même article L. 254-1\n",
      "2025-07-24 16:52:58,257 - bill_parser_engine.core.reference_resolver.reference_object_linker - INFO - Successfully linked reference: de producteur au sens du premier alinéa du VI du II du même article L. 254-1 → producteur\n",
      "2025-07-24 16:52:58,258 - bill_parser_engine.core.reference_resolver.reference_object_linker - INFO - Successfully linked 6 out of 6 references\n",
      "2025-07-24 16:52:58,258 - bill_parser_engine.core.reference_resolver.pipeline - INFO - Successful reference location 3/14: Linked 6 references (4 DELETIONAL, 2 DEFINITIONAL) in 21.11s\n"
     ]
    },
    {
     "name": "stdout",
     "output_type": "stream",
     "text": [
      "⏱️ ReferenceObjectLinker: Waiting 1.4s for rate limiting...\n"
     ]
    },
    {
     "name": "stderr",
     "output_type": "stream",
     "text": [
      "2025-07-24 16:53:01,565 - httpx - INFO - HTTP Request: POST https://api.mistral.ai/v1/chat/completions \"HTTP/1.1 200 OK\"\n",
      "2025-07-24 16:53:01,568 - bill_parser_engine.core.reference_resolver.reference_object_linker - INFO - High confidence (0.900) - skipping iteration for reference: mentionnée aux 1° ou 2° du même II\n",
      "2025-07-24 16:53:01,570 - bill_parser_engine.core.reference_resolver.reference_object_linker - INFO - Successfully linked reference: mentionnée aux 1° ou 2° du même II → activité\n"
     ]
    },
    {
     "name": "stdout",
     "output_type": "stream",
     "text": [
      "⏱️ ReferenceObjectLinker: Waiting 1.6s for rate limiting...\n"
     ]
    },
    {
     "name": "stderr",
     "output_type": "stream",
     "text": [
      "2025-07-24 16:53:05,262 - httpx - INFO - HTTP Request: POST https://api.mistral.ai/v1/chat/completions \"HTTP/1.1 200 OK\"\n",
      "2025-07-24 16:53:05,267 - bill_parser_engine.core.reference_resolver.reference_object_linker - INFO - High confidence (0.900) - skipping iteration for reference: au IV du même article\n",
      "2025-07-24 16:53:05,270 - bill_parser_engine.core.reference_resolver.reference_object_linker - INFO - Successfully linked reference: au IV du même article → une activité\n"
     ]
    },
    {
     "name": "stdout",
     "output_type": "stream",
     "text": [
      "⏱️ ReferenceObjectLinker: Waiting 1.4s for rate limiting...\n"
     ]
    },
    {
     "name": "stderr",
     "output_type": "stream",
     "text": [
      "2025-07-24 16:53:08,883 - httpx - INFO - HTTP Request: POST https://api.mistral.ai/v1/chat/completions \"HTTP/1.1 200 OK\"\n",
      "2025-07-24 16:53:08,887 - bill_parser_engine.core.reference_resolver.reference_object_linker - INFO - High confidence (0.900) - skipping iteration for reference: mentionnée aux 1° ou 2° de ce II\n",
      "2025-07-24 16:53:08,890 - bill_parser_engine.core.reference_resolver.reference_object_linker - INFO - Successfully linked reference: mentionnée aux 1° ou 2° de ce II → activité\n"
     ]
    },
    {
     "name": "stdout",
     "output_type": "stream",
     "text": [
      "⏱️ ReferenceObjectLinker: Waiting 1.3s for rate limiting...\n"
     ]
    },
    {
     "name": "stderr",
     "output_type": "stream",
     "text": [
      "2025-07-24 16:53:14,210 - httpx - INFO - HTTP Request: POST https://api.mistral.ai/v1/chat/completions \"HTTP/1.1 200 OK\"\n",
      "2025-07-24 16:53:17,171 - httpx - INFO - HTTP Request: POST https://api.mistral.ai/v1/chat/completions \"HTTP/1.1 200 OK\"\n",
      "2025-07-24 16:53:17,177 - bill_parser_engine.core.reference_resolver.reference_object_linker - INFO - Evaluator requesting improvement at iteration 1: L'objet identifié initialement était 'activité', mais la référence 'à ce IV de ce même article' fait en réalité référence à la section 'IV' de l'article, qui est une entité juridique concrète. La référence ne modifie pas directement 'activité', mais plutôt elle pointe vers une section spécifique de l'article. La préposition 'à' est utilisée pour indiquer une référence à une section de l'article, ce qui est cohérent avec le contexte juridique.\n"
     ]
    },
    {
     "name": "stdout",
     "output_type": "stream",
     "text": [
      "⏱️ ReferenceObjectLinker-Optimizer: Waiting 0.5s for rate limiting...\n"
     ]
    },
    {
     "name": "stderr",
     "output_type": "stream",
     "text": [
      "2025-07-24 16:53:19,603 - httpx - INFO - HTTP Request: POST https://api.mistral.ai/v1/chat/completions \"HTTP/1.1 200 OK\"\n"
     ]
    },
    {
     "name": "stdout",
     "output_type": "stream",
     "text": [
      "⏱️ ReferenceObjectLinker-Evaluator: Waiting 1.6s for rate limiting...\n"
     ]
    },
    {
     "name": "stderr",
     "output_type": "stream",
     "text": [
      "2025-07-24 16:53:24,443 - httpx - INFO - HTTP Request: POST https://api.mistral.ai/v1/chat/completions \"HTTP/1.1 200 OK\"\n",
      "2025-07-24 16:53:24,450 - bill_parser_engine.core.reference_resolver.reference_object_linker - INFO - Evaluator requesting improvement at iteration 2: L'objet identifié initialement était 'la section IV de l'article', mais il manque la référence spécifique à l'article L. 254-1. La référence 'à ce IV de ce même article' fait en réalité référence à la section 'IV' de l'article L. 254-1, qui est une entité juridique concrète et présente dans le texte de contexte. La préposition 'à' est utilisée pour indiquer une référence à une section de l'article, ce qui est cohérent avec le contexte juridique. La confiance a été augmentée car l'objet corrigé est clairement présent dans le contexte et est une entité juridique concrète.\n"
     ]
    },
    {
     "name": "stdout",
     "output_type": "stream",
     "text": [
      "⏱️ ReferenceObjectLinker-Optimizer: Waiting 0.3s for rate limiting...\n"
     ]
    },
    {
     "name": "stderr",
     "output_type": "stream",
     "text": [
      "2025-07-24 16:53:27,065 - httpx - INFO - HTTP Request: POST https://api.mistral.ai/v1/chat/completions \"HTTP/1.1 200 OK\"\n"
     ]
    },
    {
     "name": "stdout",
     "output_type": "stream",
     "text": [
      "⏱️ ReferenceObjectLinker-Evaluator: Waiting 1.2s for rate limiting...\n"
     ]
    },
    {
     "name": "stderr",
     "output_type": "stream",
     "text": [
      "2025-07-24 16:53:33,052 - httpx - INFO - HTTP Request: POST https://api.mistral.ai/v1/chat/completions \"HTTP/1.1 200 OK\"\n",
      "2025-07-24 16:53:33,502 - bill_parser_engine.core.reference_resolver.reference_object_linker - INFO - Evaluator requesting improvement at iteration 3: L'objet identifié initialement était 'la section IV de l'article', mais il manque la référence spécifique à l'article L. 254-1. La référence 'à ce IV de ce même article' fait en réalité référence à la section 'IV' de l'article L. 254-1, qui est une entité juridique concrète et présente dans le texte de contexte. La préposition 'à' est utilisée pour indiquer une référence à une section de l'article, ce qui est cohérent avec le contexte juridique. La confiance a été augmentée car l'objet corrigé est clairement présent dans le contexte et est une entité juridique concrète.\n",
      "2025-07-24 16:53:35,919 - httpx - INFO - HTTP Request: POST https://api.mistral.ai/v1/chat/completions \"HTTP/1.1 200 OK\"\n"
     ]
    },
    {
     "name": "stdout",
     "output_type": "stream",
     "text": [
      "⏱️ ReferenceObjectLinker-Evaluator: Waiting 1.1s for rate limiting...\n"
     ]
    },
    {
     "name": "stderr",
     "output_type": "stream",
     "text": [
      "2025-07-24 16:53:38,776 - httpx - INFO - HTTP Request: POST https://api.mistral.ai/v1/chat/completions \"HTTP/1.1 200 OK\"\n",
      "2025-07-24 16:53:38,780 - bill_parser_engine.core.reference_resolver.reference_object_linker - INFO - Evaluator approved result after 4 iteration(s) for reference: à ce IV de ce même article\n",
      "2025-07-24 16:53:38,781 - bill_parser_engine.core.reference_resolver.reference_object_linker - INFO - Successfully linked reference: à ce IV de ce même article → la section IV de l'article L. 254-1\n"
     ]
    },
    {
     "name": "stdout",
     "output_type": "stream",
     "text": [
      "⏱️ ReferenceObjectLinker: Waiting 1.7s for rate limiting...\n"
     ]
    },
    {
     "name": "stderr",
     "output_type": "stream",
     "text": [
      "2025-07-24 16:53:45,034 - httpx - INFO - HTTP Request: POST https://api.mistral.ai/v1/chat/completions \"HTTP/1.1 200 OK\"\n",
      "2025-07-24 16:53:45,038 - bill_parser_engine.core.reference_resolver.reference_object_linker - INFO - High confidence (0.900) - skipping iteration for reference: de ce II\n",
      "2025-07-24 16:53:45,040 - bill_parser_engine.core.reference_resolver.reference_object_linker - INFO - Successfully linked reference: de ce II → ce II\n",
      "2025-07-24 16:53:49,470 - httpx - INFO - HTTP Request: POST https://api.mistral.ai/v1/chat/completions \"HTTP/1.1 200 OK\"\n",
      "2025-07-24 16:53:49,473 - bill_parser_engine.core.reference_resolver.reference_object_linker - INFO - High confidence (0.950) - skipping iteration for reference: de producteur au sens du premier alinéa du VI du même article L. 254-1\n",
      "2025-07-24 16:53:49,475 - bill_parser_engine.core.reference_resolver.reference_object_linker - INFO - Successfully linked reference: de producteur au sens du premier alinéa du VI du même article L. 254-1 → producteur\n",
      "2025-07-24 16:53:51,540 - httpx - INFO - HTTP Request: POST https://api.mistral.ai/v1/chat/completions \"HTTP/1.1 200 OK\"\n",
      "2025-07-24 16:53:51,543 - bill_parser_engine.core.reference_resolver.reference_object_linker - INFO - High confidence (0.900) - skipping iteration for reference: de producteur au sens du même premier alinéa du II du même article L. 254-1\n",
      "2025-07-24 16:53:51,544 - bill_parser_engine.core.reference_resolver.reference_object_linker - INFO - Successfully linked reference: de producteur au sens du même premier alinéa du II du même article L. 254-1 → producteur\n",
      "2025-07-24 16:53:51,545 - bill_parser_engine.core.reference_resolver.reference_object_linker - INFO - Successfully linked 7 out of 7 references\n",
      "2025-07-24 16:53:51,545 - bill_parser_engine.core.reference_resolver.pipeline - INFO - Successful reference location 4/14: Linked 7 references (5 DELETIONAL, 2 DEFINITIONAL) in 53.29s\n"
     ]
    },
    {
     "name": "stdout",
     "output_type": "stream",
     "text": [
      "⏱️ ReferenceObjectLinker: Waiting 1.4s for rate limiting...\n"
     ]
    },
    {
     "name": "stderr",
     "output_type": "stream",
     "text": [
      "2025-07-24 16:53:55,273 - httpx - INFO - HTTP Request: POST https://api.mistral.ai/v1/chat/completions \"HTTP/1.1 200 OK\"\n",
      "2025-07-24 16:53:55,278 - bill_parser_engine.core.reference_resolver.reference_object_linker - INFO - High confidence (0.900) - skipping iteration for reference: aux 1° ou 2° du même II\n",
      "2025-07-24 16:53:55,280 - bill_parser_engine.core.reference_resolver.reference_object_linker - INFO - Successfully linked reference: aux 1° ou 2° du même II → activités\n"
     ]
    },
    {
     "name": "stdout",
     "output_type": "stream",
     "text": [
      "⏱️ ReferenceObjectLinker: Waiting 1.2s for rate limiting...\n"
     ]
    },
    {
     "name": "stderr",
     "output_type": "stream",
     "text": [
      "2025-07-24 16:53:58,195 - httpx - INFO - HTTP Request: POST https://api.mistral.ai/v1/chat/completions \"HTTP/1.1 200 OK\"\n"
     ]
    },
    {
     "name": "stdout",
     "output_type": "stream",
     "text": [
      "⏱️ ReferenceObjectLinker-Evaluator: Waiting 1.8s for rate limiting...\n"
     ]
    },
    {
     "name": "stderr",
     "output_type": "stream",
     "text": [
      "2025-07-24 16:54:03,056 - httpx - INFO - HTTP Request: POST https://api.mistral.ai/v1/chat/completions \"HTTP/1.1 200 OK\"\n",
      "2025-07-24 16:54:03,059 - bill_parser_engine.core.reference_resolver.reference_object_linker - INFO - Evaluator requesting improvement at iteration 1: L'objet identifié initialement ('personne') ne correspond pas à la référence. La référence 'au IV du même article' fait clairement référence à une section de l'article, et non à une personne. L'objet correct est 'article' car la référence pointe vers une partie spécifique de l'article mentionné dans le contexte. La préposition 'au' est utilisée pour indiquer une section spécifique d'un article, ce qui est cohérent avec l'usage juridique.\n"
     ]
    },
    {
     "name": "stdout",
     "output_type": "stream",
     "text": [
      "⏱️ ReferenceObjectLinker-Optimizer: Waiting 0.4s for rate limiting...\n"
     ]
    },
    {
     "name": "stderr",
     "output_type": "stream",
     "text": [
      "2025-07-24 16:54:06,131 - httpx - INFO - HTTP Request: POST https://api.mistral.ai/v1/chat/completions \"HTTP/1.1 200 OK\"\n"
     ]
    },
    {
     "name": "stdout",
     "output_type": "stream",
     "text": [
      "⏱️ ReferenceObjectLinker-Evaluator: Waiting 0.9s for rate limiting...\n"
     ]
    },
    {
     "name": "stderr",
     "output_type": "stream",
     "text": [
      "2025-07-24 16:54:08,995 - httpx - INFO - HTTP Request: POST https://api.mistral.ai/v1/chat/completions \"HTTP/1.1 200 OK\"\n",
      "2025-07-24 16:54:09,002 - bill_parser_engine.core.reference_resolver.reference_object_linker - INFO - Evaluator requesting improvement at iteration 2: L'objet identifié initialement ('article') ne correspond pas à la référence. La référence 'au IV du même article' fait clairement référence à une section de l'article, et non à l'article lui-même. L'objet correct est 'IV' car la référence pointe vers une partie spécifique de l'article mentionné dans le contexte. La préposition 'au' est utilisée pour indiquer une section spécifique d'un article, ce qui est cohérent avec l'usage juridique.\n"
     ]
    },
    {
     "name": "stdout",
     "output_type": "stream",
     "text": [
      "⏱️ ReferenceObjectLinker-Optimizer: Waiting 1.5s for rate limiting...\n"
     ]
    },
    {
     "name": "stderr",
     "output_type": "stream",
     "text": [
      "2025-07-24 16:54:13,500 - httpx - INFO - HTTP Request: POST https://api.mistral.ai/v1/chat/completions \"HTTP/1.1 200 OK\"\n"
     ]
    },
    {
     "name": "stdout",
     "output_type": "stream",
     "text": [
      "⏱️ ReferenceObjectLinker-Evaluator: Waiting 0.5s for rate limiting...\n"
     ]
    },
    {
     "name": "stderr",
     "output_type": "stream",
     "text": [
      "2025-07-24 16:54:16,074 - httpx - INFO - HTTP Request: POST https://api.mistral.ai/v1/chat/completions \"HTTP/1.1 200 OK\"\n",
      "2025-07-24 16:54:16,077 - bill_parser_engine.core.reference_resolver.reference_object_linker - INFO - Evaluator requesting improvement at iteration 3: L'objet identifié initialement ('IV') ne correspond pas à la référence. La référence 'au IV du même article' fait clairement référence à une section de l'article, et non à une personne ou à l'article lui-même. L'objet correct est 'article' car la référence pointe vers une partie spécifique de l'article mentionné dans le contexte. La préposition 'au' est utilisée pour indiquer une section spécifique d'un article, ce qui est cohérent avec l'usage juridique.\n"
     ]
    },
    {
     "name": "stdout",
     "output_type": "stream",
     "text": [
      "⏱️ ReferenceObjectLinker-Optimizer: Waiting 1.4s for rate limiting...\n"
     ]
    },
    {
     "name": "stderr",
     "output_type": "stream",
     "text": [
      "2025-07-24 16:54:19,522 - httpx - INFO - HTTP Request: POST https://api.mistral.ai/v1/chat/completions \"HTTP/1.1 200 OK\"\n"
     ]
    },
    {
     "name": "stdout",
     "output_type": "stream",
     "text": [
      "⏱️ ReferenceObjectLinker-Evaluator: Waiting 1.5s for rate limiting...\n"
     ]
    },
    {
     "name": "stderr",
     "output_type": "stream",
     "text": [
      "2025-07-24 16:54:23,739 - httpx - INFO - HTTP Request: POST https://api.mistral.ai/v1/chat/completions \"HTTP/1.1 200 OK\"\n",
      "2025-07-24 16:54:23,744 - bill_parser_engine.core.reference_resolver.reference_object_linker - INFO - Evaluator requesting improvement at iteration 4: L'objet identifié initialement ('article') ne correspond pas à la référence. La référence 'au IV du même article' fait clairement référence à une section de l'article, et non à l'article lui-même. L'objet correct est 'IV' car la référence pointe vers une partie spécifique de l'article mentionné dans le contexte. La préposition 'au' est utilisée pour indiquer une section spécifique d'un article, ce qui est cohérent avec l'usage juridique.\n"
     ]
    },
    {
     "name": "stdout",
     "output_type": "stream",
     "text": [
      "⏱️ ReferenceObjectLinker-Optimizer: Waiting 0.8s for rate limiting...\n"
     ]
    },
    {
     "name": "stderr",
     "output_type": "stream",
     "text": [
      "2025-07-24 16:54:26,811 - httpx - INFO - HTTP Request: POST https://api.mistral.ai/v1/chat/completions \"HTTP/1.1 200 OK\"\n"
     ]
    },
    {
     "name": "stdout",
     "output_type": "stream",
     "text": [
      "⏱️ ReferenceObjectLinker-Evaluator: Waiting 1.2s for rate limiting...\n"
     ]
    },
    {
     "name": "stderr",
     "output_type": "stream",
     "text": [
      "2025-07-24 16:54:30,499 - httpx - INFO - HTTP Request: POST https://api.mistral.ai/v1/chat/completions \"HTTP/1.1 200 OK\"\n",
      "2025-07-24 16:54:30,505 - bill_parser_engine.core.reference_resolver.reference_object_linker - INFO - Final evaluator correction after 5 iterations for reference: au IV du même article\n",
      "2025-07-24 16:54:30,506 - bill_parser_engine.core.reference_resolver.reference_object_linker - INFO -   Original: personne\n",
      "2025-07-24 16:54:30,507 - bill_parser_engine.core.reference_resolver.reference_object_linker - INFO -   Final: section IV\n",
      "2025-07-24 16:54:30,509 - bill_parser_engine.core.reference_resolver.reference_object_linker - INFO - Successfully linked reference: au IV du même article → section IV\n"
     ]
    },
    {
     "name": "stdout",
     "output_type": "stream",
     "text": [
      "⏱️ ReferenceObjectLinker: Waiting 1.0s for rate limiting...\n"
     ]
    },
    {
     "name": "stderr",
     "output_type": "stream",
     "text": [
      "2025-07-24 16:54:33,779 - httpx - INFO - HTTP Request: POST https://api.mistral.ai/v1/chat/completions \"HTTP/1.1 200 OK\"\n",
      "2025-07-24 16:54:33,786 - bill_parser_engine.core.reference_resolver.reference_object_linker - INFO - High confidence (0.900) - skipping iteration for reference: au sens du premier alinéa du VI du même article L. 254-1\n",
      "2025-07-24 16:54:33,788 - bill_parser_engine.core.reference_resolver.reference_object_linker - INFO - Successfully linked reference: au sens du premier alinéa du VI du même article L. 254-1 → activité de producteur\n",
      "2025-07-24 16:54:33,789 - bill_parser_engine.core.reference_resolver.reference_object_linker - INFO - Successfully linked 3 out of 3 references\n",
      "2025-07-24 16:54:33,790 - bill_parser_engine.core.reference_resolver.pipeline - INFO - Successful reference location 5/14: Linked 3 references (2 DELETIONAL, 1 DEFINITIONAL) in 42.24s\n"
     ]
    },
    {
     "name": "stdout",
     "output_type": "stream",
     "text": [
      "⏱️ ReferenceObjectLinker: Waiting 1.2s for rate limiting...\n"
     ]
    },
    {
     "name": "stderr",
     "output_type": "stream",
     "text": [
      "2025-07-24 16:54:37,052 - httpx - INFO - HTTP Request: POST https://api.mistral.ai/v1/chat/completions \"HTTP/1.1 200 OK\"\n",
      "2025-07-24 16:54:37,055 - bill_parser_engine.core.reference_resolver.reference_object_linker - INFO - High confidence (0.950) - skipping iteration for reference: aux 1° et 2°\n",
      "2025-07-24 16:54:37,057 - bill_parser_engine.core.reference_resolver.reference_object_linker - INFO - Successfully linked reference: aux 1° et 2° → personnes agréées\n"
     ]
    },
    {
     "name": "stdout",
     "output_type": "stream",
     "text": [
      "⏱️ ReferenceObjectLinker: Waiting 1.5s for rate limiting...\n"
     ]
    },
    {
     "name": "stderr",
     "output_type": "stream",
     "text": [
      "2025-07-24 16:54:40,467 - httpx - INFO - HTTP Request: POST https://api.mistral.ai/v1/chat/completions \"HTTP/1.1 200 OK\"\n",
      "2025-07-24 16:54:40,471 - bill_parser_engine.core.reference_resolver.reference_object_linker - INFO - High confidence (0.900) - skipping iteration for reference: au 1°\n",
      "2025-07-24 16:54:40,473 - bill_parser_engine.core.reference_resolver.reference_object_linker - INFO - Successfully linked reference: au 1° → activités\n",
      "2025-07-24 16:54:40,474 - bill_parser_engine.core.reference_resolver.reference_object_linker - INFO - Successfully linked 2 out of 2 references\n",
      "2025-07-24 16:54:40,475 - bill_parser_engine.core.reference_resolver.pipeline - INFO - Successful reference location 6/14: Linked 2 references (1 DELETIONAL, 1 DEFINITIONAL) in 6.68s\n"
     ]
    },
    {
     "name": "stdout",
     "output_type": "stream",
     "text": [
      "⏱️ ReferenceObjectLinker: Waiting 1.6s for rate limiting...\n"
     ]
    },
    {
     "name": "stderr",
     "output_type": "stream",
     "text": [
      "2025-07-24 16:54:44,220 - httpx - INFO - HTTP Request: POST https://api.mistral.ai/v1/chat/completions \"HTTP/1.1 200 OK\"\n",
      "2025-07-24 16:54:44,225 - bill_parser_engine.core.reference_resolver.reference_object_linker - INFO - High confidence (0.900) - skipping iteration for reference: du présent I\n",
      "2025-07-24 16:54:44,227 - bill_parser_engine.core.reference_resolver.reference_object_linker - INFO - Successfully linked reference: du présent I → certification\n",
      "2025-07-24 16:54:44,228 - bill_parser_engine.core.reference_resolver.reference_object_linker - INFO - Successfully linked 1 out of 1 references\n",
      "2025-07-24 16:54:44,228 - bill_parser_engine.core.reference_resolver.pipeline - INFO - Successful reference location 7/14: Linked 1 references (0 DELETIONAL, 1 DEFINITIONAL) in 3.75s\n"
     ]
    },
    {
     "name": "stdout",
     "output_type": "stream",
     "text": [
      "⏱️ ReferenceObjectLinker: Waiting 1.3s for rate limiting...\n"
     ]
    },
    {
     "name": "stderr",
     "output_type": "stream",
     "text": [
      "2025-07-24 16:54:47,789 - httpx - INFO - HTTP Request: POST https://api.mistral.ai/v1/chat/completions \"HTTP/1.1 200 OK\"\n",
      "2025-07-24 16:54:47,794 - bill_parser_engine.core.reference_resolver.reference_object_linker - INFO - High confidence (0.900) - skipping iteration for reference: Les articles L. 254-6-2 et L. 254-6-3\n",
      "2025-07-24 16:54:47,796 - bill_parser_engine.core.reference_resolver.reference_object_linker - INFO - Successfully linked reference: Les articles L. 254-6-2 et L. 254-6-3 → conseil stratégique à l'utilisation de produits phytopharmaceutiques\n",
      "2025-07-24 16:54:47,796 - bill_parser_engine.core.reference_resolver.reference_object_linker - INFO - Successfully linked 1 out of 1 references\n",
      "2025-07-24 16:54:47,797 - bill_parser_engine.core.reference_resolver.pipeline - INFO - Successful reference location 8/14: Linked 1 references (1 DELETIONAL, 0 DEFINITIONAL) in 3.57s\n"
     ]
    },
    {
     "name": "stdout",
     "output_type": "stream",
     "text": [
      "⏱️ ReferenceObjectLinker: Waiting 1.2s for rate limiting...\n"
     ]
    },
    {
     "name": "stderr",
     "output_type": "stream",
     "text": [
      "2025-07-24 16:54:50,988 - httpx - INFO - HTTP Request: POST https://api.mistral.ai/v1/chat/completions \"HTTP/1.1 200 OK\"\n",
      "2025-07-24 16:54:50,992 - bill_parser_engine.core.reference_resolver.reference_object_linker - INFO - High confidence (0.950) - skipping iteration for reference: mentionné à l'article L. 253-6\n",
      "2025-07-24 16:54:50,995 - bill_parser_engine.core.reference_resolver.reference_object_linker - INFO - Successfully linked reference: mentionné à l'article L. 253-6 → lutte intégrée contre les ennemis des cultures\n"
     ]
    },
    {
     "name": "stdout",
     "output_type": "stream",
     "text": [
      "⏱️ ReferenceObjectLinker: Waiting 1.5s for rate limiting...\n"
     ]
    },
    {
     "name": "stderr",
     "output_type": "stream",
     "text": [
      "2025-07-24 16:59:57,873 - httpx - INFO - HTTP Request: POST https://api.mistral.ai/v1/chat/completions \"HTTP/1.1 200 OK\"\n",
      "2025-07-24 17:00:01,455 - httpx - INFO - HTTP Request: POST https://api.mistral.ai/v1/chat/completions \"HTTP/1.1 200 OK\"\n",
      "2025-07-24 17:00:01,461 - bill_parser_engine.core.reference_resolver.reference_object_linker - INFO - Evaluator requesting improvement at iteration 1: L'objet identifié initialement, 'activités', est présent dans le contexte mais ne correspond pas grammaticalement à la référence. La référence 'au 1° du II de l'article L. 254-1' se rapporte en réalité au 'conseil stratégique', qui est masculin singulier et correspond à la préposition 'au'. De plus, 'conseil stratégique' est une entité juridique concrète et fait sens dans le contexte juridique.\n",
      "2025-07-24 17:00:03,915 - httpx - INFO - HTTP Request: POST https://api.mistral.ai/v1/chat/completions \"HTTP/1.1 200 OK\"\n"
     ]
    },
    {
     "name": "stdout",
     "output_type": "stream",
     "text": [
      "⏱️ ReferenceObjectLinker-Evaluator: Waiting 1.0s for rate limiting...\n"
     ]
    },
    {
     "name": "stderr",
     "output_type": "stream",
     "text": [
      "2025-07-24 17:00:07,600 - httpx - INFO - HTTP Request: POST https://api.mistral.ai/v1/chat/completions \"HTTP/1.1 200 OK\"\n",
      "2025-07-24 17:00:07,604 - bill_parser_engine.core.reference_resolver.reference_object_linker - INFO - Evaluator approved result after 2 iteration(s) for reference: au 1° du II de l'article L. 254-1\n",
      "2025-07-24 17:00:07,606 - bill_parser_engine.core.reference_resolver.reference_object_linker - INFO - Successfully linked reference: au 1° du II de l'article L. 254-1 → conseil stratégique\n",
      "2025-07-24 17:00:07,607 - bill_parser_engine.core.reference_resolver.reference_object_linker - INFO - Successfully linked 2 out of 2 references\n",
      "2025-07-24 17:00:07,608 - bill_parser_engine.core.reference_resolver.pipeline - INFO - Successful reference location 9/14: Linked 2 references (0 DELETIONAL, 2 DEFINITIONAL) in 319.81s\n"
     ]
    },
    {
     "name": "stdout",
     "output_type": "stream",
     "text": [
      "⏱️ ReferenceObjectLinker: Waiting 0.9s for rate limiting...\n"
     ]
    },
    {
     "name": "stderr",
     "output_type": "stream",
     "text": [
      "2025-07-24 17:00:10,672 - httpx - INFO - HTTP Request: POST https://api.mistral.ai/v1/chat/completions \"HTTP/1.1 200 OK\"\n",
      "2025-07-24 17:00:10,677 - bill_parser_engine.core.reference_resolver.reference_object_linker - INFO - High confidence (0.900) - skipping iteration for reference: mentionnés au II\n",
      "2025-07-24 17:00:10,680 - bill_parser_engine.core.reference_resolver.reference_object_linker - INFO - Successfully linked reference: mentionnés au II → activités\n",
      "2025-07-24 17:00:10,681 - bill_parser_engine.core.reference_resolver.reference_object_linker - INFO - Successfully linked 1 out of 1 references\n",
      "2025-07-24 17:00:10,681 - bill_parser_engine.core.reference_resolver.pipeline - INFO - Successful reference location 10/14: Linked 1 references (0 DELETIONAL, 1 DEFINITIONAL) in 3.07s\n"
     ]
    },
    {
     "name": "stdout",
     "output_type": "stream",
     "text": [
      "⏱️ ReferenceObjectLinker: Waiting 1.3s for rate limiting...\n"
     ]
    },
    {
     "name": "stderr",
     "output_type": "stream",
     "text": [
      "2025-07-24 17:00:14,165 - httpx - INFO - HTTP Request: POST https://api.mistral.ai/v1/chat/completions \"HTTP/1.1 200 OK\"\n",
      "2025-07-24 17:00:14,169 - bill_parser_engine.core.reference_resolver.reference_object_linker - INFO - High confidence (0.950) - skipping iteration for reference: mentionné au 3° du II de l'article L. 254-1\n",
      "2025-07-24 17:00:14,171 - bill_parser_engine.core.reference_resolver.reference_object_linker - INFO - Successfully linked reference: mentionné au 3° du II de l'article L. 254-1 → conseil\n",
      "2025-07-24 17:00:14,172 - bill_parser_engine.core.reference_resolver.reference_object_linker - INFO - Successfully linked 1 out of 1 references\n",
      "2025-07-24 17:00:14,172 - bill_parser_engine.core.reference_resolver.pipeline - INFO - Successful reference location 11/14: Linked 1 references (0 DELETIONAL, 1 DEFINITIONAL) in 3.49s\n"
     ]
    },
    {
     "name": "stdout",
     "output_type": "stream",
     "text": [
      "⏱️ ReferenceObjectLinker: Waiting 1.3s for rate limiting...\n"
     ]
    },
    {
     "name": "stderr",
     "output_type": "stream",
     "text": [
      "2025-07-24 17:00:21,836 - httpx - INFO - HTTP Request: POST https://api.mistral.ai/v1/chat/completions \"HTTP/1.1 200 OK\"\n",
      "2025-07-24 17:00:21,842 - bill_parser_engine.core.reference_resolver.reference_object_linker - INFO - High confidence (0.900) - skipping iteration for reference: mentionnées au IV de l'article L. 213-10-8 du code de l'environnement\n",
      "2025-07-24 17:00:21,844 - bill_parser_engine.core.reference_resolver.reference_object_linker - INFO - Successfully linked reference: mentionnées au IV de l'article L. 213-10-8 du code de l'environnement → personnes\n",
      "2025-07-24 17:00:24,089 - httpx - INFO - HTTP Request: POST https://api.mistral.ai/v1/chat/completions \"HTTP/1.1 200 OK\"\n",
      "2025-07-24 17:00:24,095 - bill_parser_engine.core.reference_resolver.reference_object_linker - INFO - High confidence (0.900) - skipping iteration for reference: mentionnées au 1° du II de l'article L. 254-1\n",
      "2025-07-24 17:00:24,097 - bill_parser_engine.core.reference_resolver.reference_object_linker - INFO - Successfully linked reference: mentionnées au 1° du II de l'article L. 254-1 → activités\n",
      "2025-07-24 17:00:24,098 - bill_parser_engine.core.reference_resolver.reference_object_linker - INFO - Successfully linked 2 out of 2 references\n",
      "2025-07-24 17:00:24,099 - bill_parser_engine.core.reference_resolver.pipeline - INFO - Successful reference location 12/14: Linked 2 references (1 DELETIONAL, 1 DEFINITIONAL) in 9.93s\n"
     ]
    },
    {
     "name": "stdout",
     "output_type": "stream",
     "text": [
      "⏱️ ReferenceObjectLinker: Waiting 1.2s for rate limiting...\n"
     ]
    },
    {
     "name": "stderr",
     "output_type": "stream",
     "text": [
      "2025-07-24 17:00:30,170 - httpx - INFO - HTTP Request: POST https://api.mistral.ai/v1/chat/completions \"HTTP/1.1 200 OK\"\n",
      "2025-07-24 17:00:30,175 - bill_parser_engine.core.reference_resolver.reference_object_linker - INFO - High confidence (0.950) - skipping iteration for reference: au II de l'article L. 254-6-4\n",
      "2025-07-24 17:00:30,178 - bill_parser_engine.core.reference_resolver.reference_object_linker - INFO - Successfully linked reference: au II de l'article L. 254-6-4 → conseil stratégique à l'utilisation de produits phytopharmaceutiques\n",
      "2025-07-24 17:00:30,178 - bill_parser_engine.core.reference_resolver.reference_object_linker - INFO - Successfully linked 1 out of 1 references\n",
      "2025-07-24 17:00:30,179 - bill_parser_engine.core.reference_resolver.pipeline - INFO - Successful reference location 13/14: Linked 1 references (0 DELETIONAL, 1 DEFINITIONAL) in 6.08s\n",
      "2025-07-24 17:00:32,792 - httpx - INFO - HTTP Request: POST https://api.mistral.ai/v1/chat/completions \"HTTP/1.1 200 OK\"\n",
      "2025-07-24 17:00:32,798 - bill_parser_engine.core.reference_resolver.reference_object_linker - INFO - High confidence (0.900) - skipping iteration for reference: du second alinéa de l'article L. 254-1-2\n",
      "2025-07-24 17:00:32,801 - bill_parser_engine.core.reference_resolver.reference_object_linker - INFO - Successfully linked reference: du second alinéa de l'article L. 254-1-2 → modalités d'application\n",
      "2025-07-24 17:00:32,801 - bill_parser_engine.core.reference_resolver.reference_object_linker - INFO - Successfully linked 1 out of 1 references\n",
      "2025-07-24 17:00:32,802 - bill_parser_engine.core.reference_resolver.pipeline - INFO - Successful reference location 14/14: Linked 1 references (1 DELETIONAL, 0 DEFINITIONAL) in 2.62s\n",
      "2025-07-24 17:00:32,804 - bill_parser_engine.core.reference_resolver.pipeline - INFO - Step 6 completed: Linked 34 references across 14 successful chunks (skipped 8 failed/skipped reference locations) using context-switching approach\n"
     ]
    }
   ],
   "source": [
    "ref_link = pipeline.step_6_link_references()"
   ]
  },
  {
   "cell_type": "code",
   "execution_count": 26,
   "id": "76c0d3c1-89b0-44a3-acc3-8ba91ce8223a",
   "metadata": {
    "scrolled": true
   },
   "outputs": [
    {
     "data": {
      "text/plain": [
       "{'total_chunks': 22,\n",
       " 'successful_links': 14,\n",
       " 'failed_links': 8,\n",
       " 'success_rate': 0.6363636363636364,\n",
       " 'reference_stats': {'total_links': 34,\n",
       "  'deletional_links': 16,\n",
       "  'definitional_links': 18,\n",
       "  'average_links_per_chunk': 2.4285714285714284,\n",
       "  'average_confidence': 0.9188235294117647,\n",
       "  'confidence_distribution': {'high_confidence': 34,\n",
       "   'medium_confidence': 0,\n",
       "   'low_confidence': 0}},\n",
       " 'object_analysis': {'total_objects_found': 34,\n",
       "  'unique_objects_count': 21,\n",
       "  'unique_objects': [\"modalités d'application\",\n",
       "   'la part du capital',\n",
       "   'personnes',\n",
       "   'la liste',\n",
       "   'certification',\n",
       "   'lutte intégrée contre les ennemis des cultures',\n",
       "   \"la section IV de l'article L. 254-1\",\n",
       "   'section IV',\n",
       "   'producteur',\n",
       "   'substances de base'],\n",
       "  'most_common_objects': [('producteur', 5),\n",
       "   ('activité', 4),\n",
       "   ('activités', 4),\n",
       "   ('conseil', 2),\n",
       "   ('la part du capital', 2),\n",
       "   (\"conseil stratégique à l'utilisation de produits phytopharmaceutiques\", 2),\n",
       "   ('activité de conseil', 1),\n",
       "   ('la liste', 1),\n",
       "   ('substances de base', 1),\n",
       "   ('produits à faible risque', 1)]},\n",
       " 'resolution_questions': {'total_questions_generated': 34,\n",
       "  'sample_questions': ['Quelles sont les dispositions spécifiques prévues aux articles L. 254-6-2 et L. 254-6-3 concernant les modalités du conseil ?',\n",
       "   \"Quelles sont les dispositions spécifiques prévues au 3° du II concernant l'activité de conseil ?\",\n",
       "   \"Comment le 11 de l'article 3 du règlement (CE) n° 1107/2009 définit-il précisément le terme 'producteur' dans ce contexte juridique ?\",\n",
       "   \"Quelles sont les substances ou produits spécifiques figurant sur la liste mentionnée à l'article L. 253-5 du présent code qui sont exclus de l'incompatibilité d'activité pour les producteurs ?\",\n",
       "   \"Comment l'article 23 du règlement (CE) n° 1107/2009 définit-il précisément les 'substances de base' ?\"]},\n",
       " 'failed_chunks': ['# TITRE Iᴱᴿ::Article 1ᵉʳ::3° ter::b)',\n",
       "  '# TITRE Iᴱᴿ::Article 1ᵉʳ::5° quinquies',\n",
       "  '# TITRE Iᴱᴿ::Article 1ᵉʳ::6°::a)',\n",
       "  '# TITRE Iᴱᴿ::Article 1ᵉʳ::6° ter',\n",
       "  '# TITRE Iᴱᴿ::Article 1ᵉʳ::3° bis::a)',\n",
       "  '# TITRE Iᴱᴿ::Article 1ᵉʳ::3° quater::a)',\n",
       "  '# TITRE Iᴱᴿ::Article 1ᵉʳ::5° ter::a)',\n",
       "  '# TITRE Iᴱᴿ::Article 1ᵉʳ::6° bis::b)']}"
      ]
     },
     "execution_count": 26,
     "metadata": {},
     "output_type": "execute_result"
    }
   ],
   "source": [
    "pipeline._analyze_reference_linking_results(ref_link)"
   ]
  },
  {
   "cell_type": "code",
   "execution_count": null,
   "id": "316caf19-ddc1-4cea-95c2-1618e89c1b03",
   "metadata": {},
   "outputs": [],
   "source": [
    "ref_link[15]"
   ]
  },
  {
   "cell_type": "code",
   "execution_count": null,
   "id": "76426bbd-dfd6-4b43-b3a0-131583fcbe4e",
   "metadata": {},
   "outputs": [],
   "source": []
  },
  {
   "cell_type": "code",
   "execution_count": null,
   "id": "2a20f4f7-b6d5-4484-a3a2-552a8a5aa74b",
   "metadata": {},
   "outputs": [],
   "source": []
  },
  {
   "cell_type": "code",
   "execution_count": null,
   "id": "82f90d9e-86b2-4978-9042-9b42366180ce",
   "metadata": {},
   "outputs": [],
   "source": []
  },
  {
   "cell_type": "code",
   "execution_count": null,
   "id": "8716e468-ddae-400f-8add-7b5de7365918",
   "metadata": {},
   "outputs": [],
   "source": []
  },
  {
   "cell_type": "code",
   "execution_count": null,
   "id": "83c2cced-f94e-40ff-b92d-c18f1e61efa4",
   "metadata": {},
   "outputs": [],
   "source": []
  },
  {
   "cell_type": "code",
   "execution_count": null,
   "id": "cb630817-8299-4a16-a4dc-ce500aa24e05",
   "metadata": {},
   "outputs": [],
   "source": []
  },
  {
   "cell_type": "code",
   "execution_count": null,
   "id": "6cd20764-7162-40a5-a8ad-81ea8d6f99c3",
   "metadata": {},
   "outputs": [],
   "source": []
  },
  {
   "cell_type": "code",
   "execution_count": null,
   "id": "3d8657e5-09e2-4624-9048-03f7858f8bf1",
   "metadata": {},
   "outputs": [],
   "source": []
  }
 ],
 "metadata": {
  "kernelspec": {
   "display_name": "Python (bill-parser-engine)",
   "language": "python",
   "name": "bill-parser-engine"
  },
  "language_info": {
   "codemirror_mode": {
    "name": "ipython",
    "version": 3
   },
   "file_extension": ".py",
   "mimetype": "text/x-python",
   "name": "python",
   "nbconvert_exporter": "python",
   "pygments_lexer": "ipython3",
   "version": "3.12.8"
  }
 },
 "nbformat": 4,
 "nbformat_minor": 5
}
