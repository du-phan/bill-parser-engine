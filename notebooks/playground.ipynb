{
 "cells": [
  {
   "cell_type": "code",
   "execution_count": 1,
   "id": "66d659dc-fa81-46b4-a3fb-0935d18e70ae",
   "metadata": {},
   "outputs": [],
   "source": [
    "import os \n",
    "from dotenv import load_dotenv\n",
    "import json\n",
    "\n",
    "from mistralai import Mistral\n",
    "\n",
    "load_dotenv('../.env.local')\n",
    "\n",
    "api_key = os.environ[\"MISTRAL_API_KEY\"]\n",
    "client = Mistral(api_key)"
   ]
  },
  {
   "cell_type": "code",
   "execution_count": 2,
   "id": "168f94d8-241d-45e9-8d5a-322b7c262144",
   "metadata": {},
   "outputs": [],
   "source": [
    "from bill_parser_engine.core.reference_resolver.detector import ReferenceDetector"
   ]
  },
  {
   "cell_type": "code",
   "execution_count": 3,
   "id": "52174e53-f41d-451b-b8ec-c774f483a627",
   "metadata": {},
   "outputs": [],
   "source": [
    "bill_text = '''\n",
    "# Article 1ᵉʳ\n",
    "\n",
    "Le code rural et de la pêche maritime est ainsi modifié :\n",
    "\n",
    "1. (Supprimé)\n",
    "2. L’article L. 254‑1 est ainsi modifié :\n",
    "3. - a) (nouveau) Au 3° du II, les mots : « prévu aux articles L. 254‑6‑2 et 254‑6‑3 » sont remplacés par les mots : « à l’utilisation des produits phytopharmaceutiques » ;\n",
    "- b) Le VI est ainsi modifié :\n",
    "\n",
    "- – à la fin de la première phrase, les mots : « incompatible avec celui des activités mentionnées aux 1° ou 2° du II ou au IV » sont remplacés par les mots : « interdit aux producteurs au sens du 11 de l’article 3 du règlement (CE) n° 1107/2009 du 21 octobre 2009, sauf lorsque la production concerne des produits de biocontrôle figurant sur la liste mentionnée à l’article L. 253‑5 du présent code, des produits composés uniquement de substances de base au sens de l’article 23 du règlement (CE) n° 1107/2009 ou de produits à faible risque au sens de l’article 47 du même règlement (CE) n° 1107/2009 et des produits dont l’usage est autorisé dans le cadre de l’agriculture biologique » ;\n",
    "'''"
   ]
  },
  {
   "cell_type": "code",
   "execution_count": 25,
   "id": "76037978-3b19-4109-b37f-ae68e38f89d7",
   "metadata": {},
   "outputs": [],
   "source": [
    "bill_text = '''\n",
    "« B. – Les programmes d’application par aéronef circulant sans personne à bord de produits phytopharmaceutiques de biocontrôle mentionnés à l’article L. 253‑6 et figurant sur la liste mentionnée au IV de l’article L. 253‑7, de produits autorisés en agriculture biologique et de produits à faible risque au sens de l’article 47 du règlement (CE) n° 1107/2009 du Parlement européen et du Conseil du 21 octobre 2009 concernant la mise sur le marché des produits phytopharmaceutiques et abrogeant les directives 79/117/CEE et 91/414/CEE du Conseil peuvent être autorisés, lorsqu’ils présentent des avantages manifestes pour la santé humaine et pour l’environnement par rapport aux applications par voie terrestre, sur les parcelles agricoles comportant une pente supérieure ou égale à 30 %, sur les bananeraies et sur les vignes‑mères de porte‑greffes conduites au sol.\n",
    "---\n",
    "'''"
   ]
  },
  {
   "cell_type": "code",
   "execution_count": 26,
   "id": "dd72ebda-3aec-4d89-8c66-22b4295f6672",
   "metadata": {},
   "outputs": [],
   "source": [
    "detector = ReferenceDetector(client=client)"
   ]
  },
  {
   "cell_type": "code",
   "execution_count": 27,
   "id": "cb2a3240-85b8-4880-b815-43b58ec5ca0f",
   "metadata": {},
   "outputs": [],
   "source": [
    "res = detector.detect(text=bill_text)"
   ]
  },
  {
   "cell_type": "code",
   "execution_count": 28,
   "id": "ae0689f1-6ce5-41e3-84f8-8f0f48e40965",
   "metadata": {},
   "outputs": [],
   "source": [
    "output = res.outputs[0]"
   ]
  },
  {
   "cell_type": "code",
   "execution_count": 29,
   "id": "f3a3e4d6-f483-4458-8a9c-9e2166a87297",
   "metadata": {},
   "outputs": [],
   "source": [
    "ref_dct = json.loads(output.content[7:-3])"
   ]
  },
  {
   "cell_type": "code",
   "execution_count": 30,
   "id": "83cb9dce-8fe5-4291-95b9-9e2adcbee97e",
   "metadata": {},
   "outputs": [
    {
     "data": {
      "text/plain": [
       "[{'text': 'l’article L. 253‑6',\n",
       "  'start_pos': 101,\n",
       "  'end_pos': 118,\n",
       "  'object': 'produits phytopharmaceutiques de biocontrôle',\n",
       "  'confidence': 0.95,\n",
       "  'reference_type': 'explicit_complete'},\n",
       " {'text': 'au IV de l’article L. 253‑7',\n",
       "  'start_pos': 134,\n",
       "  'end_pos': 160,\n",
       "  'object': 'produits phytopharmaceutiques de biocontrôle',\n",
       "  'confidence': 0.94,\n",
       "  'reference_type': 'explicit_section'},\n",
       " {'text': 'l’article 47 du règlement (CE) n° 1107/2009 du Parlement européen et du Conseil du 21 octobre 2009',\n",
       "  'start_pos': 197,\n",
       "  'end_pos': 288,\n",
       "  'object': 'produits à faible risque',\n",
       "  'confidence': 0.95,\n",
       "  'reference_type': 'explicit_complete'},\n",
       " {'text': 'directives 79/117/CEE et 91/414/CEE du Conseil',\n",
       "  'start_pos': 316,\n",
       "  'end_pos': 350,\n",
       "  'object': 'règlement (CE) n° 1107/2009',\n",
       "  'confidence': 0.85,\n",
       "  'reference_type': 'explicit_direct'}]"
      ]
     },
     "execution_count": 30,
     "metadata": {},
     "output_type": "execute_result"
    }
   ],
   "source": [
    "ref_dct['references']"
   ]
  },
  {
   "cell_type": "code",
   "execution_count": null,
   "id": "eb158e87-56b5-4404-aa6b-1a6d4d4da527",
   "metadata": {},
   "outputs": [],
   "source": []
  },
  {
   "cell_type": "code",
   "execution_count": null,
   "id": "4c3a3649-682d-425d-8eaf-d18982849030",
   "metadata": {},
   "outputs": [],
   "source": []
  }
 ],
 "metadata": {
  "kernelspec": {
   "display_name": "Python (bill-parser-engine)",
   "language": "python",
   "name": "bill-parser-engine"
  },
  "language_info": {
   "codemirror_mode": {
    "name": "ipython",
    "version": 3
   },
   "file_extension": ".py",
   "mimetype": "text/x-python",
   "name": "python",
   "nbconvert_exporter": "python",
   "pygments_lexer": "ipython3",
   "version": "3.12.8"
  }
 },
 "nbformat": 4,
 "nbformat_minor": 5
}
