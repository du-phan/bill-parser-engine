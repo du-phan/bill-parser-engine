{
 "cells": [
  {
   "cell_type": "code",
   "execution_count": 1,
   "id": "66d659dc-fa81-46b4-a3fb-0935d18e70ae",
   "metadata": {},
   "outputs": [
    {
     "name": "stdout",
     "output_type": "stream",
     "text": [
      "Using mistral model magistral-medium-2506\n"
     ]
    }
   ],
   "source": [
    "import os \n",
    "from dotenv import load_dotenv\n",
    "import json\n",
    "\n",
    "from pathlib import Path\n",
    "\n",
    "from mistralai import Mistral\n",
    "\n",
    "\n",
    "import json\n",
    "import os\n",
    "import sys\n",
    "from datetime import datetime\n",
    "from pathlib import Path\n",
    "from typing import Dict, List, Set\n",
    "\n",
    "from dotenv import load_dotenv\n",
    "\n",
    "# Add the project root to Python path for imports\n",
    "project_root = Path.cwd().parent\n",
    "sys.path.append(str(project_root))\n",
    "\n",
    "from bill_parser_engine.core.reference_resolver.bill_splitter import BillSplitter\n",
    "from bill_parser_engine.core.reference_resolver.target_identifier import TargetArticleIdentifier\n",
    "from bill_parser_engine.core.reference_resolver.models import BillChunk, TargetArticle\n",
    "from bill_parser_engine.core.reference_resolver.config import MISTRAL_MODEL\n",
    "from bill_parser_engine.core.reference_resolver.original_text_retriever import OriginalTextRetriever\n",
    "\n",
    "from bill_parser_engine.core.reference_resolver.pipeline import BillProcessingPipeline\n",
    "\n",
    "from pylegifrance import recherche_code\n",
    "from pylegifrance.models.constants import CodeNom\n",
    "\n",
    "\n",
    "\n",
    "load_dotenv('../.env.local')\n",
    "\n",
    "api_key = os.environ[\"MISTRAL_API_KEY\"]\n",
    "client = Mistral(api_key)\n",
    "\n",
    "print(f'Using mistral model {MISTRAL_MODEL}')"
   ]
  },
  {
   "cell_type": "code",
   "execution_count": 2,
   "id": "49dc1a23-bd8c-4172-91cb-d408dcfbb751",
   "metadata": {},
   "outputs": [],
   "source": [
    "# Define file paths\n",
    "bill_file = project_root / \"data\" / \"legal_bill\" / \"full_legislative_bill.md\"\n",
    "output_dir = project_root / \"scripts \" / \"output\""
   ]
  },
  {
   "cell_type": "code",
   "execution_count": 3,
   "id": "f35e23e9-ec06-4256-8936-b139794d0a4e",
   "metadata": {},
   "outputs": [
    {
     "name": "stderr",
     "output_type": "stream",
     "text": [
      "2025-06-12 17:55:33,313 - bill_parser_engine.core.reference_resolver.pipeline - INFO - BillProcessingPipeline initialized (component-level caching enabled)\n"
     ]
    }
   ],
   "source": [
    "pipeline = BillProcessingPipeline(use_cache=True)"
   ]
  },
  {
   "cell_type": "code",
   "execution_count": 4,
   "id": "161ab667-c78f-42e4-8369-848d5c064656",
   "metadata": {},
   "outputs": [
    {
     "name": "stderr",
     "output_type": "stream",
     "text": [
      "2025-06-12 17:55:33,319 - bill_parser_engine.core.reference_resolver.pipeline - INFO - Loaded legislative text: 30846 characters\n",
      "2025-06-12 17:55:33,320 - bill_parser_engine.core.reference_resolver.pipeline - INFO - Loaded legislative text from file: /Users/duphan/Projects/bill-parser-engine/data/legal_bill/full_legislative_bill.md\n"
     ]
    }
   ],
   "source": [
    "pipeline.load_legislative_text_from_file(bill_file)"
   ]
  },
  {
   "cell_type": "code",
   "execution_count": 5,
   "id": "04e99f2c-c476-44ed-aafa-3cd7f55d8893",
   "metadata": {},
   "outputs": [
    {
     "name": "stderr",
     "output_type": "stream",
     "text": [
      "2025-06-12 17:55:33,330 - bill_parser_engine.core.reference_resolver.cache_manager - INFO - Invalidated 22 cache entries for component 'original_text_retriever'\n",
      "2025-06-12 17:55:33,331 - bill_parser_engine.core.reference_resolver.pipeline - INFO - Cleared component cache for: original_text_retriever\n",
      "2025-06-12 17:55:33,332 - bill_parser_engine.core.reference_resolver.pipeline - INFO - Cleared component cache for: text_reconstructor\n"
     ]
    }
   ],
   "source": [
    "#pipeline.clear_component_cache(\"original_text_retriever\")\n",
    "pipeline.clear_component_cache(\"text_reconstructor\")"
   ]
  },
  {
   "cell_type": "code",
   "execution_count": null,
   "id": "9d90e43e-27ec-4cbd-b495-74aae6059c5b",
   "metadata": {},
   "outputs": [],
   "source": []
  },
  {
   "cell_type": "code",
   "execution_count": 6,
   "id": "0407538d-4c0b-4c04-aa5c-7863ebc76211",
   "metadata": {},
   "outputs": [
    {
     "name": "stderr",
     "output_type": "stream",
     "text": [
      "2025-06-12 17:55:33,335 - bill_parser_engine.core.reference_resolver.pipeline - INFO - Step 1: Splitting legislative bill into chunks...\n",
      "2025-06-12 17:55:33,341 - bill_parser_engine.core.reference_resolver.pipeline - INFO - Split into 46 chunks\n"
     ]
    }
   ],
   "source": [
    "chunks = pipeline.step_1_split_bill()"
   ]
  },
  {
   "cell_type": "code",
   "execution_count": 7,
   "id": "0ab01680-0e0a-4acf-b0aa-2274d88b1d76",
   "metadata": {
    "scrolled": true
   },
   "outputs": [
    {
     "name": "stderr",
     "output_type": "stream",
     "text": [
      "2025-06-12 17:55:33,346 - bill_parser_engine.core.reference_resolver.pipeline - INFO - Step 2: Identifying target articles for 46 chunks...\n",
      "2025-06-12 17:55:33,363 - bill_parser_engine.core.reference_resolver.pipeline - INFO - Target identification complete: 28 unique articles identified\n"
     ]
    },
    {
     "name": "stdout",
     "output_type": "stream",
     "text": [
      "✓ Using cached result for TargetArticleIdentifier\n",
      "✓ Using cached result for TargetArticleIdentifier\n",
      "✓ Using cached result for TargetArticleIdentifier\n",
      "✓ Using cached result for TargetArticleIdentifier\n",
      "✓ Using cached result for TargetArticleIdentifier\n",
      "✓ Using cached result for TargetArticleIdentifier\n",
      "✓ Using cached result for TargetArticleIdentifier\n",
      "✓ Using cached result for TargetArticleIdentifier\n",
      "✓ Using cached result for TargetArticleIdentifier\n",
      "✓ Using cached result for TargetArticleIdentifier\n",
      "✓ Using cached result for TargetArticleIdentifier\n",
      "✓ Using cached result for TargetArticleIdentifier\n",
      "✓ Using cached result for TargetArticleIdentifier\n",
      "✓ Using cached result for TargetArticleIdentifier\n",
      "✓ Using cached result for TargetArticleIdentifier\n",
      "✓ Using cached result for TargetArticleIdentifier\n",
      "✓ Using cached result for TargetArticleIdentifier\n",
      "✓ Using cached result for TargetArticleIdentifier\n",
      "✓ Using cached result for TargetArticleIdentifier\n",
      "✓ Using cached result for TargetArticleIdentifier\n",
      "✓ Using cached result for TargetArticleIdentifier\n",
      "✓ Using cached result for TargetArticleIdentifier\n",
      "✓ Using cached result for TargetArticleIdentifier\n",
      "✓ Using cached result for TargetArticleIdentifier\n",
      "✓ Using cached result for TargetArticleIdentifier\n",
      "✓ Using cached result for TargetArticleIdentifier\n",
      "✓ Using cached result for TargetArticleIdentifier\n",
      "✓ Using cached result for TargetArticleIdentifier\n",
      "✓ Using cached result for TargetArticleIdentifier\n",
      "✓ Using cached result for TargetArticleIdentifier\n",
      "✓ Using cached result for TargetArticleIdentifier\n",
      "✓ Using cached result for TargetArticleIdentifier\n",
      "✓ Using cached result for TargetArticleIdentifier\n",
      "✓ Using cached result for TargetArticleIdentifier\n",
      "✓ Using cached result for TargetArticleIdentifier\n",
      "✓ Using cached result for TargetArticleIdentifier\n",
      "✓ Using cached result for TargetArticleIdentifier\n",
      "✓ Using cached result for TargetArticleIdentifier\n",
      "✓ Using cached result for TargetArticleIdentifier\n",
      "✓ Using cached result for TargetArticleIdentifier\n",
      "✓ Using cached result for TargetArticleIdentifier\n",
      "✓ Using cached result for TargetArticleIdentifier\n",
      "✓ Using cached result for TargetArticleIdentifier\n",
      "✓ Using cached result for TargetArticleIdentifier\n",
      "✓ Using cached result for TargetArticleIdentifier\n",
      "✓ Using cached result for TargetArticleIdentifier\n"
     ]
    }
   ],
   "source": [
    "target_results = pipeline.step_2_identify_target_articles()"
   ]
  },
  {
   "cell_type": "code",
   "execution_count": 8,
   "id": "acc690a4-8432-44a0-b136-16aff81e0e13",
   "metadata": {
    "scrolled": true
   },
   "outputs": [
    {
     "name": "stderr",
     "output_type": "stream",
     "text": [
      "2025-06-12 17:55:33,368 - bill_parser_engine.core.reference_resolver.pipeline - INFO - Step 3: Retrieving original text for target articles...\n",
      "2025-06-12 17:55:33,370 - bill_parser_engine.core.reference_resolver.original_text_retriever - INFO - → Fetching article L. 254-1 from code rural et de la pêche maritime\n",
      "2025-06-12 17:55:33,485 - pylegifrance.auth - INFO - Legifrance API authentication successful.\n",
      "2025-06-12 17:55:33,486 - pylegifrance.client - INFO - POST request to URL: https://api.piste.gouv.fr/dila/legifrance/lf-engine-app/search\n",
      "2025-06-12 17:55:33,975 - pylegifrance.client - INFO - API call to 'search' successful.\n",
      "2025-06-12 17:55:33,977 - pylegifrance.process.processors - INFO - Nombre de résultats trouvés: 1\n",
      "2025-06-12 17:55:33,978 - pylegifrance.client - INFO - POST request to URL: https://api.piste.gouv.fr/dila/legifrance/lf-engine-app/consult/getArticle\n",
      "2025-06-12 17:55:34,170 - pylegifrance.client - INFO - API call to 'consult/getArticle' successful.\n",
      "2025-06-12 17:55:34,174 - bill_parser_engine.core.reference_resolver.original_text_retriever - INFO - ✓ Cached article L. 254-1 for future use\n",
      "2025-06-12 17:55:34,175 - bill_parser_engine.core.reference_resolver.original_text_retriever - INFO - ✓ Retrieved article L. 254-1 from pylegifrance\n",
      "2025-06-12 17:55:34,176 - bill_parser_engine.core.reference_resolver.original_text_retriever - INFO - → Fetching article L. 254-1-1 from code rural et de la pêche maritime\n",
      "2025-06-12 17:55:34,279 - pylegifrance.auth - INFO - Legifrance API authentication successful.\n",
      "2025-06-12 17:55:34,280 - pylegifrance.client - INFO - POST request to URL: https://api.piste.gouv.fr/dila/legifrance/lf-engine-app/search\n",
      "2025-06-12 17:55:34,638 - pylegifrance.client - INFO - API call to 'search' successful.\n",
      "2025-06-12 17:55:34,639 - pylegifrance.process.processors - INFO - Nombre de résultats trouvés: 1\n",
      "2025-06-12 17:55:34,640 - pylegifrance.client - INFO - POST request to URL: https://api.piste.gouv.fr/dila/legifrance/lf-engine-app/consult/getArticle\n",
      "2025-06-12 17:55:34,739 - pylegifrance.client - INFO - API call to 'consult/getArticle' successful.\n",
      "2025-06-12 17:55:34,741 - bill_parser_engine.core.reference_resolver.original_text_retriever - INFO - ✓ Cached article L. 254-1-1 for future use\n",
      "2025-06-12 17:55:34,742 - bill_parser_engine.core.reference_resolver.original_text_retriever - INFO - ✓ Retrieved article L. 254-1-1 from pylegifrance\n",
      "2025-06-12 17:55:34,742 - bill_parser_engine.core.reference_resolver.original_text_retriever - INFO - → Fetching article L. 254-1-2 from code rural et de la pêche maritime\n",
      "2025-06-12 17:55:34,875 - pylegifrance.auth - INFO - Legifrance API authentication successful.\n",
      "2025-06-12 17:55:34,876 - pylegifrance.client - INFO - POST request to URL: https://api.piste.gouv.fr/dila/legifrance/lf-engine-app/search\n",
      "2025-06-12 17:55:35,307 - pylegifrance.client - INFO - API call to 'search' successful.\n",
      "2025-06-12 17:55:35,309 - pylegifrance.process.processors - INFO - Nombre de résultats trouvés: 1\n",
      "2025-06-12 17:55:35,310 - pylegifrance.client - INFO - POST request to URL: https://api.piste.gouv.fr/dila/legifrance/lf-engine-app/consult/getArticle\n",
      "2025-06-12 17:55:35,434 - pylegifrance.client - INFO - API call to 'consult/getArticle' successful.\n",
      "2025-06-12 17:55:35,436 - bill_parser_engine.core.reference_resolver.original_text_retriever - INFO - ✓ Cached article L. 254-1-2 for future use\n",
      "2025-06-12 17:55:35,436 - bill_parser_engine.core.reference_resolver.original_text_retriever - INFO - ✓ Retrieved article L. 254-1-2 from pylegifrance\n",
      "2025-06-12 17:55:35,437 - bill_parser_engine.core.reference_resolver.original_text_retriever - INFO - → Fetching article L. 254-1-3 from code rural et de la pêche maritime\n",
      "2025-06-12 17:55:35,575 - pylegifrance.auth - INFO - Legifrance API authentication successful.\n",
      "2025-06-12 17:55:35,576 - pylegifrance.client - INFO - POST request to URL: https://api.piste.gouv.fr/dila/legifrance/lf-engine-app/search\n",
      "2025-06-12 17:55:35,995 - pylegifrance.client - INFO - API call to 'search' successful.\n",
      "2025-06-12 17:55:35,997 - pylegifrance.process.processors - INFO - Nombre de résultats trouvés: 1\n",
      "2025-06-12 17:55:35,998 - pylegifrance.client - INFO - POST request to URL: https://api.piste.gouv.fr/dila/legifrance/lf-engine-app/consult/getArticle\n",
      "2025-06-12 17:55:36,150 - pylegifrance.client - INFO - API call to 'consult/getArticle' successful.\n",
      "2025-06-12 17:55:36,151 - bill_parser_engine.core.reference_resolver.original_text_retriever - INFO - ✓ Cached article L. 254-1-3 for future use\n",
      "2025-06-12 17:55:36,152 - bill_parser_engine.core.reference_resolver.original_text_retriever - INFO - ✓ Retrieved article L. 254-1-3 from pylegifrance\n",
      "2025-06-12 17:55:36,152 - bill_parser_engine.core.reference_resolver.original_text_retriever - INFO - → Fetching article L. 254-2 from code rural et de la pêche maritime\n",
      "2025-06-12 17:55:36,262 - pylegifrance.auth - INFO - Legifrance API authentication successful.\n",
      "2025-06-12 17:55:36,263 - pylegifrance.client - INFO - POST request to URL: https://api.piste.gouv.fr/dila/legifrance/lf-engine-app/search\n",
      "2025-06-12 17:55:36,665 - pylegifrance.client - INFO - API call to 'search' successful.\n",
      "2025-06-12 17:55:36,666 - pylegifrance.process.processors - INFO - Nombre de résultats trouvés: 1\n",
      "2025-06-12 17:55:36,667 - pylegifrance.client - INFO - POST request to URL: https://api.piste.gouv.fr/dila/legifrance/lf-engine-app/consult/getArticle\n",
      "2025-06-12 17:55:36,792 - pylegifrance.client - INFO - API call to 'consult/getArticle' successful.\n",
      "2025-06-12 17:55:36,794 - bill_parser_engine.core.reference_resolver.original_text_retriever - INFO - ✓ Cached article L. 254-2 for future use\n",
      "2025-06-12 17:55:36,795 - bill_parser_engine.core.reference_resolver.original_text_retriever - INFO - ✓ Retrieved article L. 254-2 from pylegifrance\n",
      "2025-06-12 17:55:36,796 - bill_parser_engine.core.reference_resolver.original_text_retriever - INFO - → Fetching article L. 254-6-2 from code rural et de la pêche maritime\n",
      "2025-06-12 17:55:36,934 - pylegifrance.auth - INFO - Legifrance API authentication successful.\n",
      "2025-06-12 17:55:36,935 - pylegifrance.client - INFO - POST request to URL: https://api.piste.gouv.fr/dila/legifrance/lf-engine-app/search\n",
      "2025-06-12 17:55:37,457 - pylegifrance.client - INFO - API call to 'search' successful.\n",
      "2025-06-12 17:55:37,458 - pylegifrance.process.processors - INFO - Nombre de résultats trouvés: 1\n",
      "2025-06-12 17:55:37,459 - pylegifrance.client - INFO - POST request to URL: https://api.piste.gouv.fr/dila/legifrance/lf-engine-app/consult/getArticle\n",
      "2025-06-12 17:55:37,574 - pylegifrance.client - INFO - API call to 'consult/getArticle' successful.\n",
      "2025-06-12 17:55:37,577 - bill_parser_engine.core.reference_resolver.original_text_retriever - INFO - ✓ Cached article L. 254-6-2 for future use\n",
      "2025-06-12 17:55:37,578 - bill_parser_engine.core.reference_resolver.original_text_retriever - INFO - ✓ Retrieved article L. 254-6-2 from pylegifrance\n",
      "2025-06-12 17:55:37,579 - bill_parser_engine.core.reference_resolver.original_text_retriever - INFO - → Fetching article L. 254-6-4 from code rural et de la pêche maritime\n",
      "2025-06-12 17:55:37,683 - pylegifrance.auth - INFO - Legifrance API authentication successful.\n",
      "2025-06-12 17:55:37,684 - pylegifrance.client - INFO - POST request to URL: https://api.piste.gouv.fr/dila/legifrance/lf-engine-app/search\n",
      "2025-06-12 17:55:38,089 - pylegifrance.client - INFO - API call to 'search' successful.\n",
      "2025-06-12 17:55:38,090 - pylegifrance.process.processors - INFO - Nombre de résultats trouvés: 1\n",
      "2025-06-12 17:55:38,091 - pylegifrance.client - INFO - POST request to URL: https://api.piste.gouv.fr/dila/legifrance/lf-engine-app/consult/getArticle\n",
      "2025-06-12 17:55:38,220 - pylegifrance.client - INFO - API call to 'consult/getArticle' successful.\n",
      "2025-06-12 17:55:38,222 - bill_parser_engine.core.reference_resolver.original_text_retriever - INFO - ✓ Cached article L. 254-6-4 for future use\n",
      "2025-06-12 17:55:38,223 - bill_parser_engine.core.reference_resolver.original_text_retriever - INFO - ✓ Retrieved article L. 254-6-4 from pylegifrance\n",
      "2025-06-12 17:55:38,224 - bill_parser_engine.core.reference_resolver.original_text_retriever - INFO - → Fetching article L. 254-7-1 from code rural et de la pêche maritime\n",
      "2025-06-12 17:55:38,331 - pylegifrance.auth - INFO - Legifrance API authentication successful.\n",
      "2025-06-12 17:55:38,332 - pylegifrance.client - INFO - POST request to URL: https://api.piste.gouv.fr/dila/legifrance/lf-engine-app/search\n",
      "2025-06-12 17:55:38,698 - pylegifrance.client - INFO - API call to 'search' successful.\n",
      "2025-06-12 17:55:38,700 - pylegifrance.process.processors - INFO - Nombre de résultats trouvés: 1\n",
      "2025-06-12 17:55:38,701 - pylegifrance.client - INFO - POST request to URL: https://api.piste.gouv.fr/dila/legifrance/lf-engine-app/consult/getArticle\n",
      "2025-06-12 17:55:38,797 - pylegifrance.client - INFO - API call to 'consult/getArticle' successful.\n",
      "2025-06-12 17:55:38,799 - bill_parser_engine.core.reference_resolver.original_text_retriever - INFO - ✓ Cached article L. 254-7-1 for future use\n",
      "2025-06-12 17:55:38,800 - bill_parser_engine.core.reference_resolver.original_text_retriever - INFO - ✓ Retrieved article L. 254-7-1 from pylegifrance\n",
      "2025-06-12 17:55:38,801 - bill_parser_engine.core.reference_resolver.original_text_retriever - INFO - → Fetching article L. 254-10-1 from code rural et de la pêche maritime\n",
      "2025-06-12 17:55:38,947 - pylegifrance.auth - INFO - Legifrance API authentication successful.\n",
      "2025-06-12 17:55:38,948 - pylegifrance.client - INFO - POST request to URL: https://api.piste.gouv.fr/dila/legifrance/lf-engine-app/search\n",
      "2025-06-12 17:55:39,344 - pylegifrance.client - INFO - API call to 'search' successful.\n",
      "2025-06-12 17:55:39,345 - pylegifrance.process.processors - INFO - Nombre de résultats trouvés: 1\n",
      "2025-06-12 17:55:39,346 - pylegifrance.client - INFO - POST request to URL: https://api.piste.gouv.fr/dila/legifrance/lf-engine-app/consult/getArticle\n",
      "2025-06-12 17:55:39,511 - pylegifrance.client - INFO - API call to 'consult/getArticle' successful.\n",
      "2025-06-12 17:55:39,513 - bill_parser_engine.core.reference_resolver.original_text_retriever - INFO - ✓ Cached article L. 254-10-1 for future use\n",
      "2025-06-12 17:55:39,514 - bill_parser_engine.core.reference_resolver.original_text_retriever - INFO - ✓ Retrieved article L. 254-10-1 from pylegifrance\n",
      "2025-06-12 17:55:39,514 - bill_parser_engine.core.reference_resolver.original_text_retriever - INFO - → Fetching article L. 254-12 from code rural et de la pêche maritime\n",
      "2025-06-12 17:55:39,613 - pylegifrance.auth - INFO - Legifrance API authentication successful.\n",
      "2025-06-12 17:55:39,614 - pylegifrance.client - INFO - POST request to URL: https://api.piste.gouv.fr/dila/legifrance/lf-engine-app/search\n",
      "2025-06-12 17:55:40,029 - pylegifrance.client - INFO - API call to 'search' successful.\n",
      "2025-06-12 17:55:40,030 - pylegifrance.process.processors - INFO - Nombre de résultats trouvés: 1\n",
      "2025-06-12 17:55:40,031 - pylegifrance.client - INFO - POST request to URL: https://api.piste.gouv.fr/dila/legifrance/lf-engine-app/consult/getArticle\n",
      "2025-06-12 17:55:40,150 - pylegifrance.client - INFO - API call to 'consult/getArticle' successful.\n",
      "2025-06-12 17:55:40,152 - bill_parser_engine.core.reference_resolver.original_text_retriever - INFO - ✓ Cached article L. 254-12 for future use\n",
      "2025-06-12 17:55:40,152 - bill_parser_engine.core.reference_resolver.original_text_retriever - INFO - ✓ Retrieved article L. 254-12 from pylegifrance\n",
      "2025-06-12 17:55:40,153 - bill_parser_engine.core.reference_resolver.original_text_retriever - INFO - → Fetching article L. 1313-5 from code de la santé publique\n",
      "2025-06-12 17:55:40,254 - pylegifrance.auth - INFO - Legifrance API authentication successful.\n",
      "2025-06-12 17:55:40,255 - pylegifrance.client - INFO - POST request to URL: https://api.piste.gouv.fr/dila/legifrance/lf-engine-app/search\n",
      "2025-06-12 17:55:40,810 - pylegifrance.client - INFO - API call to 'search' successful.\n",
      "2025-06-12 17:55:40,812 - pylegifrance.process.processors - INFO - Nombre de résultats trouvés: 1\n",
      "2025-06-12 17:55:40,813 - pylegifrance.client - INFO - POST request to URL: https://api.piste.gouv.fr/dila/legifrance/lf-engine-app/consult/getArticle\n",
      "2025-06-12 17:55:40,931 - pylegifrance.client - INFO - API call to 'consult/getArticle' successful.\n",
      "2025-06-12 17:55:40,934 - bill_parser_engine.core.reference_resolver.original_text_retriever - INFO - ✓ Cached article L. 1313-5 for future use\n",
      "2025-06-12 17:55:40,934 - bill_parser_engine.core.reference_resolver.original_text_retriever - INFO - ✓ Retrieved article L. 1313-5 from pylegifrance\n",
      "2025-06-12 17:55:40,935 - bill_parser_engine.core.reference_resolver.original_text_retriever - INFO - → Fetching article L. 1313-6-1 from code de la santé publique\n",
      "2025-06-12 17:55:41,070 - pylegifrance.auth - INFO - Legifrance API authentication successful.\n",
      "2025-06-12 17:55:41,071 - pylegifrance.client - INFO - POST request to URL: https://api.piste.gouv.fr/dila/legifrance/lf-engine-app/search\n",
      "2025-06-12 17:55:41,513 - pylegifrance.client - INFO - API call to 'search' successful.\n",
      "2025-06-12 17:55:41,514 - pylegifrance.process.processors - INFO - Nombre de résultats trouvés: 1\n",
      "2025-06-12 17:55:41,514 - pylegifrance.client - INFO - POST request to URL: https://api.piste.gouv.fr/dila/legifrance/lf-engine-app/consult/getArticle\n",
      "2025-06-12 17:55:41,616 - pylegifrance.client - INFO - API call to 'consult/getArticle' successful.\n",
      "2025-06-12 17:55:41,618 - bill_parser_engine.core.reference_resolver.original_text_retriever - INFO - ✓ Cached article L. 1313-6-1 for future use\n",
      "2025-06-12 17:55:41,619 - bill_parser_engine.core.reference_resolver.original_text_retriever - INFO - ✓ Retrieved article L. 1313-6-1 from pylegifrance\n",
      "2025-06-12 17:55:41,620 - bill_parser_engine.core.reference_resolver.original_text_retriever - INFO - → Fetching article L. 253-1 from code rural et de la pêche maritime\n",
      "2025-06-12 17:55:41,759 - pylegifrance.auth - INFO - Legifrance API authentication successful.\n",
      "2025-06-12 17:55:41,760 - pylegifrance.client - INFO - POST request to URL: https://api.piste.gouv.fr/dila/legifrance/lf-engine-app/search\n",
      "2025-06-12 17:55:42,177 - pylegifrance.client - INFO - API call to 'search' successful.\n",
      "2025-06-12 17:55:42,178 - pylegifrance.process.processors - INFO - Nombre de résultats trouvés: 1\n",
      "2025-06-12 17:55:42,179 - pylegifrance.client - INFO - POST request to URL: https://api.piste.gouv.fr/dila/legifrance/lf-engine-app/consult/getArticle\n",
      "2025-06-12 17:55:42,362 - pylegifrance.client - INFO - API call to 'consult/getArticle' successful.\n",
      "2025-06-12 17:55:42,365 - bill_parser_engine.core.reference_resolver.original_text_retriever - INFO - ✓ Cached article L. 253-1 for future use\n",
      "2025-06-12 17:55:42,366 - bill_parser_engine.core.reference_resolver.original_text_retriever - INFO - ✓ Retrieved article L. 253-1 from pylegifrance\n",
      "2025-06-12 17:55:42,367 - bill_parser_engine.core.reference_resolver.original_text_retriever - INFO - → Fetching article L. 253-8 from code rural et de la pêche maritime\n",
      "2025-06-12 17:55:42,883 - pylegifrance.auth - INFO - Legifrance API authentication successful.\n",
      "2025-06-12 17:55:42,884 - pylegifrance.client - INFO - POST request to URL: https://api.piste.gouv.fr/dila/legifrance/lf-engine-app/search\n",
      "2025-06-12 17:55:43,248 - pylegifrance.client - INFO - API call to 'search' successful.\n",
      "2025-06-12 17:55:43,250 - pylegifrance.process.processors - INFO - Nombre de résultats trouvés: 1\n",
      "2025-06-12 17:55:43,251 - pylegifrance.client - INFO - POST request to URL: https://api.piste.gouv.fr/dila/legifrance/lf-engine-app/consult/getArticle\n",
      "2025-06-12 17:55:43,403 - pylegifrance.client - INFO - API call to 'consult/getArticle' successful.\n",
      "2025-06-12 17:55:43,407 - bill_parser_engine.core.reference_resolver.original_text_retriever - INFO - ✓ Cached article L. 253-8 for future use\n",
      "2025-06-12 17:55:43,408 - bill_parser_engine.core.reference_resolver.original_text_retriever - INFO - ✓ Retrieved article L. 253-8 from pylegifrance\n",
      "2025-06-12 17:55:43,410 - bill_parser_engine.core.reference_resolver.original_text_retriever - INFO - → Fetching article L. 253-8-3 from code rural et de la pêche maritime\n",
      "2025-06-12 17:55:43,507 - pylegifrance.auth - INFO - Legifrance API authentication successful.\n",
      "2025-06-12 17:55:43,509 - pylegifrance.client - INFO - POST request to URL: https://api.piste.gouv.fr/dila/legifrance/lf-engine-app/search\n",
      "2025-06-12 17:55:43,913 - pylegifrance.client - INFO - API call to 'search' successful.\n",
      "2025-06-12 17:55:43,915 - pylegifrance.process.processors - INFO - Nombre de résultats trouvés: 1\n",
      "2025-06-12 17:55:43,916 - pylegifrance.client - INFO - POST request to URL: https://api.piste.gouv.fr/dila/legifrance/lf-engine-app/consult/getArticle\n",
      "2025-06-12 17:55:44,052 - pylegifrance.client - INFO - API call to 'consult/getArticle' successful.\n",
      "2025-06-12 17:55:44,054 - bill_parser_engine.core.reference_resolver.original_text_retriever - INFO - ✓ Cached article L. 253-8-3 for future use\n",
      "2025-06-12 17:55:44,054 - bill_parser_engine.core.reference_resolver.original_text_retriever - INFO - ✓ Retrieved article L. 253-8-3 from pylegifrance\n",
      "2025-06-12 17:55:44,055 - bill_parser_engine.core.reference_resolver.original_text_retriever - INFO - → Fetching article L. 181-10-1 from code de l'environnement\n",
      "2025-06-12 17:55:44,185 - pylegifrance.auth - INFO - Legifrance API authentication successful.\n",
      "2025-06-12 17:55:44,186 - pylegifrance.client - INFO - POST request to URL: https://api.piste.gouv.fr/dila/legifrance/lf-engine-app/search\n",
      "2025-06-12 17:55:44,624 - pylegifrance.client - INFO - API call to 'search' successful.\n",
      "2025-06-12 17:55:44,625 - pylegifrance.process.processors - INFO - Nombre de résultats trouvés: 1\n",
      "2025-06-12 17:55:44,626 - pylegifrance.client - INFO - POST request to URL: https://api.piste.gouv.fr/dila/legifrance/lf-engine-app/consult/getArticle\n",
      "2025-06-12 17:55:44,770 - pylegifrance.client - INFO - API call to 'consult/getArticle' successful.\n",
      "2025-06-12 17:55:44,772 - bill_parser_engine.core.reference_resolver.original_text_retriever - INFO - ✓ Cached article L. 181-10-1 for future use\n",
      "2025-06-12 17:55:44,772 - bill_parser_engine.core.reference_resolver.original_text_retriever - INFO - ✓ Retrieved article L. 181-10-1 from pylegifrance\n",
      "2025-06-12 17:55:44,773 - bill_parser_engine.core.reference_resolver.original_text_retriever - INFO - → Fetching article L. 512-7 from code de l'environnement\n",
      "2025-06-12 17:55:44,908 - pylegifrance.auth - INFO - Legifrance API authentication successful.\n",
      "2025-06-12 17:55:44,910 - pylegifrance.client - INFO - POST request to URL: https://api.piste.gouv.fr/dila/legifrance/lf-engine-app/search\n",
      "2025-06-12 17:55:45,293 - pylegifrance.client - INFO - API call to 'search' successful.\n",
      "2025-06-12 17:55:45,294 - pylegifrance.process.processors - INFO - Nombre de résultats trouvés: 1\n",
      "2025-06-12 17:55:45,295 - pylegifrance.client - INFO - POST request to URL: https://api.piste.gouv.fr/dila/legifrance/lf-engine-app/consult/getArticle\n",
      "2025-06-12 17:55:45,470 - pylegifrance.client - INFO - API call to 'consult/getArticle' successful.\n",
      "2025-06-12 17:55:45,473 - bill_parser_engine.core.reference_resolver.original_text_retriever - INFO - ✓ Cached article L. 512-7 for future use\n",
      "2025-06-12 17:55:45,474 - bill_parser_engine.core.reference_resolver.original_text_retriever - INFO - ✓ Retrieved article L. 512-7 from pylegifrance\n",
      "2025-06-12 17:55:45,475 - bill_parser_engine.core.reference_resolver.original_text_retriever - INFO - → Fetching article L. 211-1 from code de l'environnement\n",
      "2025-06-12 17:55:45,586 - pylegifrance.auth - INFO - Legifrance API authentication successful.\n",
      "2025-06-12 17:55:45,588 - pylegifrance.client - INFO - POST request to URL: https://api.piste.gouv.fr/dila/legifrance/lf-engine-app/search\n",
      "2025-06-12 17:55:45,988 - pylegifrance.client - INFO - API call to 'search' successful.\n",
      "2025-06-12 17:55:45,989 - pylegifrance.process.processors - INFO - Nombre de résultats trouvés: 1\n",
      "2025-06-12 17:55:45,990 - pylegifrance.client - INFO - POST request to URL: https://api.piste.gouv.fr/dila/legifrance/lf-engine-app/consult/getArticle\n",
      "2025-06-12 17:55:46,165 - pylegifrance.client - INFO - API call to 'consult/getArticle' successful.\n",
      "2025-06-12 17:55:46,169 - bill_parser_engine.core.reference_resolver.original_text_retriever - INFO - ✓ Cached article L. 211-1 for future use\n",
      "2025-06-12 17:55:46,170 - bill_parser_engine.core.reference_resolver.original_text_retriever - INFO - ✓ Retrieved article L. 211-1 from pylegifrance\n",
      "2025-06-12 17:55:46,171 - bill_parser_engine.core.reference_resolver.original_text_retriever - INFO - → Fetching article L. 214-2 from code de l'environnement\n",
      "2025-06-12 17:55:46,315 - pylegifrance.auth - INFO - Legifrance API authentication successful.\n",
      "2025-06-12 17:55:46,317 - pylegifrance.client - INFO - POST request to URL: https://api.piste.gouv.fr/dila/legifrance/lf-engine-app/search\n",
      "2025-06-12 17:55:46,671 - pylegifrance.client - INFO - API call to 'search' successful.\n",
      "2025-06-12 17:55:46,672 - pylegifrance.process.processors - INFO - Nombre de résultats trouvés: 1\n",
      "2025-06-12 17:55:46,673 - pylegifrance.client - INFO - POST request to URL: https://api.piste.gouv.fr/dila/legifrance/lf-engine-app/consult/getArticle\n",
      "2025-06-12 17:55:46,809 - pylegifrance.client - INFO - API call to 'consult/getArticle' successful.\n",
      "2025-06-12 17:55:46,813 - bill_parser_engine.core.reference_resolver.original_text_retriever - INFO - ✓ Cached article L. 214-2 for future use\n",
      "2025-06-12 17:55:46,814 - bill_parser_engine.core.reference_resolver.original_text_retriever - INFO - ✓ Retrieved article L. 214-2 from pylegifrance\n",
      "2025-06-12 17:55:46,815 - bill_parser_engine.core.reference_resolver.original_text_retriever - INFO - → Fetching article L. 131-9 from code de l'environnement\n",
      "2025-06-12 17:55:46,953 - pylegifrance.auth - INFO - Legifrance API authentication successful.\n",
      "2025-06-12 17:55:46,954 - pylegifrance.client - INFO - POST request to URL: https://api.piste.gouv.fr/dila/legifrance/lf-engine-app/search\n",
      "2025-06-12 17:55:47,340 - pylegifrance.client - INFO - API call to 'search' successful.\n",
      "2025-06-12 17:55:47,341 - pylegifrance.process.processors - INFO - Nombre de résultats trouvés: 1\n",
      "2025-06-12 17:55:47,342 - pylegifrance.client - INFO - POST request to URL: https://api.piste.gouv.fr/dila/legifrance/lf-engine-app/consult/getArticle\n",
      "2025-06-12 17:55:47,492 - pylegifrance.client - INFO - API call to 'consult/getArticle' successful.\n",
      "2025-06-12 17:55:47,495 - bill_parser_engine.core.reference_resolver.original_text_retriever - INFO - ✓ Cached article L. 131-9 for future use\n",
      "2025-06-12 17:55:47,495 - bill_parser_engine.core.reference_resolver.original_text_retriever - INFO - ✓ Retrieved article L. 131-9 from pylegifrance\n",
      "2025-06-12 17:55:47,496 - bill_parser_engine.core.reference_resolver.original_text_retriever - INFO - → Fetching article L. 172-16 from code de l'environnement\n",
      "2025-06-12 17:55:47,601 - pylegifrance.auth - INFO - Legifrance API authentication successful.\n",
      "2025-06-12 17:55:47,603 - pylegifrance.client - INFO - POST request to URL: https://api.piste.gouv.fr/dila/legifrance/lf-engine-app/search\n",
      "2025-06-12 17:55:48,043 - pylegifrance.client - INFO - API call to 'search' successful.\n",
      "2025-06-12 17:55:48,044 - pylegifrance.process.processors - INFO - Nombre de résultats trouvés: 1\n",
      "2025-06-12 17:55:48,045 - pylegifrance.client - INFO - POST request to URL: https://api.piste.gouv.fr/dila/legifrance/lf-engine-app/consult/getArticle\n",
      "2025-06-12 17:55:48,192 - pylegifrance.client - INFO - API call to 'consult/getArticle' successful.\n",
      "2025-06-12 17:55:48,196 - bill_parser_engine.core.reference_resolver.original_text_retriever - INFO - ✓ Cached article L. 172-16 for future use\n",
      "2025-06-12 17:55:48,197 - bill_parser_engine.core.reference_resolver.original_text_retriever - INFO - ✓ Retrieved article L. 172-16 from pylegifrance\n",
      "2025-06-12 17:55:48,197 - bill_parser_engine.core.reference_resolver.original_text_retriever - INFO - → Fetching article L. 258-1 from code rural et de la pêche maritime\n",
      "2025-06-12 17:55:48,312 - pylegifrance.auth - INFO - Legifrance API authentication successful.\n",
      "2025-06-12 17:55:48,314 - pylegifrance.client - INFO - POST request to URL: https://api.piste.gouv.fr/dila/legifrance/lf-engine-app/search\n",
      "2025-06-12 17:55:48,721 - pylegifrance.client - INFO - API call to 'search' successful.\n",
      "2025-06-12 17:55:48,723 - pylegifrance.process.processors - INFO - Nombre de résultats trouvés: 1\n",
      "2025-06-12 17:55:48,724 - pylegifrance.client - INFO - POST request to URL: https://api.piste.gouv.fr/dila/legifrance/lf-engine-app/consult/getArticle\n",
      "2025-06-12 17:55:48,861 - pylegifrance.client - INFO - API call to 'consult/getArticle' successful.\n",
      "2025-06-12 17:55:48,864 - bill_parser_engine.core.reference_resolver.original_text_retriever - INFO - ✓ Cached article L. 258-1 for future use\n",
      "2025-06-12 17:55:48,864 - bill_parser_engine.core.reference_resolver.original_text_retriever - INFO - ✓ Retrieved article L. 258-1 from pylegifrance\n",
      "2025-06-12 17:55:48,865 - bill_parser_engine.core.reference_resolver.pipeline - INFO - Original text retrieval complete: 27/28 successful retrievals\n"
     ]
    },
    {
     "data": {
      "text/plain": [
       "[{'article_key': 'code rural et de la pêche maritime::L. 254-1',\n",
       "  'code': 'code rural et de la pêche maritime',\n",
       "  'article': 'L. 254-1',\n",
       "  'operation_type': 'MODIFY',\n",
       "  'original_text': \"I.-Les produits phytopharmaceutiques mentionnés au présent chapitre sont ceux définis au 1 de l'article 2 du règlement (CE) n° 1107/2009. II.-Est subordonné à la détention d'un agrément l'exercice des activités suivantes : 1° La mise en vente, la vente ou la distribution à titre gratuit des produits phytopharmaceutiques aux utilisateurs de ces produits ou aux personnes physiques ou morales agissant pour leur compte, y compris les groupements d'achats ; 2° L'application, en qualité de prestataire de services, des produits phytopharmaceutiques, sauf si elle est effectuée dans le cadre de contrats d'entraide à titre gratuit au sens de l'article L. 325-1 ou par un exploitant agricole titulaire du certificat mentionné au II de l'article L. 254-3 sur des exploitations dont la surface agricole utile est inférieure ou égale à la surface définie en application du premier alinéa du V de l'article L. 732-39 , ou si les produits appliqués sont des produits de biocontrôle définis à l'article L. 253-6 et ne faisant pas l'objet d'une classification mentionnée à l'article L. 253-4 ou si ces produits sont des produits à faible risque au sens de l'article 47 du règlement (CE) n° 1107/2009 du 21 octobre 2009 ou s'ils sont uniquement composés de substances de base au sens de l'article 23 du même règlement. 3° Le conseil prévu aux articles L. 254-6-2 et L. 254-6-3, lorsque cette activité s'exerce à titre professionnel. III.-Lorsque l'agrément est délivré à une personne morale, il l'est pour l'activité de l'ensemble de ses établissements ainsi que, si elle en fait la demande, pour l'activité d'établissements d'autres personnes morales au sein desquelles elle détient une participation financière, ou au bénéfice desquelles elle gère des services communs. Pour l'application du présent chapitre l'ensemble des établissements pour lesquels une entreprise sollicite un agrément sont regardés comme ses établissements. IV.-Les personnes qui mettent des produits phytopharmaceutiques sur le marché autres que celles exerçant les activités mentionnées au 1° du II justifient de l'obtention d'un certificat attestant qu'elles ont acquis les connaissances appropriées à leurs rôle et responsabilités ou de l'emploi d'une personne détenant ce certificat. V.-Les détenteurs de l'agrément mentionné au II, les personnes mentionnées au IV du présent article et les personnes physiques mentionnées au II de l'article L. 254-3 doivent concourir, dans le cadre de leurs activités, à la réalisation des objectifs du plan d'action national prévu à l'article L. 253-6, notamment par la mise en œuvre de la lutte intégrée contre les ennemis des cultures. VI.-L'exercice de l'activité de conseil mentionnée au 3° du II est incompatible avec celui des activités mentionnées aux 1° ou 2° du II ou au IV. Toutefois, cette incompatibilité ne fait pas obstacle à ce que les personnes exerçant les activités mentionnées au 1° du II délivrent les informations énumérées au premier alinéa de l'article L. 254-7, ni à ce qu'elles promeuvent, mettent en place ou facilitent la mise en œuvre des actions tendant à la réduction de l'utilisation de produits phytopharmaceutiques prévues à l'article L. 254-10-1 .\",\n",
       "  'text_length': 3185,\n",
       "  'retrieval_metadata': {'source': 'pylegifrance', 'success': True},\n",
       "  'retrieved_at': '2025-06-12T17:55:34.176588'},\n",
       " {'article_key': 'code rural et de la pêche maritime::L. 254-1-1',\n",
       "  'code': 'code rural et de la pêche maritime',\n",
       "  'article': 'L. 254-1-1',\n",
       "  'operation_type': 'MODIFY',\n",
       "  'original_text': \"I.-Ne peut excéder 10 % : 1° La part du capital d'une personne morale exerçant une activité mentionnée au 3° du II de l'article L. 254-1 détenue, directement ou indirectement, par une personne exerçant une activité mentionnée aux 1° ou 2° du même II ou au IV du même article ; 2° La part du capital d'une personne morale exerçant une activité mentionnée aux 1° ou 2° du II ou au IV de l'article L. 254-1 détenue, directement ou indirectement, par une personne exerçant une activité mentionnée au 3° de ce II ; 3° La part détenue, directement ou indirectement, dans le capital des personnes morales exerçant une activité mentionnée, d'une part, au 3° du II de l'article L. 254-1 et, d'autre part, aux 1° ou 2° du même II ou au IV du même article, par un actionnaire ou associé commun, sans que celui-ci puisse être actionnaire majoritaire ou de référence. II.-Ne peut excéder 32 % : 1° La part cumulée du capital d'une personne morale exerçant une activité mentionnée au 3° du II de l'article L. 254-1 détenue, directement ou indirectement, par des personnes exerçant une activité mentionnée aux 1° ou 2° du même II ou au IV du même article ; 2° La part cumulée du capital d'une personne morale exerçant une activité mentionnée aux 1° ou 2° du II ou au IV de l'article L. 254-1 détenue, directement ou indirectement, par des personnes exerçant une activité mentionnée au 3° de ce II. III.-Les seuils mentionnés aux I et II s'appliquent également aux droits de vote.\",\n",
       "  'text_length': 1464,\n",
       "  'retrieval_metadata': {'source': 'pylegifrance', 'success': True},\n",
       "  'retrieved_at': '2025-06-12T17:55:34.742577'},\n",
       " {'article_key': 'code rural et de la pêche maritime::L. 254-1-2',\n",
       "  'code': 'code rural et de la pêche maritime',\n",
       "  'article': 'L. 254-1-2',\n",
       "  'operation_type': 'MODIFY',\n",
       "  'original_text': \"Un membre d'un organe de surveillance, d'administration et de direction d'une personne morale exerçant une activité mentionnée au 3° du II de l'article L. 254-1 ne peut être membre d'un de ces mêmes organes d'une personne morale exerçant une activité mentionnée aux 1° ou 2° du même II ou au IV du même article et un membre d'un organe de surveillance, d'administration et de direction d'une personne morale exerçant une activité mentionnée aux 1° ou 2° de ce II ou à ce IV de ce même article ne peut être membre d'un de ces mêmes organes d'une personne morale exerçant une activité mentionnée au 3° de ce II. Toutefois, une personne membre d'un organe de surveillance, d'administration ou de direction d'une personne morale exerçant une activité mentionnée aux 1° ou 2° du II de l'article L. 254-1 peut détenir, dans un établissement mentionné à l' article L. 510-1 bénéficiant d'un agrément pour les activités mentionnées au 3° du II de l'article L. 254-1, un mandat de président, de membre du bureau ou de membre du conseil d'administration de Chambres d'agriculture France. Cette personne ne participe ni aux travaux ni aux délibérations concernant l'activité de conseil à l'utilisation de produits phytopharmaceutiques.\",\n",
       "  'text_length': 1224,\n",
       "  'retrieval_metadata': {'source': 'pylegifrance', 'success': True},\n",
       "  'retrieved_at': '2025-06-12T17:55:35.437315'},\n",
       " {'article_key': 'code rural et de la pêche maritime::L. 254-1-3',\n",
       "  'code': 'code rural et de la pêche maritime',\n",
       "  'article': 'L. 254-1-3',\n",
       "  'operation_type': 'MODIFY',\n",
       "  'original_text': \"I.-Une personne physique exerçant une activité mentionnée au 3° du II de l'article L. 254-1 ne peut être également employée par une personne exerçant une activité mentionnée aux 1° ou 2° du même II ou au IV de ce même article. II.-L'activité mentionnée au 3° du II de l'article L. 254-1 ne peut pas être rémunérée par des personnes exerçant les activités mentionnées aux 1° ou 2° du même II ou au IV du même article.\",\n",
       "  'text_length': 416,\n",
       "  'retrieval_metadata': {'source': 'pylegifrance', 'success': True},\n",
       "  'retrieved_at': '2025-06-12T17:55:36.152672'},\n",
       " {'article_key': 'code rural et de la pêche maritime::L. 254-2',\n",
       "  'code': 'code rural et de la pêche maritime',\n",
       "  'article': 'L. 254-2',\n",
       "  'operation_type': 'MODIFY',\n",
       "  'original_text': \"I.-L'agrément est délivré par l'autorité administrative à toute personne physique ou morale qui en fait la demande et qui justifie : 1° De la souscription d'une police d'assurance couvrant sa responsabilité civile professionnelle ; 2° De la certification par un organisme tiers, reconnu par l'autorité administrative, qu'elle exerce son activité dans des conditions garantissant la protection de la santé publique et de l'environnement ainsi que la bonne information de l'utilisateur et qu'elle respecte les dispositions des articles L. 254-1-1 à L. 254-1-3 ; 3° De la conclusion avec un organisme tiers, reconnu par l'autorité administrative, d'un contrat prévoyant le suivi nécessaire au maintien de la certification. Pour les personnes agréées au titre des activités mentionnées aux 1° et 2° du II de l'article L. 254-1 , la certification mentionnée au 2° garantit qu'elles ont mis en œuvre les moyens nécessaires pour satisfaire aux obligations mentionnées à l'article L. 254-10-1 . Pour les personnes agréées au titre des activités mentionnées au 3° du II de l'article L. 254-1, la certification mentionnée au 2° garantit leur contribution effective, dans les conditions prévues à l'article L. 254-6-4, aux objectifs du plan mentionné à l'article L. 253-6 et au dispositif des certificats d'économie des produits phytopharmaceutiques prévu à l'article L. 254-10. II.-Les personnes qui débutent leur activité sollicitent un agrément provisoire pour son exercice. Cet agrément provisoire est délivré par l'autorité administrative, pour une durée de six mois non renouvelable, si le demandeur justifie du respect des conditions prévues aux 1° et 3° du I et de l'obtention de l'avis favorable d'un organisme tiers tel que mentionné au 2° du I.\",\n",
       "  'text_length': 1744,\n",
       "  'retrieval_metadata': {'source': 'pylegifrance', 'success': True},\n",
       "  'retrieved_at': '2025-06-12T17:55:36.795820'},\n",
       " {'article_key': 'code rural et de la pêche maritime::L. 254-6-2',\n",
       "  'code': 'code rural et de la pêche maritime',\n",
       "  'article': 'L. 254-6-2',\n",
       "  'operation_type': 'ABROGATE',\n",
       "  'original_text': \"I.-Le conseil stratégique à l'utilisation de produits phytopharmaceutiques a pour objet de fournir aux décideurs des entreprises utilisatrices de produits phytopharmaceutiques non soumises à l'un des agréments prévus à l'article L. 254-1 , les éléments leur permettant de définir une stratégie pour la protection des végétaux ou pour tout autre usage prévu au 1 de l'article 2 du règlement (CE) n° 1107/2009 du Parlement européen et du Conseil du 21 octobre 2009 pouvant nécessiter le recours à des produits phytopharmaceutiques. Il est fondé sur un diagnostic comportant une analyse des spécificités pédo-climatiques, sanitaires et environnementales des espaces concernés. Pour les exploitations agricoles, ce diagnostic prend également en compte l'organisation et la situation économique de l'exploitation et comporte une analyse des moyens humains et matériels disponibles, ainsi que des cultures et des précédents culturaux et de l'évolution des pratiques phytosanitaires. Le diagnostic est périodiquement actualisé. Chacune de ses versions est conservée par l'utilisateur et par la personne agréée qui l'a établi pendant une durée fixée par décret dans la limite de dix ans. II.-Le conseil stratégique à l'utilisation de produits phytopharmaceutiques est formalisé par écrit. Il est conservé par l'utilisateur et par la personne agréée qui l'a délivré pendant une durée fixée par décret dans la limite de dix ans. Dans toute entreprise utilisatrice de produits phytopharmaceutiques non soumise à l'un des agréments prévus à l'article L. 254-1, toute personne qui décide des traitements phytopharmaceutiques doit être en mesure de justifier s'être fait délivrer des conseils stratégiques selon une périodicité définie par voie réglementaire, dans la limite maximale de trois ans entre deux conseils. Cette justification est exigée pour le renouvellement du certificat mentionné au II de l'article L. 254-3 dans des conditions fixées par décret. Le contenu du conseil stratégique est allégé et le délai entre deux conseils augmenté, dans des conditions définies par voie réglementaire, pour les utilisateurs professionnels dont les surfaces susceptibles d'être traitées par des produits phytopharmaceutiques sont de dimensions réduites, inférieures à des plafonds déterminés en fonction de la nature des cultures pour les exploitants agricoles et des usages pour les autres utilisateurs. III.-La délivrance du conseil n'est pas requise : 1° Lorsque l'entreprise n'utilise que des produits de biocontrôle figurant sur la liste prévue à l'article L. 253-5 , des produits composés uniquement de substances de base ou des produits à faible risque au sens du règlement (CE) n° 1107/2009 du Parlement européen et du Conseil du 21 octobre 2009 et les produits nécessaires aux traitements prescrits pour lutter contre les organismes figurant sur la liste établie en application de l'article L. 251-3 ; 2° Lorsque l'exploitation agricole au bénéfice de laquelle sont utilisés des produits phytopharmaceutiques est engagée, pour la totalité des surfaces d'exploitation, dans une démarche ou une pratique ayant des incidences favorables sur la réduction de l'usage et des impacts des produits phytopharmaceutiques et figurant sur une liste établie par arrêté conjoint des ministres chargés de l'agriculture et de l'environnement.\",\n",
       "  'text_length': 3321,\n",
       "  'retrieval_metadata': {'source': 'pylegifrance', 'success': True},\n",
       "  'retrieved_at': '2025-06-12T17:55:37.578835'},\n",
       " {'article_key': 'code rural et de la pêche maritime::L. 254-6-4',\n",
       "  'code': 'code rural et de la pêche maritime',\n",
       "  'article': 'L. 254-6-4',\n",
       "  'operation_type': 'MODIFY',\n",
       "  'original_text': \"Les conseils mentionnés aux articles L. 254-6-2 et L. 254-6-3 s'inscrivent dans un objectif de réduction de l'usage et des impacts des produits phytopharmaceutiques et respectent les principes généraux de la lutte intégrée contre les ennemis des cultures mentionnée à l'article L. 253-6 . A ce titre, ils privilégient des méthodes alternatives. Si nécessaire, ils recommandent les produits phytopharmaceutiques adaptés. Ils promeuvent les actions mentionnées à l'article L. 254-10-1 . Ils tiennent compte des enjeux environnementaux présents dans l'aire d'activité de l'utilisateur professionnel et des modalités de leur préservation en cas d'utilisation de produits phytopharmaceutiques. Constituent des méthodes alternatives au sens et pour l'application de l'alinéa précédent : 1° Les méthodes non chimiques au sens de l'article 3 du règlement (CE) n° 1107/2009 du Parlement européen et du Conseil du 21 octobre 2009 ; 2° L'utilisation des produits de biocontrôle figurant sur la liste prévue à l'article L. 253-5 ou de produits composés uniquement de substances de base au sens de l'article 23 du règlement (CE) n° 1107/2009 du 21 octobre 2009 ou de produits à faible risque au sens de l'article 47 du même règlement.\",\n",
       "  'text_length': 1221,\n",
       "  'retrieval_metadata': {'source': 'pylegifrance', 'success': True},\n",
       "  'retrieved_at': '2025-06-12T17:55:38.223763'},\n",
       " {'article_key': 'code rural et de la pêche maritime::L. 254-7-1',\n",
       "  'code': 'code rural et de la pêche maritime',\n",
       "  'article': 'L. 254-7-1',\n",
       "  'operation_type': 'MODIFY',\n",
       "  'original_text': \"Les modalités d'application de la présente section, et notamment la désignation de l'autorité administrative, les conditions de délivrance, de renouvellement, de suspension, de modulation et de retrait des agréments, des certificats ainsi que des habilitations des organismes sont déterminées par décret en Conseil d'Etat. Ce décret prévoit les modalités particulières de cession des produits phytopharmaceutiques aux utilisateurs non professionnels. Il définit également les conditions dans lesquelles les microdistributeurs peuvent être dispensés de tout ou partie des obligations mentionnées aux 2° et 3° du I de l'article L. 254-2 et à l'article L. 254-3 , dans le seul cadre de ventes de produits destinés à un usage non professionnel ou lorsque celles-ci concernent uniquement soit des préparations naturelles peu préoccupantes constituées exclusivement d'une ou plusieurs substances de base, soit des produits à faible risque. Il précise le contenu du conseil mentionné à l'article L. 254-6-2 et en détermine la fréquence, ainsi que le délai dans lequel le diagnostic mentionné au deuxième alinéa du I de ce même article doit être actualisé.\",\n",
       "  'text_length': 1148,\n",
       "  'retrieval_metadata': {'source': 'pylegifrance', 'success': True},\n",
       "  'retrieved_at': '2025-06-12T17:55:38.801572'},\n",
       " {'article_key': 'code rural et de la pêche maritime::L. 254-10-1',\n",
       "  'code': 'code rural et de la pêche maritime',\n",
       "  'article': 'L. 254-10-1',\n",
       "  'operation_type': 'MODIFY',\n",
       "  'original_text': \"I.-Sont soumises à des obligations de réalisation d'actions tendant à la réduction de l'utilisation de produits phytopharmaceutiques les personnes auprès desquelles la redevance pour pollutions diffuses est exigible, mentionnées au IV de l'article L. 213-10-8 du code de l'environnement . Ces personnes sont dénommées les “ obligés ”. L'obligé est tenu de mettre en place des actions visant à la réalisation d'économies de produits phytopharmaceutiques ou de faciliter la mise en œuvre de telles actions. II.-L'autorité administrative notifie à chaque obligé pour les périodes du 1er janvier 2020 au 31 décembre 2020 et du 1er janvier 2021 au 31 décembre 2021, puis, à compter du 1er janvier 2022, pour chaque période successive d'une durée fixée par décret en Conseil d'Etat, dans la limite de quatre ans, l'obligation de réalisation d'actions qui lui incombe en vertu de la présente section compte tenu des quantités de produits phytopharmaceutiques qu'il a déclarées en application des articles L. 213-10-8 et L. 213-11 du code de l'environnement. Cette obligation est proportionnelle aux quantités de chaque substance active contenues dans ces produits phytopharmaceutiques, pondérées, dans des conditions fixées par décret en Conseil d'Etat, par des coefficients liés soit aux caractéristiques d'emploi de ces produits, soit aux dangers des substances actives qu'ils contiennent. Elle est exprimée en nombre de certificats d'économie de produits phytopharmaceutiques.\",\n",
       "  'text_length': 1472,\n",
       "  'retrieval_metadata': {'source': 'pylegifrance', 'success': True},\n",
       "  'retrieved_at': '2025-06-12T17:55:39.514670'},\n",
       " {'article_key': 'code rural et de la pêche maritime::L. 254-12',\n",
       "  'code': 'code rural et de la pêche maritime',\n",
       "  'article': 'L. 254-12',\n",
       "  'operation_type': 'MODIFY',\n",
       "  'original_text': \"I.-Est puni d'un emprisonnement de six mois et d'une amende de 15 000 € : 1° Le fait d'exercer l'une des activités visées à l'article L. 254-1 sans justifier de la détention de l'agrément ; 2° Le fait, pour le détenteur de l'agrément, d'exercer l'une des activités visées à l'article L. 254-1 sans satisfaire aux conditions exigées par l'article L. 254-2 ou par l'article L. 254-5 . II.-Les personnes physiques coupables de l'une des infractions mentionnées au présent article encourent également la peine complémentaire d'affichage et de diffusion de la décision dans les conditions prévues par l'article 131-35 du code pénal. Les personnes morales déclarées coupables pénalement dans les conditions prévues à l'article 121-2 du même code des infractions définies au présent article encourent, outre l'amende suivant les modalités prévues à l'article 131-38 du code pénal, la peine prévue au 9° de l'article 131-39 du même code. III.-Lorsqu'elles sont commises en bande organisée, les infractions prévues au I sont punies de sept ans d'emprisonnement et 150 000 € d'amende.\",\n",
       "  'text_length': 1074,\n",
       "  'retrieval_metadata': {'source': 'pylegifrance', 'success': True},\n",
       "  'retrieved_at': '2025-06-12T17:55:40.153275'},\n",
       " {'article_key': 'code rural et de la pêche maritime::L. 500-1',\n",
       "  'code': 'code rural et de la pêche maritime',\n",
       "  'article': 'L. 500-1',\n",
       "  'operation_type': 'INSERT',\n",
       "  'original_text': '',\n",
       "  'text_length': 0,\n",
       "  'retrieval_metadata': {'source': 'insert_operation',\n",
       "   'success': True,\n",
       "   'note': 'Empty text for INSERT operation'},\n",
       "  'retrieved_at': '2025-06-12T17:55:40.153290'},\n",
       " {'article_key': 'code de la santé publique::L. 1313-5',\n",
       "  'code': 'code de la santé publique',\n",
       "  'article': 'L. 1313-5',\n",
       "  'operation_type': 'MODIFY',\n",
       "  'original_text': \"L'établissement est dirigé par un directeur général nommé par décret. Le directeur général émet les avis et recommandations relevant de la compétence de l'agence et prend, au nom de l'Etat, les décisions qui relèvent de celle-ci en application du titre IV du livre Ier de la cinquième partie et des onzième, douzième, treizième et quatorzième alinéas de l'article L. 1313-1. Les décisions prises par le directeur général en application du présent article ne sont susceptibles d'aucun recours hiérarchique. Toutefois, le ministre chargé de l'agriculture peut s'opposer, par arrêté motivé, à une décision du directeur général prise en application du onzième alinéa de l'article L. 1313-1 et lui demander de procéder, dans un délai de trente jours, à un nouvel examen du dossier ayant servi de fondement à sa décision. Cette opposition suspend l'application de cette décision. Les ministres chargés de la santé et de l'agriculture peuvent s'opposer, dans les mêmes conditions, aux décisions prises en application du dixième alinéa du même article L. 1313-1. Le ministre chargé de l'environnement ou le ministre chargé du travail peuvent s'opposer, dans les mêmes conditions, aux décisions prises en application du douzième alinéa de cet article. Le ministre chargé de la santé peut s'opposer, dans les mêmes conditions, aux décisions prises en application du treizième alinéa de cet article.\",\n",
       "  'text_length': 1388,\n",
       "  'retrieval_metadata': {'source': 'pylegifrance', 'success': True},\n",
       "  'retrieved_at': '2025-06-12T17:55:40.935661'},\n",
       " {'article_key': 'code de la santé publique::L. 1313-6-1',\n",
       "  'code': 'code de la santé publique',\n",
       "  'article': 'L. 1313-6-1',\n",
       "  'operation_type': 'MODIFY',\n",
       "  'original_text': \"Un comité de suivi des autorisations de mise sur le marché, composé dans des conditions fixées par décret, est constitué au sein de l'agence. Le directeur général de l'agence peut, avant toute décision, consulter le comité de suivi des autorisations de mise sur le marché sur les conditions de mise en œuvre des autorisations de mise sur le marché des produits phytopharmaceutiques et adjuvants mentionnés à l' article L. 253-1 du code rural et de la pêche maritime , des produits biocides mentionnés à l'article L. 522-1 du code de l'environnement et des matières fertilisantes et supports de culture en application du onzième alinéa de l'article L. 1313-1 du présent code. Les procès-verbaux des réunions du comité de suivi des autorisations de mise sur le marché sont rendus publics.\",\n",
       "  'text_length': 786,\n",
       "  'retrieval_metadata': {'source': 'pylegifrance', 'success': True},\n",
       "  'retrieved_at': '2025-06-12T17:55:41.620376'},\n",
       " {'article_key': 'code rural et de la pêche maritime::L. 253-1',\n",
       "  'code': 'code rural et de la pêche maritime',\n",
       "  'article': 'L. 253-1',\n",
       "  'operation_type': 'MODIFY',\n",
       "  'original_text': \"Les conditions dans lesquelles la mise sur le marché et l'utilisation des produits phytopharmaceutiques et des adjuvants vendus seuls ou en mélange et leur expérimentation sont autorisées, ainsi que les conditions selon lesquelles sont approuvés les substances actives, les coformulants, les phytoprotecteurs et les synergistes contenus dans ces produits, sont définies par le règlement (CE) n° 1107/2009 du Parlement européen et du Conseil du 21 octobre 2009 concernant la mise sur le marché des produits phytopharmaceutiques et abrogeant les directives 79/117/ CEE et 91/414/ CEE du Conseil, et par les dispositions du présent chapitre. Une préparation naturelle peu préoccupante est composée exclusivement soit de substances de base, au sens de l'article 23 du règlement (CE) n° 1107/2009 du Parlement européen et du Conseil, du 21 octobre 2009, concernant la mise sur le marché des produits phytopharmaceutiques et abrogeant les directives 79/117/ CEE et 91/414/ CEE du Conseil, soit de substances naturelles à usage biostimulant. Elle est obtenue par un procédé accessible à tout utilisateur final. Les substances naturelles à usage biostimulant sont autorisées selon une procédure et une évaluation simplifiées, dont les modalités sont fixées par voie réglementaire. La procédure et l'évaluation sont adaptées lorsque la demande d'autorisation porte sur la partie consommable d'une plante utilisée en alimentation animale ou humaine. Les délais d'évaluation et d'autorisation de mise sur le marché des produits de biocontrôle mentionnés à l'article L. 253-6 sont fixés par décret en Conseil d'Etat.\",\n",
       "  'text_length': 1604,\n",
       "  'retrieval_metadata': {'source': 'pylegifrance', 'success': True},\n",
       "  'retrieved_at': '2025-06-12T17:55:42.366863'},\n",
       " {'article_key': 'code rural et de la pêche maritime::L. 253-8',\n",
       "  'code': 'code rural et de la pêche maritime',\n",
       "  'article': 'L. 253-8',\n",
       "  'operation_type': 'MODIFY',\n",
       "  'original_text': \"I. - Sous réserve des I bis et I ter, la pulvérisation aérienne des produits phytopharmaceutiques est interdite. I bis. - A. - Pour lutter contre un danger sanitaire grave qui ne peut être maîtrisé par d'autres moyens, la pulvérisation aérienne de produits phytopharmaceutiques peut être autorisée temporairement par arrêté conjoint des ministres chargés de l'environnement, de l'agriculture et de la santé. B. - Lorsqu'ils présentent des avantages manifestes pour la santé humaine et pour l'environnement par rapport aux applications par voie terrestre, les programmes d'application par aéronef circulant sans personne à bord de produits phytopharmaceutiques de biocontrôle mentionnés à l'article L. 253-6 et figurant sur la liste mentionnée au IV de l'article L. 253-7, de produits autorisés en agriculture biologique et de produits à faible risque au sens de l'article 47 du règlement (CE) n° 1107/2009 du Parlement européen et du Conseil du 21 octobre 2009 concernant la mise sur le marché des produits phytopharmaceutiques et abrogeant les directives 79/117/ CEE et 91/414/ CEE du Conseil peuvent être autorisés sur les parcelles agricoles comportant une pente supérieure ou égale à 20 %, sur les bananeraies et sur les vignes mères de porte-greffes conduites au sol. Un arrêté des ministres chargés de l'environnement, de l'agriculture et de la santé, pris après avis de l'Agence nationale de sécurité sanitaire de l'alimentation, de l'environnement et du travail et après consultation des organisations professionnelles et syndicales représentant les exploitants et les salariés agricoles, définit les conditions d'autorisation de ces programmes dans les conditions prévues à l'article 9 de la directive 2009/128/ CE du Parlement européen et du Conseil du 21 octobre 2009 instaurant un cadre d'action communautaire pour parvenir à une utilisation des pesticides compatible avec le développement durable. I ter. - A. - Par dérogation au I, lorsqu'ils présentent des avantages manifestes pour la santé humaine et l'environnement par rapport aux applications par voie terrestre, des programmes d'application par aéronef circulant sans personne à bord de produits mentionnés au B du I bis peuvent être autorisés, dans les conditions fixées aux B et C du présent I ter, sur des parcelles et des cultures autres que celles mentionnées au B du I bis. B. - Les programmes mentionnés au A du présent I ter sont autorisés à titre d'essai pour une durée maximale de trois ans. Les essais visent à déterminer, pour un type de parcelle ou de culture, les avantages manifestes de la pulvérisation par aéronef circulant sans personne à bord, du point de vue des incidences sur la santé humaine et sur l'environnement, par rapport aux applications par voie terrestre. Leurs résultats sont évalués par l'Agence nationale de sécurité sanitaire de l'alimentation, de l'environnement et du travail. Ces évaluations sont présentées à l'Office parlementaire d'évaluation des choix scientifiques et technologiques. Un décret, pris après avis de l'Agence nationale de sécurité sanitaire de l'alimentation, de l'environnement et du travail, définit les conditions d'autorisation et les modalités de réalisation de ces essais ainsi que les modalités de transmission de leurs résultats à cette agence. C. - Un arrêté des ministres chargés de l'environnement, de l'agriculture et de la santé dresse la liste des types de parcelle ou de culture pour lesquelles les résultats des essais mentionnés au B montrent que la pulvérisation par aéronef circulant sans personne à bord est susceptible de présenter des avantages manifestes pour la santé humaine et pour l'environnement. Pour les types de parcelle ou de culture inscrits sur la liste mentionnée au premier alinéa du présent C, un programme d'application par aéronef circulant sans personne à bord peut être autorisé dans les conditions prévues au B du I bis. II. - L'utilisation de produits phytopharmaceutiques contenant une ou des substances actives de la famille des néonicotinoïdes ou présentant des modes d'action identiques à ceux de ces substances, précisées par décret, et des semences traitées avec ces produits est interdite. Jusqu'au 1er juillet 2023, des arrêtés conjoints des ministres chargés de l'agriculture et de l'environnement, pris après avis du conseil de surveillance mentionné au II bis, peuvent autoriser l'emploi de semences traitées avec des produits contenant les substances mentionnées au premier alinéa du présent II dont l'utilisation est interdite en application du droit de l'Union européenne ou du présent code. Ces dérogations sont accordées dans les conditions prévues à l'article 53 du règlement (CE) n° 1107/2009 du Parlement européen et du Conseil du 21 octobre 2009 concernant la mise sur le marché des produits phytopharmaceutiques et abrogeant les directives 79/117/ CEE et 91/414/ CEE du Conseil. Dans des conditions définies par les arrêtés mentionnés au deuxième alinéa du présent II, le semis, la plantation et la replantation de végétaux attractifs d'insectes pollinisateurs sont temporairement interdits après l'emploi de semences traitées avec des produits contenant les substances mentionnées au premier alinéa du présent II. II bis. - Il est créé un conseil de surveillance chargé du suivi et du contrôle de la recherche et de la mise en œuvre d'alternatives aux produits phytopharmaceutiques contenant une ou des substances actives de la famille des néonicotinoïdes ou présentant des modes d'action identiques à ceux de ces substances. Ce conseil comprend quatre députés, dont au moins un député membre de l'Office parlementaire d'évaluation des choix scientifiques et technologiques et un député membre d'un groupe d'opposition, et quatre sénateurs, dont au moins un sénateur membre de l'Office parlementaire d'évaluation des choix scientifiques et technologiques et un sénateur membre d'un groupe d'opposition, nommés respectivement par les présidents de l'Assemblée nationale et du Sénat ainsi que, notamment, des représentants des ministères chargés de l'environnement, de la santé et de l'agriculture, du Conseil économique, social et environnemental, d'associations de protection de l'environnement, des organisations syndicales à vocation générale d'exploitants agricoles, de l'interprofession apicole, de l'Institut technique et scientifique de l'apiculture et de la pollinisation, de l'Institut de l'agriculture et de l'alimentation biologiques, des établissements publics de recherche et, sur désignation du président du conseil, en fonction de l'ordre du jour, des représentants de la production et de la transformation et de l'Institut technique de la filière concernée et, le cas échéant, le délégué interministériel pour la filière. Les membres de ce conseil exercent leurs fonctions à titre gratuit. Sa composition, son organisation et son fonctionnement sont fixés par décret. Le conseil mentionné au premier alinéa du présent II bis se réunit trimestriellement pour assurer le contrôle des avancées et de l'efficacité des tests en matière de recherche et de mise en œuvre d'alternatives aux produits phytopharmaceutiques contenant une ou des substances actives de la famille des néonicotinoïdes ou présentant des modes d'action identiques à ceux de ces substances, ainsi que la conformité de ces avancées au plan de recherche sur les alternatives aux néonicotinoïdes de la filière concernée par un arrêté de dérogation mentionné au deuxième alinéa du II. Dans le cadre de la procédure de dérogation prévue au même deuxième alinéa, il émet un avis sur les dérogations, dans le respect d'un délai déterminé par décret, et assure le suivi et l'évaluation de leurs conséquences, notamment sur l'environnement, et de leur incidence économique sur la situation de la filière. Le conseil émet un avis et suit l'état d'avancement du plan de prévention proposé par la filière concernée, en veillant à ce que soient prévues les modalités de déploiement des solutions alternatives existantes en conditions réelles d'exploitation. Ce conseil publie un rapport annuel, remis chaque année avant le 15 octobre au Gouvernement et au Parlement. III. - A l'exclusion des produits de biocontrôle mentionnés au deuxième alinéa de l'article L. 253-6, des produits composés uniquement de substances de base ou de substances à faible risque au sens du règlement (CE) n° 1107/2009 du Parlement européen et du Conseil du 21 octobre 2009 concernant la mise sur le marché des produits phytopharmaceutiques et abrogeant les directives 79/117/ CEE et 91/414/ CEE du Conseil, l'utilisation des produits phytopharmaceutiques à proximité des zones attenantes aux bâtiments habités et aux parties non bâties à usage d'agrément contiguës à ces bâtiments est subordonnée à des mesures de protection des personnes habitant ces lieux. Ces mesures tiennent compte, notamment, des techniques et matériels d'application employés et sont adaptées au contexte topographique, pédoclimatique, environnemental et sanitaire. Les utilisateurs formalisent ces mesures dans une charte d'engagements à l'échelle départementale, après concertation avec les personnes, ou leurs représentants, habitant à proximité des zones susceptibles d'être traitées avec un produit phytopharmaceutique. Lorsque de telles mesures ne sont pas mises en place, ou dans l'intérêt de la santé publique, l'autorité administrative peut, sans préjudice des missions confiées à l'Agence nationale de sécurité sanitaire de l'alimentation, de l'environnement et du travail, restreindre ou interdire l'utilisation des produits phytopharmaceutiques à proximité des zones définies au premier alinéa du présent III. Un décret précise les conditions d'application du présent III. IV. - Sont interdits à compter du 1er janvier 2022 la production, le stockage et la circulation de produits phytopharmaceutiques contenant des substances actives non approuvées pour des raisons liées à la protection de la santé humaine ou animale ou de l'environnement conformément au règlement (CE) n° 1107/2009 du Parlement européen et du Conseil du 21 octobre 2009 précitée, sous réserve du respect des règles de l'Organisation mondiale du commerce.\",\n",
       "  'text_length': 10151,\n",
       "  'retrieval_metadata': {'source': 'pylegifrance', 'success': True},\n",
       "  'retrieved_at': '2025-06-12T17:55:43.409675'},\n",
       " {'article_key': 'code rural et de la pêche maritime::L. 253-8-3',\n",
       "  'code': 'code rural et de la pêche maritime',\n",
       "  'article': 'L. 253-8-3',\n",
       "  'operation_type': 'ABROGATE',\n",
       "  'original_text': \"Les arrêtés mentionnés au deuxième alinéa du II de l'article L. 253-8 ne peuvent autoriser que l'emploi de semences de betteraves sucrières.\",\n",
       "  'text_length': 140,\n",
       "  'retrieval_metadata': {'source': 'pylegifrance', 'success': True},\n",
       "  'retrieved_at': '2025-06-12T17:55:44.055174'},\n",
       " {'article_key': 'code rural et de la pêche maritime::L. 253-8-4',\n",
       "  'code': 'code rural et de la pêche maritime',\n",
       "  'article': 'L. 253-8-4',\n",
       "  'operation_type': 'INSERT',\n",
       "  'original_text': '',\n",
       "  'text_length': 0,\n",
       "  'retrieval_metadata': {'source': 'insert_operation',\n",
       "   'success': True,\n",
       "   'note': 'Empty text for INSERT operation'},\n",
       "  'retrieved_at': '2025-06-12T17:55:44.055194'},\n",
       " {'article_key': \"code de l'environnement::L. 181-10-1\",\n",
       "  'code': \"code de l'environnement\",\n",
       "  'article': 'L. 181-10-1',\n",
       "  'operation_type': 'MODIFY',\n",
       "  'original_text': \"I. - Dès la réception du dossier, l'autorité administrative saisit le président du tribunal administratif compétent en vue de la désignation, dans les conditions prévues aux articles L. 123-4 et L. 123-5, d'un commissaire enquêteur ou d'une commission d'enquête chargé de la consultation du public et respectivement d'un suppléant ou de plusieurs suppléants pouvant se substituer sans délai au commissaire enquêteur ou aux membres de la commission d'enquête en cas d'empêchement. Dès que le dossier est jugé complet et régulier et que le commissaire enquêteur ou la commission d'enquête est désigné, l'autorité administrative organise une consultation du public selon les modalités prévues aux II à V du présent article, sauf si la demande a déjà été rejetée dans les conditions prévues au quatrième alinéa de l'article L. 181-9. II. - La consultation mentionnée au second alinéa du I du présent article a pour objet d'assurer l'information et la participation du public ainsi que la prise en compte des intérêts des tiers lors de l'élaboration de la décision. Les observations et les propositions parvenues pendant la durée de la consultation sont prises en considération par le maître d'ouvrage et par l'autorité compétente pour prendre la décision. Le public est avisé de l'ouverture de la consultation selon les modalités prévues au II de l'article L. 123-19. La durée de la consultation est de trois mois ou, lorsque l'avis de l'autorité environnementale est requis, d'un mois de plus que le délai imparti à celle-ci pour rendre son avis. Le dossier de la consultation est constitué et mis à la disposition du public dans les conditions prévues au même II. L'étude d'impact, quand elle est requise, est mise à la disposition du public au plus tard à l'ouverture de la consultation. Les avis recueillis par l'administration sur la demande ou l'indication d'une absence d'avis résultant de l'expiration des délais impartis sont mis à la disposition du public sans délai au fur et à mesure de leur émission. III. - La consultation est conduite par le commissaire enquêteur ou la commission d'enquête de manière à permettre au public de disposer d'une information complète sur le projet et de participer effectivement au processus de décision. A cet effet : 1° Dans un délai de quinze jours à compter du début de la consultation, le commissaire enquêteur ou la commission d'enquête organise une réunion publique d'ouverture avec la participation du pétitionnaire ; 2° Le public peut faire parvenir ses observations et ses propositions, pendant la durée de la consultation, par courrier électronique, par voie postale ainsi que par toute autre modalité précisée dans l'avis d'ouverture de la consultation ; 3° Les observations et les propositions transmises par voie électronique sont accessibles sur un site internet désigné dans des conditions fixées par voie réglementaire ; 4° Les réponses éventuelles du pétitionnaire aux avis mis en ligne ainsi qu'aux observations et aux propositions du public sont transmises et publiées dans les mêmes conditions, y compris lorsque ces réponses ont été formulées lors d'une réunion publique ; 5° Dans les quinze derniers jours de la consultation du public, le commissaire enquêteur ou la commission d'enquête organise une réunion publique de clôture, avec la participation du pétitionnaire. Le commissaire enquêteur ou la commission d'enquête recueille les observations des parties prenantes jusqu'à la clôture de la consultation. Les réponses apportées par le pétitionnaire au plus tard lors de la réunion de clôture de la consultation sont réputées faire partie du dossier de demande, de même que les éventuelles modifications consécutives du projet, sous réserve qu'elles n'en modifient pas l'économie générale. IV. - Le commissaire enquêteur ou la commission d'enquête rend son rapport et ses conclusions motivées à l'autorité administrative, après concertation avec le pétitionnaire et dans un délai de trois semaines à compter de la clôture de la consultation du public. Le rapport fait état des principaux éléments relatifs au projet recueillis lors de la consultation du public et comporte une synthèse des observations et des propositions du public ainsi que des réponses du pétitionnaire. Le rapport et les conclusions motivées sont rendus publics. La réception de ce rapport et de ces conclusions motivées ou l'expiration du délai de trois semaines met fin à la phase d'examen et de consultation et ouvre la phase de décision. La décision ne peut être adoptée avant l'expiration d'un délai permettant la prise en considération des observations et des propositions formulées pendant la consultation et des réponses du pétitionnaire. V. - Le pétitionnaire assume les frais afférents à la consultation du public, notamment ceux relatifs aux différentes mesures de publicité de la consultation et à l'indemnisation du commissaire enquêteur ou de la commission d'enquête, dans les conditions prévues au chapitre III du titre II du présent livre.\",\n",
       "  'text_length': 4993,\n",
       "  'retrieval_metadata': {'source': 'pylegifrance', 'success': True},\n",
       "  'retrieved_at': '2025-06-12T17:55:44.773269'},\n",
       " {'article_key': \"code de l'environnement::L. 512-7\",\n",
       "  'code': \"code de l'environnement\",\n",
       "  'article': 'L. 512-7',\n",
       "  'operation_type': 'MODIFY',\n",
       "  'original_text': \"I. – Sont soumises à autorisation simplifiée, sous la dénomination d'enregistrement, les installations qui présentent des dangers ou inconvénients graves pour les intérêts mentionnés à l'article L. 511-1 , lorsque ces dangers et inconvénients peuvent, en principe, eu égard aux caractéristiques des installations et de leur impact potentiel, être prévenus par le respect de prescriptions générales édictées par le ministre chargé des installations classées. Les activités pouvant, à ce titre, relever du régime d'enregistrement concernent les secteurs ou technologies dont les enjeux environnementaux et les risques sont bien connus, lorsque les installations ne sont soumises ni à la directive 2010/75/ UE du Parlement européen et du Conseil du 24 novembre 2010 relative aux émissions industrielles au titre de son annexe I, ni à une obligation d'évaluation environnementale systématique au titre de l'annexe I de la directive 85/337/ CEE du 27 juin 1985 concernant l'évaluation des incidences de certains projets publics et privés sur l'environnement. I bis. – L'enregistrement porte également sur les installations, ouvrages, travaux et activités relevant de l'article L. 214-1 projetés par le pétitionnaire que leur connexité rend nécessaires à l'installation classée ou dont la proximité est de nature à en modifier notablement les dangers ou inconvénients. Ils sont regardés comme faisant partie de l'installation et ne sont pas soumis aux dispositions des articles L. 214-3 à L. 214-6 et du chapitre unique du titre VIII du livre Ier. II. – Les prescriptions générales peuvent notamment prévoir : 1° Des conditions d'intégration du projet dans son environnement local ; 2° L'éloignement des installations des habitations, des immeubles habituellement occupés par des tiers, des établissements recevant du public, des cours d'eau, des voies de communication, des captages d'eau ou des zones destinées à l'habitation par des documents d'urbanisme opposables aux tiers. III. – Les prescriptions générales sont fixées par arrêté du ministre chargé des installations classées après avis du Conseil supérieur de la prévention des risques technologiques et consultation des ministres intéressés. La publication d'un arrêté de prescriptions générales est nécessaire à l'entrée en vigueur du classement d'une rubrique de la nomenclature dans le régime d'enregistrement. L'arrêté fixant des prescriptions générales s'impose de plein droit aux installations nouvelles. Il précise, après avis des organisations professionnelles intéressées, les délais et les conditions dans lesquels il s'applique aux installations existantes. Sauf motif tiré de la sécurité, de la santé ou de la salubrité publiques ou du respect des engagements internationaux de la France, notamment du droit de l'Union européenne : 1° Ces mêmes délais et conditions s'appliquent aux projets ayant fait l'objet d'une demande d'enregistrement complète à la date de publication de l'arrêté ; 2° Les prescriptions relatives aux dispositions constructives concernant le gros œuvre ne peuvent faire l'objet d'une application aux installations existantes ou aux projets ayant fait l'objet d'une demande d'enregistrement complète à la date de publication de l'arrêté. La demande est présumée complète lorsqu'elle répond aux conditions de forme prévues par le présent code.\",\n",
       "  'text_length': 3330,\n",
       "  'retrieval_metadata': {'source': 'pylegifrance', 'success': True},\n",
       "  'retrieved_at': '2025-06-12T17:55:45.475343'},\n",
       " {'article_key': \"code de l'environnement::L. 211-1\",\n",
       "  'code': \"code de l'environnement\",\n",
       "  'article': 'L. 211-1',\n",
       "  'operation_type': 'MODIFY',\n",
       "  'original_text': \"I.-Les dispositions des chapitres Ier à VII du présent titre ont pour objet une gestion équilibrée et durable de la ressource en eau ; cette gestion prend en compte les adaptations nécessaires au changement climatique et vise à assurer : 1° La prévention des inondations et la préservation des écosystèmes aquatiques, des sites et des zones humides ; on entend par zone humide les terrains, exploités ou non, habituellement inondés ou gorgés d'eau douce, salée ou saumâtre de façon permanente ou temporaire, ou dont la végétation, quand elle existe, y est dominée par des plantes hygrophiles pendant au moins une partie de l'année ; 2° La protection des eaux et la lutte contre toute pollution par déversements, écoulements, rejets, dépôts directs ou indirects de matières de toute nature et plus généralement par tout fait susceptible de provoquer ou d'accroître la dégradation des eaux en modifiant leurs caractéristiques physiques, chimiques, biologiques ou bactériologiques, qu'il s'agisse des eaux superficielles, souterraines ou des eaux de la mer dans la limite des eaux territoriales ; 3° La restauration de la qualité de ces eaux et leur régénération ; 4° Le développement, la mobilisation, la création et la protection de la ressource en eau ; 5° La valorisation de l'eau comme ressource économique et, en particulier, pour le développement de la production d'électricité d'origine renouvelable ainsi que la répartition de cette ressource ; 5° bis La promotion d'une politique active de stockage de l'eau pour un usage partagé de l'eau permettant de garantir l'irrigation, élément essentiel de la sécurité de la production agricole et du maintien de l'étiage des rivières, et de subvenir aux besoins des populations locales ; 6° La promotion d'une utilisation efficace, économe et durable de la ressource en eau, notamment par le développement de la réutilisation des eaux usées traitées et de l'utilisation des eaux de pluie en remplacement de l'eau potable ; 7° Le rétablissement de la continuité écologique au sein des bassins hydrographiques. Un décret en Conseil d'Etat précise les critères retenus pour l'application du 1° et les modalités d'application du 6° du présent I aux activités, installations, ouvrages et travaux relevant des articles L. 214-3 et L. 511-2 dont la demande d'autorisation, la demande d'enregistrement ou la déclaration sont postérieures au 1er janvier 2021, ainsi qu'aux activités, installations, ouvrages et travaux existants. II.-La gestion équilibrée doit permettre en priorité de satisfaire les exigences de la santé, de la salubrité publique, de la sécurité civile et de l'alimentation en eau potable de la population. Elle doit également permettre de satisfaire ou concilier, lors des différents usages, activités ou travaux, les exigences : 1° De la vie biologique du milieu récepteur, et spécialement de la faune piscicole et conchylicole ; 2° De la conservation et du libre écoulement des eaux et de la protection contre les inondations ; 3° De l'agriculture, des pêches et des cultures marines, de la pêche en eau douce, de l'industrie, de la production d'énergie, en particulier pour assurer la sécurité du système électrique, des transports, du tourisme, de la protection des sites, des loisirs et des sports nautiques ainsi que de toutes autres activités humaines légalement exercées. III.-La gestion équilibrée de la ressource en eau ne fait pas obstacle à la préservation du patrimoine hydraulique, en particulier des moulins hydrauliques et de leurs dépendances, ouvrages aménagés pour l'utilisation de la force hydraulique des cours d'eau, des lacs et des mers, protégé soit au titre des monuments historiques, des abords ou des sites patrimoniaux remarquables en application du livre VI du code du patrimoine, soit en application de l'article L. 151-19 du code de l'urbanisme.\",\n",
       "  'text_length': 3835,\n",
       "  'retrieval_metadata': {'source': 'pylegifrance', 'success': True},\n",
       "  'retrieved_at': '2025-06-12T17:55:46.171028'},\n",
       " {'article_key': \"code de l'environnement::L. 211-1-2\",\n",
       "  'code': \"code de l'environnement\",\n",
       "  'article': 'L. 211-1-2',\n",
       "  'operation_type': 'INSERT',\n",
       "  'original_text': '',\n",
       "  'text_length': 0,\n",
       "  'retrieval_metadata': {'source': 'insert_operation',\n",
       "   'success': True,\n",
       "   'note': 'Empty text for INSERT operation'},\n",
       "  'retrieved_at': '2025-06-12T17:55:46.171050'},\n",
       " {'article_key': \"code de l'environnement::L. 214-2\",\n",
       "  'code': \"code de l'environnement\",\n",
       "  'article': 'L. 214-2',\n",
       "  'operation_type': 'MODIFY',\n",
       "  'original_text': \"Les installations, ouvrages, travaux et activités visés à l'article L. 214-1 sont définis dans une nomenclature, établie par décret en Conseil d'Etat après avis du Comité national de l'eau, et soumis à autorisation ou à déclaration suivant les dangers qu'ils présentent et la gravité de leurs effets sur la ressource en eau et les écosystèmes aquatiques compte tenu notamment de l'existence des zones et périmètres institués pour la protection de l'eau et des milieux aquatiques. Ce décret définit en outre les critères de l'usage domestique, et notamment le volume d'eau en deçà duquel le prélèvement est assimilé à un tel usage, ainsi que les autres formes d'usage dont l'impact sur le milieu aquatique est trop faible pour justifier qu'elles soient soumises à autorisation ou à déclaration.\",\n",
       "  'text_length': 793,\n",
       "  'retrieval_metadata': {'source': 'pylegifrance', 'success': True},\n",
       "  'retrieved_at': '2025-06-12T17:55:46.815274'},\n",
       " {'article_key': \"code de l'environnement::L. 411-2-2\",\n",
       "  'code': \"code de l'environnement\",\n",
       "  'article': 'L. 411-2-2',\n",
       "  'operation_type': 'INSERT',\n",
       "  'original_text': '',\n",
       "  'text_length': 0,\n",
       "  'retrieval_metadata': {'source': 'insert_operation',\n",
       "   'success': True,\n",
       "   'note': 'Empty text for INSERT operation'},\n",
       "  'retrieved_at': '2025-06-12T17:55:46.815290'},\n",
       " {'article_key': \"code de l'environnement::L. 131-9\",\n",
       "  'code': \"code de l'environnement\",\n",
       "  'article': 'L. 131-9',\n",
       "  'operation_type': 'MODIFY',\n",
       "  'original_text': \"I.-L'Office français de la biodiversité contribue, s'agissant des milieux terrestres, aquatiques et marins, à la surveillance, la préservation, la gestion et la restauration de la biodiversité ainsi qu'à la gestion équilibrée et durable de l'eau en coordination avec la politique nationale de lutte contre le réchauffement climatique. Il assure les missions suivantes : 1° Contribution à l'exercice des missions de police administrative et de police judiciaire relatives à l'eau, aux espaces naturels, aux espèces, à la chasse et à la pêche ainsi que des missions de police sanitaire en lien avec la faune sauvage ; 2° Développement de la connaissance, recherche et expertise sur les espèces, sur les milieux, leurs fonctionnalités et leurs usages, sur les services écosystémiques, sur les liens entre les changements climatiques et la biodiversité ainsi que sur les risques sanitaires en lien avec la faune sauvage. L'office pilote ou coordonne les systèmes d'information sur la biodiversité, l'eau, les milieux aquatiques et les milieux marins ; 3° Expertise et assistance en matière d'évaluation de l'état de la faune sauvage et de gestion adaptative des espèces mentionnée à l'article L. 425-16 ; 4° Appui à la conception, à la mise en œuvre et à l'évaluation des politiques de l'eau et de la biodiversité, notamment à l'échelon territorial : a) Soutien à l'Etat pour l'élaboration de la stratégie nationale pour la biodiversité définie à l'article L. 110-3 et suivi de sa mise en œuvre ; b) Contribution à la lutte contre la biopiraterie et suivi du dispositif d'accès aux ressources génétiques et de partage juste et équitable des avantages découlant de leur utilisation ; c) Appui à la mise en œuvre du principe mentionné au 2° du II de l'article L. 110-1 et suivi des mesures de compensation des atteintes à la biodiversité ; d) Appui au suivi de la mise en œuvre des règlements et directives européens et des conventions internationales ainsi qu'aux actions de coopération ; e) Appui à l'Etat et à ses établissements publics chargés de la gestion de l'eau, de la biodiversité et des espaces naturels, notamment en matière de lutte contre les pressions qui s'exercent sur la biodiversité, de lutte contre les espèces exotiques envahissantes, de gestion de la faune sauvage, d'amélioration de ses habitats et de pratiques de gestion des territoires ; f) Appui, en lien avec les comités de bassin, aux collectivités territoriales, à leurs groupements et à leurs établissements publics chargés de la gestion de l'eau, de la biodiversité et des espaces naturels, notamment en matière de lutte contre les pressions qui s'exercent sur la biodiversité, de lutte contre les espèces exotiques envahissantes, de gestion de la faune sauvage, d'amélioration de ses habitats et de pratiques de gestion des territoires ; g) Appui aux acteurs socio-économiques et aux associations de protection de l'environnement ou d'éducation à l'environnement dans leurs actions en faveur de la biodiversité ; h) Soutien financier, à travers l'attribution d'aides financières à des projets en faveur de la biodiversité et de la gestion durable et équilibrée de la ressource en eau et à travers la garantie de la solidarité financière entre les bassins hydrographiques ; 5° Gestion, restauration et appui à la gestion d'espaces naturels, notamment de zones littorales comprenant des récifs coralliens et des écosystèmes associés ; 6° Communication, sensibilisation du public, accompagnement de la mobilisation et formation : a) Accompagnement de la mobilisation citoyenne, de la société civile et des acteurs des secteurs économiques sur les enjeux de biodiversité, notamment sur le lien entre l'homme et la nature ; b) Formation, notamment en matière de police, et appui aux actions de formation initiale et continue, en particulier dans le cadre de l'éducation nationale, de l'enseignement supérieur, de la recherche et de l'enseignement agricole ; c) Contribution à la structuration des métiers de la biodiversité et des services écologiques ; Il est chargé pour le compte de l'Etat de l'organisation de l'examen du permis de chasser ainsi que de la délivrance du permis de chasser. II.-L'intervention de l'Office français de la biodiversité porte sur l'ensemble des milieux terrestres, aquatiques et marins du territoire métropolitain, des collectivités régies par l'article 73 de la Constitution, des collectivités de Saint-Martin et de Saint-Pierre-et-Miquelon ainsi que des Terres australes et antarctiques françaises. Il peut aussi mener, dans le cadre de conventions, des actions à Saint-Barthélemy, dans les îles Wallis et Futuna, en Polynésie française ainsi qu'en Nouvelle-Calédonie ou dans ses provinces, à la demande de ces collectivités. III.-L'office et les collectivités territoriales coordonnent leurs actions dans les domaines d'intérêt commun. Les régions ou les collectivités exerçant les compétences des régions et l'office peuvent mettre en place conjointement, dans le cadre d'une convention signée entre les parties, des agences régionales de la biodiversité auxquelles peuvent notamment s'associer les départements et les collectivités territoriales exerçant les compétences des départements. Ces agences exercent leurs missions dans le champ des missions de l'office, à l'exception des missions de police et de délivrance du permis de chasser. IV. - Le représentant de l'Etat, selon le cas, dans le département, la collectivité de Corse ou la collectivité régie par les articles 73 ou 74 de la Constitution assure, en tant que délégué territorial de l'office, la cohérence de l'exercice des missions de police administrative de l'eau et de l'environnement de l'office dans les territoires relevant de son ressort avec les actions des autres services et établissements publics de l'Etat.\",\n",
       "  'text_length': 5792,\n",
       "  'retrieval_metadata': {'source': 'pylegifrance', 'success': True},\n",
       "  'retrieved_at': '2025-06-12T17:55:47.496636'},\n",
       " {'article_key': \"code de l'environnement::L. 172-16\",\n",
       "  'code': \"code de l'environnement\",\n",
       "  'article': 'L. 172-16',\n",
       "  'operation_type': 'MODIFY',\n",
       "  'original_text': \"Les infractions aux dispositions du présent code et des textes pris pour son application sont constatées par des procès-verbaux qui font foi jusqu'à preuve contraire. Les procès-verbaux sont adressés dans les cinq jours qui suivent leur clôture au procureur de la République. Une copie du procès-verbal est transmise, dans le même délai, à l'autorité administrative compétente. Sauf instruction contraire du procureur de la République, une copie du procès-verbal de constatation de l'infraction est également transmise au contrevenant, lorsqu'il est connu, dans un délai fixé par décret en Conseil d'Etat. Sur autorisation du procureur de la République, les nom et prénoms des personnes apparaissant dans les copies de ce procès-verbal, à l'exception de ceux du contrevenant, peuvent être cancellés lorsque ces mentions sont susceptibles de mettre en danger la vie ou l'intégrité physique de ces personnes ou celles de leurs proches.\",\n",
       "  'text_length': 933,\n",
       "  'retrieval_metadata': {'source': 'pylegifrance', 'success': True},\n",
       "  'retrieved_at': '2025-06-12T17:55:48.197702'},\n",
       " {'article_key': \"code de l'environnement::L. 174-3\",\n",
       "  'code': \"code de l'environnement\",\n",
       "  'article': 'L. 174-3',\n",
       "  'operation_type': 'INSERT',\n",
       "  'original_text': '',\n",
       "  'text_length': 0,\n",
       "  'retrieval_metadata': {'source': 'insert_operation',\n",
       "   'success': True,\n",
       "   'note': 'Empty text for INSERT operation'},\n",
       "  'retrieved_at': '2025-06-12T17:55:48.197723'},\n",
       " {'article_key': 'code rural et de la pêche maritime::Titre V du livre II',\n",
       "  'code': 'code rural et de la pêche maritime',\n",
       "  'article': 'Titre V du livre II',\n",
       "  'operation_type': 'MODIFY',\n",
       "  'original_text': '',\n",
       "  'text_length': 0,\n",
       "  'retrieval_metadata': {'source': 'exotic_format',\n",
       "   'success': False,\n",
       "   'note': 'Exotic format skipped'},\n",
       "  'retrieved_at': '2025-06-12T17:55:48.197742'},\n",
       " {'article_key': 'code rural et de la pêche maritime::L. 258-1',\n",
       "  'code': 'code rural et de la pêche maritime',\n",
       "  'article': 'L. 258-1',\n",
       "  'operation_type': 'MODIFY',\n",
       "  'original_text': \"L'entrée sur le territoire et l'introduction dans l'environnement d'un macro-organisme non indigène utile aux végétaux, notamment dans le cadre de la lutte biologique, sont soumises à une autorisation préalable. Cette autorisation est délivrée par arrêté conjoint des ministres chargés de l'agriculture et de l'environnement, sur la base d'une analyse du risque phytosanitaire et environnemental, incluant l'impact sur la biodiversité, que cet organisme peut présenter. Par dérogation au premier alinéa, l'entrée sur le territoire d'un tel macro-organisme en vue d'opérations réalisées de façon confinée peut être autorisée sans analyse préalable du risque phytosanitaire et environnemental. Cette autorisation délivrée par le préfet de région précise les mesures de confinement au respect desquelles l'autorisation est subordonnée. L'introduction éventuelle de cet organisme dans l'environnement reste soumise à autorisation préalable par arrêté conjoint du ministre chargé de l'agriculture et du ministre chargé de l'environnement, sur la base de l'analyse de risque prévue à l'alinéa précédent. Un décret en Conseil d'Etat précise les modalités d'application du présent article.\",\n",
       "  'text_length': 1181,\n",
       "  'retrieval_metadata': {'source': 'pylegifrance', 'success': True},\n",
       "  'retrieved_at': '2025-06-12T17:55:48.865001'}]"
      ]
     },
     "execution_count": 8,
     "metadata": {},
     "output_type": "execute_result"
    }
   ],
   "source": [
    "retrieval_results = pipeline.step_3_retrieve_original_texts()\n",
    "retrieval_results"
   ]
  },
  {
   "cell_type": "code",
   "execution_count": 9,
   "id": "198fa39d-8df0-45b2-aa5b-734f6360e787",
   "metadata": {},
   "outputs": [
    {
     "data": {
      "text/plain": [
       "{'total_articles': 28,\n",
       " 'successful_retrievals': 27,\n",
       " 'failed_retrievals': 1,\n",
       " 'success_rate': 0.9642857142857143,\n",
       " 'source_stats': {'pylegifrance': 22, 'insert_operation': 5},\n",
       " 'text_length_stats': {'average': 1896.111111111111,\n",
       "  'maximum': 10151,\n",
       "  'minimum': 0,\n",
       "  'total_characters': 51195},\n",
       " 'failed_articles': ['code rural et de la pêche maritime::Titre V du livre II']}"
      ]
     },
     "execution_count": 9,
     "metadata": {},
     "output_type": "execute_result"
    }
   ],
   "source": [
    "pipeline._analyze_retrieval_results(retrieval_results)"
   ]
  },
  {
   "cell_type": "code",
   "execution_count": 10,
   "id": "45a49725-291e-4b15-837e-57bf3746a3cf",
   "metadata": {
    "scrolled": true
   },
   "outputs": [
    {
     "name": "stderr",
     "output_type": "stream",
     "text": [
      "2025-06-12 17:55:48,891 - bill_parser_engine.core.reference_resolver.pipeline - INFO - Step 4: Applying text reconstruction...\n"
     ]
    },
    {
     "name": "stdout",
     "output_type": "stream",
     "text": [
      "→ Processing new reconstruction with TextReconstructor\n"
     ]
    },
    {
     "name": "stderr",
     "output_type": "stream",
     "text": [
      "2025-06-12 17:55:55,531 - httpx - INFO - HTTP Request: POST https://api.mistral.ai/v1/chat/completions \"HTTP/1.1 200 OK\"\n",
      "2025-06-12 17:55:55,537 - bill_parser_engine.core.reference_resolver.text_reconstructor - WARNING - Deleted text not found in original article. Deleted: 'prévu aux articles L. 254-6-2 et L. 254-6-3, incompatible avec celui des activités mentionnées aux 1...'\n"
     ]
    },
    {
     "name": "stdout",
     "output_type": "stream",
     "text": [
      "✓ Cached result for future use\n",
      "→ Processing new reconstruction with TextReconstructor\n"
     ]
    },
    {
     "name": "stderr",
     "output_type": "stream",
     "text": [
      "2025-06-12 17:56:01,111 - httpx - INFO - HTTP Request: POST https://api.mistral.ai/v1/chat/completions \"HTTP/1.1 200 OK\"\n",
      "2025-06-12 17:56:01,117 - bill_parser_engine.core.reference_resolver.text_reconstructor - WARNING - Deleted text not found in original article. Deleted: 'mentionnée aux 1° ou 2° du même II ou au IV du même article, mentionnée aux 1° ou 2° du II ou au IV ...'\n"
     ]
    },
    {
     "name": "stdout",
     "output_type": "stream",
     "text": [
      "✓ Cached result for future use\n",
      "→ Processing new reconstruction with TextReconstructor\n"
     ]
    },
    {
     "name": "stderr",
     "output_type": "stream",
     "text": [
      "2025-06-12 17:56:03,987 - httpx - INFO - HTTP Request: POST https://api.mistral.ai/v1/chat/completions \"HTTP/1.1 200 OK\"\n",
      "2025-06-12 17:56:03,990 - bill_parser_engine.core.reference_resolver.text_reconstructor - WARNING - Deleted text not found in original article. Deleted: 'mentionnée aux 1° ou 2° du même II ou au IV du même article, mentionnée aux 1° ou 2° de ce II ou à c...'\n"
     ]
    },
    {
     "name": "stdout",
     "output_type": "stream",
     "text": [
      "✓ Cached result for future use\n",
      "→ Processing new reconstruction with TextReconstructor\n"
     ]
    },
    {
     "name": "stderr",
     "output_type": "stream",
     "text": [
      "2025-06-12 17:56:13,511 - httpx - INFO - HTTP Request: POST https://api.mistral.ai/v1/chat/completions \"HTTP/1.1 200 OK\"\n",
      "2025-06-12 17:56:13,514 - bill_parser_engine.core.reference_resolver.text_reconstructor - WARNING - Deleted text not found in original article. Deleted: 'mentionnée aux 1° ou 2° du même II ou au IV de ce même article, les activités mentionnées aux 1° ou ...'\n"
     ]
    },
    {
     "name": "stdout",
     "output_type": "stream",
     "text": [
      "✓ Cached result for future use\n",
      "→ Processing new reconstruction with TextReconstructor\n"
     ]
    },
    {
     "name": "stderr",
     "output_type": "stream",
     "text": [
      "2025-06-12 17:56:16,675 - httpx - INFO - HTTP Request: POST https://api.mistral.ai/v1/chat/completions \"HTTP/1.1 200 OK\"\n"
     ]
    },
    {
     "name": "stdout",
     "output_type": "stream",
     "text": [
      "✓ Cached result for future use\n",
      "→ Processing new reconstruction with TextReconstructor\n"
     ]
    },
    {
     "name": "stderr",
     "output_type": "stream",
     "text": [
      "2025-06-12 17:56:22,821 - httpx - INFO - HTTP Request: POST https://api.mistral.ai/v1/chat/completions \"HTTP/1.1 200 OK\"\n"
     ]
    },
    {
     "name": "stdout",
     "output_type": "stream",
     "text": [
      "✓ Cached result for future use\n",
      "→ Processing new reconstruction with TextReconstructor\n"
     ]
    },
    {
     "name": "stderr",
     "output_type": "stream",
     "text": [
      "2025-06-12 17:56:27,939 - httpx - INFO - HTTP Request: POST https://api.mistral.ai/v1/chat/completions \"HTTP/1.1 200 OK\"\n"
     ]
    },
    {
     "name": "stdout",
     "output_type": "stream",
     "text": [
      "✓ Cached result for future use\n",
      "→ Processing new reconstruction with TextReconstructor\n"
     ]
    },
    {
     "name": "stderr",
     "output_type": "stream",
     "text": [
      "2025-06-12 17:56:30,069 - httpx - INFO - HTTP Request: POST https://api.mistral.ai/v1/chat/completions \"HTTP/1.1 200 OK\"\n",
      "2025-06-12 17:56:30,073 - bill_parser_engine.core.reference_resolver.text_reconstructor - WARNING - Deleted text not found in original article. Deleted: ', et notamment la désignation de l'autorité administrative, les conditions de délivrance, de renouve...'\n"
     ]
    },
    {
     "name": "stdout",
     "output_type": "stream",
     "text": [
      "✓ Cached result for future use\n",
      "→ Processing new reconstruction with TextReconstructor\n"
     ]
    },
    {
     "name": "stderr",
     "output_type": "stream",
     "text": [
      "2025-06-12 17:56:34,722 - httpx - INFO - HTTP Request: POST https://api.mistral.ai/v1/chat/completions \"HTTP/1.1 200 OK\"\n",
      "2025-06-12 17:56:34,726 - bill_parser_engine.core.reference_resolver.text_reconstructor - WARNING - Deleted text not found in original article. Deleted: 'auprès desquelles la redevance pour pollutions diffuses est exigible, mentionnées au IV de l'article...'\n"
     ]
    },
    {
     "name": "stdout",
     "output_type": "stream",
     "text": [
      "✓ Cached result for future use\n",
      "→ Processing new reconstruction with TextReconstructor\n"
     ]
    },
    {
     "name": "stderr",
     "output_type": "stream",
     "text": [
      "2025-06-12 17:56:41,149 - httpx - INFO - HTTP Request: POST https://api.mistral.ai/v1/chat/completions \"HTTP/1.1 200 OK\"\n",
      "2025-06-12 17:56:41,154 - bill_parser_engine.core.reference_resolver.text_reconstructor - INFO - INSERT operation with empty original article for chunk # TITRE Iᴱᴿ::Article 1ᵉʳ::7°\n"
     ]
    },
    {
     "name": "stdout",
     "output_type": "stream",
     "text": [
      "✓ Cached result for future use\n",
      "→ Processing new reconstruction with TextReconstructor\n"
     ]
    },
    {
     "name": "stderr",
     "output_type": "stream",
     "text": [
      "2025-06-12 17:56:42,891 - httpx - INFO - HTTP Request: POST https://api.mistral.ai/v1/chat/completions \"HTTP/1.1 200 OK\"\n"
     ]
    },
    {
     "name": "stdout",
     "output_type": "stream",
     "text": [
      "✓ Cached result for future use\n",
      "→ Processing new reconstruction with TextReconstructor\n",
      "⏱️ TextReconstructor: Waiting 0.3s for rate limiting...\n"
     ]
    },
    {
     "name": "stderr",
     "output_type": "stream",
     "text": [
      "2025-06-12 17:56:49,169 - httpx - INFO - HTTP Request: POST https://api.mistral.ai/v1/chat/completions \"HTTP/1.1 200 OK\"\n",
      "2025-06-12 17:56:49,172 - bill_parser_engine.core.reference_resolver.text_reconstructor - ERROR - Failed to parse JSON response: Expecting value: line 607 column 1 (char 632)\n",
      "2025-06-12 17:56:49,173 - bill_parser_engine.core.reference_resolver.pipeline - ERROR - Error processing chunk # TITRE Iᴱᴿ::Article 2::I::2°: TextReconstructor failed to parse API response: Expecting value: line 607 column 1 (char 632)\n"
     ]
    },
    {
     "name": "stdout",
     "output_type": "stream",
     "text": [
      "→ Processing new reconstruction with TextReconstructor\n"
     ]
    },
    {
     "name": "stderr",
     "output_type": "stream",
     "text": [
      "2025-06-12 17:56:51,388 - httpx - INFO - HTTP Request: POST https://api.mistral.ai/v1/chat/completions \"HTTP/1.1 200 OK\"\n"
     ]
    },
    {
     "name": "stdout",
     "output_type": "stream",
     "text": [
      "✓ Cached result for future use\n",
      "→ Processing new reconstruction with TextReconstructor\n"
     ]
    },
    {
     "name": "stderr",
     "output_type": "stream",
     "text": [
      "2025-06-12 17:57:00,140 - httpx - INFO - HTTP Request: POST https://api.mistral.ai/v1/chat/completions \"HTTP/1.1 200 OK\"\n"
     ]
    },
    {
     "name": "stdout",
     "output_type": "stream",
     "text": [
      "✓ Cached result for future use\n",
      "→ Processing new reconstruction with TextReconstructor\n"
     ]
    },
    {
     "name": "stderr",
     "output_type": "stream",
     "text": [
      "2025-06-12 17:57:27,564 - httpx - INFO - HTTP Request: POST https://api.mistral.ai/v1/chat/completions \"HTTP/1.1 200 OK\"\n"
     ]
    },
    {
     "name": "stdout",
     "output_type": "stream",
     "text": [
      "✓ Cached result for future use\n",
      "→ Processing new reconstruction with TextReconstructor\n"
     ]
    },
    {
     "name": "stderr",
     "output_type": "stream",
     "text": [
      "2025-06-12 17:57:28,221 - httpx - INFO - HTTP Request: POST https://api.mistral.ai/v1/chat/completions \"HTTP/1.1 200 OK\"\n",
      "2025-06-12 17:57:28,226 - bill_parser_engine.core.reference_resolver.text_reconstructor - INFO - INSERT operation with empty original article for chunk # TITRE Iᴱᴿ::Article 2::II::4°\n"
     ]
    },
    {
     "name": "stdout",
     "output_type": "stream",
     "text": [
      "✓ Cached result for future use\n",
      "→ Processing new reconstruction with TextReconstructor\n",
      "⏱️ TextReconstructor: Waiting 1.4s for rate limiting...\n"
     ]
    },
    {
     "name": "stderr",
     "output_type": "stream",
     "text": [
      "2025-06-12 17:57:32,583 - httpx - INFO - HTTP Request: POST https://api.mistral.ai/v1/chat/completions \"HTTP/1.1 200 OK\"\n"
     ]
    },
    {
     "name": "stdout",
     "output_type": "stream",
     "text": [
      "✓ Cached result for future use\n",
      "→ Processing new reconstruction with TextReconstructor\n"
     ]
    },
    {
     "name": "stderr",
     "output_type": "stream",
     "text": [
      "2025-06-12 17:57:46,790 - httpx - INFO - HTTP Request: POST https://api.mistral.ai/v1/chat/completions \"HTTP/1.1 200 OK\"\n"
     ]
    },
    {
     "name": "stdout",
     "output_type": "stream",
     "text": [
      "✓ Cached result for future use\n",
      "→ Processing new reconstruction with TextReconstructor\n"
     ]
    },
    {
     "name": "stderr",
     "output_type": "stream",
     "text": [
      "2025-06-12 17:57:55,286 - httpx - INFO - HTTP Request: POST https://api.mistral.ai/v1/chat/completions \"HTTP/1.1 200 OK\"\n"
     ]
    },
    {
     "name": "stdout",
     "output_type": "stream",
     "text": [
      "✓ Cached result for future use\n",
      "→ Processing new reconstruction with TextReconstructor\n"
     ]
    },
    {
     "name": "stderr",
     "output_type": "stream",
     "text": [
      "2025-06-12 17:58:01,226 - httpx - INFO - HTTP Request: POST https://api.mistral.ai/v1/chat/completions \"HTTP/1.1 200 OK\"\n",
      "2025-06-12 17:58:01,233 - bill_parser_engine.core.reference_resolver.text_reconstructor - INFO - INSERT operation with empty original article for chunk # TITRE III::Article 5::1° bis\n"
     ]
    },
    {
     "name": "stdout",
     "output_type": "stream",
     "text": [
      "✓ Cached result for future use\n",
      "→ Processing new reconstruction with TextReconstructor\n"
     ]
    },
    {
     "name": "stderr",
     "output_type": "stream",
     "text": [
      "2025-06-12 17:58:02,693 - httpx - INFO - HTTP Request: POST https://api.mistral.ai/v1/chat/completions \"HTTP/1.1 200 OK\"\n"
     ]
    },
    {
     "name": "stdout",
     "output_type": "stream",
     "text": [
      "✓ Cached result for future use\n",
      "→ Processing new reconstruction with TextReconstructor\n",
      "⏱️ TextReconstructor: Waiting 0.5s for rate limiting...\n"
     ]
    },
    {
     "name": "stderr",
     "output_type": "stream",
     "text": [
      "2025-06-12 17:58:05,737 - httpx - INFO - HTTP Request: POST https://api.mistral.ai/v1/chat/completions \"HTTP/1.1 200 OK\"\n",
      "2025-06-12 17:58:05,754 - bill_parser_engine.core.reference_resolver.text_reconstructor - INFO - INSERT operation with empty original article for chunk # TITRE III::Article 5::7°\n"
     ]
    },
    {
     "name": "stdout",
     "output_type": "stream",
     "text": [
      "✓ Cached result for future use\n",
      "→ Processing new reconstruction with TextReconstructor\n"
     ]
    },
    {
     "name": "stderr",
     "output_type": "stream",
     "text": [
      "2025-06-12 17:58:07,349 - httpx - INFO - HTTP Request: POST https://api.mistral.ai/v1/chat/completions \"HTTP/1.1 200 OK\"\n"
     ]
    },
    {
     "name": "stdout",
     "output_type": "stream",
     "text": [
      "✓ Cached result for future use\n",
      "→ Processing new reconstruction with TextReconstructor\n",
      "⏱️ TextReconstructor: Waiting 0.4s for rate limiting...\n"
     ]
    },
    {
     "name": "stderr",
     "output_type": "stream",
     "text": [
      "2025-06-12 17:58:18,691 - httpx - INFO - HTTP Request: POST https://api.mistral.ai/v1/chat/completions \"HTTP/1.1 200 OK\"\n"
     ]
    },
    {
     "name": "stdout",
     "output_type": "stream",
     "text": [
      "✓ Cached result for future use\n",
      "→ Processing new reconstruction with TextReconstructor\n"
     ]
    },
    {
     "name": "stderr",
     "output_type": "stream",
     "text": [
      "2025-06-12 17:58:20,489 - httpx - INFO - HTTP Request: POST https://api.mistral.ai/v1/chat/completions \"HTTP/1.1 200 OK\"\n",
      "2025-06-12 17:58:20,494 - bill_parser_engine.core.reference_resolver.text_reconstructor - INFO - INSERT operation with empty original article for chunk # TITRE IV::Article 6::I::3°\n"
     ]
    },
    {
     "name": "stdout",
     "output_type": "stream",
     "text": [
      "✓ Cached result for future use\n",
      "→ Processing new reconstruction with TextReconstructor\n",
      "⏱️ TextReconstructor: Waiting 0.2s for rate limiting...\n"
     ]
    },
    {
     "name": "stderr",
     "output_type": "stream",
     "text": [
      "2025-06-12 17:58:24,982 - httpx - INFO - HTTP Request: POST https://api.mistral.ai/v1/chat/completions \"HTTP/1.1 200 OK\"\n"
     ]
    },
    {
     "name": "stdout",
     "output_type": "stream",
     "text": [
      "✓ Cached result for future use\n",
      "→ Processing new reconstruction with TextReconstructor\n"
     ]
    },
    {
     "name": "stderr",
     "output_type": "stream",
     "text": [
      "2025-06-12 17:58:28,874 - httpx - INFO - HTTP Request: POST https://api.mistral.ai/v1/chat/completions \"HTTP/1.1 200 OK\"\n",
      "2025-06-12 17:58:28,878 - bill_parser_engine.core.reference_resolver.text_reconstructor - WARNING - Deleted text not found in original article. Deleted: 'végaux, notamment dans le cadre de la lutte biologique, sont soumises à une autorisation préalable. ...'\n",
      "2025-06-12 17:58:28,882 - bill_parser_engine.core.reference_resolver.pipeline - INFO - Text reconstruction complete: 26/46 successful reconstructions\n"
     ]
    },
    {
     "name": "stdout",
     "output_type": "stream",
     "text": [
      "✓ Cached result for future use\n"
     ]
    }
   ],
   "source": [
    "reconstruction_results = pipeline.step_4_reconstruct_texts()\n"
   ]
  },
  {
   "cell_type": "code",
   "execution_count": null,
   "id": "db489fa6-506b-482e-84f7-9a3a80e83298",
   "metadata": {},
   "outputs": [],
   "source": []
  },
  {
   "cell_type": "code",
   "execution_count": 31,
   "id": "32fcf303-96f1-4a7d-b437-e668af40ccd4",
   "metadata": {},
   "outputs": [
    {
     "data": {
      "text/plain": [
       "{'article_key': 'code rural et de la pêche maritime::L. 254-1-2',\n",
       " 'code': 'code rural et de la pêche maritime',\n",
       " 'article': 'L. 254-1-2',\n",
       " 'operation_type': 'MODIFY',\n",
       " 'original_text': \"Un membre d'un organe de surveillance, d'administration et de direction d'une personne morale exerçant une activité mentionnée au 3° du II de l'article L. 254-1 ne peut être membre d'un de ces mêmes organes d'une personne morale exerçant une activité mentionnée aux 1° ou 2° du même II ou au IV du même article et un membre d'un organe de surveillance, d'administration et de direction d'une personne morale exerçant une activité mentionnée aux 1° ou 2° de ce II ou à ce IV de ce même article ne peut être membre d'un de ces mêmes organes d'une personne morale exerçant une activité mentionnée au 3° de ce II. Toutefois, une personne membre d'un organe de surveillance, d'administration ou de direction d'une personne morale exerçant une activité mentionnée aux 1° ou 2° du II de l'article L. 254-1 peut détenir, dans un établissement mentionné à l' article L. 510-1 bénéficiant d'un agrément pour les activités mentionnées au 3° du II de l'article L. 254-1, un mandat de président, de membre du bureau ou de membre du conseil d'administration de Chambres d'agriculture France. Cette personne ne participe ni aux travaux ni aux délibérations concernant l'activité de conseil à l'utilisation de produits phytopharmaceutiques.\",\n",
       " 'text_length': 1224,\n",
       " 'retrieval_metadata': {'source': 'pylegifrance', 'success': True},\n",
       " 'retrieved_at': '2025-06-12T17:55:35.437315'}"
      ]
     },
     "execution_count": 31,
     "metadata": {},
     "output_type": "execute_result"
    }
   ],
   "source": [
    "retrieval_results[2]"
   ]
  },
  {
   "cell_type": "code",
   "execution_count": null,
   "id": "4268e70f-581c-41c3-8922-1dbc13b9c56f",
   "metadata": {},
   "outputs": [],
   "source": []
  },
  {
   "cell_type": "code",
   "execution_count": 33,
   "id": "71ebd968-d2d0-4b37-a370-180e70992069",
   "metadata": {},
   "outputs": [
    {
     "data": {
      "text/plain": [
       "{'chunk_id': '# TITRE Iᴱᴿ::Article 1ᵉʳ::3° ter',\n",
       " 'chunk_text_preview': \"3° ter (nouveau) L'article L. 254-1-2 est ainsi modifié :\\n\\n\\ta) Le premier alinéa est ainsi modifié :...\",\n",
       " 'hierarchy_path': ['# TITRE Iᴱᴿ', 'Article 1ᵉʳ', '3° ter'],\n",
       " 'target_article': {'operation_type': 'MODIFY',\n",
       "  'code': 'code rural et de la pêche maritime',\n",
       "  'article': 'L. 254-1-2',\n",
       "  'confidence': 0.98,\n",
       "  'raw_text': \"L'article L. 254-1-2 est ainsi modifié\"},\n",
       " 'reconstruction_result': {'deleted_or_replaced_text': \"mentionnée aux 1° ou 2° du même II ou au IV du même article, mentionnée aux 1° ou 2° de ce II ou à ce IV de ce même article, de ce II. Toutefois, une personne membre d'un organe de surveillance, d'administration ou de direction d'une personne morale exerçant une activité mentionnée aux 1° ou 2° du II de l'article L. 254-1 peut détenir, dans un établissement mentionné à l' article L. 510-1 bénéficiant d'un agrément pour les activités mentionnées au 3° du II de l'article L. 254-1, un mandat de président, de membre du bureau ou de membre du conseil d'administration de Chambres d'agriculture France. Cette personne ne participe ni aux travaux ni aux délibérations concernant l'activité de conseil à l'utilisation de produits phytopharmaceutiques.\",\n",
       "  'intermediate_after_state_text': \"Un membre d'un organe de surveillance, d'administration et de direction d'une personne morale exerçant une activité de producteur au sens du 11 de l'article 3 du règlement (CE) n° 1107/2009 du 21 octobre 2009 ne peut être membre d'un de ces mêmes organes d'une personne morale exerçant une activité de producteur au sens du même 11 et un membre d'un organe de surveillance, d'administration et de direction d'une personne morale exerçant une activité de producteur au sens du même 11 ne peut être membre d'un de ces mêmes organes d'une personne morale exerçant une activité mentionnée au 3° du II de l'article L. 254-1.\",\n",
       "  'deleted_text_length': 749,\n",
       "  'after_state_length': 619},\n",
       " 'original_text_used': {'article_key': 'code rural et de la pêche maritime::L. 254-1-2',\n",
       "  'text_length': 1224,\n",
       "  'text_preview': \"Un membre d'un organe de surveillance, d'administration et de direction d'une personne morale exerça...\"},\n",
       " 'reconstructed_at': '2025-06-12T17:56:03.992680'}"
      ]
     },
     "execution_count": 33,
     "metadata": {},
     "output_type": "execute_result"
    }
   ],
   "source": [
    "reconstruction_results[4]"
   ]
  },
  {
   "cell_type": "code",
   "execution_count": null,
   "id": "6bf1f6a0-11c2-4862-98d2-ec867d35905f",
   "metadata": {},
   "outputs": [],
   "source": []
  },
  {
   "cell_type": "code",
   "execution_count": null,
   "id": "a0adbab7-d2ed-4621-9d8a-a11227b9d103",
   "metadata": {},
   "outputs": [],
   "source": []
  },
  {
   "cell_type": "code",
   "execution_count": 15,
   "id": "3be91b97-3a28-4a81-8107-38135871b19b",
   "metadata": {},
   "outputs": [
    {
     "data": {
      "text/plain": [
       "BillChunk(text='1° (Supprimé)', titre_text='# TITRE Iᴱᴿ', article_label='Article 1ᵉʳ', article_introductory_phrase='Le code rural et de la pêche maritime est ainsi modifié :', major_subdivision_label=None, major_subdivision_introductory_phrase=None, numbered_point_label='1°', hierarchy_path=['# TITRE Iᴱᴿ', 'Article 1ᵉʳ', '1°'], chunk_id='# TITRE Iᴱᴿ::Article 1ᵉʳ::1°', start_pos=565, end_pos=580, cross_references=[], target_article=TargetArticle(operation_type=<TargetOperationType.ABROGATE: 'ABROGATE'>, code='code rural et de la pêche maritime', article=None, confidence=0.8, raw_text='1° (Supprimé)', full_citation=None, version=None))"
      ]
     },
     "execution_count": 15,
     "metadata": {},
     "output_type": "execute_result"
    }
   ],
   "source": [
    "enriched_chunks = pipeline._enrich_chunks_with_target_articles()\n",
    "enriched_chunks[0]"
   ]
  },
  {
   "cell_type": "code",
   "execution_count": 17,
   "id": "cbc094d1-5c3e-4dc7-8894-42f3d9d64ba5",
   "metadata": {
    "scrolled": true
   },
   "outputs": [
    {
     "data": {
      "text/plain": [
       "{'code rural et de la pêche maritime::L. 254-1': \"I.-Les produits phytopharmaceutiques mentionnés au présent chapitre sont ceux définis au 1 de l'article 2 du règlement (CE) n° 1107/2009. II.-Est subordonné à la détention d'un agrément l'exercice des activités suivantes : 1° La mise en vente, la vente ou la distribution à titre gratuit des produits phytopharmaceutiques aux utilisateurs de ces produits ou aux personnes physiques ou morales agissant pour leur compte, y compris les groupements d'achats ; 2° L'application, en qualité de prestataire de services, des produits phytopharmaceutiques, sauf si elle est effectuée dans le cadre de contrats d'entraide à titre gratuit au sens de l'article L. 325-1 ou par un exploitant agricole titulaire du certificat mentionné au II de l'article L. 254-3 sur des exploitations dont la surface agricole utile est inférieure ou égale à la surface définie en application du premier alinéa du V de l'article L. 732-39 , ou si les produits appliqués sont des produits de biocontrôle définis à l'article L. 253-6 et ne faisant pas l'objet d'une classification mentionnée à l'article L. 253-4 ou si ces produits sont des produits à faible risque au sens de l'article 47 du règlement (CE) n° 1107/2009 du 21 octobre 2009 ou s'ils sont uniquement composés de substances de base au sens de l'article 23 du même règlement. 3° Le conseil prévu aux articles L. 254-6-2 et L. 254-6-3, lorsque cette activité s'exerce à titre professionnel. III.-Lorsque l'agrément est délivré à une personne morale, il l'est pour l'activité de l'ensemble de ses établissements ainsi que, si elle en fait la demande, pour l'activité d'établissements d'autres personnes morales au sein desquelles elle détient une participation financière, ou au bénéfice desquelles elle gère des services communs. Pour l'application du présent chapitre l'ensemble des établissements pour lesquels une entreprise sollicite un agrément sont regardés comme ses établissements. IV.-Les personnes qui mettent des produits phytopharmaceutiques sur le marché autres que celles exerçant les activités mentionnées au 1° du II justifient de l'obtention d'un certificat attestant qu'elles ont acquis les connaissances appropriées à leurs rôle et responsabilités ou de l'emploi d'une personne détenant ce certificat. V.-Les détenteurs de l'agrément mentionné au II, les personnes mentionnées au IV du présent article et les personnes physiques mentionnées au II de l'article L. 254-3 doivent concourir, dans le cadre de leurs activités, à la réalisation des objectifs du plan d'action national prévu à l'article L. 253-6, notamment par la mise en œuvre de la lutte intégrée contre les ennemis des cultures. VI.-L'exercice de l'activité de conseil mentionnée au 3° du II est incompatible avec celui des activités mentionnées aux 1° ou 2° du II ou au IV. Toutefois, cette incompatibilité ne fait pas obstacle à ce que les personnes exerçant les activités mentionnées au 1° du II délivrent les informations énumérées au premier alinéa de l'article L. 254-7, ni à ce qu'elles promeuvent, mettent en place ou facilitent la mise en œuvre des actions tendant à la réduction de l'utilisation de produits phytopharmaceutiques prévues à l'article L. 254-10-1 .\",\n",
       " 'code rural et de la pêche maritime::L. 254-1-1': \"I.-Ne peut excéder 10 % : 1° La part du capital d'une personne morale exerçant une activité mentionnée au 3° du II de l'article L. 254-1 détenue, directement ou indirectement, par une personne exerçant une activité mentionnée aux 1° ou 2° du même II ou au IV du même article ; 2° La part du capital d'une personne morale exerçant une activité mentionnée aux 1° ou 2° du II ou au IV de l'article L. 254-1 détenue, directement ou indirectement, par une personne exerçant une activité mentionnée au 3° de ce II ; 3° La part détenue, directement ou indirectement, dans le capital des personnes morales exerçant une activité mentionnée, d'une part, au 3° du II de l'article L. 254-1 et, d'autre part, aux 1° ou 2° du même II ou au IV du même article, par un actionnaire ou associé commun, sans que celui-ci puisse être actionnaire majoritaire ou de référence. II.-Ne peut excéder 32 % : 1° La part cumulée du capital d'une personne morale exerçant une activité mentionnée au 3° du II de l'article L. 254-1 détenue, directement ou indirectement, par des personnes exerçant une activité mentionnée aux 1° ou 2° du même II ou au IV du même article ; 2° La part cumulée du capital d'une personne morale exerçant une activité mentionnée aux 1° ou 2° du II ou au IV de l'article L. 254-1 détenue, directement ou indirectement, par des personnes exerçant une activité mentionnée au 3° de ce II. III.-Les seuils mentionnés aux I et II s'appliquent également aux droits de vote.\",\n",
       " 'code rural et de la pêche maritime::L. 254-1-2': \"Un membre d'un organe de surveillance, d'administration et de direction d'une personne morale exerçant une activité mentionnée au 3° du II de l'article L. 254-1 ne peut être membre d'un de ces mêmes organes d'une personne morale exerçant une activité mentionnée aux 1° ou 2° du même II ou au IV du même article et un membre d'un organe de surveillance, d'administration et de direction d'une personne morale exerçant une activité mentionnée aux 1° ou 2° de ce II ou à ce IV de ce même article ne peut être membre d'un de ces mêmes organes d'une personne morale exerçant une activité mentionnée au 3° de ce II. Toutefois, une personne membre d'un organe de surveillance, d'administration ou de direction d'une personne morale exerçant une activité mentionnée aux 1° ou 2° du II de l'article L. 254-1 peut détenir, dans un établissement mentionné à l' article L. 510-1 bénéficiant d'un agrément pour les activités mentionnées au 3° du II de l'article L. 254-1, un mandat de président, de membre du bureau ou de membre du conseil d'administration de Chambres d'agriculture France. Cette personne ne participe ni aux travaux ni aux délibérations concernant l'activité de conseil à l'utilisation de produits phytopharmaceutiques.\",\n",
       " 'code rural et de la pêche maritime::L. 254-1-3': \"I.-Une personne physique exerçant une activité mentionnée au 3° du II de l'article L. 254-1 ne peut être également employée par une personne exerçant une activité mentionnée aux 1° ou 2° du même II ou au IV de ce même article. II.-L'activité mentionnée au 3° du II de l'article L. 254-1 ne peut pas être rémunérée par des personnes exerçant les activités mentionnées aux 1° ou 2° du même II ou au IV du même article.\",\n",
       " 'code rural et de la pêche maritime::L. 254-2': \"I.-L'agrément est délivré par l'autorité administrative à toute personne physique ou morale qui en fait la demande et qui justifie : 1° De la souscription d'une police d'assurance couvrant sa responsabilité civile professionnelle ; 2° De la certification par un organisme tiers, reconnu par l'autorité administrative, qu'elle exerce son activité dans des conditions garantissant la protection de la santé publique et de l'environnement ainsi que la bonne information de l'utilisateur et qu'elle respecte les dispositions des articles L. 254-1-1 à L. 254-1-3 ; 3° De la conclusion avec un organisme tiers, reconnu par l'autorité administrative, d'un contrat prévoyant le suivi nécessaire au maintien de la certification. Pour les personnes agréées au titre des activités mentionnées aux 1° et 2° du II de l'article L. 254-1 , la certification mentionnée au 2° garantit qu'elles ont mis en œuvre les moyens nécessaires pour satisfaire aux obligations mentionnées à l'article L. 254-10-1 . Pour les personnes agréées au titre des activités mentionnées au 3° du II de l'article L. 254-1, la certification mentionnée au 2° garantit leur contribution effective, dans les conditions prévues à l'article L. 254-6-4, aux objectifs du plan mentionné à l'article L. 253-6 et au dispositif des certificats d'économie des produits phytopharmaceutiques prévu à l'article L. 254-10. II.-Les personnes qui débutent leur activité sollicitent un agrément provisoire pour son exercice. Cet agrément provisoire est délivré par l'autorité administrative, pour une durée de six mois non renouvelable, si le demandeur justifie du respect des conditions prévues aux 1° et 3° du I et de l'obtention de l'avis favorable d'un organisme tiers tel que mentionné au 2° du I.\",\n",
       " 'code rural et de la pêche maritime::L. 254-6-2': \"I.-Le conseil stratégique à l'utilisation de produits phytopharmaceutiques a pour objet de fournir aux décideurs des entreprises utilisatrices de produits phytopharmaceutiques non soumises à l'un des agréments prévus à l'article L. 254-1 , les éléments leur permettant de définir une stratégie pour la protection des végétaux ou pour tout autre usage prévu au 1 de l'article 2 du règlement (CE) n° 1107/2009 du Parlement européen et du Conseil du 21 octobre 2009 pouvant nécessiter le recours à des produits phytopharmaceutiques. Il est fondé sur un diagnostic comportant une analyse des spécificités pédo-climatiques, sanitaires et environnementales des espaces concernés. Pour les exploitations agricoles, ce diagnostic prend également en compte l'organisation et la situation économique de l'exploitation et comporte une analyse des moyens humains et matériels disponibles, ainsi que des cultures et des précédents culturaux et de l'évolution des pratiques phytosanitaires. Le diagnostic est périodiquement actualisé. Chacune de ses versions est conservée par l'utilisateur et par la personne agréée qui l'a établi pendant une durée fixée par décret dans la limite de dix ans. II.-Le conseil stratégique à l'utilisation de produits phytopharmaceutiques est formalisé par écrit. Il est conservé par l'utilisateur et par la personne agréée qui l'a délivré pendant une durée fixée par décret dans la limite de dix ans. Dans toute entreprise utilisatrice de produits phytopharmaceutiques non soumise à l'un des agréments prévus à l'article L. 254-1, toute personne qui décide des traitements phytopharmaceutiques doit être en mesure de justifier s'être fait délivrer des conseils stratégiques selon une périodicité définie par voie réglementaire, dans la limite maximale de trois ans entre deux conseils. Cette justification est exigée pour le renouvellement du certificat mentionné au II de l'article L. 254-3 dans des conditions fixées par décret. Le contenu du conseil stratégique est allégé et le délai entre deux conseils augmenté, dans des conditions définies par voie réglementaire, pour les utilisateurs professionnels dont les surfaces susceptibles d'être traitées par des produits phytopharmaceutiques sont de dimensions réduites, inférieures à des plafonds déterminés en fonction de la nature des cultures pour les exploitants agricoles et des usages pour les autres utilisateurs. III.-La délivrance du conseil n'est pas requise : 1° Lorsque l'entreprise n'utilise que des produits de biocontrôle figurant sur la liste prévue à l'article L. 253-5 , des produits composés uniquement de substances de base ou des produits à faible risque au sens du règlement (CE) n° 1107/2009 du Parlement européen et du Conseil du 21 octobre 2009 et les produits nécessaires aux traitements prescrits pour lutter contre les organismes figurant sur la liste établie en application de l'article L. 251-3 ; 2° Lorsque l'exploitation agricole au bénéfice de laquelle sont utilisés des produits phytopharmaceutiques est engagée, pour la totalité des surfaces d'exploitation, dans une démarche ou une pratique ayant des incidences favorables sur la réduction de l'usage et des impacts des produits phytopharmaceutiques et figurant sur une liste établie par arrêté conjoint des ministres chargés de l'agriculture et de l'environnement.\",\n",
       " 'code rural et de la pêche maritime::L. 254-6-4': \"Les conseils mentionnés aux articles L. 254-6-2 et L. 254-6-3 s'inscrivent dans un objectif de réduction de l'usage et des impacts des produits phytopharmaceutiques et respectent les principes généraux de la lutte intégrée contre les ennemis des cultures mentionnée à l'article L. 253-6 . A ce titre, ils privilégient des méthodes alternatives. Si nécessaire, ils recommandent les produits phytopharmaceutiques adaptés. Ils promeuvent les actions mentionnées à l'article L. 254-10-1 . Ils tiennent compte des enjeux environnementaux présents dans l'aire d'activité de l'utilisateur professionnel et des modalités de leur préservation en cas d'utilisation de produits phytopharmaceutiques. Constituent des méthodes alternatives au sens et pour l'application de l'alinéa précédent : 1° Les méthodes non chimiques au sens de l'article 3 du règlement (CE) n° 1107/2009 du Parlement européen et du Conseil du 21 octobre 2009 ; 2° L'utilisation des produits de biocontrôle figurant sur la liste prévue à l'article L. 253-5 ou de produits composés uniquement de substances de base au sens de l'article 23 du règlement (CE) n° 1107/2009 du 21 octobre 2009 ou de produits à faible risque au sens de l'article 47 du même règlement.\",\n",
       " 'code rural et de la pêche maritime::L. 254-7-1': \"Les modalités d'application de la présente section, et notamment la désignation de l'autorité administrative, les conditions de délivrance, de renouvellement, de suspension, de modulation et de retrait des agréments, des certificats ainsi que des habilitations des organismes sont déterminées par décret en Conseil d'Etat. Ce décret prévoit les modalités particulières de cession des produits phytopharmaceutiques aux utilisateurs non professionnels. Il définit également les conditions dans lesquelles les microdistributeurs peuvent être dispensés de tout ou partie des obligations mentionnées aux 2° et 3° du I de l'article L. 254-2 et à l'article L. 254-3 , dans le seul cadre de ventes de produits destinés à un usage non professionnel ou lorsque celles-ci concernent uniquement soit des préparations naturelles peu préoccupantes constituées exclusivement d'une ou plusieurs substances de base, soit des produits à faible risque. Il précise le contenu du conseil mentionné à l'article L. 254-6-2 et en détermine la fréquence, ainsi que le délai dans lequel le diagnostic mentionné au deuxième alinéa du I de ce même article doit être actualisé.\",\n",
       " 'code rural et de la pêche maritime::L. 254-10-1': \"I.-Sont soumises à des obligations de réalisation d'actions tendant à la réduction de l'utilisation de produits phytopharmaceutiques les personnes auprès desquelles la redevance pour pollutions diffuses est exigible, mentionnées au IV de l'article L. 213-10-8 du code de l'environnement . Ces personnes sont dénommées les “ obligés ”. L'obligé est tenu de mettre en place des actions visant à la réalisation d'économies de produits phytopharmaceutiques ou de faciliter la mise en œuvre de telles actions. II.-L'autorité administrative notifie à chaque obligé pour les périodes du 1er janvier 2020 au 31 décembre 2020 et du 1er janvier 2021 au 31 décembre 2021, puis, à compter du 1er janvier 2022, pour chaque période successive d'une durée fixée par décret en Conseil d'Etat, dans la limite de quatre ans, l'obligation de réalisation d'actions qui lui incombe en vertu de la présente section compte tenu des quantités de produits phytopharmaceutiques qu'il a déclarées en application des articles L. 213-10-8 et L. 213-11 du code de l'environnement. Cette obligation est proportionnelle aux quantités de chaque substance active contenues dans ces produits phytopharmaceutiques, pondérées, dans des conditions fixées par décret en Conseil d'Etat, par des coefficients liés soit aux caractéristiques d'emploi de ces produits, soit aux dangers des substances actives qu'ils contiennent. Elle est exprimée en nombre de certificats d'économie de produits phytopharmaceutiques.\",\n",
       " 'code rural et de la pêche maritime::L. 254-12': \"I.-Est puni d'un emprisonnement de six mois et d'une amende de 15 000 € : 1° Le fait d'exercer l'une des activités visées à l'article L. 254-1 sans justifier de la détention de l'agrément ; 2° Le fait, pour le détenteur de l'agrément, d'exercer l'une des activités visées à l'article L. 254-1 sans satisfaire aux conditions exigées par l'article L. 254-2 ou par l'article L. 254-5 . II.-Les personnes physiques coupables de l'une des infractions mentionnées au présent article encourent également la peine complémentaire d'affichage et de diffusion de la décision dans les conditions prévues par l'article 131-35 du code pénal. Les personnes morales déclarées coupables pénalement dans les conditions prévues à l'article 121-2 du même code des infractions définies au présent article encourent, outre l'amende suivant les modalités prévues à l'article 131-38 du code pénal, la peine prévue au 9° de l'article 131-39 du même code. III.-Lorsqu'elles sont commises en bande organisée, les infractions prévues au I sont punies de sept ans d'emprisonnement et 150 000 € d'amende.\",\n",
       " 'code rural et de la pêche maritime::L. 500-1': '',\n",
       " 'code de la santé publique::L. 1313-5': \"L'établissement est dirigé par un directeur général nommé par décret. Le directeur général émet les avis et recommandations relevant de la compétence de l'agence et prend, au nom de l'Etat, les décisions qui relèvent de celle-ci en application du titre IV du livre Ier de la cinquième partie et des onzième, douzième, treizième et quatorzième alinéas de l'article L. 1313-1. Les décisions prises par le directeur général en application du présent article ne sont susceptibles d'aucun recours hiérarchique. Toutefois, le ministre chargé de l'agriculture peut s'opposer, par arrêté motivé, à une décision du directeur général prise en application du onzième alinéa de l'article L. 1313-1 et lui demander de procéder, dans un délai de trente jours, à un nouvel examen du dossier ayant servi de fondement à sa décision. Cette opposition suspend l'application de cette décision. Les ministres chargés de la santé et de l'agriculture peuvent s'opposer, dans les mêmes conditions, aux décisions prises en application du dixième alinéa du même article L. 1313-1. Le ministre chargé de l'environnement ou le ministre chargé du travail peuvent s'opposer, dans les mêmes conditions, aux décisions prises en application du douzième alinéa de cet article. Le ministre chargé de la santé peut s'opposer, dans les mêmes conditions, aux décisions prises en application du treizième alinéa de cet article.\",\n",
       " 'code de la santé publique::L. 1313-6-1': \"Un comité de suivi des autorisations de mise sur le marché, composé dans des conditions fixées par décret, est constitué au sein de l'agence. Le directeur général de l'agence peut, avant toute décision, consulter le comité de suivi des autorisations de mise sur le marché sur les conditions de mise en œuvre des autorisations de mise sur le marché des produits phytopharmaceutiques et adjuvants mentionnés à l' article L. 253-1 du code rural et de la pêche maritime , des produits biocides mentionnés à l'article L. 522-1 du code de l'environnement et des matières fertilisantes et supports de culture en application du onzième alinéa de l'article L. 1313-1 du présent code. Les procès-verbaux des réunions du comité de suivi des autorisations de mise sur le marché sont rendus publics.\",\n",
       " 'code rural et de la pêche maritime::L. 253-1': \"Les conditions dans lesquelles la mise sur le marché et l'utilisation des produits phytopharmaceutiques et des adjuvants vendus seuls ou en mélange et leur expérimentation sont autorisées, ainsi que les conditions selon lesquelles sont approuvés les substances actives, les coformulants, les phytoprotecteurs et les synergistes contenus dans ces produits, sont définies par le règlement (CE) n° 1107/2009 du Parlement européen et du Conseil du 21 octobre 2009 concernant la mise sur le marché des produits phytopharmaceutiques et abrogeant les directives 79/117/ CEE et 91/414/ CEE du Conseil, et par les dispositions du présent chapitre. Une préparation naturelle peu préoccupante est composée exclusivement soit de substances de base, au sens de l'article 23 du règlement (CE) n° 1107/2009 du Parlement européen et du Conseil, du 21 octobre 2009, concernant la mise sur le marché des produits phytopharmaceutiques et abrogeant les directives 79/117/ CEE et 91/414/ CEE du Conseil, soit de substances naturelles à usage biostimulant. Elle est obtenue par un procédé accessible à tout utilisateur final. Les substances naturelles à usage biostimulant sont autorisées selon une procédure et une évaluation simplifiées, dont les modalités sont fixées par voie réglementaire. La procédure et l'évaluation sont adaptées lorsque la demande d'autorisation porte sur la partie consommable d'une plante utilisée en alimentation animale ou humaine. Les délais d'évaluation et d'autorisation de mise sur le marché des produits de biocontrôle mentionnés à l'article L. 253-6 sont fixés par décret en Conseil d'Etat.\",\n",
       " 'code rural et de la pêche maritime::L. 253-8': \"I. - Sous réserve des I bis et I ter, la pulvérisation aérienne des produits phytopharmaceutiques est interdite. I bis. - A. - Pour lutter contre un danger sanitaire grave qui ne peut être maîtrisé par d'autres moyens, la pulvérisation aérienne de produits phytopharmaceutiques peut être autorisée temporairement par arrêté conjoint des ministres chargés de l'environnement, de l'agriculture et de la santé. B. - Lorsqu'ils présentent des avantages manifestes pour la santé humaine et pour l'environnement par rapport aux applications par voie terrestre, les programmes d'application par aéronef circulant sans personne à bord de produits phytopharmaceutiques de biocontrôle mentionnés à l'article L. 253-6 et figurant sur la liste mentionnée au IV de l'article L. 253-7, de produits autorisés en agriculture biologique et de produits à faible risque au sens de l'article 47 du règlement (CE) n° 1107/2009 du Parlement européen et du Conseil du 21 octobre 2009 concernant la mise sur le marché des produits phytopharmaceutiques et abrogeant les directives 79/117/ CEE et 91/414/ CEE du Conseil peuvent être autorisés sur les parcelles agricoles comportant une pente supérieure ou égale à 20 %, sur les bananeraies et sur les vignes mères de porte-greffes conduites au sol. Un arrêté des ministres chargés de l'environnement, de l'agriculture et de la santé, pris après avis de l'Agence nationale de sécurité sanitaire de l'alimentation, de l'environnement et du travail et après consultation des organisations professionnelles et syndicales représentant les exploitants et les salariés agricoles, définit les conditions d'autorisation de ces programmes dans les conditions prévues à l'article 9 de la directive 2009/128/ CE du Parlement européen et du Conseil du 21 octobre 2009 instaurant un cadre d'action communautaire pour parvenir à une utilisation des pesticides compatible avec le développement durable. I ter. - A. - Par dérogation au I, lorsqu'ils présentent des avantages manifestes pour la santé humaine et l'environnement par rapport aux applications par voie terrestre, des programmes d'application par aéronef circulant sans personne à bord de produits mentionnés au B du I bis peuvent être autorisés, dans les conditions fixées aux B et C du présent I ter, sur des parcelles et des cultures autres que celles mentionnées au B du I bis. B. - Les programmes mentionnés au A du présent I ter sont autorisés à titre d'essai pour une durée maximale de trois ans. Les essais visent à déterminer, pour un type de parcelle ou de culture, les avantages manifestes de la pulvérisation par aéronef circulant sans personne à bord, du point de vue des incidences sur la santé humaine et sur l'environnement, par rapport aux applications par voie terrestre. Leurs résultats sont évalués par l'Agence nationale de sécurité sanitaire de l'alimentation, de l'environnement et du travail. Ces évaluations sont présentées à l'Office parlementaire d'évaluation des choix scientifiques et technologiques. Un décret, pris après avis de l'Agence nationale de sécurité sanitaire de l'alimentation, de l'environnement et du travail, définit les conditions d'autorisation et les modalités de réalisation de ces essais ainsi que les modalités de transmission de leurs résultats à cette agence. C. - Un arrêté des ministres chargés de l'environnement, de l'agriculture et de la santé dresse la liste des types de parcelle ou de culture pour lesquelles les résultats des essais mentionnés au B montrent que la pulvérisation par aéronef circulant sans personne à bord est susceptible de présenter des avantages manifestes pour la santé humaine et pour l'environnement. Pour les types de parcelle ou de culture inscrits sur la liste mentionnée au premier alinéa du présent C, un programme d'application par aéronef circulant sans personne à bord peut être autorisé dans les conditions prévues au B du I bis. II. - L'utilisation de produits phytopharmaceutiques contenant une ou des substances actives de la famille des néonicotinoïdes ou présentant des modes d'action identiques à ceux de ces substances, précisées par décret, et des semences traitées avec ces produits est interdite. Jusqu'au 1er juillet 2023, des arrêtés conjoints des ministres chargés de l'agriculture et de l'environnement, pris après avis du conseil de surveillance mentionné au II bis, peuvent autoriser l'emploi de semences traitées avec des produits contenant les substances mentionnées au premier alinéa du présent II dont l'utilisation est interdite en application du droit de l'Union européenne ou du présent code. Ces dérogations sont accordées dans les conditions prévues à l'article 53 du règlement (CE) n° 1107/2009 du Parlement européen et du Conseil du 21 octobre 2009 concernant la mise sur le marché des produits phytopharmaceutiques et abrogeant les directives 79/117/ CEE et 91/414/ CEE du Conseil. Dans des conditions définies par les arrêtés mentionnés au deuxième alinéa du présent II, le semis, la plantation et la replantation de végétaux attractifs d'insectes pollinisateurs sont temporairement interdits après l'emploi de semences traitées avec des produits contenant les substances mentionnées au premier alinéa du présent II. II bis. - Il est créé un conseil de surveillance chargé du suivi et du contrôle de la recherche et de la mise en œuvre d'alternatives aux produits phytopharmaceutiques contenant une ou des substances actives de la famille des néonicotinoïdes ou présentant des modes d'action identiques à ceux de ces substances. Ce conseil comprend quatre députés, dont au moins un député membre de l'Office parlementaire d'évaluation des choix scientifiques et technologiques et un député membre d'un groupe d'opposition, et quatre sénateurs, dont au moins un sénateur membre de l'Office parlementaire d'évaluation des choix scientifiques et technologiques et un sénateur membre d'un groupe d'opposition, nommés respectivement par les présidents de l'Assemblée nationale et du Sénat ainsi que, notamment, des représentants des ministères chargés de l'environnement, de la santé et de l'agriculture, du Conseil économique, social et environnemental, d'associations de protection de l'environnement, des organisations syndicales à vocation générale d'exploitants agricoles, de l'interprofession apicole, de l'Institut technique et scientifique de l'apiculture et de la pollinisation, de l'Institut de l'agriculture et de l'alimentation biologiques, des établissements publics de recherche et, sur désignation du président du conseil, en fonction de l'ordre du jour, des représentants de la production et de la transformation et de l'Institut technique de la filière concernée et, le cas échéant, le délégué interministériel pour la filière. Les membres de ce conseil exercent leurs fonctions à titre gratuit. Sa composition, son organisation et son fonctionnement sont fixés par décret. Le conseil mentionné au premier alinéa du présent II bis se réunit trimestriellement pour assurer le contrôle des avancées et de l'efficacité des tests en matière de recherche et de mise en œuvre d'alternatives aux produits phytopharmaceutiques contenant une ou des substances actives de la famille des néonicotinoïdes ou présentant des modes d'action identiques à ceux de ces substances, ainsi que la conformité de ces avancées au plan de recherche sur les alternatives aux néonicotinoïdes de la filière concernée par un arrêté de dérogation mentionné au deuxième alinéa du II. Dans le cadre de la procédure de dérogation prévue au même deuxième alinéa, il émet un avis sur les dérogations, dans le respect d'un délai déterminé par décret, et assure le suivi et l'évaluation de leurs conséquences, notamment sur l'environnement, et de leur incidence économique sur la situation de la filière. Le conseil émet un avis et suit l'état d'avancement du plan de prévention proposé par la filière concernée, en veillant à ce que soient prévues les modalités de déploiement des solutions alternatives existantes en conditions réelles d'exploitation. Ce conseil publie un rapport annuel, remis chaque année avant le 15 octobre au Gouvernement et au Parlement. III. - A l'exclusion des produits de biocontrôle mentionnés au deuxième alinéa de l'article L. 253-6, des produits composés uniquement de substances de base ou de substances à faible risque au sens du règlement (CE) n° 1107/2009 du Parlement européen et du Conseil du 21 octobre 2009 concernant la mise sur le marché des produits phytopharmaceutiques et abrogeant les directives 79/117/ CEE et 91/414/ CEE du Conseil, l'utilisation des produits phytopharmaceutiques à proximité des zones attenantes aux bâtiments habités et aux parties non bâties à usage d'agrément contiguës à ces bâtiments est subordonnée à des mesures de protection des personnes habitant ces lieux. Ces mesures tiennent compte, notamment, des techniques et matériels d'application employés et sont adaptées au contexte topographique, pédoclimatique, environnemental et sanitaire. Les utilisateurs formalisent ces mesures dans une charte d'engagements à l'échelle départementale, après concertation avec les personnes, ou leurs représentants, habitant à proximité des zones susceptibles d'être traitées avec un produit phytopharmaceutique. Lorsque de telles mesures ne sont pas mises en place, ou dans l'intérêt de la santé publique, l'autorité administrative peut, sans préjudice des missions confiées à l'Agence nationale de sécurité sanitaire de l'alimentation, de l'environnement et du travail, restreindre ou interdire l'utilisation des produits phytopharmaceutiques à proximité des zones définies au premier alinéa du présent III. Un décret précise les conditions d'application du présent III. IV. - Sont interdits à compter du 1er janvier 2022 la production, le stockage et la circulation de produits phytopharmaceutiques contenant des substances actives non approuvées pour des raisons liées à la protection de la santé humaine ou animale ou de l'environnement conformément au règlement (CE) n° 1107/2009 du Parlement européen et du Conseil du 21 octobre 2009 précitée, sous réserve du respect des règles de l'Organisation mondiale du commerce.\",\n",
       " 'code rural et de la pêche maritime::L. 253-8-3': \"Les arrêtés mentionnés au deuxième alinéa du II de l'article L. 253-8 ne peuvent autoriser que l'emploi de semences de betteraves sucrières.\",\n",
       " 'code rural et de la pêche maritime::L. 253-8-4': '',\n",
       " \"code de l'environnement::L. 181-10-1\": \"I. - Dès la réception du dossier, l'autorité administrative saisit le président du tribunal administratif compétent en vue de la désignation, dans les conditions prévues aux articles L. 123-4 et L. 123-5, d'un commissaire enquêteur ou d'une commission d'enquête chargé de la consultation du public et respectivement d'un suppléant ou de plusieurs suppléants pouvant se substituer sans délai au commissaire enquêteur ou aux membres de la commission d'enquête en cas d'empêchement. Dès que le dossier est jugé complet et régulier et que le commissaire enquêteur ou la commission d'enquête est désigné, l'autorité administrative organise une consultation du public selon les modalités prévues aux II à V du présent article, sauf si la demande a déjà été rejetée dans les conditions prévues au quatrième alinéa de l'article L. 181-9. II. - La consultation mentionnée au second alinéa du I du présent article a pour objet d'assurer l'information et la participation du public ainsi que la prise en compte des intérêts des tiers lors de l'élaboration de la décision. Les observations et les propositions parvenues pendant la durée de la consultation sont prises en considération par le maître d'ouvrage et par l'autorité compétente pour prendre la décision. Le public est avisé de l'ouverture de la consultation selon les modalités prévues au II de l'article L. 123-19. La durée de la consultation est de trois mois ou, lorsque l'avis de l'autorité environnementale est requis, d'un mois de plus que le délai imparti à celle-ci pour rendre son avis. Le dossier de la consultation est constitué et mis à la disposition du public dans les conditions prévues au même II. L'étude d'impact, quand elle est requise, est mise à la disposition du public au plus tard à l'ouverture de la consultation. Les avis recueillis par l'administration sur la demande ou l'indication d'une absence d'avis résultant de l'expiration des délais impartis sont mis à la disposition du public sans délai au fur et à mesure de leur émission. III. - La consultation est conduite par le commissaire enquêteur ou la commission d'enquête de manière à permettre au public de disposer d'une information complète sur le projet et de participer effectivement au processus de décision. A cet effet : 1° Dans un délai de quinze jours à compter du début de la consultation, le commissaire enquêteur ou la commission d'enquête organise une réunion publique d'ouverture avec la participation du pétitionnaire ; 2° Le public peut faire parvenir ses observations et ses propositions, pendant la durée de la consultation, par courrier électronique, par voie postale ainsi que par toute autre modalité précisée dans l'avis d'ouverture de la consultation ; 3° Les observations et les propositions transmises par voie électronique sont accessibles sur un site internet désigné dans des conditions fixées par voie réglementaire ; 4° Les réponses éventuelles du pétitionnaire aux avis mis en ligne ainsi qu'aux observations et aux propositions du public sont transmises et publiées dans les mêmes conditions, y compris lorsque ces réponses ont été formulées lors d'une réunion publique ; 5° Dans les quinze derniers jours de la consultation du public, le commissaire enquêteur ou la commission d'enquête organise une réunion publique de clôture, avec la participation du pétitionnaire. Le commissaire enquêteur ou la commission d'enquête recueille les observations des parties prenantes jusqu'à la clôture de la consultation. Les réponses apportées par le pétitionnaire au plus tard lors de la réunion de clôture de la consultation sont réputées faire partie du dossier de demande, de même que les éventuelles modifications consécutives du projet, sous réserve qu'elles n'en modifient pas l'économie générale. IV. - Le commissaire enquêteur ou la commission d'enquête rend son rapport et ses conclusions motivées à l'autorité administrative, après concertation avec le pétitionnaire et dans un délai de trois semaines à compter de la clôture de la consultation du public. Le rapport fait état des principaux éléments relatifs au projet recueillis lors de la consultation du public et comporte une synthèse des observations et des propositions du public ainsi que des réponses du pétitionnaire. Le rapport et les conclusions motivées sont rendus publics. La réception de ce rapport et de ces conclusions motivées ou l'expiration du délai de trois semaines met fin à la phase d'examen et de consultation et ouvre la phase de décision. La décision ne peut être adoptée avant l'expiration d'un délai permettant la prise en considération des observations et des propositions formulées pendant la consultation et des réponses du pétitionnaire. V. - Le pétitionnaire assume les frais afférents à la consultation du public, notamment ceux relatifs aux différentes mesures de publicité de la consultation et à l'indemnisation du commissaire enquêteur ou de la commission d'enquête, dans les conditions prévues au chapitre III du titre II du présent livre.\",\n",
       " \"code de l'environnement::L. 512-7\": \"I. – Sont soumises à autorisation simplifiée, sous la dénomination d'enregistrement, les installations qui présentent des dangers ou inconvénients graves pour les intérêts mentionnés à l'article L. 511-1 , lorsque ces dangers et inconvénients peuvent, en principe, eu égard aux caractéristiques des installations et de leur impact potentiel, être prévenus par le respect de prescriptions générales édictées par le ministre chargé des installations classées. Les activités pouvant, à ce titre, relever du régime d'enregistrement concernent les secteurs ou technologies dont les enjeux environnementaux et les risques sont bien connus, lorsque les installations ne sont soumises ni à la directive 2010/75/ UE du Parlement européen et du Conseil du 24 novembre 2010 relative aux émissions industrielles au titre de son annexe I, ni à une obligation d'évaluation environnementale systématique au titre de l'annexe I de la directive 85/337/ CEE du 27 juin 1985 concernant l'évaluation des incidences de certains projets publics et privés sur l'environnement. I bis. – L'enregistrement porte également sur les installations, ouvrages, travaux et activités relevant de l'article L. 214-1 projetés par le pétitionnaire que leur connexité rend nécessaires à l'installation classée ou dont la proximité est de nature à en modifier notablement les dangers ou inconvénients. Ils sont regardés comme faisant partie de l'installation et ne sont pas soumis aux dispositions des articles L. 214-3 à L. 214-6 et du chapitre unique du titre VIII du livre Ier. II. – Les prescriptions générales peuvent notamment prévoir : 1° Des conditions d'intégration du projet dans son environnement local ; 2° L'éloignement des installations des habitations, des immeubles habituellement occupés par des tiers, des établissements recevant du public, des cours d'eau, des voies de communication, des captages d'eau ou des zones destinées à l'habitation par des documents d'urbanisme opposables aux tiers. III. – Les prescriptions générales sont fixées par arrêté du ministre chargé des installations classées après avis du Conseil supérieur de la prévention des risques technologiques et consultation des ministres intéressés. La publication d'un arrêté de prescriptions générales est nécessaire à l'entrée en vigueur du classement d'une rubrique de la nomenclature dans le régime d'enregistrement. L'arrêté fixant des prescriptions générales s'impose de plein droit aux installations nouvelles. Il précise, après avis des organisations professionnelles intéressées, les délais et les conditions dans lesquels il s'applique aux installations existantes. Sauf motif tiré de la sécurité, de la santé ou de la salubrité publiques ou du respect des engagements internationaux de la France, notamment du droit de l'Union européenne : 1° Ces mêmes délais et conditions s'appliquent aux projets ayant fait l'objet d'une demande d'enregistrement complète à la date de publication de l'arrêté ; 2° Les prescriptions relatives aux dispositions constructives concernant le gros œuvre ne peuvent faire l'objet d'une application aux installations existantes ou aux projets ayant fait l'objet d'une demande d'enregistrement complète à la date de publication de l'arrêté. La demande est présumée complète lorsqu'elle répond aux conditions de forme prévues par le présent code.\",\n",
       " \"code de l'environnement::L. 211-1\": \"I.-Les dispositions des chapitres Ier à VII du présent titre ont pour objet une gestion équilibrée et durable de la ressource en eau ; cette gestion prend en compte les adaptations nécessaires au changement climatique et vise à assurer : 1° La prévention des inondations et la préservation des écosystèmes aquatiques, des sites et des zones humides ; on entend par zone humide les terrains, exploités ou non, habituellement inondés ou gorgés d'eau douce, salée ou saumâtre de façon permanente ou temporaire, ou dont la végétation, quand elle existe, y est dominée par des plantes hygrophiles pendant au moins une partie de l'année ; 2° La protection des eaux et la lutte contre toute pollution par déversements, écoulements, rejets, dépôts directs ou indirects de matières de toute nature et plus généralement par tout fait susceptible de provoquer ou d'accroître la dégradation des eaux en modifiant leurs caractéristiques physiques, chimiques, biologiques ou bactériologiques, qu'il s'agisse des eaux superficielles, souterraines ou des eaux de la mer dans la limite des eaux territoriales ; 3° La restauration de la qualité de ces eaux et leur régénération ; 4° Le développement, la mobilisation, la création et la protection de la ressource en eau ; 5° La valorisation de l'eau comme ressource économique et, en particulier, pour le développement de la production d'électricité d'origine renouvelable ainsi que la répartition de cette ressource ; 5° bis La promotion d'une politique active de stockage de l'eau pour un usage partagé de l'eau permettant de garantir l'irrigation, élément essentiel de la sécurité de la production agricole et du maintien de l'étiage des rivières, et de subvenir aux besoins des populations locales ; 6° La promotion d'une utilisation efficace, économe et durable de la ressource en eau, notamment par le développement de la réutilisation des eaux usées traitées et de l'utilisation des eaux de pluie en remplacement de l'eau potable ; 7° Le rétablissement de la continuité écologique au sein des bassins hydrographiques. Un décret en Conseil d'Etat précise les critères retenus pour l'application du 1° et les modalités d'application du 6° du présent I aux activités, installations, ouvrages et travaux relevant des articles L. 214-3 et L. 511-2 dont la demande d'autorisation, la demande d'enregistrement ou la déclaration sont postérieures au 1er janvier 2021, ainsi qu'aux activités, installations, ouvrages et travaux existants. II.-La gestion équilibrée doit permettre en priorité de satisfaire les exigences de la santé, de la salubrité publique, de la sécurité civile et de l'alimentation en eau potable de la population. Elle doit également permettre de satisfaire ou concilier, lors des différents usages, activités ou travaux, les exigences : 1° De la vie biologique du milieu récepteur, et spécialement de la faune piscicole et conchylicole ; 2° De la conservation et du libre écoulement des eaux et de la protection contre les inondations ; 3° De l'agriculture, des pêches et des cultures marines, de la pêche en eau douce, de l'industrie, de la production d'énergie, en particulier pour assurer la sécurité du système électrique, des transports, du tourisme, de la protection des sites, des loisirs et des sports nautiques ainsi que de toutes autres activités humaines légalement exercées. III.-La gestion équilibrée de la ressource en eau ne fait pas obstacle à la préservation du patrimoine hydraulique, en particulier des moulins hydrauliques et de leurs dépendances, ouvrages aménagés pour l'utilisation de la force hydraulique des cours d'eau, des lacs et des mers, protégé soit au titre des monuments historiques, des abords ou des sites patrimoniaux remarquables en application du livre VI du code du patrimoine, soit en application de l'article L. 151-19 du code de l'urbanisme.\",\n",
       " \"code de l'environnement::L. 211-1-2\": '',\n",
       " \"code de l'environnement::L. 214-2\": \"Les installations, ouvrages, travaux et activités visés à l'article L. 214-1 sont définis dans une nomenclature, établie par décret en Conseil d'Etat après avis du Comité national de l'eau, et soumis à autorisation ou à déclaration suivant les dangers qu'ils présentent et la gravité de leurs effets sur la ressource en eau et les écosystèmes aquatiques compte tenu notamment de l'existence des zones et périmètres institués pour la protection de l'eau et des milieux aquatiques. Ce décret définit en outre les critères de l'usage domestique, et notamment le volume d'eau en deçà duquel le prélèvement est assimilé à un tel usage, ainsi que les autres formes d'usage dont l'impact sur le milieu aquatique est trop faible pour justifier qu'elles soient soumises à autorisation ou à déclaration.\",\n",
       " \"code de l'environnement::L. 411-2-2\": '',\n",
       " \"code de l'environnement::L. 131-9\": \"I.-L'Office français de la biodiversité contribue, s'agissant des milieux terrestres, aquatiques et marins, à la surveillance, la préservation, la gestion et la restauration de la biodiversité ainsi qu'à la gestion équilibrée et durable de l'eau en coordination avec la politique nationale de lutte contre le réchauffement climatique. Il assure les missions suivantes : 1° Contribution à l'exercice des missions de police administrative et de police judiciaire relatives à l'eau, aux espaces naturels, aux espèces, à la chasse et à la pêche ainsi que des missions de police sanitaire en lien avec la faune sauvage ; 2° Développement de la connaissance, recherche et expertise sur les espèces, sur les milieux, leurs fonctionnalités et leurs usages, sur les services écosystémiques, sur les liens entre les changements climatiques et la biodiversité ainsi que sur les risques sanitaires en lien avec la faune sauvage. L'office pilote ou coordonne les systèmes d'information sur la biodiversité, l'eau, les milieux aquatiques et les milieux marins ; 3° Expertise et assistance en matière d'évaluation de l'état de la faune sauvage et de gestion adaptative des espèces mentionnée à l'article L. 425-16 ; 4° Appui à la conception, à la mise en œuvre et à l'évaluation des politiques de l'eau et de la biodiversité, notamment à l'échelon territorial : a) Soutien à l'Etat pour l'élaboration de la stratégie nationale pour la biodiversité définie à l'article L. 110-3 et suivi de sa mise en œuvre ; b) Contribution à la lutte contre la biopiraterie et suivi du dispositif d'accès aux ressources génétiques et de partage juste et équitable des avantages découlant de leur utilisation ; c) Appui à la mise en œuvre du principe mentionné au 2° du II de l'article L. 110-1 et suivi des mesures de compensation des atteintes à la biodiversité ; d) Appui au suivi de la mise en œuvre des règlements et directives européens et des conventions internationales ainsi qu'aux actions de coopération ; e) Appui à l'Etat et à ses établissements publics chargés de la gestion de l'eau, de la biodiversité et des espaces naturels, notamment en matière de lutte contre les pressions qui s'exercent sur la biodiversité, de lutte contre les espèces exotiques envahissantes, de gestion de la faune sauvage, d'amélioration de ses habitats et de pratiques de gestion des territoires ; f) Appui, en lien avec les comités de bassin, aux collectivités territoriales, à leurs groupements et à leurs établissements publics chargés de la gestion de l'eau, de la biodiversité et des espaces naturels, notamment en matière de lutte contre les pressions qui s'exercent sur la biodiversité, de lutte contre les espèces exotiques envahissantes, de gestion de la faune sauvage, d'amélioration de ses habitats et de pratiques de gestion des territoires ; g) Appui aux acteurs socio-économiques et aux associations de protection de l'environnement ou d'éducation à l'environnement dans leurs actions en faveur de la biodiversité ; h) Soutien financier, à travers l'attribution d'aides financières à des projets en faveur de la biodiversité et de la gestion durable et équilibrée de la ressource en eau et à travers la garantie de la solidarité financière entre les bassins hydrographiques ; 5° Gestion, restauration et appui à la gestion d'espaces naturels, notamment de zones littorales comprenant des récifs coralliens et des écosystèmes associés ; 6° Communication, sensibilisation du public, accompagnement de la mobilisation et formation : a) Accompagnement de la mobilisation citoyenne, de la société civile et des acteurs des secteurs économiques sur les enjeux de biodiversité, notamment sur le lien entre l'homme et la nature ; b) Formation, notamment en matière de police, et appui aux actions de formation initiale et continue, en particulier dans le cadre de l'éducation nationale, de l'enseignement supérieur, de la recherche et de l'enseignement agricole ; c) Contribution à la structuration des métiers de la biodiversité et des services écologiques ; Il est chargé pour le compte de l'Etat de l'organisation de l'examen du permis de chasser ainsi que de la délivrance du permis de chasser. II.-L'intervention de l'Office français de la biodiversité porte sur l'ensemble des milieux terrestres, aquatiques et marins du territoire métropolitain, des collectivités régies par l'article 73 de la Constitution, des collectivités de Saint-Martin et de Saint-Pierre-et-Miquelon ainsi que des Terres australes et antarctiques françaises. Il peut aussi mener, dans le cadre de conventions, des actions à Saint-Barthélemy, dans les îles Wallis et Futuna, en Polynésie française ainsi qu'en Nouvelle-Calédonie ou dans ses provinces, à la demande de ces collectivités. III.-L'office et les collectivités territoriales coordonnent leurs actions dans les domaines d'intérêt commun. Les régions ou les collectivités exerçant les compétences des régions et l'office peuvent mettre en place conjointement, dans le cadre d'une convention signée entre les parties, des agences régionales de la biodiversité auxquelles peuvent notamment s'associer les départements et les collectivités territoriales exerçant les compétences des départements. Ces agences exercent leurs missions dans le champ des missions de l'office, à l'exception des missions de police et de délivrance du permis de chasser. IV. - Le représentant de l'Etat, selon le cas, dans le département, la collectivité de Corse ou la collectivité régie par les articles 73 ou 74 de la Constitution assure, en tant que délégué territorial de l'office, la cohérence de l'exercice des missions de police administrative de l'eau et de l'environnement de l'office dans les territoires relevant de son ressort avec les actions des autres services et établissements publics de l'Etat.\",\n",
       " \"code de l'environnement::L. 172-16\": \"Les infractions aux dispositions du présent code et des textes pris pour son application sont constatées par des procès-verbaux qui font foi jusqu'à preuve contraire. Les procès-verbaux sont adressés dans les cinq jours qui suivent leur clôture au procureur de la République. Une copie du procès-verbal est transmise, dans le même délai, à l'autorité administrative compétente. Sauf instruction contraire du procureur de la République, une copie du procès-verbal de constatation de l'infraction est également transmise au contrevenant, lorsqu'il est connu, dans un délai fixé par décret en Conseil d'Etat. Sur autorisation du procureur de la République, les nom et prénoms des personnes apparaissant dans les copies de ce procès-verbal, à l'exception de ceux du contrevenant, peuvent être cancellés lorsque ces mentions sont susceptibles de mettre en danger la vie ou l'intégrité physique de ces personnes ou celles de leurs proches.\",\n",
       " \"code de l'environnement::L. 174-3\": '',\n",
       " 'code rural et de la pêche maritime::Titre V du livre II': '',\n",
       " 'code rural et de la pêche maritime::L. 258-1': \"L'entrée sur le territoire et l'introduction dans l'environnement d'un macro-organisme non indigène utile aux végétaux, notamment dans le cadre de la lutte biologique, sont soumises à une autorisation préalable. Cette autorisation est délivrée par arrêté conjoint des ministres chargés de l'agriculture et de l'environnement, sur la base d'une analyse du risque phytosanitaire et environnemental, incluant l'impact sur la biodiversité, que cet organisme peut présenter. Par dérogation au premier alinéa, l'entrée sur le territoire d'un tel macro-organisme en vue d'opérations réalisées de façon confinée peut être autorisée sans analyse préalable du risque phytosanitaire et environnemental. Cette autorisation délivrée par le préfet de région précise les mesures de confinement au respect desquelles l'autorisation est subordonnée. L'introduction éventuelle de cet organisme dans l'environnement reste soumise à autorisation préalable par arrêté conjoint du ministre chargé de l'agriculture et du ministre chargé de l'environnement, sur la base de l'analyse de risque prévue à l'alinéa précédent. Un décret en Conseil d'Etat précise les modalités d'application du présent article.\"}"
      ]
     },
     "execution_count": 17,
     "metadata": {},
     "output_type": "execute_result"
    }
   ],
   "source": [
    "original_texts_lookup = pipeline._create_original_texts_lookup()\n",
    "original_texts_lookup"
   ]
  },
  {
   "cell_type": "code",
   "execution_count": 19,
   "id": "17bcc436-1ede-469c-8dd4-f97fd4db8cbc",
   "metadata": {},
   "outputs": [],
   "source": [
    "for i, chunk in enumerate(enriched_chunks, 1):\n",
    "    break"
   ]
  },
  {
   "cell_type": "code",
   "execution_count": 21,
   "id": "82ce2e06-f1b7-4846-a594-1696ac2b628c",
   "metadata": {},
   "outputs": [
    {
     "data": {
      "text/plain": [
       "BillChunk(text='1° (Supprimé)', titre_text='# TITRE Iᴱᴿ', article_label='Article 1ᵉʳ', article_introductory_phrase='Le code rural et de la pêche maritime est ainsi modifié :', major_subdivision_label=None, major_subdivision_introductory_phrase=None, numbered_point_label='1°', hierarchy_path=['# TITRE Iᴱᴿ', 'Article 1ᵉʳ', '1°'], chunk_id='# TITRE Iᴱᴿ::Article 1ᵉʳ::1°', start_pos=565, end_pos=580, cross_references=[], target_article=TargetArticle(operation_type=<TargetOperationType.ABROGATE: 'ABROGATE'>, code='code rural et de la pêche maritime', article=None, confidence=0.8, raw_text='1° (Supprimé)', full_citation=None, version=None))"
      ]
     },
     "execution_count": 21,
     "metadata": {},
     "output_type": "execute_result"
    }
   ],
   "source": [
    "chunk"
   ]
  },
  {
   "cell_type": "code",
   "execution_count": 25,
   "id": "f5e06951-a8f0-4bbc-a335-70d29fabd594",
   "metadata": {},
   "outputs": [
    {
     "data": {
      "text/plain": [
       "''"
      ]
     },
     "execution_count": 25,
     "metadata": {},
     "output_type": "execute_result"
    }
   ],
   "source": [
    "article_key = pipeline._build_article_key(chunk.target_article.code, chunk.target_article.article)\n",
    "article_key"
   ]
  },
  {
   "cell_type": "code",
   "execution_count": 27,
   "id": "4c3a3649-682d-425d-8eaf-d18982849030",
   "metadata": {},
   "outputs": [
    {
     "data": {
      "text/plain": [
       "''"
      ]
     },
     "execution_count": 27,
     "metadata": {},
     "output_type": "execute_result"
    }
   ],
   "source": [
    "original_text = original_texts_lookup.get(article_key, \"\")\n",
    "original_text"
   ]
  },
  {
   "cell_type": "code",
   "execution_count": null,
   "id": "a10bd8a0-1b12-4a36-820d-0e47181eae5d",
   "metadata": {},
   "outputs": [],
   "source": []
  },
  {
   "cell_type": "code",
   "execution_count": null,
   "id": "6c1610d9-e067-46d4-831c-bf7f703ca090",
   "metadata": {},
   "outputs": [],
   "source": []
  },
  {
   "cell_type": "code",
   "execution_count": null,
   "id": "cb630817-8299-4a16-a4dc-ce500aa24e05",
   "metadata": {},
   "outputs": [],
   "source": []
  }
 ],
 "metadata": {
  "kernelspec": {
   "display_name": "Python (bill-parser-engine)",
   "language": "python",
   "name": "bill-parser-engine"
  },
  "language_info": {
   "codemirror_mode": {
    "name": "ipython",
    "version": 3
   },
   "file_extension": ".py",
   "mimetype": "text/x-python",
   "name": "python",
   "nbconvert_exporter": "python",
   "pygments_lexer": "ipython3",
   "version": "3.12.8"
  }
 },
 "nbformat": 4,
 "nbformat_minor": 5
}
