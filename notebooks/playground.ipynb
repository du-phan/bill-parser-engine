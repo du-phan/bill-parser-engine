{
 "cells": [
  {
   "cell_type": "code",
   "execution_count": 1,
   "id": "959f989d-e7bd-4df2-a1c2-18d39dc37575",
   "metadata": {},
   "outputs": [],
   "source": [
    "import os \n",
    "from dotenv import load_dotenv\n",
    "import json\n",
    "\n",
    "from pathlib import Path\n",
    "\n",
    "from mistralai import Mistral\n",
    "\n",
    "\n",
    "import json\n",
    "import os\n",
    "import sys\n",
    "from datetime import datetime\n",
    "from pathlib import Path\n",
    "from typing import Dict, List, Set\n",
    "\n",
    "\n",
    "# Add the project root to Python path for imports\n",
    "project_root = Path.cwd().parent\n",
    "sys.path.append(str(project_root))\n",
    "\n",
    "from bill_parser_engine.core.reference_resolver.pipeline import BillProcessingPipeline\n",
    "\n",
    "from dotenv import load_dotenv\n",
    "load_dotenv('../.env.local')\n",
    "\n",
    "api_key = os.environ[\"MISTRAL_API_KEY\"]\n",
    "client = Mistral(api_key)"
   ]
  },
  {
   "cell_type": "code",
   "execution_count": 2,
   "id": "49dc1a23-bd8c-4172-91cb-d408dcfbb751",
   "metadata": {},
   "outputs": [],
   "source": [
    "# Define file paths\n",
    "bill_file = project_root / \"data\" / \"legal_bill\" / \"sampled_legislative_bill.md\"\n",
    "output_dir = project_root / \"scripts \" / \"output\"\n",
    "#log_file_path = project_root / \"notebooks\" / f\"detailed_reconstruction_log_{datetime.now().strftime('%Y%m%d_%H%M%S')}.txt\"\n"
   ]
  },
  {
   "cell_type": "code",
   "execution_count": 3,
   "id": "f35e23e9-ec06-4256-8936-b139794d0a4e",
   "metadata": {},
   "outputs": [
    {
     "name": "stderr",
     "output_type": "stream",
     "text": [
      "2025-08-13 15:41:04,291 - bill_parser_engine.core.reference_resolver.instruction_decomposer - INFO - InstructionDecomposer initialized with caching: enabled\n",
      "2025-08-13 15:41:04,307 - bill_parser_engine.core.reference_resolver.operation_applier - INFO - OperationApplier initialized with caching: enabled\n",
      "2025-08-13 15:41:04,323 - bill_parser_engine.core.reference_resolver.result_validator - INFO - ResultValidator initialized with caching: enabled\n"
     ]
    }
   ],
   "source": [
    "pipeline = BillProcessingPipeline(use_cache=True)"
   ]
  },
  {
   "cell_type": "code",
   "execution_count": 4,
   "id": "161ab667-c78f-42e4-8369-848d5c064656",
   "metadata": {},
   "outputs": [
    {
     "name": "stderr",
     "output_type": "stream",
     "text": [
      "2025-08-13 15:41:04,383 - bill_parser_engine.core.reference_resolver.pipeline - INFO - Loaded legislative text: 4083 characters\n",
      "2025-08-13 15:41:04,383 - bill_parser_engine.core.reference_resolver.pipeline - INFO - Loaded legislative text from file: /Users/duphan/Projects/bill-parser-engine/data/legal_bill/sampled_legislative_bill.md\n"
     ]
    }
   ],
   "source": [
    "pipeline.load_legislative_text_from_file(bill_file)"
   ]
  },
  {
   "cell_type": "code",
   "execution_count": 5,
   "id": "04e99f2c-c476-44ed-aafa-3cd7f55d8893",
   "metadata": {
    "scrolled": true
   },
   "outputs": [
    {
     "name": "stderr",
     "output_type": "stream",
     "text": [
      "2025-08-13 15:41:04,390 - bill_parser_engine.core.reference_resolver.cache_manager - INFO - Cleared 10 Mistral API cache entries\n",
      "2025-08-13 15:41:04,390 - bill_parser_engine.core.reference_resolver.pipeline - INFO - Cleared 10 Mistral API cache entries\n"
     ]
    },
    {
     "data": {
      "text/plain": [
       "10"
      ]
     },
     "execution_count": 5,
     "metadata": {},
     "output_type": "execute_result"
    }
   ],
   "source": [
    "#pipeline.clear_component_cache('target_identifier')\n",
    "#pipeline.clear_component_cache(\"original_text_retriever\")\n",
    "#pipeline.clear_cache(\"legal_amendment_reconstructor_focused\")\n",
    "# Clear cache for all components that are part of the reconstruction process\n",
    "#pipeline.clear_cache(\"instruction_decomposer\")\n",
    "#pipeline.clear_cache(\"operation_applier\") \n",
    "#pipeline.clear_cache(\"result_validator\")\n",
    "\n",
    "#pipeline.clear_cache(\"reference_locator\")\n",
    "#pipeline.clear_cache('reference_object_linker')\n",
    "#pipeline.clear_cache('reference_resolver')\n",
    "pipeline.clear_cache()"
   ]
  },
  {
   "cell_type": "code",
   "execution_count": null,
   "id": "9d90e43e-27ec-4cbd-b495-74aae6059c5b",
   "metadata": {},
   "outputs": [],
   "source": []
  },
  {
   "cell_type": "code",
   "execution_count": 6,
   "id": "0407538d-4c0b-4c04-aa5c-7863ebc76211",
   "metadata": {},
   "outputs": [
    {
     "name": "stderr",
     "output_type": "stream",
     "text": [
      "2025-08-13 15:41:04,395 - bill_parser_engine.core.reference_resolver.pipeline - INFO - Step 1: Splitting legislative bill into chunks...\n",
      "2025-08-13 15:41:04,398 - bill_parser_engine.core.reference_resolver.pipeline - INFO - Split into 10 chunks\n"
     ]
    }
   ],
   "source": [
    "chunks = pipeline.step_1_split_bill()"
   ]
  },
  {
   "cell_type": "code",
   "execution_count": 7,
   "id": "04baef71-2665-46ab-bc60-1991f87fd8d2",
   "metadata": {},
   "outputs": [
    {
     "data": {
      "text/plain": [
       "10"
      ]
     },
     "execution_count": 7,
     "metadata": {},
     "output_type": "execute_result"
    }
   ],
   "source": [
    "len(chunks)"
   ]
  },
  {
   "cell_type": "code",
   "execution_count": null,
   "id": "accc9d0f-e9b3-4ed0-a343-e1eba3103a2e",
   "metadata": {},
   "outputs": [],
   "source": []
  },
  {
   "cell_type": "code",
   "execution_count": null,
   "id": "63270621-9fdc-4391-aae4-13a17c1ca180",
   "metadata": {},
   "outputs": [],
   "source": []
  },
  {
   "cell_type": "code",
   "execution_count": 8,
   "id": "0ab01680-0e0a-4acf-b0aa-2274d88b1d76",
   "metadata": {
    "scrolled": true
   },
   "outputs": [
    {
     "name": "stderr",
     "output_type": "stream",
     "text": [
      "2025-08-13 15:41:04,538 - bill_parser_engine.core.reference_resolver.pipeline - INFO - Step 2: Identifying target articles for 10 chunks...\n",
      "2025-08-13 15:41:04,539 - bill_parser_engine.core.reference_resolver.pipeline - INFO - Processing chunk 1/10: # TITRE Iᴱᴿ::Article 1ᵉʳ::2°::a)\n",
      "2025-08-13 15:41:04,543 - bill_parser_engine.core.reference_resolver.pipeline - INFO - Processing chunk 2/10: # TITRE Iᴱᴿ::Article 1ᵉʳ::2°::b)\n",
      "2025-08-13 15:41:04,545 - bill_parser_engine.core.reference_resolver.pipeline - INFO - Processing chunk 3/10: # TITRE Iᴱᴿ::Article 1ᵉʳ::3° bis::a)\n",
      "2025-08-13 15:41:04,546 - bill_parser_engine.core.reference_resolver.pipeline - INFO - Processing chunk 4/10: # TITRE Iᴱᴿ::Article 1ᵉʳ::3° bis::b)\n",
      "2025-08-13 15:41:04,547 - bill_parser_engine.core.reference_resolver.pipeline - INFO - Processing chunk 5/10: # TITRE Iᴱᴿ::Article 1ᵉʳ::3° ter::a)\n",
      "2025-08-13 15:41:04,549 - bill_parser_engine.core.reference_resolver.pipeline - INFO - Processing chunk 6/10: # TITRE Iᴱᴿ::Article 1ᵉʳ::3° ter::b)\n",
      "2025-08-13 15:41:04,551 - bill_parser_engine.core.reference_resolver.pipeline - INFO - Processing chunk 7/10: # TITRE Iᴱᴿ::Article 1ᵉʳ::3° quater::a)\n",
      "2025-08-13 15:41:04,552 - bill_parser_engine.core.reference_resolver.pipeline - INFO - Processing chunk 8/10: # TITRE Iᴱᴿ::Article 1ᵉʳ::3° quater::b)\n",
      "2025-08-13 15:41:04,553 - bill_parser_engine.core.reference_resolver.pipeline - INFO - Processing chunk 9/10: # TITRE Iᴱᴿ::Article 1ᵉʳ::4°::a)\n",
      "2025-08-13 15:41:04,554 - bill_parser_engine.core.reference_resolver.pipeline - INFO - Processing chunk 10/10: # TITRE Iᴱᴿ::Article 1ᵉʳ::4°::b)\n",
      "2025-08-13 15:41:04,555 - bill_parser_engine.core.reference_resolver.pipeline - INFO - Target identification complete: 5 unique articles identified\n"
     ]
    },
    {
     "name": "stdout",
     "output_type": "stream",
     "text": [
      "→ Processing chunk with unified LLM-based target identification: # TITRE Iᴱᴿ::Article 1ᵉʳ::2°::a)\n",
      "✓ Cached deterministic target identification result\n",
      "→ Processing chunk with unified LLM-based target identification: # TITRE Iᴱᴿ::Article 1ᵉʳ::2°::b)\n",
      "✓ Cached deterministic target identification result\n",
      "→ Processing chunk with unified LLM-based target identification: # TITRE Iᴱᴿ::Article 1ᵉʳ::3° bis::a)\n",
      "✓ Cached deterministic target identification result\n",
      "→ Processing chunk with unified LLM-based target identification: # TITRE Iᴱᴿ::Article 1ᵉʳ::3° bis::b)\n",
      "✓ Cached deterministic target identification result\n",
      "→ Processing chunk with unified LLM-based target identification: # TITRE Iᴱᴿ::Article 1ᵉʳ::3° ter::a)\n",
      "✓ Cached deterministic target identification result\n",
      "→ Processing chunk with unified LLM-based target identification: # TITRE Iᴱᴿ::Article 1ᵉʳ::3° ter::b)\n",
      "✓ Cached deterministic target identification result\n",
      "→ Processing chunk with unified LLM-based target identification: # TITRE Iᴱᴿ::Article 1ᵉʳ::3° quater::a)\n",
      "✓ Cached deterministic target identification result\n",
      "→ Processing chunk with unified LLM-based target identification: # TITRE Iᴱᴿ::Article 1ᵉʳ::3° quater::b)\n",
      "✓ Cached deterministic target identification result\n",
      "→ Processing chunk with unified LLM-based target identification: # TITRE Iᴱᴿ::Article 1ᵉʳ::4°::a)\n",
      "✓ Cached deterministic target identification result\n",
      "→ Processing chunk with unified LLM-based target identification: # TITRE Iᴱᴿ::Article 1ᵉʳ::4°::b)\n",
      "✓ Cached deterministic target identification result\n"
     ]
    }
   ],
   "source": [
    "target_results = pipeline.step_2_identify_target_articles()"
   ]
  },
  {
   "cell_type": "code",
   "execution_count": null,
   "id": "57386240-d99c-42f9-a1f3-00c1942d7302",
   "metadata": {},
   "outputs": [],
   "source": []
  },
  {
   "cell_type": "code",
   "execution_count": 9,
   "id": "91a93a73-30f3-4881-8bc6-43c001c854cf",
   "metadata": {
    "scrolled": true
   },
   "outputs": [
    {
     "data": {
      "text/plain": [
       "[{'chunk_id': '# TITRE Iᴱᴿ::Article 1ᵉʳ::2°::a)',\n",
       "  'chunk_text_preview': 'a) Au 3° du II, les mots : « prévu aux articles L. 254-6-2 et L. 254-6-3 » sont remplacés par les mo...',\n",
       "  'hierarchy_path': ['# TITRE Iᴱᴿ', 'Article 1ᵉʳ', '2°', 'a)'],\n",
       "  'target_article': {'operation_type': 'MODIFY',\n",
       "   'code': 'code rural et de la pêche maritime',\n",
       "   'article': 'L. 254-1',\n",
       "   'full_citation': 'code rural et de la pêche maritime::L. 254-1',\n",
       "   'confidence': 1.0,\n",
       "   'raw_text': 'a) Au 3° du II, les mots : « prévu aux articles L....'}},\n",
       " {'chunk_id': '# TITRE Iᴱᴿ::Article 1ᵉʳ::2°::b)',\n",
       "  'chunk_text_preview': \"b) Le VI est ainsi rédigé :\\n\\n« VI. – L'exercice de l'activité de conseil mentionnée au 3° du II est ...\",\n",
       "  'hierarchy_path': ['# TITRE Iᴱᴿ', 'Article 1ᵉʳ', '2°', 'b)'],\n",
       "  'target_article': {'operation_type': 'MODIFY',\n",
       "   'code': 'code rural et de la pêche maritime',\n",
       "   'article': 'L. 254-1',\n",
       "   'full_citation': 'code rural et de la pêche maritime::L. 254-1',\n",
       "   'confidence': 1.0,\n",
       "   'raw_text': \"b) Le VI est ainsi rédigé :\\n\\n« VI. – L'exercice de...\"}},\n",
       " {'chunk_id': '# TITRE Iᴱᴿ::Article 1ᵉʳ::3° bis::a)',\n",
       "  'chunk_text_preview': '    a) Le I est ainsi modifié :\\n\\n    – à la fin du 1°, les mots : « mentionnée aux 1° ou 2° du même ...',\n",
       "  'hierarchy_path': ['# TITRE Iᴱᴿ', 'Article 1ᵉʳ', '3° bis', 'a)'],\n",
       "  'target_article': {'operation_type': 'MODIFY',\n",
       "   'code': 'code rural et de la pêche maritime',\n",
       "   'article': 'L. 254-1-1',\n",
       "   'full_citation': 'code rural et de la pêche maritime::L. 254-1-1',\n",
       "   'confidence': 1.0,\n",
       "   'raw_text': '    a) Le I est ainsi modifié :\\n\\n    – à la fin du...'}},\n",
       " {'chunk_id': '# TITRE Iᴱᴿ::Article 1ᵉʳ::3° bis::b)',\n",
       "  'chunk_text_preview': '    b) Le II est ainsi modifié :\\n\\n    – à la fin du 1°, les mots : « mentionnée aux 1° ou 2° du même...',\n",
       "  'hierarchy_path': ['# TITRE Iᴱᴿ', 'Article 1ᵉʳ', '3° bis', 'b)'],\n",
       "  'target_article': {'operation_type': 'MODIFY',\n",
       "   'code': 'code rural et de la pêche maritime',\n",
       "   'article': 'L. 254-1-1',\n",
       "   'full_citation': 'code rural et de la pêche maritime::L. 254-1-1',\n",
       "   'confidence': 1.0,\n",
       "   'raw_text': '    b) Le II est ainsi modifié :\\n\\n    – à la fin d...'}},\n",
       " {'chunk_id': '# TITRE Iᴱᴿ::Article 1ᵉʳ::3° ter::a)',\n",
       "  'chunk_text_preview': '    a) Le premier alinéa est ainsi modifié :\\n\\n    – les mots : « mentionnée aux 1° ou 2° du même II ...',\n",
       "  'hierarchy_path': ['# TITRE Iᴱᴿ', 'Article 1ᵉʳ', '3° ter', 'a)'],\n",
       "  'target_article': {'operation_type': 'MODIFY',\n",
       "   'code': 'code rural et de la pêche maritime',\n",
       "   'article': 'L. 254-1-2',\n",
       "   'full_citation': 'code rural et de la pêche maritime::L. 254-1-2',\n",
       "   'confidence': 1.0,\n",
       "   'raw_text': '    a) Le premier alinéa est ainsi modifié :\\n\\n    ...'}},\n",
       " {'chunk_id': '# TITRE Iᴱᴿ::Article 1ᵉʳ::3° ter::b)',\n",
       "  'chunk_text_preview': '    b) Le second alinéa est supprimé ;\\n\\n',\n",
       "  'hierarchy_path': ['# TITRE Iᴱᴿ', 'Article 1ᵉʳ', '3° ter', 'b)'],\n",
       "  'target_article': {'operation_type': 'MODIFY',\n",
       "   'code': 'code rural et de la pêche maritime',\n",
       "   'article': 'L. 254-1-2',\n",
       "   'full_citation': 'code rural et de la pêche maritime::L. 254-1-2',\n",
       "   'confidence': 1.0,\n",
       "   'raw_text': '    b) Le second alinéa est supprimé ;\\n\\n'}},\n",
       " {'chunk_id': '# TITRE Iᴱᴿ::Article 1ᵉʳ::3° quater::a)',\n",
       "  'chunk_text_preview': '    a) À la fin du I, les mots : « mentionnée aux 1° ou 2° du même II ou au IV de ce même article » ...',\n",
       "  'hierarchy_path': ['# TITRE Iᴱᴿ', 'Article 1ᵉʳ', '3° quater', 'a)'],\n",
       "  'target_article': {'operation_type': 'MODIFY',\n",
       "   'code': 'code rural et de la pêche maritime',\n",
       "   'article': 'L. 254-1-3',\n",
       "   'full_citation': 'code rural et de la pêche maritime::L. 254-1-3',\n",
       "   'confidence': 1.0,\n",
       "   'raw_text': '    a) À la fin du I, les mots : « mentionnée aux ...'}},\n",
       " {'chunk_id': '# TITRE Iᴱᴿ::Article 1ᵉʳ::3° quater::b)',\n",
       "  'chunk_text_preview': '    b) À la fin du II, les mots : « les activités mentionnées aux 1° ou 2° du même II ou au IV du mê...',\n",
       "  'hierarchy_path': ['# TITRE Iᴱᴿ', 'Article 1ᵉʳ', '3° quater', 'b)'],\n",
       "  'target_article': {'operation_type': 'MODIFY',\n",
       "   'code': 'code rural et de la pêche maritime',\n",
       "   'article': 'L. 254-1-3',\n",
       "   'full_citation': 'code rural et de la pêche maritime::L. 254-1-3',\n",
       "   'confidence': 1.0,\n",
       "   'raw_text': '    b) À la fin du II, les mots : « les activités ...'}},\n",
       " {'chunk_id': '# TITRE Iᴱᴿ::Article 1ᵉʳ::4°::a)',\n",
       "  'chunk_text_preview': '    a) Les mots : « aux 1° et 2° » sont remplacés par les mots : « au 1° » ;\\n\\n',\n",
       "  'hierarchy_path': ['# TITRE Iᴱᴿ', 'Article 1ᵉʳ', '4°', 'a)'],\n",
       "  'target_article': {'operation_type': 'MODIFY',\n",
       "   'code': 'code rural et de la pêche maritime',\n",
       "   'article': 'L. 254-2',\n",
       "   'full_citation': 'code rural et de la pêche maritime::L. 254-2',\n",
       "   'confidence': 1.0,\n",
       "   'raw_text': '    a) Les mots : « aux 1° et 2° » sont remplacés ...'}},\n",
       " {'chunk_id': '# TITRE Iᴱᴿ::Article 1ᵉʳ::4°::b)',\n",
       "  'chunk_text_preview': '    b) (nouveau) Après la seconde occurrence de la référence : « 2° », sont insérés les mots : « du ...',\n",
       "  'hierarchy_path': ['# TITRE Iᴱᴿ', 'Article 1ᵉʳ', '4°', 'b)'],\n",
       "  'target_article': {'operation_type': 'MODIFY',\n",
       "   'code': 'code rural et de la pêche maritime',\n",
       "   'article': 'L. 254-2',\n",
       "   'full_citation': 'code rural et de la pêche maritime::L. 254-2',\n",
       "   'confidence': 1.0,\n",
       "   'raw_text': '    b) (nouveau) Après la seconde occurrence de la...'}}]"
      ]
     },
     "execution_count": 9,
     "metadata": {},
     "output_type": "execute_result"
    }
   ],
   "source": [
    "target_results"
   ]
  },
  {
   "cell_type": "code",
   "execution_count": 10,
   "id": "f3612311-5c8f-44a7-856b-1fa4223d66a2",
   "metadata": {
    "scrolled": true
   },
   "outputs": [],
   "source": [
    "weird_issues = []\n",
    "for res in target_results:\n",
    "    if res.get('target_article').get('code') is None: \n",
    "        print(res)\n",
    "        weird_issues.append(res)\n",
    "        print('----')"
   ]
  },
  {
   "cell_type": "code",
   "execution_count": 11,
   "id": "111a22df-f7af-486d-b4ae-61684cdad22b",
   "metadata": {},
   "outputs": [
    {
     "data": {
      "text/plain": [
       "0"
      ]
     },
     "execution_count": 11,
     "metadata": {},
     "output_type": "execute_result"
    }
   ],
   "source": [
    "len(weird_issues)"
   ]
  },
  {
   "cell_type": "code",
   "execution_count": 12,
   "id": "e6e3bd21-42b1-45eb-98eb-9ab1b8be4351",
   "metadata": {},
   "outputs": [
    {
     "data": {
      "text/plain": [
       "10"
      ]
     },
     "execution_count": 12,
     "metadata": {},
     "output_type": "execute_result"
    }
   ],
   "source": [
    "len(target_results)"
   ]
  },
  {
   "cell_type": "code",
   "execution_count": null,
   "id": "7e9fb145-edff-4e6f-809b-984a60957308",
   "metadata": {},
   "outputs": [],
   "source": []
  },
  {
   "cell_type": "code",
   "execution_count": 13,
   "id": "acc690a4-8432-44a0-b136-16aff81e0e13",
   "metadata": {
    "scrolled": true
   },
   "outputs": [
    {
     "name": "stderr",
     "output_type": "stream",
     "text": [
      "2025-08-13 15:41:06,940 - bill_parser_engine.core.reference_resolver.pipeline - INFO - Step 3: Retrieving original text for target articles...\n",
      "2025-08-13 15:41:06,941 - bill_parser_engine.core.reference_resolver.pipeline - ERROR - Error retrieving code rural et de la pêche maritime::L. 254-1: OriginalTextRetriever.fetch_article_text() got an unexpected keyword argument 'as_of_date'\n",
      "2025-08-13 15:41:06,941 - bill_parser_engine.core.reference_resolver.pipeline - ERROR - Error retrieving code rural et de la pêche maritime::L. 254-1-1: OriginalTextRetriever.fetch_article_text() got an unexpected keyword argument 'as_of_date'\n",
      "2025-08-13 15:41:06,942 - bill_parser_engine.core.reference_resolver.pipeline - ERROR - Error retrieving code rural et de la pêche maritime::L. 254-1-2: OriginalTextRetriever.fetch_article_text() got an unexpected keyword argument 'as_of_date'\n",
      "2025-08-13 15:41:06,942 - bill_parser_engine.core.reference_resolver.pipeline - ERROR - Error retrieving code rural et de la pêche maritime::L. 254-1-3: OriginalTextRetriever.fetch_article_text() got an unexpected keyword argument 'as_of_date'\n",
      "2025-08-13 15:41:06,943 - bill_parser_engine.core.reference_resolver.pipeline - ERROR - Error retrieving code rural et de la pêche maritime::L. 254-2: OriginalTextRetriever.fetch_article_text() got an unexpected keyword argument 'as_of_date'\n",
      "2025-08-13 15:41:06,943 - bill_parser_engine.core.reference_resolver.pipeline - INFO - Original text retrieval complete: 0/5 successful retrievals\n"
     ]
    },
    {
     "data": {
      "text/plain": [
       "[{'article_key': 'code rural et de la pêche maritime::L. 254-1',\n",
       "  'code': 'code rural et de la pêche maritime',\n",
       "  'article': 'L. 254-1',\n",
       "  'operation_type': 'MODIFY',\n",
       "  'original_text': '',\n",
       "  'text_length': 0,\n",
       "  'retrieval_metadata': {'source': 'none',\n",
       "   'success': False,\n",
       "   'error': \"OriginalTextRetriever.fetch_article_text() got an unexpected keyword argument 'as_of_date'\"},\n",
       "  'retrieved_at': '2025-08-13T15:41:06.941845',\n",
       "  'error': \"OriginalTextRetriever.fetch_article_text() got an unexpected keyword argument 'as_of_date'\"},\n",
       " {'article_key': 'code rural et de la pêche maritime::L. 254-1-1',\n",
       "  'code': 'code rural et de la pêche maritime',\n",
       "  'article': 'L. 254-1-1',\n",
       "  'operation_type': 'MODIFY',\n",
       "  'original_text': '',\n",
       "  'text_length': 0,\n",
       "  'retrieval_metadata': {'source': 'none',\n",
       "   'success': False,\n",
       "   'error': \"OriginalTextRetriever.fetch_article_text() got an unexpected keyword argument 'as_of_date'\"},\n",
       "  'retrieved_at': '2025-08-13T15:41:06.942485',\n",
       "  'error': \"OriginalTextRetriever.fetch_article_text() got an unexpected keyword argument 'as_of_date'\"},\n",
       " {'article_key': 'code rural et de la pêche maritime::L. 254-1-2',\n",
       "  'code': 'code rural et de la pêche maritime',\n",
       "  'article': 'L. 254-1-2',\n",
       "  'operation_type': 'MODIFY',\n",
       "  'original_text': '',\n",
       "  'text_length': 0,\n",
       "  'retrieval_metadata': {'source': 'none',\n",
       "   'success': False,\n",
       "   'error': \"OriginalTextRetriever.fetch_article_text() got an unexpected keyword argument 'as_of_date'\"},\n",
       "  'retrieved_at': '2025-08-13T15:41:06.942967',\n",
       "  'error': \"OriginalTextRetriever.fetch_article_text() got an unexpected keyword argument 'as_of_date'\"},\n",
       " {'article_key': 'code rural et de la pêche maritime::L. 254-1-3',\n",
       "  'code': 'code rural et de la pêche maritime',\n",
       "  'article': 'L. 254-1-3',\n",
       "  'operation_type': 'MODIFY',\n",
       "  'original_text': '',\n",
       "  'text_length': 0,\n",
       "  'retrieval_metadata': {'source': 'none',\n",
       "   'success': False,\n",
       "   'error': \"OriginalTextRetriever.fetch_article_text() got an unexpected keyword argument 'as_of_date'\"},\n",
       "  'retrieved_at': '2025-08-13T15:41:06.943410',\n",
       "  'error': \"OriginalTextRetriever.fetch_article_text() got an unexpected keyword argument 'as_of_date'\"},\n",
       " {'article_key': 'code rural et de la pêche maritime::L. 254-2',\n",
       "  'code': 'code rural et de la pêche maritime',\n",
       "  'article': 'L. 254-2',\n",
       "  'operation_type': 'MODIFY',\n",
       "  'original_text': '',\n",
       "  'text_length': 0,\n",
       "  'retrieval_metadata': {'source': 'none',\n",
       "   'success': False,\n",
       "   'error': \"OriginalTextRetriever.fetch_article_text() got an unexpected keyword argument 'as_of_date'\"},\n",
       "  'retrieved_at': '2025-08-13T15:41:06.943890',\n",
       "  'error': \"OriginalTextRetriever.fetch_article_text() got an unexpected keyword argument 'as_of_date'\"}]"
      ]
     },
     "execution_count": 13,
     "metadata": {},
     "output_type": "execute_result"
    }
   ],
   "source": [
    "retrieval_results = pipeline.step_3_retrieve_original_texts()\n",
    "retrieval_results"
   ]
  },
  {
   "cell_type": "code",
   "execution_count": null,
   "id": "e6f2603b-9d59-4583-90f5-0bff5884a44b",
   "metadata": {},
   "outputs": [],
   "source": []
  },
  {
   "cell_type": "code",
   "execution_count": null,
   "id": "198fa39d-8df0-45b2-aa5b-734f6360e787",
   "metadata": {},
   "outputs": [],
   "source": [
    "pipeline._analyze_retrieval_results(retrieval_results)"
   ]
  },
  {
   "cell_type": "code",
   "execution_count": null,
   "id": "6e9dad82-1bcf-4072-ad72-3204aa3ef7ec",
   "metadata": {},
   "outputs": [],
   "source": []
  },
  {
   "cell_type": "code",
   "execution_count": null,
   "id": "45a49725-291e-4b15-837e-57bf3746a3cf",
   "metadata": {
    "scrolled": true
   },
   "outputs": [],
   "source": [
    "reconstruction_results = pipeline.step_4_reconstruct_texts()\n"
   ]
  },
  {
   "cell_type": "code",
   "execution_count": null,
   "id": "69157ca8-950f-4506-8964-e26ae151cb86",
   "metadata": {},
   "outputs": [],
   "source": []
  },
  {
   "cell_type": "code",
   "execution_count": null,
   "id": "f7cab9db-189e-4f27-8819-ded22a3bde80",
   "metadata": {},
   "outputs": [],
   "source": [
    "pipeline._analyze_reconstruction_results(reconstruction_results)#.get('failed_chunks')"
   ]
  },
  {
   "cell_type": "code",
   "execution_count": null,
   "id": "d48bcf0a-bd28-41e6-a7b1-0bac75424bf3",
   "metadata": {},
   "outputs": [],
   "source": []
  },
  {
   "cell_type": "code",
   "execution_count": null,
   "id": "76a541c8-bda4-4047-a59d-a363a0db5a9e",
   "metadata": {
    "scrolled": true
   },
   "outputs": [],
   "source": [
    "reconstruction_results[0]"
   ]
  },
  {
   "cell_type": "code",
   "execution_count": null,
   "id": "9726a124-6c0c-4105-b9eb-07dd282521f4",
   "metadata": {},
   "outputs": [],
   "source": []
  },
  {
   "cell_type": "code",
   "execution_count": null,
   "id": "05a3da78-fbc7-4a9a-8443-f2a7ab942e4f",
   "metadata": {},
   "outputs": [],
   "source": []
  },
  {
   "cell_type": "code",
   "execution_count": null,
   "id": "eb773b51-34a9-487d-9edd-c38970733445",
   "metadata": {},
   "outputs": [],
   "source": [
    "failed_reconstruction = []\n",
    "for res in reconstruction_results:\n",
    "    if res.get('chunk_id') in pipeline._analyze_reconstruction_results(reconstruction_results).get('failed_chunks'):\n",
    "        failed_reconstruction.append(res)"
   ]
  },
  {
   "cell_type": "code",
   "execution_count": null,
   "id": "78dd5bb8-c486-4437-853f-36440a5de80f",
   "metadata": {
    "scrolled": true
   },
   "outputs": [],
   "source": [
    "failed_reconstruction"
   ]
  },
  {
   "cell_type": "code",
   "execution_count": null,
   "id": "6bf1f6a0-11c2-4862-98d2-ec867d35905f",
   "metadata": {},
   "outputs": [],
   "source": [
    "len(failed_reconstruction)"
   ]
  },
  {
   "cell_type": "code",
   "execution_count": null,
   "id": "93be4d37-bb8f-4f5e-9cb1-000c52f60182",
   "metadata": {},
   "outputs": [],
   "source": []
  },
  {
   "cell_type": "code",
   "execution_count": null,
   "id": "c6da40e4-bf50-4f2e-ba96-edda30deac08",
   "metadata": {},
   "outputs": [],
   "source": []
  },
  {
   "cell_type": "code",
   "execution_count": null,
   "id": "34902008-09ee-4c30-9e4e-ca04f95dc386",
   "metadata": {
    "scrolled": true
   },
   "outputs": [],
   "source": [
    "located_ref = pipeline.step_5_locate_references()"
   ]
  },
  {
   "cell_type": "code",
   "execution_count": null,
   "id": "c9098eb9-4577-435a-ab85-6590d2e51840",
   "metadata": {},
   "outputs": [],
   "source": []
  },
  {
   "cell_type": "code",
   "execution_count": null,
   "id": "3186317f-c1b3-4594-a977-be9a6e91007f",
   "metadata": {},
   "outputs": [],
   "source": []
  },
  {
   "cell_type": "code",
   "execution_count": null,
   "id": "db489fa6-506b-482e-84f7-9a3a80e83298",
   "metadata": {},
   "outputs": [],
   "source": [
    "pipeline._analyze_reference_location_results(located_ref)"
   ]
  },
  {
   "cell_type": "code",
   "execution_count": null,
   "id": "0e5811f6-d45c-459e-92fa-6b3baa6c7626",
   "metadata": {
    "scrolled": true
   },
   "outputs": [],
   "source": [
    "located_ref[3]"
   ]
  },
  {
   "cell_type": "code",
   "execution_count": null,
   "id": "457b180c-3434-43ae-b78a-983e2e922aea",
   "metadata": {},
   "outputs": [],
   "source": []
  },
  {
   "cell_type": "code",
   "execution_count": null,
   "id": "2a9c627c-3673-4212-adbe-3192f5918479",
   "metadata": {},
   "outputs": [],
   "source": []
  },
  {
   "cell_type": "code",
   "execution_count": null,
   "id": "d529c376-5c9e-4cc9-aacb-037293f65679",
   "metadata": {
    "scrolled": true
   },
   "outputs": [],
   "source": [
    "ref_link = pipeline.step_6_link_references()"
   ]
  },
  {
   "cell_type": "code",
   "execution_count": null,
   "id": "76c0d3c1-89b0-44a3-acc3-8ba91ce8223a",
   "metadata": {
    "scrolled": true
   },
   "outputs": [],
   "source": [
    "pipeline._analyze_reference_linking_results(ref_link)"
   ]
  },
  {
   "cell_type": "code",
   "execution_count": null,
   "id": "76426bbd-dfd6-4b43-b3a0-131583fcbe4e",
   "metadata": {
    "scrolled": true
   },
   "outputs": [],
   "source": [
    "ref_link[1]"
   ]
  },
  {
   "cell_type": "code",
   "execution_count": null,
   "id": "2a20f4f7-b6d5-4484-a3a2-552a8a5aa74b",
   "metadata": {},
   "outputs": [],
   "source": [
    "ref_resolution = pipeline.step_7_resolve_references()"
   ]
  },
  {
   "cell_type": "code",
   "execution_count": null,
   "id": "82f90d9e-86b2-4978-9042-9b42366180ce",
   "metadata": {},
   "outputs": [],
   "source": [
    "pipeline._analyze_reference_resolution_results(ref_resolution)"
   ]
  },
  {
   "cell_type": "code",
   "execution_count": null,
   "id": "8716e468-ddae-400f-8add-7b5de7365918",
   "metadata": {},
   "outputs": [],
   "source": []
  },
  {
   "cell_type": "code",
   "execution_count": null,
   "id": "83c2cced-f94e-40ff-b92d-c18f1e61efa4",
   "metadata": {},
   "outputs": [],
   "source": []
  },
  {
   "cell_type": "code",
   "execution_count": null,
   "id": "cb630817-8299-4a16-a4dc-ce500aa24e05",
   "metadata": {},
   "outputs": [],
   "source": []
  },
  {
   "cell_type": "code",
   "execution_count": null,
   "id": "6cd20764-7162-40a5-a8ad-81ea8d6f99c3",
   "metadata": {},
   "outputs": [],
   "source": []
  },
  {
   "cell_type": "code",
   "execution_count": null,
   "id": "3d8657e5-09e2-4624-9048-03f7858f8bf1",
   "metadata": {},
   "outputs": [],
   "source": []
  }
 ],
 "metadata": {
  "kernelspec": {
   "display_name": "Python (bill-parser-engine)",
   "language": "python",
   "name": "bill-parser-engine"
  },
  "language_info": {
   "codemirror_mode": {
    "name": "ipython",
    "version": 3
   },
   "file_extension": ".py",
   "mimetype": "text/x-python",
   "name": "python",
   "nbconvert_exporter": "python",
   "pygments_lexer": "ipython3",
   "version": "3.12.8"
  }
 },
 "nbformat": 4,
 "nbformat_minor": 5
}
